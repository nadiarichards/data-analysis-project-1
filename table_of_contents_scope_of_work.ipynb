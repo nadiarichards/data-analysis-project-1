{
 "cells": [
  {
   "cell_type": "markdown",
   "metadata": {},
   "source": [
    "### Basic Summary\n",
    "* Top 10/Bottom 10 for consumption\n",
    "* Overall Average consumption \n",
    "* Number of countries represented"
   ]
  },
  {
   "cell_type": "markdown",
   "metadata": {},
   "source": [
    "### Topics\n",
    "* Consumption by Continent (for loops) - Alison  \n",
    "* Consumption by Region (for loops) - Alison\n",
    "* Major Export and Consumption - Nadia\n",
    "* Major Industry and Consumption - Nadia\n",
    "* Climate and Consumption - Stephen --> pie chart \n",
    "* GDP and Consumption  - Jean Pierre\n",
    "* Happiness and Consumption --> Jean Pierre \n",
    "* Mental Health and Consumption --> Ryan\n",
    "* Life expectancy and consumption - Ryan"
   ]
  },
  {
   "cell_type": "markdown",
   "metadata": {},
   "source": [
    "### Notes\n",
    "* For all topics, create visuals as needed \n",
    "* We will write the Readme, final heatmaps create the Qs and work on presentation together\n",
    "* Stephen to connect with Ryan\n"
   ]
  },
  {
   "cell_type": "code",
   "execution_count": null,
   "metadata": {},
   "outputs": [],
   "source": []
  }
 ],
 "metadata": {
  "kernelspec": {
   "display_name": "Python 3",
   "language": "python",
   "name": "python3"
  },
  "language_info": {
   "codemirror_mode": {
    "name": "ipython",
    "version": 3
   },
   "file_extension": ".py",
   "mimetype": "text/x-python",
   "name": "python",
   "nbconvert_exporter": "python",
   "pygments_lexer": "ipython3",
   "version": "3.8.3"
  }
 },
 "nbformat": 4,
 "nbformat_minor": 4
}
