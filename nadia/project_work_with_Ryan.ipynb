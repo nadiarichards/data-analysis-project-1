{
 "cells": [
  {
   "cell_type": "code",
   "execution_count": 29,
   "metadata": {},
   "outputs": [],
   "source": [
    "import matplotlib.pyplot as plt\n",
    "import pandas as pd\n",
    "import numpy as np\n",
    "import requests\n",
    "import time\n",
    "from scipy.stats import linregress\n",
    "import scipy.stats as stats\n",
    "import requests\n",
    "import gmaps\n",
    "import os"
   ]
  },
  {
   "cell_type": "code",
   "execution_count": 12,
   "metadata": {},
   "outputs": [],
   "source": [
    "wine_consumption_df = pd.read_csv(\"Resources/wine-consumption-per-person.csv\")\n",
    "wine_consumption_df=wine_consumption_df.rename(columns={\"Indicator:Alcohol, recorded per capita (15+) consumption (in litres of pure alcohol) - Beverage Types:Wine\":\"Wine Consumption per capita (Liters)\"})"
   ]
  },
  {
   "cell_type": "code",
   "execution_count": 30,
   "metadata": {},
   "outputs": [
    {
     "data": {
      "text/plain": [
       "186"
      ]
     },
     "execution_count": 30,
     "metadata": {},
     "output_type": "execute_result"
    }
   ],
   "source": [
    "merged_df = pd.read_csv(\"../mega_df.csv\")\n",
    "merged_df = merged_df.rename(columns={'continent':'Continent', 'country_code':'Country Code', 'country':'Country', 'consumption_per_capita_(L)':'Alcohol Consumption Per Capita (Liters)', 'climate':'Climate', 'main_export':'Main Export', 'main_industry':'Main Industry', 'region':'Region', 'happy_score':'Happiness Score', 'life_expectancy':'Life Expectancy', 'gdp_per_capita':'GDP per capita', 'mental_health_and_addiction (%)':'Mental Health Disorders (%)'})\n",
    "len(merged_df)"
   ]
  },
  {
   "cell_type": "code",
   "execution_count": 7,
   "metadata": {},
   "outputs": [
    {
     "data": {
      "text/html": [
       "<div>\n",
       "<style scoped>\n",
       "    .dataframe tbody tr th:only-of-type {\n",
       "        vertical-align: middle;\n",
       "    }\n",
       "\n",
       "    .dataframe tbody tr th {\n",
       "        vertical-align: top;\n",
       "    }\n",
       "\n",
       "    .dataframe thead th {\n",
       "        text-align: right;\n",
       "    }\n",
       "</style>\n",
       "<table border=\"1\" class=\"dataframe\">\n",
       "  <thead>\n",
       "    <tr style=\"text-align: right;\">\n",
       "      <th></th>\n",
       "      <th>Continent</th>\n",
       "      <th>Country Code</th>\n",
       "      <th>Country</th>\n",
       "      <th>Alcohol Consumption Per Capita (Liters)</th>\n",
       "      <th>Climate</th>\n",
       "      <th>Region</th>\n",
       "      <th>Happiness Score</th>\n",
       "      <th>Life Expectancy</th>\n",
       "      <th>GDP per capita</th>\n",
       "      <th>Mental Health Disorders (%)</th>\n",
       "    </tr>\n",
       "  </thead>\n",
       "  <tbody>\n",
       "    <tr>\n",
       "      <th>0</th>\n",
       "      <td>Asia</td>\n",
       "      <td>AFG</td>\n",
       "      <td>Afghanistan</td>\n",
       "      <td>0.2</td>\n",
       "      <td>arid to semiarid; cold winters and hot summers</td>\n",
       "      <td>South Asia</td>\n",
       "      <td>2.5669</td>\n",
       "      <td>52.590000</td>\n",
       "      <td>7.462861</td>\n",
       "      <td>17.553463</td>\n",
       "    </tr>\n",
       "    <tr>\n",
       "      <th>1</th>\n",
       "      <td>Europe</td>\n",
       "      <td>ALB</td>\n",
       "      <td>Albania</td>\n",
       "      <td>7.5</td>\n",
       "      <td>mild temperate; cool, cloudy, wet winters; hot...</td>\n",
       "      <td>Central and Eastern Europe</td>\n",
       "      <td>4.8827</td>\n",
       "      <td>68.708138</td>\n",
       "      <td>9.417931</td>\n",
       "      <td>10.987610</td>\n",
       "    </tr>\n",
       "    <tr>\n",
       "      <th>2</th>\n",
       "      <td>Africa</td>\n",
       "      <td>DZA</td>\n",
       "      <td>Algeria</td>\n",
       "      <td>0.9</td>\n",
       "      <td>arid to semiarid; mild, wet winters with hot, ...</td>\n",
       "      <td>Middle East and North Africa</td>\n",
       "      <td>5.0051</td>\n",
       "      <td>65.905174</td>\n",
       "      <td>9.537965</td>\n",
       "      <td>14.700388</td>\n",
       "    </tr>\n",
       "    <tr>\n",
       "      <th>3</th>\n",
       "      <td>Europe</td>\n",
       "      <td>AND</td>\n",
       "      <td>Andorra</td>\n",
       "      <td>11.3</td>\n",
       "      <td>temperate; snowy, cold winters and warm, dry s...</td>\n",
       "      <td>NaN</td>\n",
       "      <td>NaN</td>\n",
       "      <td>NaN</td>\n",
       "      <td>NaN</td>\n",
       "      <td>14.726869</td>\n",
       "    </tr>\n",
       "    <tr>\n",
       "      <th>4</th>\n",
       "      <td>Africa</td>\n",
       "      <td>AGO</td>\n",
       "      <td>Angola</td>\n",
       "      <td>6.4</td>\n",
       "      <td>semiarid in south and along coast to Luanda; n...</td>\n",
       "      <td>NaN</td>\n",
       "      <td>NaN</td>\n",
       "      <td>NaN</td>\n",
       "      <td>NaN</td>\n",
       "      <td>12.498281</td>\n",
       "    </tr>\n",
       "  </tbody>\n",
       "</table>\n",
       "</div>"
      ],
      "text/plain": [
       "  Continent Country Code      Country  \\\n",
       "0      Asia          AFG  Afghanistan   \n",
       "1    Europe          ALB      Albania   \n",
       "2    Africa          DZA      Algeria   \n",
       "3    Europe          AND      Andorra   \n",
       "4    Africa          AGO       Angola   \n",
       "\n",
       "   Alcohol Consumption Per Capita (Liters)  \\\n",
       "0                                      0.2   \n",
       "1                                      7.5   \n",
       "2                                      0.9   \n",
       "3                                     11.3   \n",
       "4                                      6.4   \n",
       "\n",
       "                                             Climate  \\\n",
       "0     arid to semiarid; cold winters and hot summers   \n",
       "1  mild temperate; cool, cloudy, wet winters; hot...   \n",
       "2  arid to semiarid; mild, wet winters with hot, ...   \n",
       "3  temperate; snowy, cold winters and warm, dry s...   \n",
       "4  semiarid in south and along coast to Luanda; n...   \n",
       "\n",
       "                         Region  Happiness Score  Life Expectancy  \\\n",
       "0                    South Asia           2.5669        52.590000   \n",
       "1    Central and Eastern Europe           4.8827        68.708138   \n",
       "2  Middle East and North Africa           5.0051        65.905174   \n",
       "3                           NaN              NaN              NaN   \n",
       "4                           NaN              NaN              NaN   \n",
       "\n",
       "   GDP per capita  Mental Health Disorders (%)  \n",
       "0        7.462861                    17.553463  \n",
       "1        9.417931                    10.987610  \n",
       "2        9.537965                    14.700388  \n",
       "3             NaN                    14.726869  \n",
       "4             NaN                    12.498281  "
      ]
     },
     "execution_count": 7,
     "metadata": {},
     "output_type": "execute_result"
    }
   ],
   "source": [
    "updated_df=merged_df.drop(['index','Unnamed: 0', 'code', 'Main Export', 'Main Industry'], axis=1)\n",
    "updated_df.head()"
   ]
  },
  {
   "cell_type": "code",
   "execution_count": 16,
   "metadata": {
    "scrolled": true
   },
   "outputs": [
    {
     "data": {
      "text/plain": [
       "<matplotlib.axes._subplots.AxesSubplot at 0x7ff2f1987610>"
      ]
     },
     "execution_count": 16,
     "metadata": {},
     "output_type": "execute_result"
    },
    {
     "data": {
      "image/png": "[encoded data removed]",
      "text/plain": [
       "<Figure size 1440x720 with 1 Axes>"
      ]
     },
     "metadata": {
      "needs_background": "light"
     },
     "output_type": "display_data"
    }
   ],
   "source": [
    "updated_df.boxplot(\"Alcohol Consumption Per Capita (Liters)\", by=\"Continent\", figsize=(20, 10))"
   ]
  },
  {
   "cell_type": "code",
   "execution_count": 19,
   "metadata": {},
   "outputs": [],
   "source": [
    "group1 = updated_df[updated_df[\"Continent\"] == \"Africa\"][\"Alcohol Consumption Per Capita (Liters)\"]\n",
    "group2 = updated_df[updated_df[\"Continent\"] == \"Asia\"][\"Alcohol Consumption Per Capita (Liters)\"]\n",
    "group3 = updated_df[updated_df[\"Continent\"] == \"Europe\"][\"Alcohol Consumption Per Capita (Liters)\"]\n",
    "group4 = updated_df[updated_df[\"Continent\"] == \"North America\"][\"Alcohol Consumption Per Capita (Liters)\"]\n",
    "group5 = updated_df[updated_df[\"Continent\"] == \"Oceania\"][\"Alcohol Consumption Per Capita (Liters)\"]\n",
    "group6 = updated_df[updated_df[\"Continent\"] == \"South America\"][\"Alcohol Consumption Per Capita (Liters)\"]"
   ]
  },
  {
   "cell_type": "code",
   "execution_count": 20,
   "metadata": {},
   "outputs": [
    {
     "data": {
      "text/plain": [
       "F_onewayResult(statistic=39.0908735441233, pvalue=5.946781924844183e-19)"
      ]
     },
     "execution_count": 20,
     "metadata": {},
     "output_type": "execute_result"
    }
   ],
   "source": [
    "stats.f_oneway(group1, group2, group3, group4)"
   ]
  },
  {
   "cell_type": "code",
   "execution_count": 21,
   "metadata": {},
   "outputs": [
    {
     "data": {
      "text/plain": [
       "Ttest_indResult(statistic=6.739906169357296, pvalue=9.301922597184508e-09)"
      ]
     },
     "execution_count": 21,
     "metadata": {},
     "output_type": "execute_result"
    }
   ],
   "source": [
    "stats.ttest_ind(group3, group5)"
   ]
  },
  {
   "cell_type": "code",
   "execution_count": 22,
   "metadata": {},
   "outputs": [
    {
     "name": "stdout",
     "output_type": "stream",
     "text": [
      "Africa's potential outliers: Series([], Name: Alcohol Consumption Per Capita (Liters), dtype: float64)\n",
      "Asia's potential outliers: Series([], Name: Alcohol Consumption Per Capita (Liters), dtype: float64)\n",
      "Europe's potential outliers: 6      0.8\n",
      "169    2.0\n",
      "Name: Alcohol Consumption Per Capita (Liters), dtype: float64\n",
      "North America's potential outliers: Series([], Name: Alcohol Consumption Per Capita (Liters), dtype: float64)\n",
      "Oceania's potential outliers: 8      10.6\n",
      "120    10.7\n",
      "Name: Alcohol Consumption Per Capita (Liters), dtype: float64\n",
      "South America's potential outliers: Series([], Name: Alcohol Consumption Per Capita (Liters), dtype: float64)\n"
     ]
    },
    {
     "data": {
      "image/png": "[encoded data removed]",
      "text/plain": [
       "<Figure size 432x288 with 1 Axes>"
      ]
     },
     "metadata": {
      "needs_background": "light"
     },
     "output_type": "display_data"
    }
   ],
   "source": [
    "continents = [\"Africa\", \"Asia\", \"Europe\", \"North America\", \"Oceania\", \"South America\"]\n",
    "\n",
    "# Create empty list to fill with tumor vol data (for plotting)\n",
    "alcohol_consumption_data=[]\n",
    "\n",
    "# Calculate the IQR and quantitatively determine if there are any potential outliers. \n",
    "\n",
    "for continent in continents:\n",
    "      \n",
    "    # Locate the rows which contain mice on each drug and get the tumor volumes\n",
    "    alcohol_by_continent=updated_df.loc[updated_df[\"Continent\"]==continent, \"Alcohol Consumption Per Capita (Liters)\"]\n",
    "    \n",
    "    # add subset \n",
    "    alcohol_consumption_data.append(alcohol_by_continent)\n",
    "\n",
    "    quartiles = alcohol_by_continent.quantile([.25,.5,.75])\n",
    "    lower_q=quartiles[0.25]\n",
    "    upper_q=quartiles[0.75]\n",
    "    iqr=upper_q-lower_q\n",
    "    lower_bound=lower_q - (1.5*iqr)\n",
    "    upper_bound=upper_q + (1.5*iqr)\n",
    "    outliers=alcohol_by_continent.loc[(alcohol_by_continent<lower_bound)|(alcohol_by_continent>upper_bound)]\n",
    "    print(f\"{continent}'s potential outliers: {outliers}\")\n",
    "    \n",
    "rate=dict(markerfacecolor='red', markersize=10)\n",
    "plt.boxplot(alcohol_consumption_data, labels=continents, flierprops=rate)\n",
    "plt.ylabel('Alcohol Consumption Per Capita (Liters)')\n",
    "plt.xlabel('Continent')\n",
    "plt.title('Alcohol Consumption Per Continent')\n",
    "plt.show()"
   ]
  },
  {
   "cell_type": "code",
   "execution_count": 25,
   "metadata": {},
   "outputs": [
    {
     "data": {
      "text/plain": [
       "Africa           53\n",
       "Europe           46\n",
       "Asia             40\n",
       "North America    23\n",
       "Oceania          12\n",
       "South America    12\n",
       "Name: Continent, dtype: int64"
      ]
     },
     "execution_count": 25,
     "metadata": {},
     "output_type": "execute_result"
    }
   ],
   "source": [
    "updated_df_countries_by_continent=updated_df[\"Continent\"].value_counts()\n",
    "updated_df_countries_by_continent"
   ]
  },
  {
   "cell_type": "code",
   "execution_count": 23,
   "metadata": {},
   "outputs": [
    {
     "data": {
      "text/html": [
       "<div>\n",
       "<style scoped>\n",
       "    .dataframe tbody tr th:only-of-type {\n",
       "        vertical-align: middle;\n",
       "    }\n",
       "\n",
       "    .dataframe tbody tr th {\n",
       "        vertical-align: top;\n",
       "    }\n",
       "\n",
       "    .dataframe thead th {\n",
       "        text-align: right;\n",
       "    }\n",
       "</style>\n",
       "<table border=\"1\" class=\"dataframe\">\n",
       "  <thead>\n",
       "    <tr style=\"text-align: right;\">\n",
       "      <th></th>\n",
       "      <th>Alcohol Consumption Per Capita (Liters)</th>\n",
       "    </tr>\n",
       "    <tr>\n",
       "      <th>Continent</th>\n",
       "      <th></th>\n",
       "    </tr>\n",
       "  </thead>\n",
       "  <tbody>\n",
       "    <tr>\n",
       "      <th>Africa</th>\n",
       "      <td>252.7</td>\n",
       "    </tr>\n",
       "    <tr>\n",
       "      <th>Asia</th>\n",
       "      <td>137.6</td>\n",
       "    </tr>\n",
       "    <tr>\n",
       "      <th>Europe</th>\n",
       "      <td>473.4</td>\n",
       "    </tr>\n",
       "    <tr>\n",
       "      <th>North America</th>\n",
       "      <td>157.3</td>\n",
       "    </tr>\n",
       "    <tr>\n",
       "      <th>Oceania</th>\n",
       "      <td>42.5</td>\n",
       "    </tr>\n",
       "    <tr>\n",
       "      <th>South America</th>\n",
       "      <td>83.2</td>\n",
       "    </tr>\n",
       "  </tbody>\n",
       "</table>\n",
       "</div>"
      ],
      "text/plain": [
       "               Alcohol Consumption Per Capita (Liters)\n",
       "Continent                                             \n",
       "Africa                                           252.7\n",
       "Asia                                             137.6\n",
       "Europe                                           473.4\n",
       "North America                                    157.3\n",
       "Oceania                                           42.5\n",
       "South America                                     83.2"
      ]
     },
     "execution_count": 23,
     "metadata": {},
     "output_type": "execute_result"
    }
   ],
   "source": [
    "alcohol_by_continent_sum=updated_df.groupby(\"Continent\")[[\"Alcohol Consumption Per Capita (Liters)\"]].sum()\n",
    "alcohol_by_continent_sum"
   ]
  },
  {
   "cell_type": "code",
   "execution_count": 24,
   "metadata": {},
   "outputs": [
    {
     "name": "stderr",
     "output_type": "stream",
     "text": [
      "<ipython-input-24-c37401c2cf16>:1: MatplotlibDeprecationWarning: Non-1D inputs to pie() are currently squeeze()d, but this behavior is deprecated since 3.1 and will be removed in 3.3; pass a 1D array instead.\n",
      "  plt.pie(alcohol_by_continent_sum, labels=continents, autopct='%1.1f%%')\n"
     ]
    },
    {
     "data": {
      "text/plain": [
       "([<matplotlib.patches.Wedge at 0x7ff2f53f5220>,\n",
       "  <matplotlib.patches.Wedge at 0x7ff2f53f56d0>,\n",
       "  <matplotlib.patches.Wedge at 0x7ff2f53f5d60>,\n",
       "  <matplotlib.patches.Wedge at 0x7ff2f5400430>,\n",
       "  <matplotlib.patches.Wedge at 0x7ff2f5400ac0>,\n",
       "  <matplotlib.patches.Wedge at 0x7ff2f540d190>],\n",
       " [Text(0.8467456254153936, 0.7021551437110564, 'Africa'),\n",
       "  Text(-0.2086293354511101, 1.0800341663064315, 'Asia'),\n",
       "  Text(-1.0528118350214484, -0.31872753260233183, 'Europe'),\n",
       "  Text(0.47954029770548146, -0.9899702535311545, 'North America'),\n",
       "  Text(0.9247119831680095, -0.5957413433575742, 'Oceania'),\n",
       "  Text(1.0715470782973886, -0.24856962604536018, 'South America')],\n",
       " [Text(0.46186125022657826, 0.38299371475148525, '22.0%'),\n",
       "  Text(-0.11379781933696911, 0.5891095452580534, '12.0%'),\n",
       "  Text(-0.57426100092079, -0.1738513814194537, '41.3%'),\n",
       "  Text(0.26156743511208075, -0.5399837746533569, '13.7%'),\n",
       "  Text(0.5043883544552779, -0.3249498236495859, '3.7%'),\n",
       "  Text(0.5844802245258482, -0.13558343238837825, '7.3%')])"
      ]
     },
     "execution_count": 24,
     "metadata": {},
     "output_type": "execute_result"
    },
    {
     "data": {
      "image/png": "[encoded data removed]",
      "text/plain": [
       "<Figure size 432x288 with 1 Axes>"
      ]
     },
     "metadata": {},
     "output_type": "display_data"
    }
   ],
   "source": [
    "plt.pie(alcohol_by_continent_sum, labels=continents, autopct='%1.1f%%')"
   ]
  },
  {
   "cell_type": "code",
   "execution_count": 26,
   "metadata": {},
   "outputs": [
    {
     "name": "stderr",
     "output_type": "stream",
     "text": [
      "<ipython-input-26-3afac84a7c18>:2: MatplotlibDeprecationWarning: Non-1D inputs to pie() are currently squeeze()d, but this behavior is deprecated since 3.1 and will be removed in 3.3; pass a 1D array instead.\n",
      "  plt.pie(alcohol_by_continent_mean, labels=continents, autopct='%1.1f%%')\n"
     ]
    },
    {
     "data": {
      "text/plain": [
       "([<matplotlib.patches.Wedge at 0x7ff2f5495550>,\n",
       "  <matplotlib.patches.Wedge at 0x7ff2f5495970>,\n",
       "  <matplotlib.patches.Wedge at 0x7ff2f5495fd0>,\n",
       "  <matplotlib.patches.Wedge at 0x7ff2f54a2700>,\n",
       "  <matplotlib.patches.Wedge at 0x7ff2f54a2d90>,\n",
       "  <matplotlib.patches.Wedge at 0x7ff2f54af460>],\n",
       " [Text(1.0051820037963315, 0.44677638617544707, 'Africa'),\n",
       "  Text(0.46109470062371827, 0.9986949869988954, 'Asia'),\n",
       "  Text(-0.7673176573487064, 0.7881773992705535, 'Europe'),\n",
       "  Text(-0.838559517633741, -0.711911465974434, 'North America'),\n",
       "  Text(0.04807197041236565, -1.098949082378557, 'Oceania'),\n",
       "  Text(0.9027453275847895, -0.6285307259982054, 'South America')],\n",
       " [Text(0.5482810929798171, 0.24369621064115293, '13.3%'),\n",
       "  Text(0.25150620034020993, 0.5447427201812156, '9.6%'),\n",
       "  Text(-0.4185369040083852, 0.4299149450566655, '28.7%'),\n",
       "  Text(-0.4573961005274951, -0.38831534507696397, '19.1%'),\n",
       "  Text(0.02622107477038126, -0.5994267722064857, '9.9%'),\n",
       "  Text(0.49240654231897607, -0.3428349414535665, '19.4%')])"
      ]
     },
     "execution_count": 26,
     "metadata": {},
     "output_type": "execute_result"
    },
    {
     "data": {
      "image/png": "[encoded data removed]",
      "text/plain": [
       "<Figure size 432x288 with 1 Axes>"
      ]
     },
     "metadata": {},
     "output_type": "display_data"
    }
   ],
   "source": [
    "alcohol_by_continent_mean=updated_df.groupby(\"Continent\")[[\"Alcohol Consumption Per Capita (Liters)\"]].mean()\n",
    "plt.pie(alcohol_by_continent_mean, labels=continents, autopct='%1.1f%%')"
   ]
  },
  {
   "cell_type": "code",
   "execution_count": 27,
   "metadata": {
    "scrolled": false
   },
   "outputs": [
    {
     "data": {
      "text/html": [
       "<div>\n",
       "<style scoped>\n",
       "    .dataframe tbody tr th:only-of-type {\n",
       "        vertical-align: middle;\n",
       "    }\n",
       "\n",
       "    .dataframe tbody tr th {\n",
       "        vertical-align: top;\n",
       "    }\n",
       "\n",
       "    .dataframe thead th {\n",
       "        text-align: right;\n",
       "    }\n",
       "</style>\n",
       "<table border=\"1\" class=\"dataframe\">\n",
       "  <thead>\n",
       "    <tr style=\"text-align: right;\">\n",
       "      <th></th>\n",
       "      <th>mean</th>\n",
       "      <th>median</th>\n",
       "      <th>var</th>\n",
       "      <th>std</th>\n",
       "      <th>sem</th>\n",
       "    </tr>\n",
       "    <tr>\n",
       "      <th>Continent</th>\n",
       "      <th></th>\n",
       "      <th></th>\n",
       "      <th></th>\n",
       "      <th></th>\n",
       "      <th></th>\n",
       "    </tr>\n",
       "  </thead>\n",
       "  <tbody>\n",
       "    <tr>\n",
       "      <th>Africa</th>\n",
       "      <td>4.767925</td>\n",
       "      <td>3.70</td>\n",
       "      <td>14.059913</td>\n",
       "      <td>3.749655</td>\n",
       "      <td>0.515055</td>\n",
       "    </tr>\n",
       "    <tr>\n",
       "      <th>Asia</th>\n",
       "      <td>3.440000</td>\n",
       "      <td>2.40</td>\n",
       "      <td>9.578872</td>\n",
       "      <td>3.094975</td>\n",
       "      <td>0.489359</td>\n",
       "    </tr>\n",
       "    <tr>\n",
       "      <th>Europe</th>\n",
       "      <td>10.291304</td>\n",
       "      <td>11.15</td>\n",
       "      <td>8.688367</td>\n",
       "      <td>2.947604</td>\n",
       "      <td>0.434600</td>\n",
       "    </tr>\n",
       "    <tr>\n",
       "      <th>North America</th>\n",
       "      <td>6.839130</td>\n",
       "      <td>6.90</td>\n",
       "      <td>4.957036</td>\n",
       "      <td>2.226440</td>\n",
       "      <td>0.464245</td>\n",
       "    </tr>\n",
       "    <tr>\n",
       "      <th>Oceania</th>\n",
       "      <td>3.541667</td>\n",
       "      <td>2.10</td>\n",
       "      <td>13.048106</td>\n",
       "      <td>3.612216</td>\n",
       "      <td>1.042757</td>\n",
       "    </tr>\n",
       "    <tr>\n",
       "      <th>South America</th>\n",
       "      <td>6.933333</td>\n",
       "      <td>6.30</td>\n",
       "      <td>4.344242</td>\n",
       "      <td>2.084285</td>\n",
       "      <td>0.601681</td>\n",
       "    </tr>\n",
       "  </tbody>\n",
       "</table>\n",
       "</div>"
      ],
      "text/plain": [
       "                    mean  median        var       std       sem\n",
       "Continent                                                      \n",
       "Africa          4.767925    3.70  14.059913  3.749655  0.515055\n",
       "Asia            3.440000    2.40   9.578872  3.094975  0.489359\n",
       "Europe         10.291304   11.15   8.688367  2.947604  0.434600\n",
       "North America   6.839130    6.90   4.957036  2.226440  0.464245\n",
       "Oceania         3.541667    2.10  13.048106  3.612216  1.042757\n",
       "South America   6.933333    6.30   4.344242  2.084285  0.601681"
      ]
     },
     "execution_count": 27,
     "metadata": {},
     "output_type": "execute_result"
    }
   ],
   "source": [
    "agg_alcohol_df=updated_df.groupby(\"Continent\")[\"Alcohol Consumption Per Capita (Liters)\"].agg(['mean','median', 'var', 'std', 'sem'])\n",
    "agg_alcohol_df"
   ]
  },
  {
   "cell_type": "code",
   "execution_count": null,
   "metadata": {},
   "outputs": [],
   "source": []
  },
  {
   "cell_type": "code",
   "execution_count": null,
   "metadata": {},
   "outputs": [],
   "source": []
  },
  {
   "cell_type": "code",
   "execution_count": null,
   "metadata": {},
   "outputs": [],
   "source": []
  },
  {
   "cell_type": "markdown",
   "metadata": {},
   "source": [
    "## Adding Wine Data"
   ]
  },
  {
   "cell_type": "code",
   "execution_count": 31,
   "metadata": {},
   "outputs": [
    {
     "data": {
      "text/html": [
       "<div>\n",
       "<style scoped>\n",
       "    .dataframe tbody tr th:only-of-type {\n",
       "        vertical-align: middle;\n",
       "    }\n",
       "\n",
       "    .dataframe tbody tr th {\n",
       "        vertical-align: top;\n",
       "    }\n",
       "\n",
       "    .dataframe thead th {\n",
       "        text-align: right;\n",
       "    }\n",
       "</style>\n",
       "<table border=\"1\" class=\"dataframe\">\n",
       "  <thead>\n",
       "    <tr style=\"text-align: right;\">\n",
       "      <th></th>\n",
       "      <th>Entity</th>\n",
       "      <th>Year</th>\n",
       "      <th>Code</th>\n",
       "      <th>Wine Consumption per capita (Liters)</th>\n",
       "    </tr>\n",
       "  </thead>\n",
       "  <tbody>\n",
       "    <tr>\n",
       "      <th>0</th>\n",
       "      <td>Afghanistan</td>\n",
       "      <td>2013</td>\n",
       "      <td>AFG</td>\n",
       "      <td>0.00</td>\n",
       "    </tr>\n",
       "    <tr>\n",
       "      <th>1</th>\n",
       "      <td>Albania</td>\n",
       "      <td>2014</td>\n",
       "      <td>ALB</td>\n",
       "      <td>1.14</td>\n",
       "    </tr>\n",
       "    <tr>\n",
       "      <th>2</th>\n",
       "      <td>Algeria</td>\n",
       "      <td>2013</td>\n",
       "      <td>DZA</td>\n",
       "      <td>0.22</td>\n",
       "    </tr>\n",
       "    <tr>\n",
       "      <th>3</th>\n",
       "      <td>Andorra</td>\n",
       "      <td>2013</td>\n",
       "      <td>AND</td>\n",
       "      <td>4.29</td>\n",
       "    </tr>\n",
       "    <tr>\n",
       "      <th>4</th>\n",
       "      <td>Angola</td>\n",
       "      <td>2014</td>\n",
       "      <td>AGO</td>\n",
       "      <td>1.32</td>\n",
       "    </tr>\n",
       "  </tbody>\n",
       "</table>\n",
       "</div>"
      ],
      "text/plain": [
       "        Entity  Year Code  Wine Consumption per capita (Liters)\n",
       "0  Afghanistan  2013  AFG                                  0.00\n",
       "1      Albania  2014  ALB                                  1.14\n",
       "2      Algeria  2013  DZA                                  0.22\n",
       "3      Andorra  2013  AND                                  4.29\n",
       "4       Angola  2014  AGO                                  1.32"
      ]
     },
     "execution_count": 31,
     "metadata": {},
     "output_type": "execute_result"
    }
   ],
   "source": [
    "merged_updated_timepoint_wine_df = wine_latest_timepoint_per_country.merge(wine_consumption_df, on = [\"Entity\", \"Year\"], how=\"left\")\n",
    "merged_updated_timepoint_wine_df.head()"
   ]
  },
  {
   "cell_type": "code",
   "execution_count": 33,
   "metadata": {},
   "outputs": [
    {
     "data": {
      "text/html": [
       "<div>\n",
       "<style scoped>\n",
       "    .dataframe tbody tr th:only-of-type {\n",
       "        vertical-align: middle;\n",
       "    }\n",
       "\n",
       "    .dataframe tbody tr th {\n",
       "        vertical-align: top;\n",
       "    }\n",
       "\n",
       "    .dataframe thead th {\n",
       "        text-align: right;\n",
       "    }\n",
       "</style>\n",
       "<table border=\"1\" class=\"dataframe\">\n",
       "  <thead>\n",
       "    <tr style=\"text-align: right;\">\n",
       "      <th></th>\n",
       "      <th>Wine Consumption per capita (Liters)</th>\n",
       "    </tr>\n",
       "    <tr>\n",
       "      <th>Entity</th>\n",
       "      <th></th>\n",
       "    </tr>\n",
       "  </thead>\n",
       "  <tbody>\n",
       "    <tr>\n",
       "      <th>Papua New Guinea</th>\n",
       "      <td>0.036863</td>\n",
       "    </tr>\n",
       "    <tr>\n",
       "      <th>Canada</th>\n",
       "      <td>1.129630</td>\n",
       "    </tr>\n",
       "    <tr>\n",
       "      <th>Trinidad and Tobago</th>\n",
       "      <td>0.135185</td>\n",
       "    </tr>\n",
       "    <tr>\n",
       "      <th>Israel</th>\n",
       "      <td>0.773333</td>\n",
       "    </tr>\n",
       "    <tr>\n",
       "      <th>Bahrain</th>\n",
       "      <td>0.226279</td>\n",
       "    </tr>\n",
       "  </tbody>\n",
       "</table>\n",
       "</div>"
      ],
      "text/plain": [
       "                     Wine Consumption per capita (Liters)\n",
       "Entity                                                   \n",
       "Papua New Guinea                                 0.036863\n",
       "Canada                                           1.129630\n",
       "Trinidad and Tobago                              0.135185\n",
       "Israel                                           0.773333\n",
       "Bahrain                                          0.226279"
      ]
     },
     "execution_count": 33,
     "metadata": {},
     "output_type": "execute_result"
    }
   ],
   "source": [
    "wine_average_consumption_per_country=wine_consumption_df.groupby(\"Entity\")[[\"Wine Consumption per capita (Liters)\"]].mean()\n",
    "wine_average_consumption_per_country.sample(5)"
   ]
  },
  {
   "cell_type": "code",
   "execution_count": 34,
   "metadata": {},
   "outputs": [
    {
     "data": {
      "text/html": [
       "<div>\n",
       "<style scoped>\n",
       "    .dataframe tbody tr th:only-of-type {\n",
       "        vertical-align: middle;\n",
       "    }\n",
       "\n",
       "    .dataframe tbody tr th {\n",
       "        vertical-align: top;\n",
       "    }\n",
       "\n",
       "    .dataframe thead th {\n",
       "        text-align: right;\n",
       "    }\n",
       "</style>\n",
       "<table border=\"1\" class=\"dataframe\">\n",
       "  <thead>\n",
       "    <tr style=\"text-align: right;\">\n",
       "      <th></th>\n",
       "      <th>Entity</th>\n",
       "      <th>Latest Year for Wine Consumption Data</th>\n",
       "      <th>Code</th>\n",
       "      <th>Wine Consumption at Latest Timepoint(L)</th>\n",
       "      <th>Wine Consumption Average Over The Years(L)</th>\n",
       "    </tr>\n",
       "  </thead>\n",
       "  <tbody>\n",
       "    <tr>\n",
       "      <th>126</th>\n",
       "      <td>North Macedonia</td>\n",
       "      <td>2014</td>\n",
       "      <td>MKD</td>\n",
       "      <td>0.26</td>\n",
       "      <td>0.748696</td>\n",
       "    </tr>\n",
       "    <tr>\n",
       "      <th>117</th>\n",
       "      <td>Nauru</td>\n",
       "      <td>2010</td>\n",
       "      <td>NRU</td>\n",
       "      <td>0.16</td>\n",
       "      <td>0.057500</td>\n",
       "    </tr>\n",
       "    <tr>\n",
       "      <th>76</th>\n",
       "      <td>Iceland</td>\n",
       "      <td>2014</td>\n",
       "      <td>ISL</td>\n",
       "      <td>2.03</td>\n",
       "      <td>1.038889</td>\n",
       "    </tr>\n",
       "    <tr>\n",
       "      <th>36</th>\n",
       "      <td>Colombia</td>\n",
       "      <td>2014</td>\n",
       "      <td>COL</td>\n",
       "      <td>0.05</td>\n",
       "      <td>0.057037</td>\n",
       "    </tr>\n",
       "    <tr>\n",
       "      <th>169</th>\n",
       "      <td>Togo</td>\n",
       "      <td>2011</td>\n",
       "      <td>TGO</td>\n",
       "      <td>0.33</td>\n",
       "      <td>0.241961</td>\n",
       "    </tr>\n",
       "  </tbody>\n",
       "</table>\n",
       "</div>"
      ],
      "text/plain": [
       "              Entity  Latest Year for Wine Consumption Data Code  \\\n",
       "126  North Macedonia                                   2014  MKD   \n",
       "117            Nauru                                   2010  NRU   \n",
       "76           Iceland                                   2014  ISL   \n",
       "36          Colombia                                   2014  COL   \n",
       "169             Togo                                   2011  TGO   \n",
       "\n",
       "     Wine Consumption at Latest Timepoint(L)  \\\n",
       "126                                     0.26   \n",
       "117                                     0.16   \n",
       "76                                      2.03   \n",
       "36                                      0.05   \n",
       "169                                     0.33   \n",
       "\n",
       "     Wine Consumption Average Over The Years(L)  \n",
       "126                                    0.748696  \n",
       "117                                    0.057500  \n",
       "76                                     1.038889  \n",
       "36                                     0.057037  \n",
       "169                                    0.241961  "
      ]
     },
     "execution_count": 34,
     "metadata": {},
     "output_type": "execute_result"
    }
   ],
   "source": [
    "merged_updated_timepoint_average_wine_df = merged_updated_timepoint_wine_df.merge(wine_average_consumption_per_country, on = [\"Entity\"], how=\"left\")\n",
    "merged_updated_timepoint_average_wine_df=merged_updated_timepoint_average_wine_df.rename(columns={\"Wine Consumption per capita (Liters)_x\":\"Wine Consumption at Latest Timepoint(L)\", \"Wine Consumption per capita (Liters)_y\":\"Wine Consumption Average Over The Years(L)\", \"Year\":\"Latest Year for Wine Consumption Data\"})\n",
    "merged_updated_timepoint_average_wine_df.sample(5)"
   ]
  },
  {
   "cell_type": "code",
   "execution_count": 52,
   "metadata": {},
   "outputs": [
    {
     "data": {
      "image/png": "[encoded data removed]",
      "text/plain": [
       "<Figure size 432x288 with 1 Axes>"
      ]
     },
     "metadata": {
      "needs_background": "light"
     },
     "output_type": "display_data"
    }
   ],
   "source": [
    "plt.plot(wine_consumption_df[\"Year\"], wine_consumption_df[\"Wine Consumption per capita (Liters)\"])\n",
    "plt.title=\"Wine Consumption Over The Years\"\n",
    "plt.show()"
   ]
  },
  {
   "cell_type": "code",
   "execution_count": 35,
   "metadata": {},
   "outputs": [
    {
     "data": {
      "text/plain": [
       "<matplotlib.legend.Legend at 0x7ff2f6024f40>"
      ]
     },
     "execution_count": 35,
     "metadata": {},
     "output_type": "execute_result"
    },
    {
     "data": {
      "image/png": "[encoded data removed]",
      "text/plain": [
       "<Figure size 432x288 with 2 Axes>"
      ]
     },
     "metadata": {
      "needs_background": "light"
     },
     "output_type": "display_data"
    }
   ],
   "source": [
    "# Scatter Plot of Data\n",
    "last_timepoint_wine=merged_updated_timepoint_average_wine_df[\"Wine Consumption at Latest Timepoint(L)\"]\n",
    "average_wine=merged_updated_timepoint_average_wine_df[\"Wine Consumption Average Over The Years(L)\"]\n",
    "    \n",
    "plt.subplot(2,1,1)\n",
    "plt.scatter(range(len(last_timepoint_wine)), last_timepoint_wine, label=\"Wine Consumption at Latest Timepoint(L)\")\n",
    "plt.scatter(range(len(average_wine)), average_wine, label=\"Wine Consumption Average Over The Years(L)\")\n",
    "plt.legend()\n",
    "\n",
    "# Histogram Plot of Data\n",
    "plt.subplot(2, 1, 2)\n",
    "plt.hist(last_timepoint_wine, 10, density=True, alpha=0.7, label=\"Wine Consumption at Latest Timepoint(L)\")\n",
    "plt.hist(average_wine, 10, density=True, alpha=0.7, label=\"Wine Consumption Average Over The Years(L)\")\n",
    "plt.axvline(last_timepoint_wine.mean(), color='k', linestyle='dashed', linewidth=1)\n",
    "plt.axvline(average_wine.mean(), color='k', linestyle='dashed', linewidth=1)\n",
    "plt.legend() "
   ]
  },
  {
   "cell_type": "code",
   "execution_count": 36,
   "metadata": {},
   "outputs": [
    {
     "data": {
      "text/plain": [
       "Ttest_indResult(statistic=-0.6190622697626872, pvalue=0.5362811196901257)"
      ]
     },
     "execution_count": 36,
     "metadata": {},
     "output_type": "execute_result"
    }
   ],
   "source": [
    "stats.ttest_ind(last_timepoint_wine, average_wine, equal_var=False)"
   ]
  },
  {
   "cell_type": "code",
   "execution_count": 44,
   "metadata": {},
   "outputs": [
    {
     "data": {
      "text/plain": [
       "186"
      ]
     },
     "execution_count": 44,
     "metadata": {},
     "output_type": "execute_result"
    }
   ],
   "source": [
    "merged_with_wine_df = updated_df.merge(merged_updated_timepoint_average_wine_df, left_on=\"Country\", right_on=\"Entity\", how=\"inner\")\n",
    "merged_with_wine_df = merged_with_wine_df.drop(['Code', 'Entity', 'Latest Year for Wine Consumption Data', 'Wine Consumption Average Over The Years(L)'], axis=1)\n",
    "len(merged_with_wine_df)"
   ]
  },
  {
   "cell_type": "code",
   "execution_count": 47,
   "metadata": {},
   "outputs": [
    {
     "data": {
      "text/html": [
       "<div>\n",
       "<style scoped>\n",
       "    .dataframe tbody tr th:only-of-type {\n",
       "        vertical-align: middle;\n",
       "    }\n",
       "\n",
       "    .dataframe tbody tr th {\n",
       "        vertical-align: top;\n",
       "    }\n",
       "\n",
       "    .dataframe thead th {\n",
       "        text-align: right;\n",
       "    }\n",
       "</style>\n",
       "<table border=\"1\" class=\"dataframe\">\n",
       "  <thead>\n",
       "    <tr style=\"text-align: right;\">\n",
       "      <th></th>\n",
       "      <th>Continent</th>\n",
       "      <th>Country Code</th>\n",
       "      <th>Country</th>\n",
       "      <th>Alcohol Consumption Per Capita (Liters)</th>\n",
       "      <th>Climate</th>\n",
       "      <th>Region</th>\n",
       "      <th>Happiness Score</th>\n",
       "      <th>Life Expectancy</th>\n",
       "      <th>GDP per capita</th>\n",
       "      <th>Mental Health Disorders (%)</th>\n",
       "      <th>Wine Consumption per capita (Liters)</th>\n",
       "    </tr>\n",
       "  </thead>\n",
       "  <tbody>\n",
       "    <tr>\n",
       "      <th>0</th>\n",
       "      <td>Asia</td>\n",
       "      <td>AFG</td>\n",
       "      <td>Afghanistan</td>\n",
       "      <td>0.2</td>\n",
       "      <td>arid to semiarid; cold winters and hot summers</td>\n",
       "      <td>South Asia</td>\n",
       "      <td>2.5669</td>\n",
       "      <td>52.590000</td>\n",
       "      <td>7.462861</td>\n",
       "      <td>17.553463</td>\n",
       "      <td>0.00</td>\n",
       "    </tr>\n",
       "    <tr>\n",
       "      <th>1</th>\n",
       "      <td>Europe</td>\n",
       "      <td>ALB</td>\n",
       "      <td>Albania</td>\n",
       "      <td>7.5</td>\n",
       "      <td>mild temperate; cool, cloudy, wet winters; hot...</td>\n",
       "      <td>Central and Eastern Europe</td>\n",
       "      <td>4.8827</td>\n",
       "      <td>68.708138</td>\n",
       "      <td>9.417931</td>\n",
       "      <td>10.987610</td>\n",
       "      <td>1.14</td>\n",
       "    </tr>\n",
       "    <tr>\n",
       "      <th>2</th>\n",
       "      <td>Africa</td>\n",
       "      <td>DZA</td>\n",
       "      <td>Algeria</td>\n",
       "      <td>0.9</td>\n",
       "      <td>arid to semiarid; mild, wet winters with hot, ...</td>\n",
       "      <td>Middle East and North Africa</td>\n",
       "      <td>5.0051</td>\n",
       "      <td>65.905174</td>\n",
       "      <td>9.537965</td>\n",
       "      <td>14.700388</td>\n",
       "      <td>0.22</td>\n",
       "    </tr>\n",
       "    <tr>\n",
       "      <th>3</th>\n",
       "      <td>Europe</td>\n",
       "      <td>AND</td>\n",
       "      <td>Andorra</td>\n",
       "      <td>11.3</td>\n",
       "      <td>temperate; snowy, cold winters and warm, dry s...</td>\n",
       "      <td>NaN</td>\n",
       "      <td>NaN</td>\n",
       "      <td>NaN</td>\n",
       "      <td>NaN</td>\n",
       "      <td>14.726869</td>\n",
       "      <td>4.29</td>\n",
       "    </tr>\n",
       "    <tr>\n",
       "      <th>4</th>\n",
       "      <td>Africa</td>\n",
       "      <td>AGO</td>\n",
       "      <td>Angola</td>\n",
       "      <td>6.4</td>\n",
       "      <td>semiarid in south and along coast to Luanda; n...</td>\n",
       "      <td>NaN</td>\n",
       "      <td>NaN</td>\n",
       "      <td>NaN</td>\n",
       "      <td>NaN</td>\n",
       "      <td>12.498281</td>\n",
       "      <td>1.32</td>\n",
       "    </tr>\n",
       "  </tbody>\n",
       "</table>\n",
       "</div>"
      ],
      "text/plain": [
       "  Continent Country Code      Country  \\\n",
       "0      Asia          AFG  Afghanistan   \n",
       "1    Europe          ALB      Albania   \n",
       "2    Africa          DZA      Algeria   \n",
       "3    Europe          AND      Andorra   \n",
       "4    Africa          AGO       Angola   \n",
       "\n",
       "   Alcohol Consumption Per Capita (Liters)  \\\n",
       "0                                      0.2   \n",
       "1                                      7.5   \n",
       "2                                      0.9   \n",
       "3                                     11.3   \n",
       "4                                      6.4   \n",
       "\n",
       "                                             Climate  \\\n",
       "0     arid to semiarid; cold winters and hot summers   \n",
       "1  mild temperate; cool, cloudy, wet winters; hot...   \n",
       "2  arid to semiarid; mild, wet winters with hot, ...   \n",
       "3  temperate; snowy, cold winters and warm, dry s...   \n",
       "4  semiarid in south and along coast to Luanda; n...   \n",
       "\n",
       "                         Region  Happiness Score  Life Expectancy  \\\n",
       "0                    South Asia           2.5669        52.590000   \n",
       "1    Central and Eastern Europe           4.8827        68.708138   \n",
       "2  Middle East and North Africa           5.0051        65.905174   \n",
       "3                           NaN              NaN              NaN   \n",
       "4                           NaN              NaN              NaN   \n",
       "\n",
       "   GDP per capita  Mental Health Disorders (%)  \\\n",
       "0        7.462861                    17.553463   \n",
       "1        9.417931                    10.987610   \n",
       "2        9.537965                    14.700388   \n",
       "3             NaN                    14.726869   \n",
       "4             NaN                    12.498281   \n",
       "\n",
       "   Wine Consumption per capita (Liters)  \n",
       "0                                  0.00  \n",
       "1                                  1.14  \n",
       "2                                  0.22  \n",
       "3                                  4.29  \n",
       "4                                  1.32  "
      ]
     },
     "execution_count": 47,
     "metadata": {},
     "output_type": "execute_result"
    }
   ],
   "source": [
    "merged_with_wine_df=merged_with_wine_df.rename(columns={\"Wine Consumption at Latest Timepoint(L)\":\"Wine Consumption per capita (Liters)\"})\n",
    "merged_with_wine_df.head()"
   ]
  },
  {
   "cell_type": "code",
   "execution_count": 50,
   "metadata": {},
   "outputs": [
    {
     "data": {
      "text/plain": [
       "<matplotlib.axes._subplots.AxesSubplot at 0x7ff2f6ae3e80>"
      ]
     },
     "execution_count": 50,
     "metadata": {},
     "output_type": "execute_result"
    },
    {
     "data": {
      "image/png": "[encoded data removed]",
      "text/plain": [
       "<Figure size 1440x720 with 1 Axes>"
      ]
     },
     "metadata": {
      "needs_background": "light"
     },
     "output_type": "display_data"
    }
   ],
   "source": [
    "merged_with_wine_df.boxplot(\"Wine Consumption per capita (Liters)\", by=\"Continent\", figsize=(20, 10), flierprops=dict(markerfacecolor='red', markersize=10))"
   ]
  },
  {
   "cell_type": "code",
   "execution_count": 51,
   "metadata": {},
   "outputs": [
    {
     "data": {
      "text/html": [
       "<div>\n",
       "<style scoped>\n",
       "    .dataframe tbody tr th:only-of-type {\n",
       "        vertical-align: middle;\n",
       "    }\n",
       "\n",
       "    .dataframe tbody tr th {\n",
       "        vertical-align: top;\n",
       "    }\n",
       "\n",
       "    .dataframe thead th {\n",
       "        text-align: right;\n",
       "    }\n",
       "</style>\n",
       "<table border=\"1\" class=\"dataframe\">\n",
       "  <thead>\n",
       "    <tr style=\"text-align: right;\">\n",
       "      <th></th>\n",
       "      <th>Continent</th>\n",
       "      <th>Country Code</th>\n",
       "      <th>Country</th>\n",
       "      <th>Alcohol Consumption Per Capita (Liters)</th>\n",
       "      <th>Climate</th>\n",
       "      <th>Region</th>\n",
       "      <th>Happiness Score</th>\n",
       "      <th>Life Expectancy</th>\n",
       "      <th>GDP per capita</th>\n",
       "      <th>Mental Health Disorders (%)</th>\n",
       "      <th>Wine Consumption per capita (Liters)</th>\n",
       "    </tr>\n",
       "  </thead>\n",
       "  <tbody>\n",
       "    <tr>\n",
       "      <th>1</th>\n",
       "      <td>Europe</td>\n",
       "      <td>ALB</td>\n",
       "      <td>Albania</td>\n",
       "      <td>7.5</td>\n",
       "      <td>mild temperate; cool, cloudy, wet winters; hot...</td>\n",
       "      <td>Central and Eastern Europe</td>\n",
       "      <td>4.8827</td>\n",
       "      <td>68.708138</td>\n",
       "      <td>9.417931</td>\n",
       "      <td>10.987610</td>\n",
       "      <td>1.14</td>\n",
       "    </tr>\n",
       "    <tr>\n",
       "      <th>3</th>\n",
       "      <td>Europe</td>\n",
       "      <td>AND</td>\n",
       "      <td>Andorra</td>\n",
       "      <td>11.3</td>\n",
       "      <td>temperate; snowy, cold winters and warm, dry s...</td>\n",
       "      <td>NaN</td>\n",
       "      <td>NaN</td>\n",
       "      <td>NaN</td>\n",
       "      <td>NaN</td>\n",
       "      <td>14.726869</td>\n",
       "      <td>4.29</td>\n",
       "    </tr>\n",
       "    <tr>\n",
       "      <th>6</th>\n",
       "      <td>Europe</td>\n",
       "      <td>AZE</td>\n",
       "      <td>Azerbaijan</td>\n",
       "      <td>0.8</td>\n",
       "      <td>dry, semiarid steppe</td>\n",
       "      <td>Commonwealth of Independent States</td>\n",
       "      <td>5.1648</td>\n",
       "      <td>65.508400</td>\n",
       "      <td>9.687727</td>\n",
       "      <td>10.495815</td>\n",
       "      <td>0.23</td>\n",
       "    </tr>\n",
       "    <tr>\n",
       "      <th>9</th>\n",
       "      <td>Europe</td>\n",
       "      <td>AUT</td>\n",
       "      <td>Austria</td>\n",
       "      <td>11.6</td>\n",
       "      <td>temperate; continental, cloudy; cold winters w...</td>\n",
       "      <td>Western Europe</td>\n",
       "      <td>7.2942</td>\n",
       "      <td>73.002502</td>\n",
       "      <td>10.742824</td>\n",
       "      <td>14.648111</td>\n",
       "      <td>4.37</td>\n",
       "    </tr>\n",
       "    <tr>\n",
       "      <th>13</th>\n",
       "      <td>Europe</td>\n",
       "      <td>ARM</td>\n",
       "      <td>Armenia</td>\n",
       "      <td>5.5</td>\n",
       "      <td>highland continental, hot summers, cold winters</td>\n",
       "      <td>Commonwealth of Independent States</td>\n",
       "      <td>4.6768</td>\n",
       "      <td>66.750656</td>\n",
       "      <td>9.100476</td>\n",
       "      <td>10.644284</td>\n",
       "      <td>0.13</td>\n",
       "    </tr>\n",
       "  </tbody>\n",
       "</table>\n",
       "</div>"
      ],
      "text/plain": [
       "   Continent Country Code     Country  \\\n",
       "1     Europe          ALB     Albania   \n",
       "3     Europe          AND     Andorra   \n",
       "6     Europe          AZE  Azerbaijan   \n",
       "9     Europe          AUT     Austria   \n",
       "13    Europe          ARM     Armenia   \n",
       "\n",
       "    Alcohol Consumption Per Capita (Liters)  \\\n",
       "1                                       7.5   \n",
       "3                                      11.3   \n",
       "6                                       0.8   \n",
       "9                                      11.6   \n",
       "13                                      5.5   \n",
       "\n",
       "                                              Climate  \\\n",
       "1   mild temperate; cool, cloudy, wet winters; hot...   \n",
       "3   temperate; snowy, cold winters and warm, dry s...   \n",
       "6                                dry, semiarid steppe   \n",
       "9   temperate; continental, cloudy; cold winters w...   \n",
       "13    highland continental, hot summers, cold winters   \n",
       "\n",
       "                                Region  Happiness Score  Life Expectancy  \\\n",
       "1           Central and Eastern Europe           4.8827        68.708138   \n",
       "3                                  NaN              NaN              NaN   \n",
       "6   Commonwealth of Independent States           5.1648        65.508400   \n",
       "9                       Western Europe           7.2942        73.002502   \n",
       "13  Commonwealth of Independent States           4.6768        66.750656   \n",
       "\n",
       "    GDP per capita  Mental Health Disorders (%)  \\\n",
       "1         9.417931                    10.987610   \n",
       "3              NaN                    14.726869   \n",
       "6         9.687727                    10.495815   \n",
       "9        10.742824                    14.648111   \n",
       "13        9.100476                    10.644284   \n",
       "\n",
       "    Wine Consumption per capita (Liters)  \n",
       "1                                   1.14  \n",
       "3                                   4.29  \n",
       "6                                   0.23  \n",
       "9                                   4.37  \n",
       "13                                  0.13  "
      ]
     },
     "execution_count": 51,
     "metadata": {},
     "output_type": "execute_result"
    }
   ],
   "source": [
    "merged_with_wine_europe_df=merged_with_wine_df.loc[(merged_with_wine_df[\"Continent\"]==\"Europe\")]\n",
    "merged_with_wine_europe_df.head()"
   ]
  },
  {
   "cell_type": "code",
   "execution_count": 54,
   "metadata": {},
   "outputs": [
    {
     "data": {
      "text/html": [
       "<div>\n",
       "<style scoped>\n",
       "    .dataframe tbody tr th:only-of-type {\n",
       "        vertical-align: middle;\n",
       "    }\n",
       "\n",
       "    .dataframe tbody tr th {\n",
       "        vertical-align: top;\n",
       "    }\n",
       "\n",
       "    .dataframe thead th {\n",
       "        text-align: right;\n",
       "    }\n",
       "</style>\n",
       "<table border=\"1\" class=\"dataframe\">\n",
       "  <thead>\n",
       "    <tr style=\"text-align: right;\">\n",
       "      <th></th>\n",
       "      <th>Wine Consumption per capita (Liters)</th>\n",
       "    </tr>\n",
       "    <tr>\n",
       "      <th>Continent</th>\n",
       "      <th></th>\n",
       "    </tr>\n",
       "  </thead>\n",
       "  <tbody>\n",
       "    <tr>\n",
       "      <th>Africa</th>\n",
       "      <td>19.33</td>\n",
       "    </tr>\n",
       "    <tr>\n",
       "      <th>Asia</th>\n",
       "      <td>3.77</td>\n",
       "    </tr>\n",
       "    <tr>\n",
       "      <th>Europe</th>\n",
       "      <td>128.76</td>\n",
       "    </tr>\n",
       "    <tr>\n",
       "      <th>North America</th>\n",
       "      <td>12.95</td>\n",
       "    </tr>\n",
       "    <tr>\n",
       "      <th>Oceania</th>\n",
       "      <td>8.47</td>\n",
       "    </tr>\n",
       "    <tr>\n",
       "      <th>South America</th>\n",
       "      <td>10.62</td>\n",
       "    </tr>\n",
       "  </tbody>\n",
       "</table>\n",
       "</div>"
      ],
      "text/plain": [
       "               Wine Consumption per capita (Liters)\n",
       "Continent                                          \n",
       "Africa                                        19.33\n",
       "Asia                                           3.77\n",
       "Europe                                       128.76\n",
       "North America                                 12.95\n",
       "Oceania                                        8.47\n",
       "South America                                 10.62"
      ]
     },
     "execution_count": 54,
     "metadata": {},
     "output_type": "execute_result"
    }
   ],
   "source": [
    "wine_by_continent_sum=merged_with_wine_df.groupby(\"Continent\")[[\"Wine Consumption per capita (Liters)\"]].sum()\n",
    "wine_by_continent_sum"
   ]
  },
  {
   "cell_type": "code",
   "execution_count": 55,
   "metadata": {},
   "outputs": [
    {
     "name": "stderr",
     "output_type": "stream",
     "text": [
      "<ipython-input-55-d635609c1daa>:1: MatplotlibDeprecationWarning: Non-1D inputs to pie() are currently squeeze()d, but this behavior is deprecated since 3.1 and will be removed in 3.3; pass a 1D array instead.\n",
      "  plt.pie(wine_by_continent_sum, labels=continents, autopct='%1.1f%%')\n"
     ]
    },
    {
     "data": {
      "text/plain": [
       "([<matplotlib.patches.Wedge at 0x7ff2f55d0550>,\n",
       "  <matplotlib.patches.Wedge at 0x7ff2f6003a00>,\n",
       "  <matplotlib.patches.Wedge at 0x7ff2f6af1130>,\n",
       "  <matplotlib.patches.Wedge at 0x7ff2f71c1f40>,\n",
       "  <matplotlib.patches.Wedge at 0x7ff2f7239430>,\n",
       "  <matplotlib.patches.Wedge at 0x7ff2f6af6070>],\n",
       " [Text(1.0405690428721233, 0.3566736141294919, 'Africa'),\n",
       "  Text(0.8234672245199254, 0.7293159330094544, 'Asia'),\n",
       "  Text(-1.0871964742690565, 0.1673434382846632, 'Europe'),\n",
       "  Text(0.7063943836309732, -0.8432122951989123, 'North America'),\n",
       "  Text(0.9613367470084627, -0.5346322650674828, 'Oceania'),\n",
       "  Text(1.0819467125776006, -0.1984724442901918, 'South America')],\n",
       " [Text(0.5675831142938853, 0.19454924407063193, '10.5%'),\n",
       "  Text(0.44916394064723203, 0.39780869073242964, '2.1%'),\n",
       "  Text(-0.5930162586922125, 0.09127823906436174, '70.0%'),\n",
       "  Text(0.38530602743507625, -0.45993397919940665, '7.0%'),\n",
       "  Text(0.5243654983682523, -0.29161759912771784, '4.6%'),\n",
       "  Text(0.5901527523150547, -0.10825769688555915, '5.8%')])"
      ]
     },
     "execution_count": 55,
     "metadata": {},
     "output_type": "execute_result"
    },
    {
     "data": {
      "image/png": "[encoded data removed]",
      "text/plain": [
       "<Figure size 432x288 with 1 Axes>"
      ]
     },
     "metadata": {},
     "output_type": "display_data"
    }
   ],
   "source": [
    "plt.pie(wine_by_continent_sum, labels=continents, autopct='%1.1f%%')"
   ]
  },
  {
   "cell_type": "code",
   "execution_count": 58,
   "metadata": {},
   "outputs": [
    {
     "name": "stderr",
     "output_type": "stream",
     "text": [
      "<ipython-input-58-932e0fa876a9>:2: MatplotlibDeprecationWarning: Non-1D inputs to pie() are currently squeeze()d, but this behavior is deprecated since 3.1 and will be removed in 3.3; pass a 1D array instead.\n",
      "  plt.pie(wine_by_continent_mean, labels=continents, autopct='%1.1f%%')\n"
     ]
    },
    {
     "data": {
      "text/plain": [
       "([<matplotlib.patches.Wedge at 0x7ff2f721e910>,\n",
       "  <matplotlib.patches.Wedge at 0x7ff2f720fdc0>,\n",
       "  <matplotlib.patches.Wedge at 0x7ff2f7247e50>,\n",
       "  <matplotlib.patches.Wedge at 0x7ff2f7247fd0>,\n",
       "  <matplotlib.patches.Wedge at 0x7ff2f6afde20>,\n",
       "  <matplotlib.patches.Wedge at 0x7ff2f7233220>],\n",
       " [Text(1.0754393318094824, 0.23114982932542724, 'Africa'),\n",
       "  Text(0.9766376964107641, 0.5061410968786041, 'Asia'),\n",
       "  Text(-0.6091785234187155, 0.9159156765802153, 'Europe'),\n",
       "  Text(-0.6237980449763113, -0.9060220742806061, 'North America'),\n",
       "  Text(0.14652527511625277, -1.0901973875184745, 'Oceania'),\n",
       "  Text(0.9580077791020227, -0.5405747822272237, 'South America')],\n",
       " [Text(0.5866032718960813, 0.12608172508659668, '6.7%'),\n",
       "  Text(0.5327114707695076, 0.276076961933784, '1.7%'),\n",
       "  Text(-0.3322791945920266, 0.49959036904375376, '51.7%'),\n",
       "  Text(-0.3402534790779879, -0.49419385869851234, '10.4%'),\n",
       "  Text(0.07992287733613786, -0.5946531204646224, '13.0%'),\n",
       "  Text(0.5225496976920123, -0.29485897212394013, '16.4%')])"
      ]
     },
     "execution_count": 58,
     "metadata": {},
     "output_type": "execute_result"
    },
    {
     "data": {
      "image/png": "[encoded data removed]",
      "text/plain": [
       "<Figure size 432x288 with 1 Axes>"
      ]
     },
     "metadata": {},
     "output_type": "display_data"
    }
   ],
   "source": [
    "wine_by_continent_mean=merged_with_wine_df.groupby(\"Continent\")[[\"Wine Consumption per capita (Liters)\"]].mean()\n",
    "plt.pie(wine_by_continent_mean, labels=continents, autopct='%1.1f%%')"
   ]
  },
  {
   "cell_type": "code",
   "execution_count": 59,
   "metadata": {},
   "outputs": [
    {
     "data": {
      "text/plain": [
       "array([[ 7.64938662],\n",
       "       [ 2.73982558],\n",
       "       [27.19898606],\n",
       "       [ 8.23267641],\n",
       "       [19.92941176],\n",
       "       [12.76442308]])"
      ]
     },
     "execution_count": 59,
     "metadata": {},
     "output_type": "execute_result"
    }
   ],
   "source": [
    "grouped_continent_wine_percentage=wine_by_continent_sum.values/alcohol_by_continent_sum.values*100\n",
    "grouped_continent_wine_percentage"
   ]
  },
  {
   "cell_type": "code",
   "execution_count": null,
   "metadata": {},
   "outputs": [],
   "source": []
  },
  {
   "cell_type": "code",
   "execution_count": null,
   "metadata": {},
   "outputs": [],
   "source": []
  },
  {
   "cell_type": "code",
   "execution_count": null,
   "metadata": {},
   "outputs": [],
   "source": []
  },
  {
   "cell_type": "markdown",
   "metadata": {},
   "source": [
    "## Looking at correlations between Alcohol Consumption and GDP, Life Expectancy, Happiness Score and Mental Health"
   ]
  },
  {
   "cell_type": "code",
   "execution_count": 60,
   "metadata": {
    "scrolled": false
   },
   "outputs": [
    {
     "data": {
      "text/plain": [
       "141"
      ]
     },
     "execution_count": 60,
     "metadata": {},
     "output_type": "execute_result"
    }
   ],
   "source": [
    "gdp_and_life_expectancy_df=merged_with_wine_df.dropna(subset=['GDP per capita', 'Life Expectancy'])\n",
    "len(gdp_and_life_expectancy_df)"
   ]
  },
  {
   "cell_type": "code",
   "execution_count": 61,
   "metadata": {
    "scrolled": true
   },
   "outputs": [
    {
     "data": {
      "text/plain": [
       "Europe           43\n",
       "Africa           39\n",
       "Asia             34\n",
       "North America    13\n",
       "South America    10\n",
       "Oceania           2\n",
       "Name: Continent, dtype: int64"
      ]
     },
     "execution_count": 61,
     "metadata": {},
     "output_type": "execute_result"
    }
   ],
   "source": [
    "gdp_and_life_expectancy_df_countries_by_continent=gdp_and_life_expectancy_df[\"Continent\"].value_counts()\n",
    "gdp_and_life_expectancy_df_countries_by_continent"
   ]
  },
  {
   "cell_type": "code",
   "execution_count": 69,
   "metadata": {
    "scrolled": true
   },
   "outputs": [
    {
     "data": {
      "text/plain": [
       "<matplotlib.axes._subplots.AxesSubplot at 0x7ff2f6777400>"
      ]
     },
     "execution_count": 69,
     "metadata": {},
     "output_type": "execute_result"
    },
    {
     "data": {
      "image/png": "[encoded data removed]",
      "text/plain": [
       "<Figure size 864x216 with 1 Axes>"
      ]
     },
     "metadata": {
      "needs_background": "light"
     },
     "output_type": "display_data"
    }
   ],
   "source": [
    "gdp_and_life_expectancy_df_countries_by_continent.plot(kind='bar', figsize=(12,3), title ='Number of Measurements per Continent')"
   ]
  },
  {
   "cell_type": "code",
   "execution_count": 70,
   "metadata": {
    "scrolled": true
   },
   "outputs": [
    {
     "data": {
      "text/html": [
       "<div>\n",
       "<style scoped>\n",
       "    .dataframe tbody tr th:only-of-type {\n",
       "        vertical-align: middle;\n",
       "    }\n",
       "\n",
       "    .dataframe tbody tr th {\n",
       "        vertical-align: top;\n",
       "    }\n",
       "\n",
       "    .dataframe thead th {\n",
       "        text-align: right;\n",
       "    }\n",
       "</style>\n",
       "<table border=\"1\" class=\"dataframe\">\n",
       "  <thead>\n",
       "    <tr style=\"text-align: right;\">\n",
       "      <th></th>\n",
       "      <th>Alcohol Consumption Per Capita (Liters)</th>\n",
       "      <th>Happiness Score</th>\n",
       "      <th>Life Expectancy</th>\n",
       "      <th>GDP per capita</th>\n",
       "      <th>Mental Health Disorders (%)</th>\n",
       "      <th>Wine Consumption per capita (Liters)</th>\n",
       "    </tr>\n",
       "  </thead>\n",
       "  <tbody>\n",
       "    <tr>\n",
       "      <th>count</th>\n",
       "      <td>141.000000</td>\n",
       "      <td>141.000000</td>\n",
       "      <td>141.000000</td>\n",
       "      <td>141.000000</td>\n",
       "      <td>141.000000</td>\n",
       "      <td>141.000000</td>\n",
       "    </tr>\n",
       "    <tr>\n",
       "      <th>mean</th>\n",
       "      <td>6.480142</td>\n",
       "      <td>5.497109</td>\n",
       "      <td>64.637501</td>\n",
       "      <td>9.309033</td>\n",
       "      <td>13.068401</td>\n",
       "      <td>1.085816</td>\n",
       "    </tr>\n",
       "    <tr>\n",
       "      <th>std</th>\n",
       "      <td>4.112111</td>\n",
       "      <td>1.112771</td>\n",
       "      <td>6.814233</td>\n",
       "      <td>1.192886</td>\n",
       "      <td>1.892776</td>\n",
       "      <td>1.633237</td>\n",
       "    </tr>\n",
       "    <tr>\n",
       "      <th>min</th>\n",
       "      <td>0.000000</td>\n",
       "      <td>2.566900</td>\n",
       "      <td>45.200001</td>\n",
       "      <td>6.492642</td>\n",
       "      <td>10.067097</td>\n",
       "      <td>0.000000</td>\n",
       "    </tr>\n",
       "    <tr>\n",
       "      <th>25%</th>\n",
       "      <td>2.800000</td>\n",
       "      <td>4.729300</td>\n",
       "      <td>59.599152</td>\n",
       "      <td>8.350645</td>\n",
       "      <td>11.630930</td>\n",
       "      <td>0.020000</td>\n",
       "    </tr>\n",
       "    <tr>\n",
       "      <th>50%</th>\n",
       "      <td>6.600000</td>\n",
       "      <td>5.541500</td>\n",
       "      <td>66.404343</td>\n",
       "      <td>9.500369</td>\n",
       "      <td>12.526669</td>\n",
       "      <td>0.170000</td>\n",
       "    </tr>\n",
       "    <tr>\n",
       "      <th>75%</th>\n",
       "      <td>9.800000</td>\n",
       "      <td>6.228500</td>\n",
       "      <td>69.002548</td>\n",
       "      <td>10.263742</td>\n",
       "      <td>14.536026</td>\n",
       "      <td>1.670000</td>\n",
       "    </tr>\n",
       "    <tr>\n",
       "      <th>max</th>\n",
       "      <td>15.200000</td>\n",
       "      <td>7.808700</td>\n",
       "      <td>76.804581</td>\n",
       "      <td>11.450681</td>\n",
       "      <td>18.495605</td>\n",
       "      <td>6.400000</td>\n",
       "    </tr>\n",
       "  </tbody>\n",
       "</table>\n",
       "</div>"
      ],
      "text/plain": [
       "       Alcohol Consumption Per Capita (Liters)  Happiness Score  \\\n",
       "count                               141.000000       141.000000   \n",
       "mean                                  6.480142         5.497109   \n",
       "std                                   4.112111         1.112771   \n",
       "min                                   0.000000         2.566900   \n",
       "25%                                   2.800000         4.729300   \n",
       "50%                                   6.600000         5.541500   \n",
       "75%                                   9.800000         6.228500   \n",
       "max                                  15.200000         7.808700   \n",
       "\n",
       "       Life Expectancy  GDP per capita  Mental Health Disorders (%)  \\\n",
       "count       141.000000      141.000000                   141.000000   \n",
       "mean         64.637501        9.309033                    13.068401   \n",
       "std           6.814233        1.192886                     1.892776   \n",
       "min          45.200001        6.492642                    10.067097   \n",
       "25%          59.599152        8.350645                    11.630930   \n",
       "50%          66.404343        9.500369                    12.526669   \n",
       "75%          69.002548       10.263742                    14.536026   \n",
       "max          76.804581       11.450681                    18.495605   \n",
       "\n",
       "       Wine Consumption per capita (Liters)  \n",
       "count                            141.000000  \n",
       "mean                               1.085816  \n",
       "std                                1.633237  \n",
       "min                                0.000000  \n",
       "25%                                0.020000  \n",
       "50%                                0.170000  \n",
       "75%                                1.670000  \n",
       "max                                6.400000  "
      ]
     },
     "execution_count": 70,
     "metadata": {},
     "output_type": "execute_result"
    }
   ],
   "source": [
    "gdp_and_life_expectancy_df.describe()"
   ]
  },
  {
   "cell_type": "markdown",
   "metadata": {},
   "source": [
    "## Looking at correlations between Alcohol Consumption and GDP, Life Expectancy, Happiness Score and Mental Health per Continent"
   ]
  },
  {
   "cell_type": "code",
   "execution_count": 71,
   "metadata": {},
   "outputs": [],
   "source": [
    "def plot_linear_regression(x_values, y_values, title, text_coordinates):\n",
    "    (slope, intercept, rvalue, pvalue, stderr) = linregress(x_values, y_values)\n",
    "    regress_values = x_values * slope + intercept\n",
    "    line_eq = \"y = \" + str(round(slope,2)) + \"x + \" + str(round(intercept,2))\n",
    "    plt.scatter(x_values, y_values, edgecolors='k')\n",
    "    plt.plot(x_values,regress_values, \"r-\")\n",
    "    plt.xlabel('Alcohol Consumption Per Capita (Liters)')\n",
    "    plt.ylabel(title)\n",
    "    plt.annotate(line_eq,text_coordinates,fontsize=15,color=\"red\")\n",
    "    print(f\"The r-value is: {rvalue**2}\")\n",
    "    plt.show()"
   ]
  },
  {
   "cell_type": "code",
   "execution_count": 73,
   "metadata": {},
   "outputs": [
    {
     "data": {
      "text/html": [
       "<div>\n",
       "<style scoped>\n",
       "    .dataframe tbody tr th:only-of-type {\n",
       "        vertical-align: middle;\n",
       "    }\n",
       "\n",
       "    .dataframe tbody tr th {\n",
       "        vertical-align: top;\n",
       "    }\n",
       "\n",
       "    .dataframe thead th {\n",
       "        text-align: right;\n",
       "    }\n",
       "</style>\n",
       "<table border=\"1\" class=\"dataframe\">\n",
       "  <thead>\n",
       "    <tr style=\"text-align: right;\">\n",
       "      <th></th>\n",
       "      <th>Happiness Score</th>\n",
       "    </tr>\n",
       "    <tr>\n",
       "      <th>Continent</th>\n",
       "      <th></th>\n",
       "    </tr>\n",
       "  </thead>\n",
       "  <tbody>\n",
       "    <tr>\n",
       "      <th>Africa</th>\n",
       "      <td>4.441672</td>\n",
       "    </tr>\n",
       "    <tr>\n",
       "      <th>Asia</th>\n",
       "      <td>5.282953</td>\n",
       "    </tr>\n",
       "    <tr>\n",
       "      <th>Europe</th>\n",
       "      <td>6.231049</td>\n",
       "    </tr>\n",
       "    <tr>\n",
       "      <th>North America</th>\n",
       "      <td>6.184008</td>\n",
       "    </tr>\n",
       "    <tr>\n",
       "      <th>Oceania</th>\n",
       "      <td>7.261200</td>\n",
       "    </tr>\n",
       "    <tr>\n",
       "      <th>South America</th>\n",
       "      <td>5.939710</td>\n",
       "    </tr>\n",
       "  </tbody>\n",
       "</table>\n",
       "</div>"
      ],
      "text/plain": [
       "               Happiness Score\n",
       "Continent                     \n",
       "Africa                4.441672\n",
       "Asia                  5.282953\n",
       "Europe                6.231049\n",
       "North America         6.184008\n",
       "Oceania               7.261200\n",
       "South America         5.939710"
      ]
     },
     "execution_count": 73,
     "metadata": {},
     "output_type": "execute_result"
    }
   ],
   "source": [
    "happiness_score_mean=gdp_and_life_expectancy_df.groupby(\"Continent\")[[\"Happiness Score\"]].mean()\n",
    "happiness_score_mean"
   ]
  },
  {
   "cell_type": "code",
   "execution_count": 75,
   "metadata": {},
   "outputs": [
    {
     "name": "stdout",
     "output_type": "stream",
     "text": [
      "The r-value is: 0.18116385485317182\n"
     ]
    },
    {
     "data": {
      "image/png": "[encoded data removed]",
      "text/plain": [
       "<Figure size 432x288 with 1 Axes>"
      ]
     },
     "metadata": {
      "needs_background": "light"
     },
     "output_type": "display_data"
    }
   ],
   "source": [
    "x_values=gdp_and_life_expectancy_df['Alcohol Consumption Per Capita (Liters)']\n",
    "y_values=gdp_and_life_expectancy_df['Happiness Score']\n",
    "plot_linear_regression(x_values,y_values,'Happiness Score',(6,4))"
   ]
  },
  {
   "cell_type": "code",
   "execution_count": 85,
   "metadata": {},
   "outputs": [
    {
     "data": {
      "text/plain": [
       "<matplotlib.axes._subplots.AxesSubplot at 0x7ff2eff66b20>"
      ]
     },
     "execution_count": 85,
     "metadata": {},
     "output_type": "execute_result"
    },
    {
     "data": {
      "image/png": "[encoded data removed]",
      "text/plain": [
       "<Figure size 1440x720 with 1 Axes>"
      ]
     },
     "metadata": {
      "needs_background": "light"
     },
     "output_type": "display_data"
    }
   ],
   "source": [
    "gdp_and_life_expectancy_df.boxplot(\"Happiness Score\", by=\"Continent\", figsize=(20, 10), flierprops=dict(markerfacecolor='red', markersize=10))"
   ]
  },
  {
   "cell_type": "code",
   "execution_count": 76,
   "metadata": {},
   "outputs": [
    {
     "data": {
      "text/html": [
       "<div>\n",
       "<style scoped>\n",
       "    .dataframe tbody tr th:only-of-type {\n",
       "        vertical-align: middle;\n",
       "    }\n",
       "\n",
       "    .dataframe tbody tr th {\n",
       "        vertical-align: top;\n",
       "    }\n",
       "\n",
       "    .dataframe thead th {\n",
       "        text-align: right;\n",
       "    }\n",
       "</style>\n",
       "<table border=\"1\" class=\"dataframe\">\n",
       "  <thead>\n",
       "    <tr style=\"text-align: right;\">\n",
       "      <th></th>\n",
       "      <th>Life Expectancy</th>\n",
       "    </tr>\n",
       "    <tr>\n",
       "      <th>Continent</th>\n",
       "      <th></th>\n",
       "    </tr>\n",
       "  </thead>\n",
       "  <tbody>\n",
       "    <tr>\n",
       "      <th>Africa</th>\n",
       "      <td>56.636795</td>\n",
       "    </tr>\n",
       "    <tr>\n",
       "      <th>Asia</th>\n",
       "      <td>65.107686</td>\n",
       "    </tr>\n",
       "    <tr>\n",
       "      <th>Europe</th>\n",
       "      <td>69.805096</td>\n",
       "    </tr>\n",
       "    <tr>\n",
       "      <th>North America</th>\n",
       "      <td>66.825558</td>\n",
       "    </tr>\n",
       "    <tr>\n",
       "      <th>Oceania</th>\n",
       "      <td>73.403584</td>\n",
       "    </tr>\n",
       "    <tr>\n",
       "      <th>South America</th>\n",
       "      <td>67.423274</td>\n",
       "    </tr>\n",
       "  </tbody>\n",
       "</table>\n",
       "</div>"
      ],
      "text/plain": [
       "               Life Expectancy\n",
       "Continent                     \n",
       "Africa               56.636795\n",
       "Asia                 65.107686\n",
       "Europe               69.805096\n",
       "North America        66.825558\n",
       "Oceania              73.403584\n",
       "South America        67.423274"
      ]
     },
     "execution_count": 76,
     "metadata": {},
     "output_type": "execute_result"
    }
   ],
   "source": [
    "life_expectancy_by_continent_mean=gdp_and_life_expectancy_df.groupby(\"Continent\")[[\"Life Expectancy\"]].mean()\n",
    "life_expectancy_by_continent_mean"
   ]
  },
  {
   "cell_type": "code",
   "execution_count": 77,
   "metadata": {
    "scrolled": true
   },
   "outputs": [
    {
     "name": "stdout",
     "output_type": "stream",
     "text": [
      "The r-value is: 0.15718368589991474\n"
     ]
    },
    {
     "data": {
      "image/png": "[encoded data removed]",
      "text/plain": [
       "<Figure size 432x288 with 1 Axes>"
      ]
     },
     "metadata": {
      "needs_background": "light"
     },
     "output_type": "display_data"
    }
   ],
   "source": [
    "x_values=gdp_and_life_expectancy_df['Alcohol Consumption Per Capita (Liters)']\n",
    "y_values=gdp_and_life_expectancy_df['Life Expectancy']\n",
    "plot_linear_regression(x_values,y_values,'Life Expectancy',(6,60))"
   ]
  },
  {
   "cell_type": "code",
   "execution_count": 86,
   "metadata": {},
   "outputs": [
    {
     "data": {
      "text/plain": [
       "<matplotlib.axes._subplots.AxesSubplot at 0x7ff2f68db580>"
      ]
     },
     "execution_count": 86,
     "metadata": {},
     "output_type": "execute_result"
    },
    {
     "data": {
      "image/png": "[encoded data removed]",
      "text/plain": [
       "<Figure size 1440x720 with 1 Axes>"
      ]
     },
     "metadata": {
      "needs_background": "light"
     },
     "output_type": "display_data"
    }
   ],
   "source": [
    "gdp_and_life_expectancy_df.boxplot(\"Life Expectancy\", by=\"Continent\", figsize=(20, 10), flierprops=dict(markerfacecolor='red', markersize=10))"
   ]
  },
  {
   "cell_type": "code",
   "execution_count": 78,
   "metadata": {},
   "outputs": [
    {
     "data": {
      "text/html": [
       "<div>\n",
       "<style scoped>\n",
       "    .dataframe tbody tr th:only-of-type {\n",
       "        vertical-align: middle;\n",
       "    }\n",
       "\n",
       "    .dataframe tbody tr th {\n",
       "        vertical-align: top;\n",
       "    }\n",
       "\n",
       "    .dataframe thead th {\n",
       "        text-align: right;\n",
       "    }\n",
       "</style>\n",
       "<table border=\"1\" class=\"dataframe\">\n",
       "  <thead>\n",
       "    <tr style=\"text-align: right;\">\n",
       "      <th></th>\n",
       "      <th>GDP per capita</th>\n",
       "    </tr>\n",
       "    <tr>\n",
       "      <th>Continent</th>\n",
       "      <th></th>\n",
       "    </tr>\n",
       "  </thead>\n",
       "  <tbody>\n",
       "    <tr>\n",
       "      <th>Africa</th>\n",
       "      <td>8.079819</td>\n",
       "    </tr>\n",
       "    <tr>\n",
       "      <th>Asia</th>\n",
       "      <td>9.376013</td>\n",
       "    </tr>\n",
       "    <tr>\n",
       "      <th>Europe</th>\n",
       "      <td>10.243561</td>\n",
       "    </tr>\n",
       "    <tr>\n",
       "      <th>North America</th>\n",
       "      <td>9.400182</td>\n",
       "    </tr>\n",
       "    <tr>\n",
       "      <th>Oceania</th>\n",
       "      <td>10.610770</td>\n",
       "    </tr>\n",
       "    <tr>\n",
       "      <th>South America</th>\n",
       "      <td>9.477927</td>\n",
       "    </tr>\n",
       "  </tbody>\n",
       "</table>\n",
       "</div>"
      ],
      "text/plain": [
       "               GDP per capita\n",
       "Continent                    \n",
       "Africa               8.079819\n",
       "Asia                 9.376013\n",
       "Europe              10.243561\n",
       "North America        9.400182\n",
       "Oceania             10.610770\n",
       "South America        9.477927"
      ]
     },
     "execution_count": 78,
     "metadata": {},
     "output_type": "execute_result"
    }
   ],
   "source": [
    "gdp_by_continent_mean=gdp_and_life_expectancy_df.groupby(\"Continent\")[[\"GDP per capita\"]].mean()\n",
    "gdp_by_continent_mean"
   ]
  },
  {
   "cell_type": "code",
   "execution_count": 79,
   "metadata": {},
   "outputs": [
    {
     "name": "stdout",
     "output_type": "stream",
     "text": [
      "The r-value is: 0.20507265852518977\n"
     ]
    },
    {
     "data": {
      "image/png": "[encoded data removed]",
      "text/plain": [
       "<Figure size 432x288 with 1 Axes>"
      ]
     },
     "metadata": {
      "needs_background": "light"
     },
     "output_type": "display_data"
    }
   ],
   "source": [
    "x_values=gdp_and_life_expectancy_df['Alcohol Consumption Per Capita (Liters)']\n",
    "y_values=gdp_and_life_expectancy_df['GDP per capita']\n",
    "plot_linear_regression(x_values,y_values,'GDP per capita',(6,9))"
   ]
  },
  {
   "cell_type": "code",
   "execution_count": 87,
   "metadata": {},
   "outputs": [
    {
     "data": {
      "text/plain": [
       "<matplotlib.axes._subplots.AxesSubplot at 0x7ff2f5354850>"
      ]
     },
     "execution_count": 87,
     "metadata": {},
     "output_type": "execute_result"
    },
    {
     "data": {
      "image/png": "[encoded data removed]",
      "text/plain": [
       "<Figure size 1440x720 with 1 Axes>"
      ]
     },
     "metadata": {
      "needs_background": "light"
     },
     "output_type": "display_data"
    }
   ],
   "source": [
    "gdp_and_life_expectancy_df.boxplot(\"GDP per capita\", by=\"Continent\", figsize=(20, 10), flierprops=dict(markerfacecolor='red', markersize=10))"
   ]
  },
  {
   "cell_type": "code",
   "execution_count": 81,
   "metadata": {},
   "outputs": [
    {
     "data": {
      "text/html": [
       "<div>\n",
       "<style scoped>\n",
       "    .dataframe tbody tr th:only-of-type {\n",
       "        vertical-align: middle;\n",
       "    }\n",
       "\n",
       "    .dataframe tbody tr th {\n",
       "        vertical-align: top;\n",
       "    }\n",
       "\n",
       "    .dataframe thead th {\n",
       "        text-align: right;\n",
       "    }\n",
       "</style>\n",
       "<table border=\"1\" class=\"dataframe\">\n",
       "  <thead>\n",
       "    <tr style=\"text-align: right;\">\n",
       "      <th></th>\n",
       "      <th>Mental Health Disorders (%)</th>\n",
       "    </tr>\n",
       "    <tr>\n",
       "      <th>Continent</th>\n",
       "      <th></th>\n",
       "    </tr>\n",
       "  </thead>\n",
       "  <tbody>\n",
       "    <tr>\n",
       "      <th>Africa</th>\n",
       "      <td>12.644170</td>\n",
       "    </tr>\n",
       "    <tr>\n",
       "      <th>Asia</th>\n",
       "      <td>13.062704</td>\n",
       "    </tr>\n",
       "    <tr>\n",
       "      <th>Europe</th>\n",
       "      <td>13.324556</td>\n",
       "    </tr>\n",
       "    <tr>\n",
       "      <th>North America</th>\n",
       "      <td>12.461781</td>\n",
       "    </tr>\n",
       "    <tr>\n",
       "      <th>Oceania</th>\n",
       "      <td>18.286749</td>\n",
       "    </tr>\n",
       "    <tr>\n",
       "      <th>South America</th>\n",
       "      <td>13.385746</td>\n",
       "    </tr>\n",
       "  </tbody>\n",
       "</table>\n",
       "</div>"
      ],
      "text/plain": [
       "               Mental Health Disorders (%)\n",
       "Continent                                 \n",
       "Africa                           12.644170\n",
       "Asia                             13.062704\n",
       "Europe                           13.324556\n",
       "North America                    12.461781\n",
       "Oceania                          18.286749\n",
       "South America                    13.385746"
      ]
     },
     "execution_count": 81,
     "metadata": {},
     "output_type": "execute_result"
    }
   ],
   "source": [
    "mental_health_by_continent_mean=gdp_and_life_expectancy_df.groupby(\"Continent\")[[\"Mental Health Disorders (%)\"]].mean()\n",
    "mental_health_by_continent_mean"
   ]
  },
  {
   "cell_type": "code",
   "execution_count": 82,
   "metadata": {
    "scrolled": false
   },
   "outputs": [
    {
     "name": "stdout",
     "output_type": "stream",
     "text": [
      "The r-value is: 0.007723890876234616\n"
     ]
    },
    {
     "data": {
      "image/png": "[encoded data removed]",
      "text/plain": [
       "<Figure size 432x288 with 1 Axes>"
      ]
     },
     "metadata": {
      "needs_background": "light"
     },
     "output_type": "display_data"
    }
   ],
   "source": [
    "x_values=gdp_and_life_expectancy_df['Alcohol Consumption Per Capita (Liters)']\n",
    "y_values=gdp_and_life_expectancy_df['Mental Health Disorders (%)']\n",
    "plot_linear_regression(x_values,y_values,'Mental Health Disorders (%)',(6,14))"
   ]
  },
  {
   "cell_type": "code",
   "execution_count": 88,
   "metadata": {},
   "outputs": [
    {
     "data": {
      "text/plain": [
       "<matplotlib.axes._subplots.AxesSubplot at 0x7ff2f6dad070>"
      ]
     },
     "execution_count": 88,
     "metadata": {},
     "output_type": "execute_result"
    },
    {
     "data": {
      "image/png": "[encoded data removed]",
      "text/plain": [
       "<Figure size 1440x720 with 1 Axes>"
      ]
     },
     "metadata": {
      "needs_background": "light"
     },
     "output_type": "display_data"
    }
   ],
   "source": [
    "gdp_and_life_expectancy_df.boxplot(\"Mental Health Disorders (%)\", by=\"Continent\", figsize=(20, 10), flierprops=dict(markerfacecolor='red', markersize=10))"
   ]
  },
  {
   "cell_type": "markdown",
   "metadata": {},
   "source": [
    "## Looking at correlations between Wine Consumption and GDP, Life Expectancy, Happiness Score and Mental Health in Europe"
   ]
  },
  {
   "cell_type": "code",
   "execution_count": 94,
   "metadata": {
    "scrolled": true
   },
   "outputs": [
    {
     "data": {
      "text/html": [
       "<div>\n",
       "<style scoped>\n",
       "    .dataframe tbody tr th:only-of-type {\n",
       "        vertical-align: middle;\n",
       "    }\n",
       "\n",
       "    .dataframe tbody tr th {\n",
       "        vertical-align: top;\n",
       "    }\n",
       "\n",
       "    .dataframe thead th {\n",
       "        text-align: right;\n",
       "    }\n",
       "</style>\n",
       "<table border=\"1\" class=\"dataframe\">\n",
       "  <thead>\n",
       "    <tr style=\"text-align: right;\">\n",
       "      <th></th>\n",
       "      <th>Continent</th>\n",
       "      <th>Country Code</th>\n",
       "      <th>Country</th>\n",
       "      <th>Alcohol Consumption Per Capita (Liters)</th>\n",
       "      <th>Climate</th>\n",
       "      <th>Region</th>\n",
       "      <th>Happiness Score</th>\n",
       "      <th>Life Expectancy</th>\n",
       "      <th>GDP per capita</th>\n",
       "      <th>Mental Health Disorders (%)</th>\n",
       "      <th>Wine Consumption per capita (Liters)</th>\n",
       "    </tr>\n",
       "  </thead>\n",
       "  <tbody>\n",
       "    <tr>\n",
       "      <th>161</th>\n",
       "      <td>Europe</td>\n",
       "      <td>CHE</td>\n",
       "      <td>Switzerland</td>\n",
       "      <td>11.5</td>\n",
       "      <td>temperate, but varies with altitude; cold, clo...</td>\n",
       "      <td>Western Europe</td>\n",
       "      <td>7.5599</td>\n",
       "      <td>74.102448</td>\n",
       "      <td>10.979933</td>\n",
       "      <td>15.221312</td>\n",
       "      <td>4.57</td>\n",
       "    </tr>\n",
       "    <tr>\n",
       "      <th>73</th>\n",
       "      <td>Europe</td>\n",
       "      <td>HUN</td>\n",
       "      <td>Hungary</td>\n",
       "      <td>11.4</td>\n",
       "      <td>temperate; cold, cloudy, humid winters; warm s...</td>\n",
       "      <td>Central and Eastern Europe</td>\n",
       "      <td>6.0004</td>\n",
       "      <td>67.609970</td>\n",
       "      <td>10.249244</td>\n",
       "      <td>11.758843</td>\n",
       "      <td>3.35</td>\n",
       "    </tr>\n",
       "    <tr>\n",
       "      <th>124</th>\n",
       "      <td>Europe</td>\n",
       "      <td>NOR</td>\n",
       "      <td>Norway</td>\n",
       "      <td>7.5</td>\n",
       "      <td>temperate along coast, modified by North Atlan...</td>\n",
       "      <td>Western Europe</td>\n",
       "      <td>7.4880</td>\n",
       "      <td>73.200783</td>\n",
       "      <td>11.087804</td>\n",
       "      <td>16.368074</td>\n",
       "      <td>2.22</td>\n",
       "    </tr>\n",
       "    <tr>\n",
       "      <th>55</th>\n",
       "      <td>Europe</td>\n",
       "      <td>EST</td>\n",
       "      <td>Estonia</td>\n",
       "      <td>11.6</td>\n",
       "      <td>maritime; wet, moderate winters, cool summers</td>\n",
       "      <td>Central and Eastern Europe</td>\n",
       "      <td>6.0218</td>\n",
       "      <td>68.604958</td>\n",
       "      <td>10.340017</td>\n",
       "      <td>12.616894</td>\n",
       "      <td>1.65</td>\n",
       "    </tr>\n",
       "    <tr>\n",
       "      <th>99</th>\n",
       "      <td>Europe</td>\n",
       "      <td>LUX</td>\n",
       "      <td>Luxembourg</td>\n",
       "      <td>13.0</td>\n",
       "      <td>modified continental with mild winters, cool s...</td>\n",
       "      <td>Western Europe</td>\n",
       "      <td>7.2375</td>\n",
       "      <td>72.599998</td>\n",
       "      <td>11.450681</td>\n",
       "      <td>14.964661</td>\n",
       "      <td>4.75</td>\n",
       "    </tr>\n",
       "  </tbody>\n",
       "</table>\n",
       "</div>"
      ],
      "text/plain": [
       "    Continent Country Code      Country  \\\n",
       "161    Europe          CHE  Switzerland   \n",
       "73     Europe          HUN      Hungary   \n",
       "124    Europe          NOR       Norway   \n",
       "55     Europe          EST      Estonia   \n",
       "99     Europe          LUX   Luxembourg   \n",
       "\n",
       "     Alcohol Consumption Per Capita (Liters)  \\\n",
       "161                                     11.5   \n",
       "73                                      11.4   \n",
       "124                                      7.5   \n",
       "55                                      11.6   \n",
       "99                                      13.0   \n",
       "\n",
       "                                               Climate  \\\n",
       "161  temperate, but varies with altitude; cold, clo...   \n",
       "73   temperate; cold, cloudy, humid winters; warm s...   \n",
       "124  temperate along coast, modified by North Atlan...   \n",
       "55       maritime; wet, moderate winters, cool summers   \n",
       "99   modified continental with mild winters, cool s...   \n",
       "\n",
       "                         Region  Happiness Score  Life Expectancy  \\\n",
       "161              Western Europe           7.5599        74.102448   \n",
       "73   Central and Eastern Europe           6.0004        67.609970   \n",
       "124              Western Europe           7.4880        73.200783   \n",
       "55   Central and Eastern Europe           6.0218        68.604958   \n",
       "99               Western Europe           7.2375        72.599998   \n",
       "\n",
       "     GDP per capita  Mental Health Disorders (%)  \\\n",
       "161       10.979933                    15.221312   \n",
       "73        10.249244                    11.758843   \n",
       "124       11.087804                    16.368074   \n",
       "55        10.340017                    12.616894   \n",
       "99        11.450681                    14.964661   \n",
       "\n",
       "     Wine Consumption per capita (Liters)  \n",
       "161                                  4.57  \n",
       "73                                   3.35  \n",
       "124                                  2.22  \n",
       "55                                   1.65  \n",
       "99                                   4.75  "
      ]
     },
     "execution_count": 94,
     "metadata": {},
     "output_type": "execute_result"
    }
   ],
   "source": [
    "only_europe_data = gdp_and_life_expectancy_df.loc[(gdp_and_life_expectancy_df[\"Continent\"]==\"Europe\")]\n",
    "only_europe_data.sample(5)"
   ]
  },
  {
   "cell_type": "code",
   "execution_count": 90,
   "metadata": {},
   "outputs": [
    {
     "data": {
      "text/html": [
       "<div>\n",
       "<style scoped>\n",
       "    .dataframe tbody tr th:only-of-type {\n",
       "        vertical-align: middle;\n",
       "    }\n",
       "\n",
       "    .dataframe tbody tr th {\n",
       "        vertical-align: top;\n",
       "    }\n",
       "\n",
       "    .dataframe thead th {\n",
       "        text-align: right;\n",
       "    }\n",
       "</style>\n",
       "<table border=\"1\" class=\"dataframe\">\n",
       "  <thead>\n",
       "    <tr style=\"text-align: right;\">\n",
       "      <th></th>\n",
       "      <th>Alcohol Consumption Per Capita (Liters)</th>\n",
       "      <th>Happiness Score</th>\n",
       "      <th>Life Expectancy</th>\n",
       "      <th>GDP per capita</th>\n",
       "      <th>Mental Health Disorders (%)</th>\n",
       "      <th>Wine Consumption per capita (Liters)</th>\n",
       "    </tr>\n",
       "  </thead>\n",
       "  <tbody>\n",
       "    <tr>\n",
       "      <th>count</th>\n",
       "      <td>43.000000</td>\n",
       "      <td>43.000000</td>\n",
       "      <td>43.000000</td>\n",
       "      <td>43.000000</td>\n",
       "      <td>43.000000</td>\n",
       "      <td>43.000000</td>\n",
       "    </tr>\n",
       "    <tr>\n",
       "      <th>mean</th>\n",
       "      <td>10.223256</td>\n",
       "      <td>6.231049</td>\n",
       "      <td>69.805096</td>\n",
       "      <td>10.243561</td>\n",
       "      <td>13.324556</td>\n",
       "      <td>2.828140</td>\n",
       "    </tr>\n",
       "    <tr>\n",
       "      <th>std</th>\n",
       "      <td>2.960360</td>\n",
       "      <td>0.904860</td>\n",
       "      <td>3.198465</td>\n",
       "      <td>0.591456</td>\n",
       "      <td>1.994888</td>\n",
       "      <td>1.787353</td>\n",
       "    </tr>\n",
       "    <tr>\n",
       "      <th>min</th>\n",
       "      <td>0.800000</td>\n",
       "      <td>4.560700</td>\n",
       "      <td>64.100456</td>\n",
       "      <td>8.776714</td>\n",
       "      <td>10.495815</td>\n",
       "      <td>0.130000</td>\n",
       "    </tr>\n",
       "    <tr>\n",
       "      <th>25%</th>\n",
       "      <td>8.650000</td>\n",
       "      <td>5.546050</td>\n",
       "      <td>67.055027</td>\n",
       "      <td>9.970097</td>\n",
       "      <td>11.573121</td>\n",
       "      <td>1.320000</td>\n",
       "    </tr>\n",
       "    <tr>\n",
       "      <th>50%</th>\n",
       "      <td>11.100000</td>\n",
       "      <td>6.159000</td>\n",
       "      <td>70.214905</td>\n",
       "      <td>10.340017</td>\n",
       "      <td>12.616894</td>\n",
       "      <td>2.870000</td>\n",
       "    </tr>\n",
       "    <tr>\n",
       "      <th>75%</th>\n",
       "      <td>12.200000</td>\n",
       "      <td>7.084750</td>\n",
       "      <td>72.403881</td>\n",
       "      <td>10.656453</td>\n",
       "      <td>15.182889</td>\n",
       "      <td>4.260000</td>\n",
       "    </tr>\n",
       "    <tr>\n",
       "      <th>max</th>\n",
       "      <td>15.200000</td>\n",
       "      <td>7.808700</td>\n",
       "      <td>74.402710</td>\n",
       "      <td>11.450681</td>\n",
       "      <td>16.640201</td>\n",
       "      <td>6.400000</td>\n",
       "    </tr>\n",
       "  </tbody>\n",
       "</table>\n",
       "</div>"
      ],
      "text/plain": [
       "       Alcohol Consumption Per Capita (Liters)  Happiness Score  \\\n",
       "count                                43.000000        43.000000   \n",
       "mean                                 10.223256         6.231049   \n",
       "std                                   2.960360         0.904860   \n",
       "min                                   0.800000         4.560700   \n",
       "25%                                   8.650000         5.546050   \n",
       "50%                                  11.100000         6.159000   \n",
       "75%                                  12.200000         7.084750   \n",
       "max                                  15.200000         7.808700   \n",
       "\n",
       "       Life Expectancy  GDP per capita  Mental Health Disorders (%)  \\\n",
       "count        43.000000       43.000000                    43.000000   \n",
       "mean         69.805096       10.243561                    13.324556   \n",
       "std           3.198465        0.591456                     1.994888   \n",
       "min          64.100456        8.776714                    10.495815   \n",
       "25%          67.055027        9.970097                    11.573121   \n",
       "50%          70.214905       10.340017                    12.616894   \n",
       "75%          72.403881       10.656453                    15.182889   \n",
       "max          74.402710       11.450681                    16.640201   \n",
       "\n",
       "       Wine Consumption per capita (Liters)  \n",
       "count                             43.000000  \n",
       "mean                               2.828140  \n",
       "std                                1.787353  \n",
       "min                                0.130000  \n",
       "25%                                1.320000  \n",
       "50%                                2.870000  \n",
       "75%                                4.260000  \n",
       "max                                6.400000  "
      ]
     },
     "execution_count": 90,
     "metadata": {},
     "output_type": "execute_result"
    }
   ],
   "source": [
    "only_europe_data.describe()"
   ]
  },
  {
   "cell_type": "code",
   "execution_count": 91,
   "metadata": {},
   "outputs": [],
   "source": [
    "def plot_wine_linear_regression(x_values, y_values, title, text_coordinates):\n",
    "    (slope, intercept, rvalue, pvalue, stderr) = linregress(x_values, y_values)\n",
    "    regress_values = x_values * slope + intercept\n",
    "    line_eq = \"y = \" + str(round(slope,2)) + \"x + \" + str(round(intercept,2))\n",
    "    plt.scatter(x_values, y_values, edgecolors='k')\n",
    "    plt.plot(x_values,regress_values, \"r-\")\n",
    "    plt.xlabel('Wine Consumption Per Capita (Liters)')\n",
    "    plt.ylabel(title)\n",
    "    plt.annotate(line_eq,text_coordinates,fontsize=15,color=\"red\")\n",
    "    print(f\"The r-value is: {rvalue**2}\")\n",
    "    plt.show()"
   ]
  },
  {
   "cell_type": "code",
   "execution_count": 96,
   "metadata": {},
   "outputs": [
    {
     "name": "stdout",
     "output_type": "stream",
     "text": [
      "The r-value is: 0.09271745557343575\n"
     ]
    },
    {
     "data": {
      "image/png": "[encoded data removed]",
      "text/plain": [
       "<Figure size 432x288 with 1 Axes>"
      ]
     },
     "metadata": {
      "needs_background": "light"
     },
     "output_type": "display_data"
    }
   ],
   "source": [
    "x_values=only_europe_data['Alcohol Consumption Per Capita (Liters)']\n",
    "y_values=only_europe_data['Happiness Score']\n",
    "plot_linear_regression(x_values,y_values,'Happiness Score',(6,7))"
   ]
  },
  {
   "cell_type": "code",
   "execution_count": 93,
   "metadata": {},
   "outputs": [
    {
     "name": "stdout",
     "output_type": "stream",
     "text": [
      "The r-value is: 0.12392540422792007\n"
     ]
    },
    {
     "data": {
      "image/png": "[encoded data removed]",
      "text/plain": [
       "<Figure size 432x288 with 1 Axes>"
      ]
     },
     "metadata": {
      "needs_background": "light"
     },
     "output_type": "display_data"
    }
   ],
   "source": [
    "x_values=only_europe_data['Wine Consumption per capita (Liters)']\n",
    "y_values=only_europe_data['GDP per capita']\n",
    "plot_wine_linear_regression(x_values,y_values,'GDP per capita',(2,10))"
   ]
  },
  {
   "cell_type": "code",
   "execution_count": 381,
   "metadata": {
    "scrolled": true
   },
   "outputs": [
    {
     "name": "stdout",
     "output_type": "stream",
     "text": [
      "The r-value is: 0.31563005361696045\n"
     ]
    },
    {
     "data": {
      "image/png": "[encoded data removed]",
      "text/plain": [
       "<Figure size 432x288 with 1 Axes>"
      ]
     },
     "metadata": {
      "needs_background": "light"
     },
     "output_type": "display_data"
    }
   ],
   "source": [
    "x_values=merged_with_wine_europe_df['Wine Consumption at Latest Timepoint(L)']\n",
    "y_values=merged_with_wine_europe_df['Life Expectancy']\n",
    "plot_wine_linear_regression(x_values,y_values,'Life Expectancy',(2,68))"
   ]
  },
  {
   "cell_type": "code",
   "execution_count": 352,
   "metadata": {
    "scrolled": true
   },
   "outputs": [
    {
     "name": "stdout",
     "output_type": "stream",
     "text": [
      "The r-value is: 0.27600880504650505\n"
     ]
    },
    {
     "data": {
      "image/png": "[encoded data removed]",
      "text/plain": [
       "<Figure size 432x288 with 1 Axes>"
      ]
     },
     "metadata": {
      "needs_background": "light"
     },
     "output_type": "display_data"
    }
   ],
   "source": [
    "x_values=merged_with_wine_europe_df['Wine Consumption at Latest Timepoint(L)']\n",
    "y_values=merged_with_wine_europe_df['Happiness Score']\n",
    "plot_wine_linear_regression(x_values,y_values,'Happiness Score',(2,5))"
   ]
  },
  {
   "cell_type": "code",
   "execution_count": 354,
   "metadata": {
    "scrolled": true
   },
   "outputs": [
    {
     "name": "stdout",
     "output_type": "stream",
     "text": [
      "The r-value is: 0.10099913915868275\n"
     ]
    },
    {
     "data": {
      "image/png": "[encoded data removed]",
      "text/plain": [
       "<Figure size 432x288 with 1 Axes>"
      ]
     },
     "metadata": {
      "needs_background": "light"
     },
     "output_type": "display_data"
    }
   ],
   "source": [
    "x_values=merged_with_wine_europe_df['Wine Consumption at Latest Timepoint(L)']\n",
    "y_values=merged_with_wine_europe_df['Mental Health Disorders (%)']\n",
    "plot_wine_linear_regression(x_values,y_values,'Mental Health Disorders (%)',(2,16))"
   ]
  },
  {
   "cell_type": "code",
   "execution_count": 382,
   "metadata": {},
   "outputs": [],
   "source": [
    "def plot_social_linear_regression(x_values, y_values, title, text_coordinates):\n",
    "    (slope, intercept, rvalue, pvalue, stderr) = linregress(x_values, y_values)\n",
    "    regress_values = x_values * slope + intercept\n",
    "    line_eq = \"y = \" + str(round(slope,2)) + \"x + \" + str(round(intercept,2))\n",
    "    plt.scatter(x_values, y_values, edgecolors='k')\n",
    "    plt.plot(x_values,regress_values, \"r-\")\n",
    "    plt.xlabel(title)\n",
    "    plt.ylabel('Wine Consumption Per Capita (Liters)')\n",
    "    plt.annotate(line_eq,text_coordinates,fontsize=15,color=\"red\")\n",
    "    print(f\"The r-value is: {rvalue**2}\")\n",
    "    plt.show()"
   ]
  },
  {
   "cell_type": "code",
   "execution_count": 388,
   "metadata": {},
   "outputs": [
    {
     "name": "stdout",
     "output_type": "stream",
     "text": [
      "The r-value is: 0.12392540422792007\n"
     ]
    },
    {
     "data": {
      "image/png": "[encoded data removed]",
      "text/plain": [
       "<Figure size 432x288 with 1 Axes>"
      ]
     },
     "metadata": {
      "needs_background": "light"
     },
     "output_type": "display_data"
    }
   ],
   "source": [
    "x_values=merged_with_wine_europe_df['GDP per capita']\n",
    "y_values=merged_with_wine_europe_df['Wine Consumption at Latest Timepoint(L)']\n",
    "plot_social_linear_regression(x_values,y_values,'GDP per capita',(9,4))"
   ]
  },
  {
   "cell_type": "code",
   "execution_count": 390,
   "metadata": {},
   "outputs": [
    {
     "name": "stdout",
     "output_type": "stream",
     "text": [
      "The r-value is: 0.31563005361696045\n"
     ]
    },
    {
     "data": {
      "image/png": "[encoded data removed]",
      "text/plain": [
       "<Figure size 432x288 with 1 Axes>"
      ]
     },
     "metadata": {
      "needs_background": "light"
     },
     "output_type": "display_data"
    }
   ],
   "source": [
    "x_values=merged_with_wine_europe_df['Life Expectancy']\n",
    "y_values=merged_with_wine_europe_df['Wine Consumption at Latest Timepoint(L)']\n",
    "plot_social_linear_regression(x_values,y_values,'Life Expectancy',(68,4))"
   ]
  },
  {
   "cell_type": "code",
   "execution_count": 392,
   "metadata": {
    "scrolled": true
   },
   "outputs": [
    {
     "name": "stdout",
     "output_type": "stream",
     "text": [
      "The r-value is: 0.14178448062606994\n"
     ]
    },
    {
     "data": {
      "image/png": "[encoded data removed]",
      "text/plain": [
       "<Figure size 432x288 with 1 Axes>"
      ]
     },
     "metadata": {
      "needs_background": "light"
     },
     "output_type": "display_data"
    }
   ],
   "source": [
    "x_values=merged_with_wine_europe_df['Happiness Score']\n",
    "y_values=merged_with_wine_europe_df['Wine Consumption at Latest Timepoint(L)']\n",
    "plot_social_linear_regression(x_values,y_values,'Happiness Score',(6,4))"
   ]
  },
  {
   "cell_type": "code",
   "execution_count": 28,
   "metadata": {},
   "outputs": [
    {
     "ename": "NameError",
     "evalue": "name 'merged_with_wine_europe_df' is not defined",
     "output_type": "error",
     "traceback": [
      "\u001b[0;31m---------------------------------------------------------------------------\u001b[0m",
      "\u001b[0;31mNameError\u001b[0m                                 Traceback (most recent call last)",
      "\u001b[0;32m<ipython-input-28-8f6ce50a0977>\u001b[0m in \u001b[0;36m<module>\u001b[0;34m\u001b[0m\n\u001b[0;32m----> 1\u001b[0;31m \u001b[0mx_values\u001b[0m\u001b[0;34m=\u001b[0m\u001b[0mmerged_with_wine_europe_df\u001b[0m\u001b[0;34m[\u001b[0m\u001b[0;34m'Mental Health Disorders (%)'\u001b[0m\u001b[0;34m]\u001b[0m\u001b[0;34m\u001b[0m\u001b[0;34m\u001b[0m\u001b[0m\n\u001b[0m\u001b[1;32m      2\u001b[0m \u001b[0my_values\u001b[0m\u001b[0;34m=\u001b[0m\u001b[0mmerged_with_wine_europe_df\u001b[0m\u001b[0;34m[\u001b[0m\u001b[0;34m'Wine Consumption at Latest Timepoint(L)'\u001b[0m\u001b[0;34m]\u001b[0m\u001b[0;34m\u001b[0m\u001b[0;34m\u001b[0m\u001b[0m\n\u001b[1;32m      3\u001b[0m \u001b[0mplot_social_linear_regression\u001b[0m\u001b[0;34m(\u001b[0m\u001b[0mx_values\u001b[0m\u001b[0;34m,\u001b[0m\u001b[0my_values\u001b[0m\u001b[0;34m,\u001b[0m\u001b[0;34m'Mental Health Disorders (%)'\u001b[0m\u001b[0;34m,\u001b[0m\u001b[0;34m(\u001b[0m\u001b[0;36m12\u001b[0m\u001b[0;34m,\u001b[0m\u001b[0;36m4\u001b[0m\u001b[0;34m)\u001b[0m\u001b[0;34m)\u001b[0m\u001b[0;34m\u001b[0m\u001b[0;34m\u001b[0m\u001b[0m\n",
      "\u001b[0;31mNameError\u001b[0m: name 'merged_with_wine_europe_df' is not defined"
     ]
    }
   ],
   "source": [
    "x_values=merged_with_wine_europe_df['Mental Health Disorders (%)']\n",
    "y_values=merged_with_wine_europe_df['Wine Consumption at Latest Timepoint(L)']\n",
    "plot_social_linear_regression(x_values,y_values,'Mental Health Disorders (%)',(12,4))"
   ]
  },
  {
   "cell_type": "code",
   "execution_count": 395,
   "metadata": {},
   "outputs": [
    {
     "data": {
      "text/html": [
       "<div>\n",
       "<style scoped>\n",
       "    .dataframe tbody tr th:only-of-type {\n",
       "        vertical-align: middle;\n",
       "    }\n",
       "\n",
       "    .dataframe tbody tr th {\n",
       "        vertical-align: top;\n",
       "    }\n",
       "\n",
       "    .dataframe thead th {\n",
       "        text-align: right;\n",
       "    }\n",
       "</style>\n",
       "<table border=\"1\" class=\"dataframe\">\n",
       "  <thead>\n",
       "    <tr style=\"text-align: right;\">\n",
       "      <th></th>\n",
       "      <th>Continent</th>\n",
       "      <th>Country Code</th>\n",
       "      <th>Country</th>\n",
       "      <th>Alcohol Consumption Per Capita (Liters)</th>\n",
       "      <th>Climate</th>\n",
       "      <th>Main Industry</th>\n",
       "      <th>Region</th>\n",
       "      <th>Happiness Score</th>\n",
       "      <th>Life Expectancy</th>\n",
       "      <th>GDP per capita</th>\n",
       "      <th>Mental Health Disorders (%)</th>\n",
       "      <th>Latest Year for Wine Consumption Data</th>\n",
       "      <th>Wine Consumption at Latest Timepoint(L)</th>\n",
       "      <th>Wine Consumption Average Over The Years(L)</th>\n",
       "    </tr>\n",
       "  </thead>\n",
       "  <tbody>\n",
       "    <tr>\n",
       "      <th>0</th>\n",
       "      <td>Asia</td>\n",
       "      <td>AFG</td>\n",
       "      <td>Afghanistan</td>\n",
       "      <td>0.2</td>\n",
       "      <td>arid to semiarid; cold winters and hot summers</td>\n",
       "      <td>small-scale production of bricks</td>\n",
       "      <td>South Asia</td>\n",
       "      <td>2.5669</td>\n",
       "      <td>52.590000</td>\n",
       "      <td>7.462861</td>\n",
       "      <td>17.553463</td>\n",
       "      <td>2013</td>\n",
       "      <td>0.00</td>\n",
       "      <td>0.000377</td>\n",
       "    </tr>\n",
       "    <tr>\n",
       "      <th>1</th>\n",
       "      <td>Europe</td>\n",
       "      <td>ALB</td>\n",
       "      <td>Albania</td>\n",
       "      <td>7.5</td>\n",
       "      <td>mild temperate; cool, cloudy, wet winters; hot...</td>\n",
       "      <td>perfumes and cosmetic products</td>\n",
       "      <td>Central and Eastern Europe</td>\n",
       "      <td>4.8827</td>\n",
       "      <td>68.708138</td>\n",
       "      <td>9.417931</td>\n",
       "      <td>10.987610</td>\n",
       "      <td>2014</td>\n",
       "      <td>1.14</td>\n",
       "      <td>0.601698</td>\n",
       "    </tr>\n",
       "    <tr>\n",
       "      <th>2</th>\n",
       "      <td>Africa</td>\n",
       "      <td>DZA</td>\n",
       "      <td>Algeria</td>\n",
       "      <td>0.9</td>\n",
       "      <td>arid to semiarid; mild, wet winters with hot, ...</td>\n",
       "      <td>petroleum</td>\n",
       "      <td>Middle East and North Africa</td>\n",
       "      <td>5.0051</td>\n",
       "      <td>65.905174</td>\n",
       "      <td>9.537965</td>\n",
       "      <td>14.700388</td>\n",
       "      <td>2013</td>\n",
       "      <td>0.22</td>\n",
       "      <td>0.429245</td>\n",
       "    </tr>\n",
       "    <tr>\n",
       "      <th>3</th>\n",
       "      <td>Europe</td>\n",
       "      <td>AZE</td>\n",
       "      <td>Azerbaijan</td>\n",
       "      <td>0.8</td>\n",
       "      <td>dry, semiarid steppe</td>\n",
       "      <td>petroleum and natural gas</td>\n",
       "      <td>Commonwealth of Independent States</td>\n",
       "      <td>5.1648</td>\n",
       "      <td>65.508400</td>\n",
       "      <td>9.687727</td>\n",
       "      <td>10.495815</td>\n",
       "      <td>2013</td>\n",
       "      <td>0.23</td>\n",
       "      <td>0.459167</td>\n",
       "    </tr>\n",
       "    <tr>\n",
       "      <th>4</th>\n",
       "      <td>South America</td>\n",
       "      <td>ARG</td>\n",
       "      <td>Argentina</td>\n",
       "      <td>9.8</td>\n",
       "      <td>mostly temperate; arid in southeast; subantarc...</td>\n",
       "      <td>food processing</td>\n",
       "      <td>Latin America and Caribbean</td>\n",
       "      <td>5.9747</td>\n",
       "      <td>68.803802</td>\n",
       "      <td>9.810955</td>\n",
       "      <td>15.491235</td>\n",
       "      <td>2014</td>\n",
       "      <td>3.22</td>\n",
       "      <td>9.673333</td>\n",
       "    </tr>\n",
       "  </tbody>\n",
       "</table>\n",
       "</div>"
      ],
      "text/plain": [
       "       Continent Country Code      Country  \\\n",
       "0           Asia          AFG  Afghanistan   \n",
       "1         Europe          ALB      Albania   \n",
       "2         Africa          DZA      Algeria   \n",
       "3         Europe          AZE   Azerbaijan   \n",
       "4  South America          ARG    Argentina   \n",
       "\n",
       "   Alcohol Consumption Per Capita (Liters)  \\\n",
       "0                                      0.2   \n",
       "1                                      7.5   \n",
       "2                                      0.9   \n",
       "3                                      0.8   \n",
       "4                                      9.8   \n",
       "\n",
       "                                             Climate  \\\n",
       "0     arid to semiarid; cold winters and hot summers   \n",
       "1  mild temperate; cool, cloudy, wet winters; hot...   \n",
       "2  arid to semiarid; mild, wet winters with hot, ...   \n",
       "3                               dry, semiarid steppe   \n",
       "4  mostly temperate; arid in southeast; subantarc...   \n",
       "\n",
       "                      Main Industry                              Region  \\\n",
       "0  small-scale production of bricks                          South Asia   \n",
       "1    perfumes and cosmetic products          Central and Eastern Europe   \n",
       "2                         petroleum        Middle East and North Africa   \n",
       "3         petroleum and natural gas  Commonwealth of Independent States   \n",
       "4                   food processing         Latin America and Caribbean   \n",
       "\n",
       "   Happiness Score  Life Expectancy  GDP per capita  \\\n",
       "0           2.5669        52.590000        7.462861   \n",
       "1           4.8827        68.708138        9.417931   \n",
       "2           5.0051        65.905174        9.537965   \n",
       "3           5.1648        65.508400        9.687727   \n",
       "4           5.9747        68.803802        9.810955   \n",
       "\n",
       "   Mental Health Disorders (%)  Latest Year for Wine Consumption Data  \\\n",
       "0                    17.553463                                   2013   \n",
       "1                    10.987610                                   2014   \n",
       "2                    14.700388                                   2013   \n",
       "3                    10.495815                                   2013   \n",
       "4                    15.491235                                   2014   \n",
       "\n",
       "   Wine Consumption at Latest Timepoint(L)  \\\n",
       "0                                     0.00   \n",
       "1                                     1.14   \n",
       "2                                     0.22   \n",
       "3                                     0.23   \n",
       "4                                     3.22   \n",
       "\n",
       "   Wine Consumption Average Over The Years(L)  \n",
       "0                                    0.000377  \n",
       "1                                    0.601698  \n",
       "2                                    0.429245  \n",
       "3                                    0.459167  \n",
       "4                                    9.673333  "
      ]
     },
     "execution_count": 395,
     "metadata": {},
     "output_type": "execute_result"
    }
   ],
   "source": [
    "merged_with_wine_nonull_df.head()"
   ]
  },
  {
   "cell_type": "code",
   "execution_count": 399,
   "metadata": {},
   "outputs": [
    {
     "data": {
      "text/html": [
       "<div>\n",
       "<style scoped>\n",
       "    .dataframe tbody tr th:only-of-type {\n",
       "        vertical-align: middle;\n",
       "    }\n",
       "\n",
       "    .dataframe tbody tr th {\n",
       "        vertical-align: top;\n",
       "    }\n",
       "\n",
       "    .dataframe thead th {\n",
       "        text-align: right;\n",
       "    }\n",
       "</style>\n",
       "<table border=\"1\" class=\"dataframe\">\n",
       "  <thead>\n",
       "    <tr style=\"text-align: right;\">\n",
       "      <th></th>\n",
       "      <th>Continent</th>\n",
       "      <th>Country Code</th>\n",
       "      <th>Country</th>\n",
       "      <th>Alcohol Consumption Per Capita (Liters)</th>\n",
       "      <th>Climate</th>\n",
       "      <th>Main Industry</th>\n",
       "      <th>Region</th>\n",
       "      <th>Happiness Score</th>\n",
       "      <th>Life Expectancy</th>\n",
       "      <th>GDP per capita</th>\n",
       "      <th>Mental Health Disorders (%)</th>\n",
       "      <th>Wine Consumption per capita (Liters)</th>\n",
       "    </tr>\n",
       "  </thead>\n",
       "  <tbody>\n",
       "    <tr>\n",
       "      <th>0</th>\n",
       "      <td>Asia</td>\n",
       "      <td>AFG</td>\n",
       "      <td>Afghanistan</td>\n",
       "      <td>0.2</td>\n",
       "      <td>arid to semiarid; cold winters and hot summers</td>\n",
       "      <td>small-scale production of bricks</td>\n",
       "      <td>South Asia</td>\n",
       "      <td>2.5669</td>\n",
       "      <td>52.590000</td>\n",
       "      <td>7.462861</td>\n",
       "      <td>17.553463</td>\n",
       "      <td>0.00</td>\n",
       "    </tr>\n",
       "    <tr>\n",
       "      <th>1</th>\n",
       "      <td>Europe</td>\n",
       "      <td>ALB</td>\n",
       "      <td>Albania</td>\n",
       "      <td>7.5</td>\n",
       "      <td>mild temperate; cool, cloudy, wet winters; hot...</td>\n",
       "      <td>perfumes and cosmetic products</td>\n",
       "      <td>Central and Eastern Europe</td>\n",
       "      <td>4.8827</td>\n",
       "      <td>68.708138</td>\n",
       "      <td>9.417931</td>\n",
       "      <td>10.987610</td>\n",
       "      <td>1.14</td>\n",
       "    </tr>\n",
       "    <tr>\n",
       "      <th>2</th>\n",
       "      <td>Africa</td>\n",
       "      <td>DZA</td>\n",
       "      <td>Algeria</td>\n",
       "      <td>0.9</td>\n",
       "      <td>arid to semiarid; mild, wet winters with hot, ...</td>\n",
       "      <td>petroleum</td>\n",
       "      <td>Middle East and North Africa</td>\n",
       "      <td>5.0051</td>\n",
       "      <td>65.905174</td>\n",
       "      <td>9.537965</td>\n",
       "      <td>14.700388</td>\n",
       "      <td>0.22</td>\n",
       "    </tr>\n",
       "    <tr>\n",
       "      <th>3</th>\n",
       "      <td>Europe</td>\n",
       "      <td>AZE</td>\n",
       "      <td>Azerbaijan</td>\n",
       "      <td>0.8</td>\n",
       "      <td>dry, semiarid steppe</td>\n",
       "      <td>petroleum and natural gas</td>\n",
       "      <td>Commonwealth of Independent States</td>\n",
       "      <td>5.1648</td>\n",
       "      <td>65.508400</td>\n",
       "      <td>9.687727</td>\n",
       "      <td>10.495815</td>\n",
       "      <td>0.23</td>\n",
       "    </tr>\n",
       "    <tr>\n",
       "      <th>4</th>\n",
       "      <td>South America</td>\n",
       "      <td>ARG</td>\n",
       "      <td>Argentina</td>\n",
       "      <td>9.8</td>\n",
       "      <td>mostly temperate; arid in southeast; subantarc...</td>\n",
       "      <td>food processing</td>\n",
       "      <td>Latin America and Caribbean</td>\n",
       "      <td>5.9747</td>\n",
       "      <td>68.803802</td>\n",
       "      <td>9.810955</td>\n",
       "      <td>15.491235</td>\n",
       "      <td>3.22</td>\n",
       "    </tr>\n",
       "  </tbody>\n",
       "</table>\n",
       "</div>"
      ],
      "text/plain": [
       "       Continent Country Code      Country  \\\n",
       "0           Asia          AFG  Afghanistan   \n",
       "1         Europe          ALB      Albania   \n",
       "2         Africa          DZA      Algeria   \n",
       "3         Europe          AZE   Azerbaijan   \n",
       "4  South America          ARG    Argentina   \n",
       "\n",
       "   Alcohol Consumption Per Capita (Liters)  \\\n",
       "0                                      0.2   \n",
       "1                                      7.5   \n",
       "2                                      0.9   \n",
       "3                                      0.8   \n",
       "4                                      9.8   \n",
       "\n",
       "                                             Climate  \\\n",
       "0     arid to semiarid; cold winters and hot summers   \n",
       "1  mild temperate; cool, cloudy, wet winters; hot...   \n",
       "2  arid to semiarid; mild, wet winters with hot, ...   \n",
       "3                               dry, semiarid steppe   \n",
       "4  mostly temperate; arid in southeast; subantarc...   \n",
       "\n",
       "                      Main Industry                              Region  \\\n",
       "0  small-scale production of bricks                          South Asia   \n",
       "1    perfumes and cosmetic products          Central and Eastern Europe   \n",
       "2                         petroleum        Middle East and North Africa   \n",
       "3         petroleum and natural gas  Commonwealth of Independent States   \n",
       "4                   food processing         Latin America and Caribbean   \n",
       "\n",
       "   Happiness Score  Life Expectancy  GDP per capita  \\\n",
       "0           2.5669        52.590000        7.462861   \n",
       "1           4.8827        68.708138        9.417931   \n",
       "2           5.0051        65.905174        9.537965   \n",
       "3           5.1648        65.508400        9.687727   \n",
       "4           5.9747        68.803802        9.810955   \n",
       "\n",
       "   Mental Health Disorders (%)  Wine Consumption per capita (Liters)  \n",
       "0                    17.553463                                  0.00  \n",
       "1                    10.987610                                  1.14  \n",
       "2                    14.700388                                  0.22  \n",
       "3                    10.495815                                  0.23  \n",
       "4                    15.491235                                  3.22  "
      ]
     },
     "execution_count": 399,
     "metadata": {},
     "output_type": "execute_result"
    }
   ],
   "source": [
    "merged_with_wine_final_df=merged_with_wine_nonull_df.drop(['Latest Year for Wine Consumption Data', 'Wine Consumption Average Over The Years(L)'], axis=1)\n",
    "merged_with_wine_final_df.head()"
   ]
  },
  {
   "cell_type": "code",
   "execution_count": 401,
   "metadata": {},
   "outputs": [],
   "source": [
    "merged_with_wine_final_df.to_csv(\"merged_with_wine_final_df.csv\")"
   ]
  },
  {
   "cell_type": "code",
   "execution_count": null,
   "metadata": {},
   "outputs": [],
   "source": []
  }
 ],
 "metadata": {
  "kernelspec": {
   "display_name": "Python 3",
   "language": "python",
   "name": "python3"
  },
  "language_info": {
   "codemirror_mode": {
    "name": "ipython",
    "version": 3
   },
   "file_extension": ".py",
   "mimetype": "text/x-python",
   "name": "python",
   "nbconvert_exporter": "python",
   "pygments_lexer": "ipython3",
   "version": "3.8.3"
  }
 },
 "nbformat": 4,
 "nbformat_minor": 4
}
