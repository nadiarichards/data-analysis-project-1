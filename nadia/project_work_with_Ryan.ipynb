{
 "cells": [
  {
   "cell_type": "code",
   "execution_count": 117,
   "metadata": {},
   "outputs": [],
   "source": [
    "import matplotlib.pyplot as plt\n",
    "import pandas as pd\n",
    "import numpy as np\n",
    "import requests\n",
    "import time\n",
    "from scipy.stats import linregress\n",
    "import scipy.stats as stats\n",
    "import requests\n",
    "import gmaps\n",
    "import os"
   ]
  },
  {
   "cell_type": "code",
   "execution_count": 2,
   "metadata": {},
   "outputs": [],
   "source": [
    "wine_consumption_df = pd.read_csv(\"Resources/wine-consumption-per-person.csv\")\n",
    "wine_consumption_df=wine_consumption_df.rename(columns={\"Indicator:Alcohol, recorded per capita (15+) consumption (in litres of pure alcohol) - Beverage Types:Wine\":\"Wine Consumption per capita (Liters)\"})"
   ]
  },
  {
   "cell_type": "code",
   "execution_count": 3,
   "metadata": {},
   "outputs": [
    {
     "data": {
      "text/plain": [
       "186"
      ]
     },
     "execution_count": 3,
     "metadata": {},
     "output_type": "execute_result"
    }
   ],
   "source": [
    "#Cleaning up column names\n",
    "merged_df = pd.read_csv(\"Resources/mega_df.csv\")\n",
    "merged_df = merged_df.rename(columns={'continent':'Continent', 'country_code':'Country Code', 'country':'Country', 'consumption_per_capita_(L)':'Alcohol Consumption Per Capita (Liters)', 'climate':'Climate', 'main_export':'Main Export', 'main_industry':'Main Industry', 'region':'Region', 'happy_score':'Happiness Score', 'life_expectancy':'Life Expectancy', 'gdp_per_capita':'GDP per capita', 'mental_health_and_addiction (%)':'Mental Health Disorders (%)'})\n",
    "len(merged_df)"
   ]
  },
  {
   "cell_type": "code",
   "execution_count": 4,
   "metadata": {},
   "outputs": [
    {
     "data": {
      "text/html": [
       "<div>\n",
       "<style scoped>\n",
       "    .dataframe tbody tr th:only-of-type {\n",
       "        vertical-align: middle;\n",
       "    }\n",
       "\n",
       "    .dataframe tbody tr th {\n",
       "        vertical-align: top;\n",
       "    }\n",
       "\n",
       "    .dataframe thead th {\n",
       "        text-align: right;\n",
       "    }\n",
       "</style>\n",
       "<table border=\"1\" class=\"dataframe\">\n",
       "  <thead>\n",
       "    <tr style=\"text-align: right;\">\n",
       "      <th></th>\n",
       "      <th>Continent</th>\n",
       "      <th>Country Code</th>\n",
       "      <th>Country</th>\n",
       "      <th>Alcohol Consumption Per Capita (Liters)</th>\n",
       "      <th>Climate</th>\n",
       "      <th>Region</th>\n",
       "      <th>Happiness Score</th>\n",
       "      <th>Life Expectancy</th>\n",
       "      <th>GDP per capita</th>\n",
       "      <th>Mental Health Disorders (%)</th>\n",
       "    </tr>\n",
       "  </thead>\n",
       "  <tbody>\n",
       "    <tr>\n",
       "      <th>0</th>\n",
       "      <td>Asia</td>\n",
       "      <td>AFG</td>\n",
       "      <td>Afghanistan</td>\n",
       "      <td>0.2</td>\n",
       "      <td>arid to semiarid; cold winters and hot summers</td>\n",
       "      <td>South Asia</td>\n",
       "      <td>2.5669</td>\n",
       "      <td>52.590000</td>\n",
       "      <td>7.462861</td>\n",
       "      <td>17.553463</td>\n",
       "    </tr>\n",
       "    <tr>\n",
       "      <th>1</th>\n",
       "      <td>Europe</td>\n",
       "      <td>ALB</td>\n",
       "      <td>Albania</td>\n",
       "      <td>7.5</td>\n",
       "      <td>mild temperate; cool, cloudy, wet winters; hot...</td>\n",
       "      <td>Central and Eastern Europe</td>\n",
       "      <td>4.8827</td>\n",
       "      <td>68.708138</td>\n",
       "      <td>9.417931</td>\n",
       "      <td>10.987610</td>\n",
       "    </tr>\n",
       "    <tr>\n",
       "      <th>2</th>\n",
       "      <td>Africa</td>\n",
       "      <td>DZA</td>\n",
       "      <td>Algeria</td>\n",
       "      <td>0.9</td>\n",
       "      <td>arid to semiarid; mild, wet winters with hot, ...</td>\n",
       "      <td>Middle East and North Africa</td>\n",
       "      <td>5.0051</td>\n",
       "      <td>65.905174</td>\n",
       "      <td>9.537965</td>\n",
       "      <td>14.700388</td>\n",
       "    </tr>\n",
       "    <tr>\n",
       "      <th>3</th>\n",
       "      <td>Europe</td>\n",
       "      <td>AND</td>\n",
       "      <td>Andorra</td>\n",
       "      <td>11.3</td>\n",
       "      <td>temperate; snowy, cold winters and warm, dry s...</td>\n",
       "      <td>NaN</td>\n",
       "      <td>NaN</td>\n",
       "      <td>NaN</td>\n",
       "      <td>NaN</td>\n",
       "      <td>14.726869</td>\n",
       "    </tr>\n",
       "    <tr>\n",
       "      <th>4</th>\n",
       "      <td>Africa</td>\n",
       "      <td>AGO</td>\n",
       "      <td>Angola</td>\n",
       "      <td>6.4</td>\n",
       "      <td>semiarid in south and along coast to Luanda; n...</td>\n",
       "      <td>NaN</td>\n",
       "      <td>NaN</td>\n",
       "      <td>NaN</td>\n",
       "      <td>NaN</td>\n",
       "      <td>12.498281</td>\n",
       "    </tr>\n",
       "  </tbody>\n",
       "</table>\n",
       "</div>"
      ],
      "text/plain": [
       "  Continent Country Code      Country  \\\n",
       "0      Asia          AFG  Afghanistan   \n",
       "1    Europe          ALB      Albania   \n",
       "2    Africa          DZA      Algeria   \n",
       "3    Europe          AND      Andorra   \n",
       "4    Africa          AGO       Angola   \n",
       "\n",
       "   Alcohol Consumption Per Capita (Liters)  \\\n",
       "0                                      0.2   \n",
       "1                                      7.5   \n",
       "2                                      0.9   \n",
       "3                                     11.3   \n",
       "4                                      6.4   \n",
       "\n",
       "                                             Climate  \\\n",
       "0     arid to semiarid; cold winters and hot summers   \n",
       "1  mild temperate; cool, cloudy, wet winters; hot...   \n",
       "2  arid to semiarid; mild, wet winters with hot, ...   \n",
       "3  temperate; snowy, cold winters and warm, dry s...   \n",
       "4  semiarid in south and along coast to Luanda; n...   \n",
       "\n",
       "                         Region  Happiness Score  Life Expectancy  \\\n",
       "0                    South Asia           2.5669        52.590000   \n",
       "1    Central and Eastern Europe           4.8827        68.708138   \n",
       "2  Middle East and North Africa           5.0051        65.905174   \n",
       "3                           NaN              NaN              NaN   \n",
       "4                           NaN              NaN              NaN   \n",
       "\n",
       "   GDP per capita  Mental Health Disorders (%)  \n",
       "0        7.462861                    17.553463  \n",
       "1        9.417931                    10.987610  \n",
       "2        9.537965                    14.700388  \n",
       "3             NaN                    14.726869  \n",
       "4             NaN                    12.498281  "
      ]
     },
     "execution_count": 4,
     "metadata": {},
     "output_type": "execute_result"
    }
   ],
   "source": [
    "#Dropping columns that we will not need\n",
    "updated_df=merged_df.drop(['index','Unnamed: 0', 'code', 'Main Export', 'Main Industry'], axis=1)\n",
    "updated_df.head()"
   ]
  },
  {
   "cell_type": "markdown",
   "metadata": {},
   "source": [
    "# Alcohol Consumption by Continent"
   ]
  },
  {
   "cell_type": "code",
   "execution_count": 5,
   "metadata": {
    "scrolled": true
   },
   "outputs": [
    {
     "data": {
      "text/plain": [
       "<matplotlib.axes._subplots.AxesSubplot at 0x7ff13b13a850>"
      ]
     },
     "execution_count": 5,
     "metadata": {},
     "output_type": "execute_result"
    },
    {
     "data": {
      "image/png": "[encoded data removed]",
      "text/plain": [
       "<Figure size 1440x720 with 1 Axes>"
      ]
     },
     "metadata": {
      "needs_background": "light"
     },
     "output_type": "display_data"
    }
   ],
   "source": [
    "updated_df.boxplot(\"Alcohol Consumption Per Capita (Liters)\", by=\"Continent\", figsize=(20, 10), flierprops=dict(markerfacecolor='red', markersize=10))"
   ]
  },
  {
   "cell_type": "code",
   "execution_count": 6,
   "metadata": {},
   "outputs": [],
   "source": [
    "group1 = updated_df[updated_df[\"Continent\"] == \"Africa\"][\"Alcohol Consumption Per Capita (Liters)\"]\n",
    "group2 = updated_df[updated_df[\"Continent\"] == \"Asia\"][\"Alcohol Consumption Per Capita (Liters)\"]\n",
    "group3 = updated_df[updated_df[\"Continent\"] == \"Europe\"][\"Alcohol Consumption Per Capita (Liters)\"]\n",
    "group4 = updated_df[updated_df[\"Continent\"] == \"North America\"][\"Alcohol Consumption Per Capita (Liters)\"]\n",
    "group5 = updated_df[updated_df[\"Continent\"] == \"Oceania\"][\"Alcohol Consumption Per Capita (Liters)\"]\n",
    "group6 = updated_df[updated_df[\"Continent\"] == \"South America\"][\"Alcohol Consumption Per Capita (Liters)\"]"
   ]
  },
  {
   "cell_type": "code",
   "execution_count": 7,
   "metadata": {},
   "outputs": [
    {
     "data": {
      "text/plain": [
       "F_onewayResult(statistic=39.0908735441233, pvalue=5.946781924844183e-19)"
      ]
     },
     "execution_count": 7,
     "metadata": {},
     "output_type": "execute_result"
    }
   ],
   "source": [
    "stats.f_oneway(group1, group2, group3, group4)"
   ]
  },
  {
   "cell_type": "code",
   "execution_count": 8,
   "metadata": {},
   "outputs": [
    {
     "data": {
      "text/plain": [
       "Ttest_indResult(statistic=6.739906169357296, pvalue=9.301922597184508e-09)"
      ]
     },
     "execution_count": 8,
     "metadata": {},
     "output_type": "execute_result"
    }
   ],
   "source": [
    "stats.ttest_ind(group3, group5)"
   ]
  },
  {
   "cell_type": "code",
   "execution_count": 9,
   "metadata": {},
   "outputs": [
    {
     "name": "stdout",
     "output_type": "stream",
     "text": [
      "Africa's potential outliers: Series([], Name: Alcohol Consumption Per Capita (Liters), dtype: float64)\n",
      "Asia's potential outliers: Series([], Name: Alcohol Consumption Per Capita (Liters), dtype: float64)\n",
      "Europe's potential outliers: 6      0.8\n",
      "169    2.0\n",
      "Name: Alcohol Consumption Per Capita (Liters), dtype: float64\n",
      "North America's potential outliers: Series([], Name: Alcohol Consumption Per Capita (Liters), dtype: float64)\n",
      "Oceania's potential outliers: 8      10.6\n",
      "120    10.7\n",
      "Name: Alcohol Consumption Per Capita (Liters), dtype: float64\n",
      "South America's potential outliers: Series([], Name: Alcohol Consumption Per Capita (Liters), dtype: float64)\n"
     ]
    },
    {
     "data": {
      "image/png": "[encoded data removed]",
      "text/plain": [
       "<Figure size 432x288 with 1 Axes>"
      ]
     },
     "metadata": {
      "needs_background": "light"
     },
     "output_type": "display_data"
    }
   ],
   "source": [
    "continents = [\"Africa\", \"Asia\", \"Europe\", \"North America\", \"Oceania\", \"South America\"]\n",
    "\n",
    "# Create empty list to fill with tumor vol data (for plotting)\n",
    "alcohol_consumption_data=[]\n",
    "\n",
    "# Calculate the IQR and quantitatively determine if there are any potential outliers. \n",
    "\n",
    "for continent in continents:\n",
    "      \n",
    "    # Locate the rows which contain mice on each drug and get the tumor volumes\n",
    "    alcohol_by_continent=updated_df.loc[updated_df[\"Continent\"]==continent, \"Alcohol Consumption Per Capita (Liters)\"]\n",
    "    \n",
    "    # add subset \n",
    "    alcohol_consumption_data.append(alcohol_by_continent)\n",
    "\n",
    "    quartiles = alcohol_by_continent.quantile([.25,.5,.75])\n",
    "    lower_q=quartiles[0.25]\n",
    "    upper_q=quartiles[0.75]\n",
    "    iqr=upper_q-lower_q\n",
    "    lower_bound=lower_q - (1.5*iqr)\n",
    "    upper_bound=upper_q + (1.5*iqr)\n",
    "    outliers=alcohol_by_continent.loc[(alcohol_by_continent<lower_bound)|(alcohol_by_continent>upper_bound)]\n",
    "    print(f\"{continent}'s potential outliers: {outliers}\")\n",
    "    \n",
    "rate=dict(markerfacecolor='red', markersize=10)\n",
    "plt.boxplot(alcohol_consumption_data, labels=continents, flierprops=rate)\n",
    "plt.ylabel('Alcohol Consumption Per Capita (Liters)')\n",
    "plt.xlabel('Continent')\n",
    "plt.title('Alcohol Consumption Per Continent')\n",
    "plt.show()"
   ]
  },
  {
   "cell_type": "code",
   "execution_count": 10,
   "metadata": {},
   "outputs": [
    {
     "data": {
      "text/plain": [
       "Africa           53\n",
       "Europe           46\n",
       "Asia             40\n",
       "North America    23\n",
       "South America    12\n",
       "Oceania          12\n",
       "Name: Continent, dtype: int64"
      ]
     },
     "execution_count": 10,
     "metadata": {},
     "output_type": "execute_result"
    }
   ],
   "source": [
    "#Number of values per continent\n",
    "updated_df_countries_by_continent=updated_df[\"Continent\"].value_counts()\n",
    "updated_df_countries_by_continent"
   ]
  },
  {
   "cell_type": "code",
   "execution_count": 11,
   "metadata": {},
   "outputs": [
    {
     "data": {
      "text/html": [
       "<div>\n",
       "<style scoped>\n",
       "    .dataframe tbody tr th:only-of-type {\n",
       "        vertical-align: middle;\n",
       "    }\n",
       "\n",
       "    .dataframe tbody tr th {\n",
       "        vertical-align: top;\n",
       "    }\n",
       "\n",
       "    .dataframe thead th {\n",
       "        text-align: right;\n",
       "    }\n",
       "</style>\n",
       "<table border=\"1\" class=\"dataframe\">\n",
       "  <thead>\n",
       "    <tr style=\"text-align: right;\">\n",
       "      <th></th>\n",
       "      <th>Alcohol Consumption Per Capita (Liters)</th>\n",
       "    </tr>\n",
       "    <tr>\n",
       "      <th>Continent</th>\n",
       "      <th></th>\n",
       "    </tr>\n",
       "  </thead>\n",
       "  <tbody>\n",
       "    <tr>\n",
       "      <th>Africa</th>\n",
       "      <td>252.7</td>\n",
       "    </tr>\n",
       "    <tr>\n",
       "      <th>Asia</th>\n",
       "      <td>137.6</td>\n",
       "    </tr>\n",
       "    <tr>\n",
       "      <th>Europe</th>\n",
       "      <td>473.4</td>\n",
       "    </tr>\n",
       "    <tr>\n",
       "      <th>North America</th>\n",
       "      <td>157.3</td>\n",
       "    </tr>\n",
       "    <tr>\n",
       "      <th>Oceania</th>\n",
       "      <td>42.5</td>\n",
       "    </tr>\n",
       "    <tr>\n",
       "      <th>South America</th>\n",
       "      <td>83.2</td>\n",
       "    </tr>\n",
       "  </tbody>\n",
       "</table>\n",
       "</div>"
      ],
      "text/plain": [
       "               Alcohol Consumption Per Capita (Liters)\n",
       "Continent                                             \n",
       "Africa                                           252.7\n",
       "Asia                                             137.6\n",
       "Europe                                           473.4\n",
       "North America                                    157.3\n",
       "Oceania                                           42.5\n",
       "South America                                     83.2"
      ]
     },
     "execution_count": 11,
     "metadata": {},
     "output_type": "execute_result"
    }
   ],
   "source": [
    "#Total liters drunk by continent\n",
    "alcohol_by_continent_sum=updated_df.groupby(\"Continent\")[[\"Alcohol Consumption Per Capita (Liters)\"]].sum()\n",
    "alcohol_by_continent_sum"
   ]
  },
  {
   "cell_type": "code",
   "execution_count": 12,
   "metadata": {},
   "outputs": [
    {
     "name": "stderr",
     "output_type": "stream",
     "text": [
      "<ipython-input-12-9fbe577f7e6d>:2: MatplotlibDeprecationWarning: Non-1D inputs to pie() are currently squeeze()d, but this behavior is deprecated since 3.1 and will be removed in 3.3; pass a 1D array instead.\n",
      "  plt.pie(alcohol_by_continent_sum, labels=continents, autopct='%1.1f%%')\n"
     ]
    },
    {
     "data": {
      "text/plain": [
       "([<matplotlib.patches.Wedge at 0x7ff13b6a9220>,\n",
       "  <matplotlib.patches.Wedge at 0x7ff13b6a96d0>,\n",
       "  <matplotlib.patches.Wedge at 0x7ff13b6a9d60>,\n",
       "  <matplotlib.patches.Wedge at 0x7ff13b6b5430>,\n",
       "  <matplotlib.patches.Wedge at 0x7ff13b6b5ac0>,\n",
       "  <matplotlib.patches.Wedge at 0x7ff13b6c3190>],\n",
       " [Text(0.8467456254153936, 0.7021551437110564, 'Africa'),\n",
       "  Text(-0.2086293354511101, 1.0800341663064315, 'Asia'),\n",
       "  Text(-1.0528118350214484, -0.31872753260233183, 'Europe'),\n",
       "  Text(0.47954029770548146, -0.9899702535311545, 'North America'),\n",
       "  Text(0.9247119831680095, -0.5957413433575742, 'Oceania'),\n",
       "  Text(1.0715470782973886, -0.24856962604536018, 'South America')],\n",
       " [Text(0.46186125022657826, 0.38299371475148525, '22.0%'),\n",
       "  Text(-0.11379781933696911, 0.5891095452580534, '12.0%'),\n",
       "  Text(-0.57426100092079, -0.1738513814194537, '41.3%'),\n",
       "  Text(0.26156743511208075, -0.5399837746533569, '13.7%'),\n",
       "  Text(0.5043883544552779, -0.3249498236495859, '3.7%'),\n",
       "  Text(0.5844802245258482, -0.13558343238837825, '7.3%')])"
      ]
     },
     "execution_count": 12,
     "metadata": {},
     "output_type": "execute_result"
    },
    {
     "data": {
      "image/png": "[encoded data removed]",
      "text/plain": [
       "<Figure size 432x288 with 1 Axes>"
      ]
     },
     "metadata": {},
     "output_type": "display_data"
    }
   ],
   "source": [
    "#Pie chart displaying total liters of alcohol drunk by continent\n",
    "plt.pie(alcohol_by_continent_sum, labels=continents, autopct='%1.1f%%')"
   ]
  },
  {
   "cell_type": "code",
   "execution_count": 13,
   "metadata": {},
   "outputs": [
    {
     "name": "stderr",
     "output_type": "stream",
     "text": [
      "<ipython-input-13-1227b1850bfa>:3: MatplotlibDeprecationWarning: Non-1D inputs to pie() are currently squeeze()d, but this behavior is deprecated since 3.1 and will be removed in 3.3; pass a 1D array instead.\n",
      "  plt.pie(alcohol_by_continent_mean, labels=continents, autopct='%1.1f%%')\n"
     ]
    },
    {
     "data": {
      "text/plain": [
       "([<matplotlib.patches.Wedge at 0x7ff13b701610>,\n",
       "  <matplotlib.patches.Wedge at 0x7ff13b7019d0>,\n",
       "  <matplotlib.patches.Wedge at 0x7ff13b7640d0>,\n",
       "  <matplotlib.patches.Wedge at 0x7ff13b764790>,\n",
       "  <matplotlib.patches.Wedge at 0x7ff13b764e20>,\n",
       "  <matplotlib.patches.Wedge at 0x7ff13b7724f0>],\n",
       " [Text(1.0051820037963315, 0.44677638617544707, 'Africa'),\n",
       "  Text(0.46109470062371827, 0.9986949869988954, 'Asia'),\n",
       "  Text(-0.7673176573487064, 0.7881773992705535, 'Europe'),\n",
       "  Text(-0.838559517633741, -0.711911465974434, 'North America'),\n",
       "  Text(0.04807197041236565, -1.098949082378557, 'Oceania'),\n",
       "  Text(0.9027453275847895, -0.6285307259982054, 'South America')],\n",
       " [Text(0.5482810929798171, 0.24369621064115293, '13.3%'),\n",
       "  Text(0.25150620034020993, 0.5447427201812156, '9.6%'),\n",
       "  Text(-0.4185369040083852, 0.4299149450566655, '28.7%'),\n",
       "  Text(-0.4573961005274951, -0.38831534507696397, '19.1%'),\n",
       "  Text(0.02622107477038126, -0.5994267722064857, '9.9%'),\n",
       "  Text(0.49240654231897607, -0.3428349414535665, '19.4%')])"
      ]
     },
     "execution_count": 13,
     "metadata": {},
     "output_type": "execute_result"
    },
    {
     "data": {
      "image/png": "[encoded data removed]",
      "text/plain": [
       "<Figure size 432x288 with 1 Axes>"
      ]
     },
     "metadata": {},
     "output_type": "display_data"
    }
   ],
   "source": [
    "#Pie chart displaying average liters of alcohol drunk by continent\n",
    "alcohol_by_continent_mean=updated_df.groupby(\"Continent\")[[\"Alcohol Consumption Per Capita (Liters)\"]].mean()\n",
    "plt.pie(alcohol_by_continent_mean, labels=continents, autopct='%1.1f%%')"
   ]
  },
  {
   "cell_type": "code",
   "execution_count": 14,
   "metadata": {
    "scrolled": true
   },
   "outputs": [
    {
     "data": {
      "text/html": [
       "<div>\n",
       "<style scoped>\n",
       "    .dataframe tbody tr th:only-of-type {\n",
       "        vertical-align: middle;\n",
       "    }\n",
       "\n",
       "    .dataframe tbody tr th {\n",
       "        vertical-align: top;\n",
       "    }\n",
       "\n",
       "    .dataframe thead th {\n",
       "        text-align: right;\n",
       "    }\n",
       "</style>\n",
       "<table border=\"1\" class=\"dataframe\">\n",
       "  <thead>\n",
       "    <tr style=\"text-align: right;\">\n",
       "      <th></th>\n",
       "      <th>mean</th>\n",
       "      <th>median</th>\n",
       "      <th>var</th>\n",
       "      <th>std</th>\n",
       "      <th>sem</th>\n",
       "    </tr>\n",
       "    <tr>\n",
       "      <th>Continent</th>\n",
       "      <th></th>\n",
       "      <th></th>\n",
       "      <th></th>\n",
       "      <th></th>\n",
       "      <th></th>\n",
       "    </tr>\n",
       "  </thead>\n",
       "  <tbody>\n",
       "    <tr>\n",
       "      <th>Africa</th>\n",
       "      <td>4.767925</td>\n",
       "      <td>3.70</td>\n",
       "      <td>14.059913</td>\n",
       "      <td>3.749655</td>\n",
       "      <td>0.515055</td>\n",
       "    </tr>\n",
       "    <tr>\n",
       "      <th>Asia</th>\n",
       "      <td>3.440000</td>\n",
       "      <td>2.40</td>\n",
       "      <td>9.578872</td>\n",
       "      <td>3.094975</td>\n",
       "      <td>0.489359</td>\n",
       "    </tr>\n",
       "    <tr>\n",
       "      <th>Europe</th>\n",
       "      <td>10.291304</td>\n",
       "      <td>11.15</td>\n",
       "      <td>8.688367</td>\n",
       "      <td>2.947604</td>\n",
       "      <td>0.434600</td>\n",
       "    </tr>\n",
       "    <tr>\n",
       "      <th>North America</th>\n",
       "      <td>6.839130</td>\n",
       "      <td>6.90</td>\n",
       "      <td>4.957036</td>\n",
       "      <td>2.226440</td>\n",
       "      <td>0.464245</td>\n",
       "    </tr>\n",
       "    <tr>\n",
       "      <th>Oceania</th>\n",
       "      <td>3.541667</td>\n",
       "      <td>2.10</td>\n",
       "      <td>13.048106</td>\n",
       "      <td>3.612216</td>\n",
       "      <td>1.042757</td>\n",
       "    </tr>\n",
       "    <tr>\n",
       "      <th>South America</th>\n",
       "      <td>6.933333</td>\n",
       "      <td>6.30</td>\n",
       "      <td>4.344242</td>\n",
       "      <td>2.084285</td>\n",
       "      <td>0.601681</td>\n",
       "    </tr>\n",
       "  </tbody>\n",
       "</table>\n",
       "</div>"
      ],
      "text/plain": [
       "                    mean  median        var       std       sem\n",
       "Continent                                                      \n",
       "Africa          4.767925    3.70  14.059913  3.749655  0.515055\n",
       "Asia            3.440000    2.40   9.578872  3.094975  0.489359\n",
       "Europe         10.291304   11.15   8.688367  2.947604  0.434600\n",
       "North America   6.839130    6.90   4.957036  2.226440  0.464245\n",
       "Oceania         3.541667    2.10  13.048106  3.612216  1.042757\n",
       "South America   6.933333    6.30   4.344242  2.084285  0.601681"
      ]
     },
     "execution_count": 14,
     "metadata": {},
     "output_type": "execute_result"
    }
   ],
   "source": [
    "#Statistical analysis of alcohol consumption by continent\n",
    "agg_alcohol_df=updated_df.groupby(\"Continent\")[\"Alcohol Consumption Per Capita (Liters)\"].agg(['mean','median', 'var', 'std', 'sem'])\n",
    "agg_alcohol_df"
   ]
  },
  {
   "cell_type": "markdown",
   "metadata": {},
   "source": [
    "## Adding Wine Data"
   ]
  },
  {
   "cell_type": "code",
   "execution_count": 16,
   "metadata": {},
   "outputs": [
    {
     "data": {
      "text/html": [
       "<div>\n",
       "<style scoped>\n",
       "    .dataframe tbody tr th:only-of-type {\n",
       "        vertical-align: middle;\n",
       "    }\n",
       "\n",
       "    .dataframe tbody tr th {\n",
       "        vertical-align: top;\n",
       "    }\n",
       "\n",
       "    .dataframe thead th {\n",
       "        text-align: right;\n",
       "    }\n",
       "</style>\n",
       "<table border=\"1\" class=\"dataframe\">\n",
       "  <thead>\n",
       "    <tr style=\"text-align: right;\">\n",
       "      <th></th>\n",
       "      <th>Entity</th>\n",
       "      <th>Year</th>\n",
       "      <th>Code</th>\n",
       "      <th>Wine Consumption per capita (Liters)</th>\n",
       "    </tr>\n",
       "  </thead>\n",
       "  <tbody>\n",
       "    <tr>\n",
       "      <th>0</th>\n",
       "      <td>Afghanistan</td>\n",
       "      <td>2013</td>\n",
       "      <td>AFG</td>\n",
       "      <td>0.00</td>\n",
       "    </tr>\n",
       "    <tr>\n",
       "      <th>1</th>\n",
       "      <td>Albania</td>\n",
       "      <td>2014</td>\n",
       "      <td>ALB</td>\n",
       "      <td>1.14</td>\n",
       "    </tr>\n",
       "    <tr>\n",
       "      <th>2</th>\n",
       "      <td>Algeria</td>\n",
       "      <td>2013</td>\n",
       "      <td>DZA</td>\n",
       "      <td>0.22</td>\n",
       "    </tr>\n",
       "    <tr>\n",
       "      <th>3</th>\n",
       "      <td>Andorra</td>\n",
       "      <td>2013</td>\n",
       "      <td>AND</td>\n",
       "      <td>4.29</td>\n",
       "    </tr>\n",
       "    <tr>\n",
       "      <th>4</th>\n",
       "      <td>Angola</td>\n",
       "      <td>2014</td>\n",
       "      <td>AGO</td>\n",
       "      <td>1.32</td>\n",
       "    </tr>\n",
       "  </tbody>\n",
       "</table>\n",
       "</div>"
      ],
      "text/plain": [
       "        Entity  Year Code  Wine Consumption per capita (Liters)\n",
       "0  Afghanistan  2013  AFG                                  0.00\n",
       "1      Albania  2014  ALB                                  1.14\n",
       "2      Algeria  2013  DZA                                  0.22\n",
       "3      Andorra  2013  AND                                  4.29\n",
       "4       Angola  2014  AGO                                  1.32"
      ]
     },
     "execution_count": 16,
     "metadata": {},
     "output_type": "execute_result"
    }
   ],
   "source": [
    "#Getting the latest timepoint for wine consumption data and merging it with the wine dataframe\n",
    "wine_latest_timepoint_per_country=wine_consumption_df.groupby(\"Entity\")[[\"Year\"]].max()\n",
    "merged_updated_timepoint_wine_df = wine_latest_timepoint_per_country.merge(wine_consumption_df, on = [\"Entity\", \"Year\"], how=\"left\")\n",
    "merged_updated_timepoint_wine_df.head()"
   ]
  },
  {
   "cell_type": "code",
   "execution_count": 17,
   "metadata": {},
   "outputs": [
    {
     "data": {
      "text/html": [
       "<div>\n",
       "<style scoped>\n",
       "    .dataframe tbody tr th:only-of-type {\n",
       "        vertical-align: middle;\n",
       "    }\n",
       "\n",
       "    .dataframe tbody tr th {\n",
       "        vertical-align: top;\n",
       "    }\n",
       "\n",
       "    .dataframe thead th {\n",
       "        text-align: right;\n",
       "    }\n",
       "</style>\n",
       "<table border=\"1\" class=\"dataframe\">\n",
       "  <thead>\n",
       "    <tr style=\"text-align: right;\">\n",
       "      <th></th>\n",
       "      <th>Wine Consumption per capita (Liters)</th>\n",
       "    </tr>\n",
       "    <tr>\n",
       "      <th>Entity</th>\n",
       "      <th></th>\n",
       "    </tr>\n",
       "  </thead>\n",
       "  <tbody>\n",
       "    <tr>\n",
       "      <th>Cook Islands</th>\n",
       "      <td>0.986818</td>\n",
       "    </tr>\n",
       "    <tr>\n",
       "      <th>Mauritania</th>\n",
       "      <td>0.021373</td>\n",
       "    </tr>\n",
       "    <tr>\n",
       "      <th>Chad</th>\n",
       "      <td>0.072264</td>\n",
       "    </tr>\n",
       "    <tr>\n",
       "      <th>Zimbabwe</th>\n",
       "      <td>0.045556</td>\n",
       "    </tr>\n",
       "    <tr>\n",
       "      <th>Morocco</th>\n",
       "      <td>0.320370</td>\n",
       "    </tr>\n",
       "  </tbody>\n",
       "</table>\n",
       "</div>"
      ],
      "text/plain": [
       "              Wine Consumption per capita (Liters)\n",
       "Entity                                            \n",
       "Cook Islands                              0.986818\n",
       "Mauritania                                0.021373\n",
       "Chad                                      0.072264\n",
       "Zimbabwe                                  0.045556\n",
       "Morocco                                   0.320370"
      ]
     },
     "execution_count": 17,
     "metadata": {},
     "output_type": "execute_result"
    }
   ],
   "source": [
    "#Getting the average for wine consumption data from 1960 to 2014\n",
    "wine_average_consumption_per_country=wine_consumption_df.groupby(\"Entity\")[[\"Wine Consumption per capita (Liters)\"]].mean()\n",
    "wine_average_consumption_per_country.sample(5)"
   ]
  },
  {
   "cell_type": "code",
   "execution_count": 18,
   "metadata": {},
   "outputs": [
    {
     "data": {
      "text/html": [
       "<div>\n",
       "<style scoped>\n",
       "    .dataframe tbody tr th:only-of-type {\n",
       "        vertical-align: middle;\n",
       "    }\n",
       "\n",
       "    .dataframe tbody tr th {\n",
       "        vertical-align: top;\n",
       "    }\n",
       "\n",
       "    .dataframe thead th {\n",
       "        text-align: right;\n",
       "    }\n",
       "</style>\n",
       "<table border=\"1\" class=\"dataframe\">\n",
       "  <thead>\n",
       "    <tr style=\"text-align: right;\">\n",
       "      <th></th>\n",
       "      <th>Entity</th>\n",
       "      <th>Latest Year for Wine Consumption Data</th>\n",
       "      <th>Code</th>\n",
       "      <th>Wine Consumption at Latest Timepoint(L)</th>\n",
       "      <th>Wine Consumption Average Over The Years(L)</th>\n",
       "    </tr>\n",
       "  </thead>\n",
       "  <tbody>\n",
       "    <tr>\n",
       "      <th>120</th>\n",
       "      <td>New Zealand</td>\n",
       "      <td>2015</td>\n",
       "      <td>NZL</td>\n",
       "      <td>2.92</td>\n",
       "      <td>2.040182</td>\n",
       "    </tr>\n",
       "    <tr>\n",
       "      <th>64</th>\n",
       "      <td>Georgia</td>\n",
       "      <td>2014</td>\n",
       "      <td>GEO</td>\n",
       "      <td>2.50</td>\n",
       "      <td>3.045200</td>\n",
       "    </tr>\n",
       "    <tr>\n",
       "      <th>157</th>\n",
       "      <td>South Korea</td>\n",
       "      <td>2013</td>\n",
       "      <td>KOR</td>\n",
       "      <td>0.15</td>\n",
       "      <td>0.033585</td>\n",
       "    </tr>\n",
       "    <tr>\n",
       "      <th>167</th>\n",
       "      <td>Thailand</td>\n",
       "      <td>2014</td>\n",
       "      <td>THA</td>\n",
       "      <td>0.04</td>\n",
       "      <td>0.011296</td>\n",
       "    </tr>\n",
       "    <tr>\n",
       "      <th>170</th>\n",
       "      <td>Tonga</td>\n",
       "      <td>2011</td>\n",
       "      <td>TON</td>\n",
       "      <td>0.10</td>\n",
       "      <td>0.137273</td>\n",
       "    </tr>\n",
       "  </tbody>\n",
       "</table>\n",
       "</div>"
      ],
      "text/plain": [
       "          Entity  Latest Year for Wine Consumption Data Code  \\\n",
       "120  New Zealand                                   2015  NZL   \n",
       "64       Georgia                                   2014  GEO   \n",
       "157  South Korea                                   2013  KOR   \n",
       "167     Thailand                                   2014  THA   \n",
       "170        Tonga                                   2011  TON   \n",
       "\n",
       "     Wine Consumption at Latest Timepoint(L)  \\\n",
       "120                                     2.92   \n",
       "64                                      2.50   \n",
       "157                                     0.15   \n",
       "167                                     0.04   \n",
       "170                                     0.10   \n",
       "\n",
       "     Wine Consumption Average Over The Years(L)  \n",
       "120                                    2.040182  \n",
       "64                                     3.045200  \n",
       "157                                    0.033585  \n",
       "167                                    0.011296  \n",
       "170                                    0.137273  "
      ]
     },
     "execution_count": 18,
     "metadata": {},
     "output_type": "execute_result"
    }
   ],
   "source": [
    "#Merging the average for wine consumption data from 1960 to 2014 into the wine dataframe\n",
    "merged_updated_timepoint_average_wine_df = merged_updated_timepoint_wine_df.merge(wine_average_consumption_per_country, on = [\"Entity\"], how=\"left\")\n",
    "merged_updated_timepoint_average_wine_df=merged_updated_timepoint_average_wine_df.rename(columns={\"Wine Consumption per capita (Liters)_x\":\"Wine Consumption at Latest Timepoint(L)\", \"Wine Consumption per capita (Liters)_y\":\"Wine Consumption Average Over The Years(L)\", \"Year\":\"Latest Year for Wine Consumption Data\"})\n",
    "merged_updated_timepoint_average_wine_df.sample(5)"
   ]
  },
  {
   "cell_type": "code",
   "execution_count": 20,
   "metadata": {},
   "outputs": [
    {
     "data": {
      "text/plain": [
       "<matplotlib.legend.Legend at 0x7ff13c282fd0>"
      ]
     },
     "execution_count": 20,
     "metadata": {},
     "output_type": "execute_result"
    },
    {
     "data": {
      "image/png": "[encoded data removed]",
      "text/plain": [
       "<Figure size 432x288 with 2 Axes>"
      ]
     },
     "metadata": {
      "needs_background": "light"
     },
     "output_type": "display_data"
    }
   ],
   "source": [
    "# Scatter Plot to show the potential diffirence or similarity between average wine consumption from 1960 to 2014\n",
    "# and wine consumption at the latest available timepoint\n",
    "last_timepoint_wine=merged_updated_timepoint_average_wine_df[\"Wine Consumption at Latest Timepoint(L)\"]\n",
    "average_wine=merged_updated_timepoint_average_wine_df[\"Wine Consumption Average Over The Years(L)\"]\n",
    "    \n",
    "plt.subplot(2,1,1)\n",
    "plt.scatter(range(len(last_timepoint_wine)), last_timepoint_wine, label=\"Wine Consumption at Latest Timepoint(L)\")\n",
    "plt.scatter(range(len(average_wine)), average_wine, label=\"Wine Consumption Average Over The Years(L)\")\n",
    "plt.legend()\n",
    "\n",
    "# Histogram Plot of Data\n",
    "plt.subplot(2, 1, 2)\n",
    "plt.hist(last_timepoint_wine, 10, density=True, alpha=0.7, label=\"Wine Consumption at Latest Timepoint(L)\")\n",
    "plt.hist(average_wine, 10, density=True, alpha=0.7, label=\"Wine Consumption Average Over The Years(L)\")\n",
    "plt.axvline(last_timepoint_wine.mean(), color='k', linestyle='dashed', linewidth=1)\n",
    "plt.axvline(average_wine.mean(), color='k', linestyle='dashed', linewidth=1)\n",
    "plt.legend() "
   ]
  },
  {
   "cell_type": "code",
   "execution_count": 21,
   "metadata": {},
   "outputs": [
    {
     "data": {
      "text/plain": [
       "Ttest_indResult(statistic=-0.6190622697626872, pvalue=0.5362811196901257)"
      ]
     },
     "execution_count": 21,
     "metadata": {},
     "output_type": "execute_result"
    }
   ],
   "source": [
    "#Checking how different is data (average over teh years vs at the last timepoint)\n",
    "stats.ttest_ind(last_timepoint_wine, average_wine, equal_var=False)"
   ]
  },
  {
   "cell_type": "code",
   "execution_count": 22,
   "metadata": {},
   "outputs": [
    {
     "data": {
      "text/plain": [
       "186"
      ]
     },
     "execution_count": 22,
     "metadata": {},
     "output_type": "execute_result"
    }
   ],
   "source": [
    "#Seeing that it is not significantly different, we decided to only use the wine consumption data at the last timepoint\n",
    "merged_with_wine_df = updated_df.merge(merged_updated_timepoint_average_wine_df, left_on=\"Country\", right_on=\"Entity\", how=\"inner\")\n",
    "merged_with_wine_df = merged_with_wine_df.drop(['Code', 'Entity', 'Latest Year for Wine Consumption Data', 'Wine Consumption Average Over The Years(L)'], axis=1)\n",
    "len(merged_with_wine_df)"
   ]
  },
  {
   "cell_type": "code",
   "execution_count": 25,
   "metadata": {},
   "outputs": [
    {
     "data": {
      "text/html": [
       "<div>\n",
       "<style scoped>\n",
       "    .dataframe tbody tr th:only-of-type {\n",
       "        vertical-align: middle;\n",
       "    }\n",
       "\n",
       "    .dataframe tbody tr th {\n",
       "        vertical-align: top;\n",
       "    }\n",
       "\n",
       "    .dataframe thead th {\n",
       "        text-align: right;\n",
       "    }\n",
       "</style>\n",
       "<table border=\"1\" class=\"dataframe\">\n",
       "  <thead>\n",
       "    <tr style=\"text-align: right;\">\n",
       "      <th></th>\n",
       "      <th>Continent</th>\n",
       "      <th>Country Code</th>\n",
       "      <th>Country</th>\n",
       "      <th>Alcohol Consumption Per Capita (Liters)</th>\n",
       "      <th>Climate</th>\n",
       "      <th>Region</th>\n",
       "      <th>Happiness Score</th>\n",
       "      <th>Life Expectancy</th>\n",
       "      <th>GDP per capita</th>\n",
       "      <th>Mental Health Disorders (%)</th>\n",
       "      <th>Wine Consumption per capita (Liters)</th>\n",
       "    </tr>\n",
       "  </thead>\n",
       "  <tbody>\n",
       "    <tr>\n",
       "      <th>0</th>\n",
       "      <td>Asia</td>\n",
       "      <td>AFG</td>\n",
       "      <td>Afghanistan</td>\n",
       "      <td>0.2</td>\n",
       "      <td>arid to semiarid; cold winters and hot summers</td>\n",
       "      <td>South Asia</td>\n",
       "      <td>2.5669</td>\n",
       "      <td>52.590000</td>\n",
       "      <td>7.462861</td>\n",
       "      <td>17.553463</td>\n",
       "      <td>0.00</td>\n",
       "    </tr>\n",
       "    <tr>\n",
       "      <th>1</th>\n",
       "      <td>Europe</td>\n",
       "      <td>ALB</td>\n",
       "      <td>Albania</td>\n",
       "      <td>7.5</td>\n",
       "      <td>mild temperate; cool, cloudy, wet winters; hot...</td>\n",
       "      <td>Central and Eastern Europe</td>\n",
       "      <td>4.8827</td>\n",
       "      <td>68.708138</td>\n",
       "      <td>9.417931</td>\n",
       "      <td>10.987610</td>\n",
       "      <td>1.14</td>\n",
       "    </tr>\n",
       "    <tr>\n",
       "      <th>2</th>\n",
       "      <td>Africa</td>\n",
       "      <td>DZA</td>\n",
       "      <td>Algeria</td>\n",
       "      <td>0.9</td>\n",
       "      <td>arid to semiarid; mild, wet winters with hot, ...</td>\n",
       "      <td>Middle East and North Africa</td>\n",
       "      <td>5.0051</td>\n",
       "      <td>65.905174</td>\n",
       "      <td>9.537965</td>\n",
       "      <td>14.700388</td>\n",
       "      <td>0.22</td>\n",
       "    </tr>\n",
       "    <tr>\n",
       "      <th>3</th>\n",
       "      <td>Europe</td>\n",
       "      <td>AND</td>\n",
       "      <td>Andorra</td>\n",
       "      <td>11.3</td>\n",
       "      <td>temperate; snowy, cold winters and warm, dry s...</td>\n",
       "      <td>NaN</td>\n",
       "      <td>NaN</td>\n",
       "      <td>NaN</td>\n",
       "      <td>NaN</td>\n",
       "      <td>14.726869</td>\n",
       "      <td>4.29</td>\n",
       "    </tr>\n",
       "    <tr>\n",
       "      <th>4</th>\n",
       "      <td>Africa</td>\n",
       "      <td>AGO</td>\n",
       "      <td>Angola</td>\n",
       "      <td>6.4</td>\n",
       "      <td>semiarid in south and along coast to Luanda; n...</td>\n",
       "      <td>NaN</td>\n",
       "      <td>NaN</td>\n",
       "      <td>NaN</td>\n",
       "      <td>NaN</td>\n",
       "      <td>12.498281</td>\n",
       "      <td>1.32</td>\n",
       "    </tr>\n",
       "  </tbody>\n",
       "</table>\n",
       "</div>"
      ],
      "text/plain": [
       "  Continent Country Code      Country  \\\n",
       "0      Asia          AFG  Afghanistan   \n",
       "1    Europe          ALB      Albania   \n",
       "2    Africa          DZA      Algeria   \n",
       "3    Europe          AND      Andorra   \n",
       "4    Africa          AGO       Angola   \n",
       "\n",
       "   Alcohol Consumption Per Capita (Liters)  \\\n",
       "0                                      0.2   \n",
       "1                                      7.5   \n",
       "2                                      0.9   \n",
       "3                                     11.3   \n",
       "4                                      6.4   \n",
       "\n",
       "                                             Climate  \\\n",
       "0     arid to semiarid; cold winters and hot summers   \n",
       "1  mild temperate; cool, cloudy, wet winters; hot...   \n",
       "2  arid to semiarid; mild, wet winters with hot, ...   \n",
       "3  temperate; snowy, cold winters and warm, dry s...   \n",
       "4  semiarid in south and along coast to Luanda; n...   \n",
       "\n",
       "                         Region  Happiness Score  Life Expectancy  \\\n",
       "0                    South Asia           2.5669        52.590000   \n",
       "1    Central and Eastern Europe           4.8827        68.708138   \n",
       "2  Middle East and North Africa           5.0051        65.905174   \n",
       "3                           NaN              NaN              NaN   \n",
       "4                           NaN              NaN              NaN   \n",
       "\n",
       "   GDP per capita  Mental Health Disorders (%)  \\\n",
       "0        7.462861                    17.553463   \n",
       "1        9.417931                    10.987610   \n",
       "2        9.537965                    14.700388   \n",
       "3             NaN                    14.726869   \n",
       "4             NaN                    12.498281   \n",
       "\n",
       "   Wine Consumption per capita (Liters)  \n",
       "0                                  0.00  \n",
       "1                                  1.14  \n",
       "2                                  0.22  \n",
       "3                                  4.29  \n",
       "4                                  1.32  "
      ]
     },
     "execution_count": 25,
     "metadata": {},
     "output_type": "execute_result"
    }
   ],
   "source": [
    "#Renaming the column containing wine data\n",
    "merged_with_wine_df=merged_with_wine_df.rename(columns={\"Wine Consumption at Latest Timepoint(L)\":\"Wine Consumption per capita (Liters)\"})\n",
    "merged_with_wine_df.head()"
   ]
  },
  {
   "cell_type": "code",
   "execution_count": 26,
   "metadata": {
    "scrolled": true
   },
   "outputs": [
    {
     "data": {
      "text/plain": [
       "<matplotlib.axes._subplots.AxesSubplot at 0x7ff13c473e20>"
      ]
     },
     "execution_count": 26,
     "metadata": {},
     "output_type": "execute_result"
    },
    {
     "data": {
      "image/png": "[encoded data removed]",
      "text/plain": [
       "<Figure size 1440x720 with 1 Axes>"
      ]
     },
     "metadata": {
      "needs_background": "light"
     },
     "output_type": "display_data"
    }
   ],
   "source": [
    "#Boxlot to display wineconsumption per continent\n",
    "merged_with_wine_df.boxplot(\"Wine Consumption per capita (Liters)\", by=\"Continent\", figsize=(20, 10), flierprops=dict(markerfacecolor='red', markersize=10))"
   ]
  },
  {
   "cell_type": "code",
   "execution_count": 57,
   "metadata": {},
   "outputs": [
    {
     "data": {
      "text/html": [
       "<div>\n",
       "<style scoped>\n",
       "    .dataframe tbody tr th:only-of-type {\n",
       "        vertical-align: middle;\n",
       "    }\n",
       "\n",
       "    .dataframe tbody tr th {\n",
       "        vertical-align: top;\n",
       "    }\n",
       "\n",
       "    .dataframe thead th {\n",
       "        text-align: right;\n",
       "    }\n",
       "</style>\n",
       "<table border=\"1\" class=\"dataframe\">\n",
       "  <thead>\n",
       "    <tr style=\"text-align: right;\">\n",
       "      <th></th>\n",
       "      <th>Wine Consumption per capita (Liters)</th>\n",
       "    </tr>\n",
       "    <tr>\n",
       "      <th>Continent</th>\n",
       "      <th></th>\n",
       "    </tr>\n",
       "  </thead>\n",
       "  <tbody>\n",
       "    <tr>\n",
       "      <th>Africa</th>\n",
       "      <td>19.33</td>\n",
       "    </tr>\n",
       "    <tr>\n",
       "      <th>Asia</th>\n",
       "      <td>3.77</td>\n",
       "    </tr>\n",
       "    <tr>\n",
       "      <th>Europe</th>\n",
       "      <td>128.76</td>\n",
       "    </tr>\n",
       "    <tr>\n",
       "      <th>North America</th>\n",
       "      <td>12.95</td>\n",
       "    </tr>\n",
       "    <tr>\n",
       "      <th>Oceania</th>\n",
       "      <td>8.47</td>\n",
       "    </tr>\n",
       "    <tr>\n",
       "      <th>South America</th>\n",
       "      <td>10.62</td>\n",
       "    </tr>\n",
       "  </tbody>\n",
       "</table>\n",
       "</div>"
      ],
      "text/plain": [
       "               Wine Consumption per capita (Liters)\n",
       "Continent                                          \n",
       "Africa                                        19.33\n",
       "Asia                                           3.77\n",
       "Europe                                       128.76\n",
       "North America                                 12.95\n",
       "Oceania                                        8.47\n",
       "South America                                 10.62"
      ]
     },
     "execution_count": 57,
     "metadata": {},
     "output_type": "execute_result"
    }
   ],
   "source": [
    "#Total liters of wine drunk by continent\n",
    "wine_by_continent_sum=merged_with_wine_df.groupby(\"Continent\")[[\"Wine Consumption per capita (Liters)\"]].sum()\n",
    "wine_by_continent_sum"
   ]
  },
  {
   "cell_type": "code",
   "execution_count": 58,
   "metadata": {},
   "outputs": [
    {
     "name": "stderr",
     "output_type": "stream",
     "text": [
      "<ipython-input-58-c587791df067>:2: MatplotlibDeprecationWarning: Non-1D inputs to pie() are currently squeeze()d, but this behavior is deprecated since 3.1 and will be removed in 3.3; pass a 1D array instead.\n",
      "  plt.pie(wine_by_continent_sum, labels=continents, autopct='%1.1f%%')\n"
     ]
    },
    {
     "data": {
      "text/plain": [
       "([<matplotlib.patches.Wedge at 0x7ff13b922ee0>,\n",
       "  <matplotlib.patches.Wedge at 0x7ff13b922790>,\n",
       "  <matplotlib.patches.Wedge at 0x7ff13b99b880>,\n",
       "  <matplotlib.patches.Wedge at 0x7ff13b8fac40>,\n",
       "  <matplotlib.patches.Wedge at 0x7ff13b9a7e80>,\n",
       "  <matplotlib.patches.Wedge at 0x7ff13c47b0d0>],\n",
       " [Text(1.0405690428721233, 0.3566736141294919, 'Africa'),\n",
       "  Text(0.8234672245199254, 0.7293159330094544, 'Asia'),\n",
       "  Text(-1.0871964742690565, 0.1673434382846632, 'Europe'),\n",
       "  Text(0.7063943836309732, -0.8432122951989123, 'North America'),\n",
       "  Text(0.9613367470084627, -0.5346322650674828, 'Oceania'),\n",
       "  Text(1.0819467125776006, -0.1984724442901918, 'South America')],\n",
       " [Text(0.5675831142938853, 0.19454924407063193, '10.5%'),\n",
       "  Text(0.44916394064723203, 0.39780869073242964, '2.1%'),\n",
       "  Text(-0.5930162586922125, 0.09127823906436174, '70.0%'),\n",
       "  Text(0.38530602743507625, -0.45993397919940665, '7.0%'),\n",
       "  Text(0.5243654983682523, -0.29161759912771784, '4.6%'),\n",
       "  Text(0.5901527523150547, -0.10825769688555915, '5.8%')])"
      ]
     },
     "execution_count": 58,
     "metadata": {},
     "output_type": "execute_result"
    },
    {
     "data": {
      "image/png": "[encoded data removed]",
      "text/plain": [
       "<Figure size 432x288 with 1 Axes>"
      ]
     },
     "metadata": {},
     "output_type": "display_data"
    }
   ],
   "source": [
    "#Pie chart showing % of total liters of wine drunk by continent\n",
    "plt.pie(wine_by_continent_sum, labels=continents, autopct='%1.1f%%')"
   ]
  },
  {
   "cell_type": "code",
   "execution_count": 59,
   "metadata": {},
   "outputs": [
    {
     "name": "stderr",
     "output_type": "stream",
     "text": [
      "<ipython-input-59-f1a2b9606579>:3: MatplotlibDeprecationWarning: Non-1D inputs to pie() are currently squeeze()d, but this behavior is deprecated since 3.1 and will be removed in 3.3; pass a 1D array instead.\n",
      "  plt.pie(wine_by_continent_mean, labels=continents, autopct='%1.1f%%')\n"
     ]
    },
    {
     "data": {
      "text/plain": [
       "([<matplotlib.patches.Wedge at 0x7ff13b5b99d0>,\n",
       "  <matplotlib.patches.Wedge at 0x7ff13b4faa30>,\n",
       "  <matplotlib.patches.Wedge at 0x7ff13b4faca0>,\n",
       "  <matplotlib.patches.Wedge at 0x7ff13b4cd280>,\n",
       "  <matplotlib.patches.Wedge at 0x7ff13b4eabb0>,\n",
       "  <matplotlib.patches.Wedge at 0x7ff13b5432e0>],\n",
       " [Text(1.0754393318094824, 0.23114982932542724, 'Africa'),\n",
       "  Text(0.9766376964107641, 0.5061410968786041, 'Asia'),\n",
       "  Text(-0.6091785234187155, 0.9159156765802153, 'Europe'),\n",
       "  Text(-0.6237980449763113, -0.9060220742806061, 'North America'),\n",
       "  Text(0.14652527511625277, -1.0901973875184745, 'Oceania'),\n",
       "  Text(0.9580077791020227, -0.5405747822272237, 'South America')],\n",
       " [Text(0.5866032718960813, 0.12608172508659668, '6.7%'),\n",
       "  Text(0.5327114707695076, 0.276076961933784, '1.7%'),\n",
       "  Text(-0.3322791945920266, 0.49959036904375376, '51.7%'),\n",
       "  Text(-0.3402534790779879, -0.49419385869851234, '10.4%'),\n",
       "  Text(0.07992287733613786, -0.5946531204646224, '13.0%'),\n",
       "  Text(0.5225496976920123, -0.29485897212394013, '16.4%')])"
      ]
     },
     "execution_count": 59,
     "metadata": {},
     "output_type": "execute_result"
    },
    {
     "data": {
      "image/png": "[encoded data removed]",
      "text/plain": [
       "<Figure size 432x288 with 1 Axes>"
      ]
     },
     "metadata": {},
     "output_type": "display_data"
    }
   ],
   "source": [
    "#Average liters of wine drunk by continent and a pie chart\n",
    "wine_by_continent_mean=merged_with_wine_df.groupby(\"Continent\")[[\"Wine Consumption per capita (Liters)\"]].mean()\n",
    "plt.pie(wine_by_continent_mean, labels=continents, autopct='%1.1f%%')"
   ]
  },
  {
   "cell_type": "code",
   "execution_count": 60,
   "metadata": {},
   "outputs": [
    {
     "data": {
      "text/plain": [
       "array([[ 7.64938662],\n",
       "       [ 2.73982558],\n",
       "       [27.19898606],\n",
       "       [ 8.23267641],\n",
       "       [19.92941176],\n",
       "       [12.76442308]])"
      ]
     },
     "execution_count": 60,
     "metadata": {},
     "output_type": "execute_result"
    }
   ],
   "source": [
    "#Percentage of wine out of total alcohol drank per continent\n",
    "grouped_continent_wine_percentage=wine_by_continent_sum.values/alcohol_by_continent_sum.values*100\n",
    "grouped_continent_wine_percentage"
   ]
  },
  {
   "cell_type": "code",
   "execution_count": 61,
   "metadata": {},
   "outputs": [],
   "source": [
    "#Output CSV for merged data\n",
    "merged_with_wine_df.to_csv(\"merged_with_wine_df.csv\")"
   ]
  },
  {
   "cell_type": "markdown",
   "metadata": {},
   "source": [
    "## Cleaning Data for Further Correlations Between Alcohol Consumption and GDP, Life Expectancy, Happiness Score and Mental Health"
   ]
  },
  {
   "cell_type": "code",
   "execution_count": 62,
   "metadata": {
    "scrolled": false
   },
   "outputs": [
    {
     "data": {
      "text/plain": [
       "141"
      ]
     },
     "execution_count": 62,
     "metadata": {},
     "output_type": "execute_result"
    }
   ],
   "source": [
    "#Dropping NaN values from the dataframe to calculate further correlations\n",
    "gdp_and_life_expectancy_df=merged_with_wine_df.dropna(subset=['GDP per capita', 'Life Expectancy'])\n",
    "len(gdp_and_life_expectancy_df)"
   ]
  },
  {
   "cell_type": "code",
   "execution_count": 63,
   "metadata": {
    "scrolled": true
   },
   "outputs": [
    {
     "data": {
      "text/plain": [
       "Europe           43\n",
       "Africa           39\n",
       "Asia             34\n",
       "North America    13\n",
       "South America    10\n",
       "Oceania           2\n",
       "Name: Continent, dtype: int64"
      ]
     },
     "execution_count": 63,
     "metadata": {},
     "output_type": "execute_result"
    }
   ],
   "source": [
    "#Dispalying number of datapoints per each continent in this dataframe\n",
    "gdp_and_life_expectancy_df_countries_by_continent=gdp_and_life_expectancy_df[\"Continent\"].value_counts()\n",
    "gdp_and_life_expectancy_df_countries_by_continent"
   ]
  },
  {
   "cell_type": "code",
   "execution_count": 64,
   "metadata": {
    "scrolled": true
   },
   "outputs": [
    {
     "data": {
      "text/plain": [
       "<matplotlib.axes._subplots.AxesSubplot at 0x7ff13b3c3d90>"
      ]
     },
     "execution_count": 64,
     "metadata": {},
     "output_type": "execute_result"
    },
    {
     "data": {
      "image/png": "[encoded data removed]",
      "text/plain": [
       "<Figure size 864x216 with 1 Axes>"
      ]
     },
     "metadata": {
      "needs_background": "light"
     },
     "output_type": "display_data"
    }
   ],
   "source": [
    "#Visual for the number of datapoints in each continent\n",
    "gdp_and_life_expectancy_df_countries_by_continent.plot(kind='bar', figsize=(12,3), title ='Number of Measurements per Continent')"
   ]
  },
  {
   "cell_type": "code",
   "execution_count": 65,
   "metadata": {
    "scrolled": true
   },
   "outputs": [
    {
     "data": {
      "text/html": [
       "<div>\n",
       "<style scoped>\n",
       "    .dataframe tbody tr th:only-of-type {\n",
       "        vertical-align: middle;\n",
       "    }\n",
       "\n",
       "    .dataframe tbody tr th {\n",
       "        vertical-align: top;\n",
       "    }\n",
       "\n",
       "    .dataframe thead th {\n",
       "        text-align: right;\n",
       "    }\n",
       "</style>\n",
       "<table border=\"1\" class=\"dataframe\">\n",
       "  <thead>\n",
       "    <tr style=\"text-align: right;\">\n",
       "      <th></th>\n",
       "      <th>Alcohol Consumption Per Capita (Liters)</th>\n",
       "      <th>Happiness Score</th>\n",
       "      <th>Life Expectancy</th>\n",
       "      <th>GDP per capita</th>\n",
       "      <th>Mental Health Disorders (%)</th>\n",
       "      <th>Wine Consumption per capita (Liters)</th>\n",
       "    </tr>\n",
       "  </thead>\n",
       "  <tbody>\n",
       "    <tr>\n",
       "      <th>count</th>\n",
       "      <td>141.000000</td>\n",
       "      <td>141.000000</td>\n",
       "      <td>141.000000</td>\n",
       "      <td>141.000000</td>\n",
       "      <td>141.000000</td>\n",
       "      <td>141.000000</td>\n",
       "    </tr>\n",
       "    <tr>\n",
       "      <th>mean</th>\n",
       "      <td>6.480142</td>\n",
       "      <td>5.497109</td>\n",
       "      <td>64.637501</td>\n",
       "      <td>9.309033</td>\n",
       "      <td>13.068401</td>\n",
       "      <td>1.085816</td>\n",
       "    </tr>\n",
       "    <tr>\n",
       "      <th>std</th>\n",
       "      <td>4.112111</td>\n",
       "      <td>1.112771</td>\n",
       "      <td>6.814233</td>\n",
       "      <td>1.192886</td>\n",
       "      <td>1.892776</td>\n",
       "      <td>1.633237</td>\n",
       "    </tr>\n",
       "    <tr>\n",
       "      <th>min</th>\n",
       "      <td>0.000000</td>\n",
       "      <td>2.566900</td>\n",
       "      <td>45.200001</td>\n",
       "      <td>6.492642</td>\n",
       "      <td>10.067097</td>\n",
       "      <td>0.000000</td>\n",
       "    </tr>\n",
       "    <tr>\n",
       "      <th>25%</th>\n",
       "      <td>2.800000</td>\n",
       "      <td>4.729300</td>\n",
       "      <td>59.599152</td>\n",
       "      <td>8.350645</td>\n",
       "      <td>11.630930</td>\n",
       "      <td>0.020000</td>\n",
       "    </tr>\n",
       "    <tr>\n",
       "      <th>50%</th>\n",
       "      <td>6.600000</td>\n",
       "      <td>5.541500</td>\n",
       "      <td>66.404343</td>\n",
       "      <td>9.500369</td>\n",
       "      <td>12.526669</td>\n",
       "      <td>0.170000</td>\n",
       "    </tr>\n",
       "    <tr>\n",
       "      <th>75%</th>\n",
       "      <td>9.800000</td>\n",
       "      <td>6.228500</td>\n",
       "      <td>69.002548</td>\n",
       "      <td>10.263742</td>\n",
       "      <td>14.536026</td>\n",
       "      <td>1.670000</td>\n",
       "    </tr>\n",
       "    <tr>\n",
       "      <th>max</th>\n",
       "      <td>15.200000</td>\n",
       "      <td>7.808700</td>\n",
       "      <td>76.804581</td>\n",
       "      <td>11.450681</td>\n",
       "      <td>18.495605</td>\n",
       "      <td>6.400000</td>\n",
       "    </tr>\n",
       "  </tbody>\n",
       "</table>\n",
       "</div>"
      ],
      "text/plain": [
       "       Alcohol Consumption Per Capita (Liters)  Happiness Score  \\\n",
       "count                               141.000000       141.000000   \n",
       "mean                                  6.480142         5.497109   \n",
       "std                                   4.112111         1.112771   \n",
       "min                                   0.000000         2.566900   \n",
       "25%                                   2.800000         4.729300   \n",
       "50%                                   6.600000         5.541500   \n",
       "75%                                   9.800000         6.228500   \n",
       "max                                  15.200000         7.808700   \n",
       "\n",
       "       Life Expectancy  GDP per capita  Mental Health Disorders (%)  \\\n",
       "count       141.000000      141.000000                   141.000000   \n",
       "mean         64.637501        9.309033                    13.068401   \n",
       "std           6.814233        1.192886                     1.892776   \n",
       "min          45.200001        6.492642                    10.067097   \n",
       "25%          59.599152        8.350645                    11.630930   \n",
       "50%          66.404343        9.500369                    12.526669   \n",
       "75%          69.002548       10.263742                    14.536026   \n",
       "max          76.804581       11.450681                    18.495605   \n",
       "\n",
       "       Wine Consumption per capita (Liters)  \n",
       "count                            141.000000  \n",
       "mean                               1.085816  \n",
       "std                                1.633237  \n",
       "min                                0.000000  \n",
       "25%                                0.020000  \n",
       "50%                                0.170000  \n",
       "75%                                1.670000  \n",
       "max                                6.400000  "
      ]
     },
     "execution_count": 65,
     "metadata": {},
     "output_type": "execute_result"
    }
   ],
   "source": [
    "#Statistical analysis of data in the final dataframe\n",
    "gdp_and_life_expectancy_df.describe()"
   ]
  },
  {
   "cell_type": "markdown",
   "metadata": {},
   "source": [
    "## Looking at correlations between Alcohol Consumption and GDP, Life Expectancy, Happiness Score and Mental Health per Continent"
   ]
  },
  {
   "cell_type": "code",
   "execution_count": 66,
   "metadata": {},
   "outputs": [],
   "source": [
    "#Define function to build linear regressions\n",
    "def plot_linear_regression(x_values, y_values, title, text_coordinates):\n",
    "    (slope, intercept, rvalue, pvalue, stderr) = linregress(x_values, y_values)\n",
    "    regress_values = x_values * slope + intercept\n",
    "    line_eq = \"y = \" + str(round(slope,2)) + \"x + \" + str(round(intercept,2))\n",
    "    plt.scatter(x_values, y_values, edgecolors='k')\n",
    "    plt.plot(x_values,regress_values, \"r-\")\n",
    "    plt.xlabel('Alcohol Consumption Per Capita (Liters)')\n",
    "    plt.ylabel(title)\n",
    "    plt.annotate(line_eq,text_coordinates,fontsize=15,color=\"red\")\n",
    "    print(f\"The r-value is: {rvalue**2}\")\n",
    "    plt.show()"
   ]
  },
  {
   "cell_type": "code",
   "execution_count": 67,
   "metadata": {},
   "outputs": [
    {
     "data": {
      "text/html": [
       "<div>\n",
       "<style scoped>\n",
       "    .dataframe tbody tr th:only-of-type {\n",
       "        vertical-align: middle;\n",
       "    }\n",
       "\n",
       "    .dataframe tbody tr th {\n",
       "        vertical-align: top;\n",
       "    }\n",
       "\n",
       "    .dataframe thead th {\n",
       "        text-align: right;\n",
       "    }\n",
       "</style>\n",
       "<table border=\"1\" class=\"dataframe\">\n",
       "  <thead>\n",
       "    <tr style=\"text-align: right;\">\n",
       "      <th></th>\n",
       "      <th>Happiness Score</th>\n",
       "    </tr>\n",
       "    <tr>\n",
       "      <th>Continent</th>\n",
       "      <th></th>\n",
       "    </tr>\n",
       "  </thead>\n",
       "  <tbody>\n",
       "    <tr>\n",
       "      <th>Africa</th>\n",
       "      <td>4.441672</td>\n",
       "    </tr>\n",
       "    <tr>\n",
       "      <th>Asia</th>\n",
       "      <td>5.282953</td>\n",
       "    </tr>\n",
       "    <tr>\n",
       "      <th>Europe</th>\n",
       "      <td>6.231049</td>\n",
       "    </tr>\n",
       "    <tr>\n",
       "      <th>North America</th>\n",
       "      <td>6.184008</td>\n",
       "    </tr>\n",
       "    <tr>\n",
       "      <th>Oceania</th>\n",
       "      <td>7.261200</td>\n",
       "    </tr>\n",
       "    <tr>\n",
       "      <th>South America</th>\n",
       "      <td>5.939710</td>\n",
       "    </tr>\n",
       "  </tbody>\n",
       "</table>\n",
       "</div>"
      ],
      "text/plain": [
       "               Happiness Score\n",
       "Continent                     \n",
       "Africa                4.441672\n",
       "Asia                  5.282953\n",
       "Europe                6.231049\n",
       "North America         6.184008\n",
       "Oceania               7.261200\n",
       "South America         5.939710"
      ]
     },
     "execution_count": 67,
     "metadata": {},
     "output_type": "execute_result"
    }
   ],
   "source": [
    "#Average Happiness Score by Continent\n",
    "happiness_score_mean=gdp_and_life_expectancy_df.groupby(\"Continent\")[[\"Happiness Score\"]].mean()\n",
    "happiness_score_mean"
   ]
  },
  {
   "cell_type": "code",
   "execution_count": 68,
   "metadata": {},
   "outputs": [
    {
     "name": "stdout",
     "output_type": "stream",
     "text": [
      "The r-value is: 0.18116385485317182\n"
     ]
    },
    {
     "data": {
      "image/png": "[encoded data removed]",
      "text/plain": [
       "<Figure size 432x288 with 1 Axes>"
      ]
     },
     "metadata": {
      "needs_background": "light"
     },
     "output_type": "display_data"
    }
   ],
   "source": [
    "#Plot linear regression between the Happiness Score and Alcohol Consumption\n",
    "x_values=gdp_and_life_expectancy_df['Alcohol Consumption Per Capita (Liters)']\n",
    "y_values=gdp_and_life_expectancy_df['Happiness Score']\n",
    "plot_linear_regression(x_values,y_values,'Happiness Score',(6,4))"
   ]
  },
  {
   "cell_type": "code",
   "execution_count": 69,
   "metadata": {},
   "outputs": [
    {
     "data": {
      "text/plain": [
       "<matplotlib.axes._subplots.AxesSubplot at 0x7ff13b8614f0>"
      ]
     },
     "execution_count": 69,
     "metadata": {},
     "output_type": "execute_result"
    },
    {
     "data": {
      "image/png": "[encoded data removed]",
      "text/plain": [
       "<Figure size 1440x720 with 1 Axes>"
      ]
     },
     "metadata": {
      "needs_background": "light"
     },
     "output_type": "display_data"
    }
   ],
   "source": [
    "#Boxplot of Happiness Score by Continent\n",
    "gdp_and_life_expectancy_df.boxplot(\"Happiness Score\", by=\"Continent\", figsize=(20, 10), flierprops=dict(markerfacecolor='red', markersize=10))"
   ]
  },
  {
   "cell_type": "code",
   "execution_count": 70,
   "metadata": {},
   "outputs": [
    {
     "data": {
      "text/html": [
       "<div>\n",
       "<style scoped>\n",
       "    .dataframe tbody tr th:only-of-type {\n",
       "        vertical-align: middle;\n",
       "    }\n",
       "\n",
       "    .dataframe tbody tr th {\n",
       "        vertical-align: top;\n",
       "    }\n",
       "\n",
       "    .dataframe thead th {\n",
       "        text-align: right;\n",
       "    }\n",
       "</style>\n",
       "<table border=\"1\" class=\"dataframe\">\n",
       "  <thead>\n",
       "    <tr style=\"text-align: right;\">\n",
       "      <th></th>\n",
       "      <th>Life Expectancy</th>\n",
       "    </tr>\n",
       "    <tr>\n",
       "      <th>Continent</th>\n",
       "      <th></th>\n",
       "    </tr>\n",
       "  </thead>\n",
       "  <tbody>\n",
       "    <tr>\n",
       "      <th>Africa</th>\n",
       "      <td>56.636795</td>\n",
       "    </tr>\n",
       "    <tr>\n",
       "      <th>Asia</th>\n",
       "      <td>65.107686</td>\n",
       "    </tr>\n",
       "    <tr>\n",
       "      <th>Europe</th>\n",
       "      <td>69.805096</td>\n",
       "    </tr>\n",
       "    <tr>\n",
       "      <th>North America</th>\n",
       "      <td>66.825558</td>\n",
       "    </tr>\n",
       "    <tr>\n",
       "      <th>Oceania</th>\n",
       "      <td>73.403584</td>\n",
       "    </tr>\n",
       "    <tr>\n",
       "      <th>South America</th>\n",
       "      <td>67.423274</td>\n",
       "    </tr>\n",
       "  </tbody>\n",
       "</table>\n",
       "</div>"
      ],
      "text/plain": [
       "               Life Expectancy\n",
       "Continent                     \n",
       "Africa               56.636795\n",
       "Asia                 65.107686\n",
       "Europe               69.805096\n",
       "North America        66.825558\n",
       "Oceania              73.403584\n",
       "South America        67.423274"
      ]
     },
     "execution_count": 70,
     "metadata": {},
     "output_type": "execute_result"
    }
   ],
   "source": [
    "#Average Life Expectancy by Continent\n",
    "life_expectancy_by_continent_mean=gdp_and_life_expectancy_df.groupby(\"Continent\")[[\"Life Expectancy\"]].mean()\n",
    "life_expectancy_by_continent_mean"
   ]
  },
  {
   "cell_type": "code",
   "execution_count": 71,
   "metadata": {
    "scrolled": true
   },
   "outputs": [
    {
     "name": "stdout",
     "output_type": "stream",
     "text": [
      "The r-value is: 0.15718368589991474\n"
     ]
    },
    {
     "data": {
      "image/png": "[encoded data removed]",
      "text/plain": [
       "<Figure size 432x288 with 1 Axes>"
      ]
     },
     "metadata": {
      "needs_background": "light"
     },
     "output_type": "display_data"
    }
   ],
   "source": [
    "#Plot linear regression between the Life Expectancy and Alcohol Consumption\n",
    "x_values=gdp_and_life_expectancy_df['Alcohol Consumption Per Capita (Liters)']\n",
    "y_values=gdp_and_life_expectancy_df['Life Expectancy']\n",
    "plot_linear_regression(x_values,y_values,'Life Expectancy',(6,60))"
   ]
  },
  {
   "cell_type": "code",
   "execution_count": 72,
   "metadata": {},
   "outputs": [
    {
     "data": {
      "text/plain": [
       "<matplotlib.axes._subplots.AxesSubplot at 0x7ff13e313fa0>"
      ]
     },
     "execution_count": 72,
     "metadata": {},
     "output_type": "execute_result"
    },
    {
     "data": {
      "image/png": "[encoded data removed]",
      "text/plain": [
       "<Figure size 1440x720 with 1 Axes>"
      ]
     },
     "metadata": {
      "needs_background": "light"
     },
     "output_type": "display_data"
    }
   ],
   "source": [
    "#Boxplot of Life Expectancy by Continent\n",
    "gdp_and_life_expectancy_df.boxplot(\"Life Expectancy\", by=\"Continent\", figsize=(20, 10), flierprops=dict(markerfacecolor='red', markersize=10))"
   ]
  },
  {
   "cell_type": "code",
   "execution_count": 73,
   "metadata": {},
   "outputs": [
    {
     "data": {
      "text/html": [
       "<div>\n",
       "<style scoped>\n",
       "    .dataframe tbody tr th:only-of-type {\n",
       "        vertical-align: middle;\n",
       "    }\n",
       "\n",
       "    .dataframe tbody tr th {\n",
       "        vertical-align: top;\n",
       "    }\n",
       "\n",
       "    .dataframe thead th {\n",
       "        text-align: right;\n",
       "    }\n",
       "</style>\n",
       "<table border=\"1\" class=\"dataframe\">\n",
       "  <thead>\n",
       "    <tr style=\"text-align: right;\">\n",
       "      <th></th>\n",
       "      <th>GDP per capita</th>\n",
       "    </tr>\n",
       "    <tr>\n",
       "      <th>Continent</th>\n",
       "      <th></th>\n",
       "    </tr>\n",
       "  </thead>\n",
       "  <tbody>\n",
       "    <tr>\n",
       "      <th>Africa</th>\n",
       "      <td>8.079819</td>\n",
       "    </tr>\n",
       "    <tr>\n",
       "      <th>Asia</th>\n",
       "      <td>9.376013</td>\n",
       "    </tr>\n",
       "    <tr>\n",
       "      <th>Europe</th>\n",
       "      <td>10.243561</td>\n",
       "    </tr>\n",
       "    <tr>\n",
       "      <th>North America</th>\n",
       "      <td>9.400182</td>\n",
       "    </tr>\n",
       "    <tr>\n",
       "      <th>Oceania</th>\n",
       "      <td>10.610770</td>\n",
       "    </tr>\n",
       "    <tr>\n",
       "      <th>South America</th>\n",
       "      <td>9.477927</td>\n",
       "    </tr>\n",
       "  </tbody>\n",
       "</table>\n",
       "</div>"
      ],
      "text/plain": [
       "               GDP per capita\n",
       "Continent                    \n",
       "Africa               8.079819\n",
       "Asia                 9.376013\n",
       "Europe              10.243561\n",
       "North America        9.400182\n",
       "Oceania             10.610770\n",
       "South America        9.477927"
      ]
     },
     "execution_count": 73,
     "metadata": {},
     "output_type": "execute_result"
    }
   ],
   "source": [
    "#Average GDP by Continent\n",
    "gdp_by_continent_mean=gdp_and_life_expectancy_df.groupby(\"Continent\")[[\"GDP per capita\"]].mean()\n",
    "gdp_by_continent_mean"
   ]
  },
  {
   "cell_type": "code",
   "execution_count": 74,
   "metadata": {},
   "outputs": [
    {
     "name": "stdout",
     "output_type": "stream",
     "text": [
      "The r-value is: 0.20507265852518977\n"
     ]
    },
    {
     "data": {
      "image/png": "[encoded data removed]",
      "text/plain": [
       "<Figure size 432x288 with 1 Axes>"
      ]
     },
     "metadata": {
      "needs_background": "light"
     },
     "output_type": "display_data"
    }
   ],
   "source": [
    "#Plot linear regression between the GDP per capita and Alcohol Consumption\n",
    "x_values=gdp_and_life_expectancy_df['Alcohol Consumption Per Capita (Liters)']\n",
    "y_values=gdp_and_life_expectancy_df['GDP per capita']\n",
    "plot_linear_regression(x_values,y_values,'GDP per capita',(6,9))"
   ]
  },
  {
   "cell_type": "code",
   "execution_count": 75,
   "metadata": {},
   "outputs": [
    {
     "data": {
      "text/plain": [
       "<matplotlib.axes._subplots.AxesSubplot at 0x7ff13eacdd30>"
      ]
     },
     "execution_count": 75,
     "metadata": {},
     "output_type": "execute_result"
    },
    {
     "data": {
      "image/png": "[encoded data removed]",
      "text/plain": [
       "<Figure size 1440x720 with 1 Axes>"
      ]
     },
     "metadata": {
      "needs_background": "light"
     },
     "output_type": "display_data"
    }
   ],
   "source": [
    "#Boxplot of GDP by Continent\n",
    "gdp_and_life_expectancy_df.boxplot(\"GDP per capita\", by=\"Continent\", figsize=(20, 10), flierprops=dict(markerfacecolor='red', markersize=10))"
   ]
  },
  {
   "cell_type": "code",
   "execution_count": 76,
   "metadata": {},
   "outputs": [
    {
     "data": {
      "text/html": [
       "<div>\n",
       "<style scoped>\n",
       "    .dataframe tbody tr th:only-of-type {\n",
       "        vertical-align: middle;\n",
       "    }\n",
       "\n",
       "    .dataframe tbody tr th {\n",
       "        vertical-align: top;\n",
       "    }\n",
       "\n",
       "    .dataframe thead th {\n",
       "        text-align: right;\n",
       "    }\n",
       "</style>\n",
       "<table border=\"1\" class=\"dataframe\">\n",
       "  <thead>\n",
       "    <tr style=\"text-align: right;\">\n",
       "      <th></th>\n",
       "      <th>Mental Health Disorders (%)</th>\n",
       "    </tr>\n",
       "    <tr>\n",
       "      <th>Continent</th>\n",
       "      <th></th>\n",
       "    </tr>\n",
       "  </thead>\n",
       "  <tbody>\n",
       "    <tr>\n",
       "      <th>Africa</th>\n",
       "      <td>12.644170</td>\n",
       "    </tr>\n",
       "    <tr>\n",
       "      <th>Asia</th>\n",
       "      <td>13.062704</td>\n",
       "    </tr>\n",
       "    <tr>\n",
       "      <th>Europe</th>\n",
       "      <td>13.324556</td>\n",
       "    </tr>\n",
       "    <tr>\n",
       "      <th>North America</th>\n",
       "      <td>12.461781</td>\n",
       "    </tr>\n",
       "    <tr>\n",
       "      <th>Oceania</th>\n",
       "      <td>18.286749</td>\n",
       "    </tr>\n",
       "    <tr>\n",
       "      <th>South America</th>\n",
       "      <td>13.385746</td>\n",
       "    </tr>\n",
       "  </tbody>\n",
       "</table>\n",
       "</div>"
      ],
      "text/plain": [
       "               Mental Health Disorders (%)\n",
       "Continent                                 \n",
       "Africa                           12.644170\n",
       "Asia                             13.062704\n",
       "Europe                           13.324556\n",
       "North America                    12.461781\n",
       "Oceania                          18.286749\n",
       "South America                    13.385746"
      ]
     },
     "execution_count": 76,
     "metadata": {},
     "output_type": "execute_result"
    }
   ],
   "source": [
    "#Average mental health disorders by Continent\n",
    "mental_health_by_continent_mean=gdp_and_life_expectancy_df.groupby(\"Continent\")[[\"Mental Health Disorders (%)\"]].mean()\n",
    "mental_health_by_continent_mean"
   ]
  },
  {
   "cell_type": "code",
   "execution_count": 77,
   "metadata": {
    "scrolled": false
   },
   "outputs": [
    {
     "name": "stdout",
     "output_type": "stream",
     "text": [
      "The r-value is: 0.007723890876234616\n"
     ]
    },
    {
     "data": {
      "image/png": "[encoded data removed]",
      "text/plain": [
       "<Figure size 432x288 with 1 Axes>"
      ]
     },
     "metadata": {
      "needs_background": "light"
     },
     "output_type": "display_data"
    }
   ],
   "source": [
    "#Plot linear regression between the Mental Health Disorders and Alcohol Consumption\n",
    "x_values=gdp_and_life_expectancy_df['Alcohol Consumption Per Capita (Liters)']\n",
    "y_values=gdp_and_life_expectancy_df['Mental Health Disorders (%)']\n",
    "plot_linear_regression(x_values,y_values,'Mental Health Disorders (%)',(6,14))"
   ]
  },
  {
   "cell_type": "code",
   "execution_count": 78,
   "metadata": {},
   "outputs": [
    {
     "data": {
      "text/plain": [
       "<matplotlib.axes._subplots.AxesSubplot at 0x7ff13ead2b20>"
      ]
     },
     "execution_count": 78,
     "metadata": {},
     "output_type": "execute_result"
    },
    {
     "data": {
      "image/png": "[encoded data removed]",
      "text/plain": [
       "<Figure size 1440x720 with 1 Axes>"
      ]
     },
     "metadata": {
      "needs_background": "light"
     },
     "output_type": "display_data"
    }
   ],
   "source": [
    "#Boxplot of mental health disorders by Continent\n",
    "gdp_and_life_expectancy_df.boxplot(\"Mental Health Disorders (%)\", by=\"Continent\", figsize=(20, 10), flierprops=dict(markerfacecolor='red', markersize=10))"
   ]
  },
  {
   "cell_type": "markdown",
   "metadata": {},
   "source": [
    "## Looking at correlations between Wine Consumption and GDP, Life Expectancy, Happiness Score and Mental Health in Europe"
   ]
  },
  {
   "cell_type": "code",
   "execution_count": 79,
   "metadata": {
    "scrolled": true
   },
   "outputs": [
    {
     "data": {
      "text/html": [
       "<div>\n",
       "<style scoped>\n",
       "    .dataframe tbody tr th:only-of-type {\n",
       "        vertical-align: middle;\n",
       "    }\n",
       "\n",
       "    .dataframe tbody tr th {\n",
       "        vertical-align: top;\n",
       "    }\n",
       "\n",
       "    .dataframe thead th {\n",
       "        text-align: right;\n",
       "    }\n",
       "</style>\n",
       "<table border=\"1\" class=\"dataframe\">\n",
       "  <thead>\n",
       "    <tr style=\"text-align: right;\">\n",
       "      <th></th>\n",
       "      <th>Continent</th>\n",
       "      <th>Country Code</th>\n",
       "      <th>Country</th>\n",
       "      <th>Alcohol Consumption Per Capita (Liters)</th>\n",
       "      <th>Climate</th>\n",
       "      <th>Region</th>\n",
       "      <th>Happiness Score</th>\n",
       "      <th>Life Expectancy</th>\n",
       "      <th>GDP per capita</th>\n",
       "      <th>Mental Health Disorders (%)</th>\n",
       "      <th>Wine Consumption per capita (Liters)</th>\n",
       "    </tr>\n",
       "  </thead>\n",
       "  <tbody>\n",
       "    <tr>\n",
       "      <th>81</th>\n",
       "      <td>Europe</td>\n",
       "      <td>ITA</td>\n",
       "      <td>Italy</td>\n",
       "      <td>7.5</td>\n",
       "      <td>predominantly Mediterranean; alpine in far nor...</td>\n",
       "      <td>Western Europe</td>\n",
       "      <td>6.3874</td>\n",
       "      <td>73.601685</td>\n",
       "      <td>10.481836</td>\n",
       "      <td>15.214273</td>\n",
       "      <td>4.97</td>\n",
       "    </tr>\n",
       "    <tr>\n",
       "      <th>73</th>\n",
       "      <td>Europe</td>\n",
       "      <td>HUN</td>\n",
       "      <td>Hungary</td>\n",
       "      <td>11.4</td>\n",
       "      <td>temperate; cold, cloudy, humid winters; warm s...</td>\n",
       "      <td>Central and Eastern Europe</td>\n",
       "      <td>6.0004</td>\n",
       "      <td>67.609970</td>\n",
       "      <td>10.249244</td>\n",
       "      <td>11.758843</td>\n",
       "      <td>3.35</td>\n",
       "    </tr>\n",
       "    <tr>\n",
       "      <th>6</th>\n",
       "      <td>Europe</td>\n",
       "      <td>AZE</td>\n",
       "      <td>Azerbaijan</td>\n",
       "      <td>0.8</td>\n",
       "      <td>dry, semiarid steppe</td>\n",
       "      <td>Commonwealth of Independent States</td>\n",
       "      <td>5.1648</td>\n",
       "      <td>65.508400</td>\n",
       "      <td>9.687727</td>\n",
       "      <td>10.495815</td>\n",
       "      <td>0.23</td>\n",
       "    </tr>\n",
       "    <tr>\n",
       "      <th>44</th>\n",
       "      <td>Europe</td>\n",
       "      <td>CYP</td>\n",
       "      <td>Cyprus</td>\n",
       "      <td>10.8</td>\n",
       "      <td>temperate; Mediterranean with hot, dry summers...</td>\n",
       "      <td>Western Europe</td>\n",
       "      <td>6.1590</td>\n",
       "      <td>73.702225</td>\n",
       "      <td>10.405703</td>\n",
       "      <td>14.277582</td>\n",
       "      <td>2.48</td>\n",
       "    </tr>\n",
       "    <tr>\n",
       "      <th>146</th>\n",
       "      <td>Europe</td>\n",
       "      <td>SRB</td>\n",
       "      <td>Serbia</td>\n",
       "      <td>11.1</td>\n",
       "      <td>in the north, continental climate (cold winter...</td>\n",
       "      <td>Central and Eastern Europe</td>\n",
       "      <td>5.7782</td>\n",
       "      <td>68.210205</td>\n",
       "      <td>9.680981</td>\n",
       "      <td>11.303094</td>\n",
       "      <td>4.16</td>\n",
       "    </tr>\n",
       "  </tbody>\n",
       "</table>\n",
       "</div>"
      ],
      "text/plain": [
       "    Continent Country Code     Country  \\\n",
       "81     Europe          ITA       Italy   \n",
       "73     Europe          HUN     Hungary   \n",
       "6      Europe          AZE  Azerbaijan   \n",
       "44     Europe          CYP      Cyprus   \n",
       "146    Europe          SRB      Serbia   \n",
       "\n",
       "     Alcohol Consumption Per Capita (Liters)  \\\n",
       "81                                       7.5   \n",
       "73                                      11.4   \n",
       "6                                        0.8   \n",
       "44                                      10.8   \n",
       "146                                     11.1   \n",
       "\n",
       "                                               Climate  \\\n",
       "81   predominantly Mediterranean; alpine in far nor...   \n",
       "73   temperate; cold, cloudy, humid winters; warm s...   \n",
       "6                                 dry, semiarid steppe   \n",
       "44   temperate; Mediterranean with hot, dry summers...   \n",
       "146  in the north, continental climate (cold winter...   \n",
       "\n",
       "                                 Region  Happiness Score  Life Expectancy  \\\n",
       "81                       Western Europe           6.3874        73.601685   \n",
       "73           Central and Eastern Europe           6.0004        67.609970   \n",
       "6    Commonwealth of Independent States           5.1648        65.508400   \n",
       "44                       Western Europe           6.1590        73.702225   \n",
       "146          Central and Eastern Europe           5.7782        68.210205   \n",
       "\n",
       "     GDP per capita  Mental Health Disorders (%)  \\\n",
       "81        10.481836                    15.214273   \n",
       "73        10.249244                    11.758843   \n",
       "6          9.687727                    10.495815   \n",
       "44        10.405703                    14.277582   \n",
       "146        9.680981                    11.303094   \n",
       "\n",
       "     Wine Consumption per capita (Liters)  \n",
       "81                                   4.97  \n",
       "73                                   3.35  \n",
       "6                                    0.23  \n",
       "44                                   2.48  \n",
       "146                                  4.16  "
      ]
     },
     "execution_count": 79,
     "metadata": {},
     "output_type": "execute_result"
    }
   ],
   "source": [
    "#Separating Europe data into another dataframe\n",
    "only_europe_data = gdp_and_life_expectancy_df.loc[(gdp_and_life_expectancy_df[\"Continent\"]==\"Europe\")]\n",
    "only_europe_data.sample(5)"
   ]
  },
  {
   "cell_type": "code",
   "execution_count": 81,
   "metadata": {},
   "outputs": [
    {
     "data": {
      "text/html": [
       "<div>\n",
       "<style scoped>\n",
       "    .dataframe tbody tr th:only-of-type {\n",
       "        vertical-align: middle;\n",
       "    }\n",
       "\n",
       "    .dataframe tbody tr th {\n",
       "        vertical-align: top;\n",
       "    }\n",
       "\n",
       "    .dataframe thead th {\n",
       "        text-align: right;\n",
       "    }\n",
       "</style>\n",
       "<table border=\"1\" class=\"dataframe\">\n",
       "  <thead>\n",
       "    <tr style=\"text-align: right;\">\n",
       "      <th></th>\n",
       "      <th>Alcohol Consumption Per Capita (Liters)</th>\n",
       "      <th>Happiness Score</th>\n",
       "      <th>Life Expectancy</th>\n",
       "      <th>GDP per capita</th>\n",
       "      <th>Mental Health Disorders (%)</th>\n",
       "      <th>Wine Consumption per capita (Liters)</th>\n",
       "    </tr>\n",
       "  </thead>\n",
       "  <tbody>\n",
       "    <tr>\n",
       "      <th>count</th>\n",
       "      <td>43.000000</td>\n",
       "      <td>43.000000</td>\n",
       "      <td>43.000000</td>\n",
       "      <td>43.000000</td>\n",
       "      <td>43.000000</td>\n",
       "      <td>43.000000</td>\n",
       "    </tr>\n",
       "    <tr>\n",
       "      <th>mean</th>\n",
       "      <td>10.223256</td>\n",
       "      <td>6.231049</td>\n",
       "      <td>69.805096</td>\n",
       "      <td>10.243561</td>\n",
       "      <td>13.324556</td>\n",
       "      <td>2.828140</td>\n",
       "    </tr>\n",
       "    <tr>\n",
       "      <th>std</th>\n",
       "      <td>2.960360</td>\n",
       "      <td>0.904860</td>\n",
       "      <td>3.198465</td>\n",
       "      <td>0.591456</td>\n",
       "      <td>1.994888</td>\n",
       "      <td>1.787353</td>\n",
       "    </tr>\n",
       "    <tr>\n",
       "      <th>min</th>\n",
       "      <td>0.800000</td>\n",
       "      <td>4.560700</td>\n",
       "      <td>64.100456</td>\n",
       "      <td>8.776714</td>\n",
       "      <td>10.495815</td>\n",
       "      <td>0.130000</td>\n",
       "    </tr>\n",
       "    <tr>\n",
       "      <th>25%</th>\n",
       "      <td>8.650000</td>\n",
       "      <td>5.546050</td>\n",
       "      <td>67.055027</td>\n",
       "      <td>9.970097</td>\n",
       "      <td>11.573121</td>\n",
       "      <td>1.320000</td>\n",
       "    </tr>\n",
       "    <tr>\n",
       "      <th>50%</th>\n",
       "      <td>11.100000</td>\n",
       "      <td>6.159000</td>\n",
       "      <td>70.214905</td>\n",
       "      <td>10.340017</td>\n",
       "      <td>12.616894</td>\n",
       "      <td>2.870000</td>\n",
       "    </tr>\n",
       "    <tr>\n",
       "      <th>75%</th>\n",
       "      <td>12.200000</td>\n",
       "      <td>7.084750</td>\n",
       "      <td>72.403881</td>\n",
       "      <td>10.656453</td>\n",
       "      <td>15.182889</td>\n",
       "      <td>4.260000</td>\n",
       "    </tr>\n",
       "    <tr>\n",
       "      <th>max</th>\n",
       "      <td>15.200000</td>\n",
       "      <td>7.808700</td>\n",
       "      <td>74.402710</td>\n",
       "      <td>11.450681</td>\n",
       "      <td>16.640201</td>\n",
       "      <td>6.400000</td>\n",
       "    </tr>\n",
       "  </tbody>\n",
       "</table>\n",
       "</div>"
      ],
      "text/plain": [
       "       Alcohol Consumption Per Capita (Liters)  Happiness Score  \\\n",
       "count                                43.000000        43.000000   \n",
       "mean                                 10.223256         6.231049   \n",
       "std                                   2.960360         0.904860   \n",
       "min                                   0.800000         4.560700   \n",
       "25%                                   8.650000         5.546050   \n",
       "50%                                  11.100000         6.159000   \n",
       "75%                                  12.200000         7.084750   \n",
       "max                                  15.200000         7.808700   \n",
       "\n",
       "       Life Expectancy  GDP per capita  Mental Health Disorders (%)  \\\n",
       "count        43.000000       43.000000                    43.000000   \n",
       "mean         69.805096       10.243561                    13.324556   \n",
       "std           3.198465        0.591456                     1.994888   \n",
       "min          64.100456        8.776714                    10.495815   \n",
       "25%          67.055027        9.970097                    11.573121   \n",
       "50%          70.214905       10.340017                    12.616894   \n",
       "75%          72.403881       10.656453                    15.182889   \n",
       "max          74.402710       11.450681                    16.640201   \n",
       "\n",
       "       Wine Consumption per capita (Liters)  \n",
       "count                             43.000000  \n",
       "mean                               2.828140  \n",
       "std                                1.787353  \n",
       "min                                0.130000  \n",
       "25%                                1.320000  \n",
       "50%                                2.870000  \n",
       "75%                                4.260000  \n",
       "max                                6.400000  "
      ]
     },
     "execution_count": 81,
     "metadata": {},
     "output_type": "execute_result"
    }
   ],
   "source": [
    "#Statistical analysis on Europe only data\n",
    "only_europe_data.describe()"
   ]
  },
  {
   "cell_type": "markdown",
   "metadata": {},
   "source": [
    "# Overall Alcohol Consumption VS Wine Consumption Correlation with Happiness Score in Europe"
   ]
  },
  {
   "cell_type": "code",
   "execution_count": 83,
   "metadata": {},
   "outputs": [],
   "source": [
    "#Define a function for linear regressions on wine data\n",
    "def plot_wine_linear_regression(x_values, y_values, title, text_coordinates):\n",
    "    (slope, intercept, rvalue, pvalue, stderr) = linregress(x_values, y_values)\n",
    "    regress_values = x_values * slope + intercept\n",
    "    line_eq = \"y = \" + str(round(slope,2)) + \"x + \" + str(round(intercept,2))\n",
    "    plt.scatter(x_values, y_values, edgecolors='k')\n",
    "    plt.plot(x_values,regress_values, \"r-\")\n",
    "    plt.xlabel('Wine Consumption Per Capita (Liters)')\n",
    "    plt.ylabel(title)\n",
    "    plt.annotate(line_eq,text_coordinates,fontsize=15,color=\"red\")\n",
    "    print(f\"The r-value is: {rvalue**2}\")\n",
    "    plt.show()"
   ]
  },
  {
   "cell_type": "code",
   "execution_count": 84,
   "metadata": {
    "scrolled": false
   },
   "outputs": [
    {
     "name": "stdout",
     "output_type": "stream",
     "text": [
      "The r-value is: 0.09271745557343575\n"
     ]
    },
    {
     "data": {
      "image/png": "[encoded data removed]",
      "text/plain": [
       "<Figure size 432x288 with 1 Axes>"
      ]
     },
     "metadata": {
      "needs_background": "light"
     },
     "output_type": "display_data"
    },
    {
     "name": "stdout",
     "output_type": "stream",
     "text": [
      "The r-value is: 0.14178448062606994\n"
     ]
    },
    {
     "data": {
      "image/png": "[encoded data removed]",
      "text/plain": [
       "<Figure size 432x288 with 1 Axes>"
      ]
     },
     "metadata": {
      "needs_background": "light"
     },
     "output_type": "display_data"
    }
   ],
   "source": [
    "#Side by side correlation for Happiness Score and Alcohol in general and Wine Specifically in Europe only\n",
    "x_values=only_europe_data['Alcohol Consumption Per Capita (Liters)']\n",
    "y_values=only_europe_data['Happiness Score']\n",
    "plot_linear_regression(x_values,y_values,'Happiness Score',(6,7))\n",
    "x_values=only_europe_data['Wine Consumption per capita (Liters)']\n",
    "y_values=only_europe_data['Happiness Score']\n",
    "plot_wine_linear_regression(x_values,y_values,'Happiness Score',(3,7))"
   ]
  },
  {
   "cell_type": "markdown",
   "metadata": {},
   "source": [
    "# Overall Alcohol Consumption VS Wine Consumption Correlation with Life Expectancy in Europe"
   ]
  },
  {
   "cell_type": "code",
   "execution_count": 85,
   "metadata": {
    "scrolled": true
   },
   "outputs": [
    {
     "name": "stdout",
     "output_type": "stream",
     "text": [
      "The r-value is: 0.025914227061375562\n"
     ]
    },
    {
     "data": {
      "image/png": "[encoded data removed]",
      "text/plain": [
       "<Figure size 432x288 with 1 Axes>"
      ]
     },
     "metadata": {
      "needs_background": "light"
     },
     "output_type": "display_data"
    },
    {
     "name": "stdout",
     "output_type": "stream",
     "text": [
      "The r-value is: 0.31563005361696045\n"
     ]
    },
    {
     "data": {
      "image/png": "[encoded data removed]",
      "text/plain": [
       "<Figure size 432x288 with 1 Axes>"
      ]
     },
     "metadata": {
      "needs_background": "light"
     },
     "output_type": "display_data"
    }
   ],
   "source": [
    "#Side by side correlation for Life Expectancy and Alcohol in general and Wine Specifically in Europe only\n",
    "x_values=only_europe_data['Alcohol Consumption Per Capita (Liters)']\n",
    "y_values=only_europe_data['Life Expectancy']\n",
    "plot_linear_regression(x_values,y_values,'Life Expectancy',(6,70))\n",
    "x_values=only_europe_data['Wine Consumption per capita (Liters)']\n",
    "y_values=only_europe_data['Life Expectancy']\n",
    "plot_wine_linear_regression(x_values,y_values,'Life Expectancy',(3,68))"
   ]
  },
  {
   "cell_type": "markdown",
   "metadata": {},
   "source": [
    "# Overall Alcohol Consumption VS Wine Consumption Correlation with GDP in Europe"
   ]
  },
  {
   "cell_type": "code",
   "execution_count": 86,
   "metadata": {},
   "outputs": [
    {
     "name": "stdout",
     "output_type": "stream",
     "text": [
      "The r-value is: 0.06067221924242679\n"
     ]
    },
    {
     "data": {
      "image/png": "[encoded data removed]",
      "text/plain": [
       "<Figure size 432x288 with 1 Axes>"
      ]
     },
     "metadata": {
      "needs_background": "light"
     },
     "output_type": "display_data"
    },
    {
     "name": "stdout",
     "output_type": "stream",
     "text": [
      "The r-value is: 0.12392540422792007\n"
     ]
    },
    {
     "data": {
      "image/png": "[encoded data removed]",
      "text/plain": [
       "<Figure size 432x288 with 1 Axes>"
      ]
     },
     "metadata": {
      "needs_background": "light"
     },
     "output_type": "display_data"
    }
   ],
   "source": [
    "#Side by side correlation for GDP and Alcohol in general and Wine Specifically in Europe only\n",
    "x_values=only_europe_data['Alcohol Consumption Per Capita (Liters)']\n",
    "y_values=only_europe_data['GDP per capita']\n",
    "plot_linear_regression(x_values,y_values,'GDP per capita',(6,11))\n",
    "x_values=only_europe_data['Wine Consumption per capita (Liters)']\n",
    "y_values=only_europe_data['GDP per capita']\n",
    "plot_wine_linear_regression(x_values,y_values,'GDP per capita',(3,10))"
   ]
  },
  {
   "cell_type": "markdown",
   "metadata": {},
   "source": [
    "# Overall Alcohol Consumption VS Wine Consumption Correlation with Mental Health in Europe"
   ]
  },
  {
   "cell_type": "code",
   "execution_count": 88,
   "metadata": {
    "scrolled": true
   },
   "outputs": [
    {
     "name": "stdout",
     "output_type": "stream",
     "text": [
      "The r-value is: 0.012448810381493602\n"
     ]
    },
    {
     "data": {
      "image/png": "[encoded data removed]",
      "text/plain": [
       "<Figure size 432x288 with 1 Axes>"
      ]
     },
     "metadata": {
      "needs_background": "light"
     },
     "output_type": "display_data"
    },
    {
     "name": "stdout",
     "output_type": "stream",
     "text": [
      "The r-value is: 0.1744547100342905\n"
     ]
    },
    {
     "data": {
      "image/png": "[encoded data removed]",
      "text/plain": [
       "<Figure size 432x288 with 1 Axes>"
      ]
     },
     "metadata": {
      "needs_background": "light"
     },
     "output_type": "display_data"
    }
   ],
   "source": [
    "#Side by side correlation for Mental Health Disorders and Alcohol in general and Wine Specifically in Europe only\n",
    "x_values=only_europe_data['Alcohol Consumption Per Capita (Liters)']\n",
    "y_values=only_europe_data['Mental Health Disorders (%)']\n",
    "plot_linear_regression(x_values,y_values,'Mental Health Disorders (%)',(6,14))\n",
    "x_values=only_europe_data['Wine Consumption per capita (Liters)']\n",
    "y_values=only_europe_data['Mental Health Disorders (%)']\n",
    "plot_wine_linear_regression(x_values,y_values,'Mental Health Disorders (%)',(3,14))"
   ]
  },
  {
   "cell_type": "markdown",
   "metadata": {},
   "source": [
    "# Potential Causation between high GDP and high Alcohol Consumption"
   ]
  },
  {
   "cell_type": "code",
   "execution_count": 89,
   "metadata": {},
   "outputs": [
    {
     "data": {
      "text/plain": [
       "0     GDP up to 8\n",
       "1    GDP up to 10\n",
       "2    GDP up to 10\n",
       "6    GDP up to 10\n",
       "7    GDP up to 10\n",
       "Name: GDP per capita, dtype: category\n",
       "Categories (6, object): [GDP up to 7 < GDP up to 8 < GDP up to 9 < GDP up to 10 < GDP up to 11 < GDP up to 12]"
      ]
     },
     "execution_count": 89,
     "metadata": {},
     "output_type": "execute_result"
    }
   ],
   "source": [
    "#Creating bins for different GDP rates\n",
    "bins = [0, 7, 8, 9, 10, 11, 12]\n",
    "group_labels = [\"GDP up to 7\", \"GDP up to 8\", \"GDP up to 9\", \"GDP up to 10\", \"GDP up to 11\", \"GDP up to 12\"]\n",
    "pd.cut(gdp_and_life_expectancy_df[\"GDP per capita\"], bins, labels=group_labels).head()"
   ]
  },
  {
   "cell_type": "code",
   "execution_count": 90,
   "metadata": {
    "scrolled": true
   },
   "outputs": [
    {
     "name": "stderr",
     "output_type": "stream",
     "text": [
      "<ipython-input-90-24fe85567b8f>:2: SettingWithCopyWarning: \n",
      "A value is trying to be set on a copy of a slice from a DataFrame.\n",
      "Try using .loc[row_indexer,col_indexer] = value instead\n",
      "\n",
      "See the caveats in the documentation: https://pandas.pydata.org/pandas-docs/stable/user_guide/indexing.html#returning-a-view-versus-a-copy\n",
      "  gdp_and_life_expectancy_df[\"GDP Group\"] = pd.cut(gdp_and_life_expectancy_df[\"GDP per capita\"], bins, labels=group_labels)\n"
     ]
    },
    {
     "data": {
      "text/html": [
       "<div>\n",
       "<style scoped>\n",
       "    .dataframe tbody tr th:only-of-type {\n",
       "        vertical-align: middle;\n",
       "    }\n",
       "\n",
       "    .dataframe tbody tr th {\n",
       "        vertical-align: top;\n",
       "    }\n",
       "\n",
       "    .dataframe thead th {\n",
       "        text-align: right;\n",
       "    }\n",
       "</style>\n",
       "<table border=\"1\" class=\"dataframe\">\n",
       "  <thead>\n",
       "    <tr style=\"text-align: right;\">\n",
       "      <th></th>\n",
       "      <th>Continent</th>\n",
       "      <th>Country Code</th>\n",
       "      <th>Country</th>\n",
       "      <th>Alcohol Consumption Per Capita (Liters)</th>\n",
       "      <th>Climate</th>\n",
       "      <th>Region</th>\n",
       "      <th>Happiness Score</th>\n",
       "      <th>Life Expectancy</th>\n",
       "      <th>GDP per capita</th>\n",
       "      <th>Mental Health Disorders (%)</th>\n",
       "      <th>Wine Consumption per capita (Liters)</th>\n",
       "      <th>GDP Group</th>\n",
       "    </tr>\n",
       "  </thead>\n",
       "  <tbody>\n",
       "    <tr>\n",
       "      <th>79</th>\n",
       "      <td>Europe</td>\n",
       "      <td>IRL</td>\n",
       "      <td>Ireland</td>\n",
       "      <td>13.0</td>\n",
       "      <td>temperate maritime; modified by North Atlantic...</td>\n",
       "      <td>Western Europe</td>\n",
       "      <td>7.0937</td>\n",
       "      <td>72.300789</td>\n",
       "      <td>11.160978</td>\n",
       "      <td>15.414129</td>\n",
       "      <td>2.80</td>\n",
       "      <td>GDP up to 12</td>\n",
       "    </tr>\n",
       "    <tr>\n",
       "      <th>9</th>\n",
       "      <td>Europe</td>\n",
       "      <td>AUT</td>\n",
       "      <td>Austria</td>\n",
       "      <td>11.6</td>\n",
       "      <td>temperate; continental, cloudy; cold winters w...</td>\n",
       "      <td>Western Europe</td>\n",
       "      <td>7.2942</td>\n",
       "      <td>73.002502</td>\n",
       "      <td>10.742824</td>\n",
       "      <td>14.648111</td>\n",
       "      <td>4.37</td>\n",
       "      <td>GDP up to 11</td>\n",
       "    </tr>\n",
       "    <tr>\n",
       "      <th>127</th>\n",
       "      <td>North America</td>\n",
       "      <td>PAN</td>\n",
       "      <td>Panama</td>\n",
       "      <td>7.9</td>\n",
       "      <td>tropical maritime; hot, humid, cloudy; prolong...</td>\n",
       "      <td>Latin America and Caribbean</td>\n",
       "      <td>6.3048</td>\n",
       "      <td>69.603012</td>\n",
       "      <td>10.034234</td>\n",
       "      <td>10.681459</td>\n",
       "      <td>0.21</td>\n",
       "      <td>GDP up to 11</td>\n",
       "    </tr>\n",
       "    <tr>\n",
       "      <th>182</th>\n",
       "      <td>South America</td>\n",
       "      <td>VEN</td>\n",
       "      <td>Venezuela</td>\n",
       "      <td>5.6</td>\n",
       "      <td>tropical; hot, humid; more moderate in highlands</td>\n",
       "      <td>Latin America and Caribbean</td>\n",
       "      <td>5.0532</td>\n",
       "      <td>66.505341</td>\n",
       "      <td>8.977794</td>\n",
       "      <td>11.014506</td>\n",
       "      <td>0.06</td>\n",
       "      <td>GDP up to 9</td>\n",
       "    </tr>\n",
       "    <tr>\n",
       "      <th>42</th>\n",
       "      <td>Europe</td>\n",
       "      <td>HRV</td>\n",
       "      <td>Croatia</td>\n",
       "      <td>8.9</td>\n",
       "      <td>Mediterranean and continental; continental cli...</td>\n",
       "      <td>Central and Eastern Europe</td>\n",
       "      <td>5.5047</td>\n",
       "      <td>70.214905</td>\n",
       "      <td>10.070875</td>\n",
       "      <td>11.779452</td>\n",
       "      <td>6.25</td>\n",
       "      <td>GDP up to 11</td>\n",
       "    </tr>\n",
       "  </tbody>\n",
       "</table>\n",
       "</div>"
      ],
      "text/plain": [
       "         Continent Country Code    Country  \\\n",
       "79          Europe          IRL    Ireland   \n",
       "9           Europe          AUT    Austria   \n",
       "127  North America          PAN     Panama   \n",
       "182  South America          VEN  Venezuela   \n",
       "42          Europe          HRV    Croatia   \n",
       "\n",
       "     Alcohol Consumption Per Capita (Liters)  \\\n",
       "79                                      13.0   \n",
       "9                                       11.6   \n",
       "127                                      7.9   \n",
       "182                                      5.6   \n",
       "42                                       8.9   \n",
       "\n",
       "                                               Climate  \\\n",
       "79   temperate maritime; modified by North Atlantic...   \n",
       "9    temperate; continental, cloudy; cold winters w...   \n",
       "127  tropical maritime; hot, humid, cloudy; prolong...   \n",
       "182   tropical; hot, humid; more moderate in highlands   \n",
       "42   Mediterranean and continental; continental cli...   \n",
       "\n",
       "                          Region  Happiness Score  Life Expectancy  \\\n",
       "79                Western Europe           7.0937        72.300789   \n",
       "9                 Western Europe           7.2942        73.002502   \n",
       "127  Latin America and Caribbean           6.3048        69.603012   \n",
       "182  Latin America and Caribbean           5.0532        66.505341   \n",
       "42    Central and Eastern Europe           5.5047        70.214905   \n",
       "\n",
       "     GDP per capita  Mental Health Disorders (%)  \\\n",
       "79        11.160978                    15.414129   \n",
       "9         10.742824                    14.648111   \n",
       "127       10.034234                    10.681459   \n",
       "182        8.977794                    11.014506   \n",
       "42        10.070875                    11.779452   \n",
       "\n",
       "     Wine Consumption per capita (Liters)     GDP Group  \n",
       "79                                   2.80  GDP up to 12  \n",
       "9                                    4.37  GDP up to 11  \n",
       "127                                  0.21  GDP up to 11  \n",
       "182                                  0.06   GDP up to 9  \n",
       "42                                   6.25  GDP up to 11  "
      ]
     },
     "execution_count": 90,
     "metadata": {},
     "output_type": "execute_result"
    }
   ],
   "source": [
    "#Adding a column with GDP group names to the original datagrame\n",
    "gdp_and_life_expectancy_df[\"GDP Group\"] = pd.cut(gdp_and_life_expectancy_df[\"GDP per capita\"], bins, labels=group_labels)\n",
    "gdp_and_life_expectancy_df.sample(5)"
   ]
  },
  {
   "cell_type": "code",
   "execution_count": 91,
   "metadata": {
    "scrolled": true
   },
   "outputs": [
    {
     "data": {
      "text/plain": [
       "GDP up to 11    42\n",
       "GDP up to 10    41\n",
       "GDP up to 9     26\n",
       "GDP up to 8     23\n",
       "GDP up to 12     6\n",
       "GDP up to 7      3\n",
       "Name: GDP Group, dtype: int64"
      ]
     },
     "execution_count": 91,
     "metadata": {},
     "output_type": "execute_result"
    }
   ],
   "source": [
    "#Counting the number of values that fall into each GDP group\n",
    "gdp_and_life_expectancy_df_gdp_groups=gdp_and_life_expectancy_df[\"GDP Group\"].value_counts()\n",
    "gdp_and_life_expectancy_df_gdp_groups"
   ]
  },
  {
   "cell_type": "code",
   "execution_count": 92,
   "metadata": {},
   "outputs": [
    {
     "data": {
      "text/plain": [
       "<matplotlib.axes._subplots.AxesSubplot at 0x7ff13f18f610>"
      ]
     },
     "execution_count": 92,
     "metadata": {},
     "output_type": "execute_result"
    },
    {
     "data": {
      "image/png": "[encoded data removed]",
      "text/plain": [
       "<Figure size 864x216 with 1 Axes>"
      ]
     },
     "metadata": {
      "needs_background": "light"
     },
     "output_type": "display_data"
    }
   ],
   "source": [
    "#Visual for number of values in each GDP group\n",
    "gdp_and_life_expectancy_df_gdp_groups.plot(kind='bar', figsize=(12,3), title ='Number of Measurements per GDP Group')"
   ]
  },
  {
   "cell_type": "code",
   "execution_count": 93,
   "metadata": {
    "scrolled": true
   },
   "outputs": [
    {
     "data": {
      "text/plain": [
       "<matplotlib.axes._subplots.AxesSubplot at 0x7ff13fb789d0>"
      ]
     },
     "execution_count": 93,
     "metadata": {},
     "output_type": "execute_result"
    },
    {
     "data": {
      "image/png": "[encoded data removed]",
      "text/plain": [
       "<Figure size 1440x720 with 1 Axes>"
      ]
     },
     "metadata": {
      "needs_background": "light"
     },
     "output_type": "display_data"
    }
   ],
   "source": [
    "#Boxplot to show alcohol consumption in varios GDP groups\n",
    "gdp_and_life_expectancy_df.boxplot(\"Alcohol Consumption Per Capita (Liters)\", by=\"GDP Group\", figsize=(20, 10), flierprops=dict(markerfacecolor='red', markersize=10))"
   ]
  },
  {
   "cell_type": "code",
   "execution_count": 94,
   "metadata": {},
   "outputs": [
    {
     "data": {
      "text/plain": [
       "<matplotlib.axes._subplots.AxesSubplot at 0x7ff13fd03e20>"
      ]
     },
     "execution_count": 94,
     "metadata": {},
     "output_type": "execute_result"
    },
    {
     "data": {
      "image/png": "[encoded data removed]",
      "text/plain": [
       "<Figure size 1440x720 with 1 Axes>"
      ]
     },
     "metadata": {
      "needs_background": "light"
     },
     "output_type": "display_data"
    }
   ],
   "source": [
    "#Boxplot to show wine consumption in varios GDP groups\n",
    "gdp_and_life_expectancy_df.boxplot(\"Wine Consumption per capita (Liters)\", by=\"GDP Group\", figsize=(20, 10), flierprops=dict(markerfacecolor='red', markersize=10))"
   ]
  },
  {
   "cell_type": "code",
   "execution_count": 98,
   "metadata": {},
   "outputs": [],
   "source": [
    "#Define a function for a regression between GDP level and alcohol/wine consumption\n",
    "def plot_gdp_linear_regression(x_values, y_values, title, text_coordinates):\n",
    "    (slope, intercept, rvalue, pvalue, stderr) = linregress(x_values, y_values)\n",
    "    regress_values = x_values * slope + intercept\n",
    "    line_eq = \"y = \" + str(round(slope,2)) + \"x + \" + str(round(intercept,2))\n",
    "    plt.scatter(x_values, y_values, edgecolors='k')\n",
    "    plt.plot(x_values,regress_values, \"r-\")\n",
    "    plt.xlabel(\"GDP per capita\")\n",
    "    plt.ylabel(title)\n",
    "    plt.annotate(line_eq,text_coordinates,fontsize=15,color=\"red\")\n",
    "    print(f\"The r-value is: {rvalue**2}\")\n",
    "    plt.show()"
   ]
  },
  {
   "cell_type": "code",
   "execution_count": 99,
   "metadata": {},
   "outputs": [
    {
     "name": "stdout",
     "output_type": "stream",
     "text": [
      "The r-value is: 0.20507265852518977\n"
     ]
    },
    {
     "data": {
      "image/png": "[encoded data removed]",
      "text/plain": [
       "<Figure size 432x288 with 1 Axes>"
      ]
     },
     "metadata": {
      "needs_background": "light"
     },
     "output_type": "display_data"
    },
    {
     "name": "stdout",
     "output_type": "stream",
     "text": [
      "The r-value is: 0.30128299239517886\n"
     ]
    },
    {
     "data": {
      "image/png": "[encoded data removed]",
      "text/plain": [
       "<Figure size 432x288 with 1 Axes>"
      ]
     },
     "metadata": {
      "needs_background": "light"
     },
     "output_type": "display_data"
    }
   ],
   "source": [
    "#Linear regressions for GDP and Alcohol/Wine consumption worldwide\n",
    "x_values=gdp_and_life_expectancy_df['GDP per capita']\n",
    "y_values=gdp_and_life_expectancy_df['Alcohol Consumption Per Capita (Liters)']\n",
    "plot_gdp_linear_regression(x_values,y_values,'GDP per capita',(9,4))\n",
    "x_values=gdp_and_life_expectancy_df['GDP per capita']\n",
    "y_values=gdp_and_life_expectancy_df['Wine Consumption per capita (Liters)']\n",
    "plot_gdp_linear_regression(x_values,y_values,'GDP per capita',(9,4))"
   ]
  },
  {
   "cell_type": "code",
   "execution_count": 116,
   "metadata": {},
   "outputs": [],
   "source": [
    "gdp_and_life_expectancy_df.to_csv(\"gdp_and_life_expectancy_df.csv\")"
   ]
  },
  {
   "cell_type": "code",
   "execution_count": null,
   "metadata": {},
   "outputs": [],
   "source": []
  }
 ],
 "metadata": {
  "kernelspec": {
   "display_name": "Python 3",
   "language": "python",
   "name": "python3"
  },
  "language_info": {
   "codemirror_mode": {
    "name": "ipython",
    "version": 3
   },
   "file_extension": ".py",
   "mimetype": "text/x-python",
   "name": "python",
   "nbconvert_exporter": "python",
   "pygments_lexer": "ipython3",
   "version": "3.8.3"
  }
 },
 "nbformat": 4,
 "nbformat_minor": 4
}
