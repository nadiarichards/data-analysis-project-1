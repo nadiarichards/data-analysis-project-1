{
 "cells": [
  {
   "cell_type": "markdown",
   "metadata": {},
   "source": [
    "# Mega_df_playground\n"
   ]
  },
  {
   "cell_type": "markdown",
   "metadata": {},
   "source": [
    "## Basic Set Up"
   ]
  },
  {
   "cell_type": "markdown",
   "metadata": {},
   "source": [
    "#### Load Modules"
   ]
  },
  {
   "cell_type": "code",
   "execution_count": 1,
   "metadata": {},
   "outputs": [],
   "source": [
    "import matplotlib.pyplot as plt\n",
    "import pandas as pd\n",
    "import scipy.stats as st\n",
    "import numpy as np\n",
    "from IPython.display import display\n",
    "import seaborn as sn\n",
    "from pandas import DataFrame\n",
    "import requests\n",
    "import gmaps\n",
    "import os\n",
    "from pprint import pprint\n",
    "import re \n",
    "\n",
    "# Import API key\n",
    "from api_keys import g_key\n",
    "from api_keys import weather_key"
   ]
  },
  {
   "cell_type": "markdown",
   "metadata": {},
   "source": [
    "#### Create path to read files"
   ]
  },
  {
   "cell_type": "code",
   "execution_count": 2,
   "metadata": {},
   "outputs": [],
   "source": [
    "# Files to Load \n",
    "continent_file = \"Resources/continent_code.csv\"\n",
    "climate_file = \"Resources/country_climate.csv\"\n",
    "export_file = \"Resources/country_export.csv\"\n",
    "industry_file = \"Resources/country_industry.csv\"\n",
    "consumption_file = \"Resources/country_consumption.csv\"\n",
    "happiness_file = \"Resources/country_happiness.csv\"\n",
    "mental_health_file = \"Resources/mental_health.csv\"\n",
    "capitals_file = \"Resources/country_capitals.csv\"\n",
    "\n",
    "# Read csv and store into Pandas DataFrames\n",
    "continent_data = pd.read_csv(continent_file)\n",
    "climate_data = pd.read_csv(climate_file)\n",
    "export_data = pd.read_csv(export_file)\n",
    "industry_data = pd.read_csv(industry_file)\n",
    "consumption_data = pd.read_csv(consumption_file)\n",
    "happiness_data = pd.read_csv(happiness_file)\n",
    "mental_health_data = pd.read_csv(mental_health_file)\n",
    "capitals_data = pd.read_csv(capitals_file)"
   ]
  },
  {
   "cell_type": "markdown",
   "metadata": {},
   "source": [
    "## Clean Dataframes "
   ]
  },
  {
   "cell_type": "code",
   "execution_count": 3,
   "metadata": {},
   "outputs": [],
   "source": [
    "# Clean Dataframes before merge - continent_df\n",
    "continent_df = continent_data[[\"Continent_Name\",\"Three_Letter_Country_Code\"]] \n",
    "continent_df = continent_df.rename(columns={\"Three_Letter_Country_Code\": \"country_code\", \"Continent_Name\": \"continent\" })\n",
    "\n",
    "# Clean Dataframes before merge - climate_df\n",
    "climate_df = climate_data[[\"COUNTRY\",\"CLIMATE\"]]\n",
    "climate_df  = climate_df.rename(columns={\"COUNTRY\": \"country\", \"CLIMATE\": \"climate\" })\n",
    "\n",
    "# Clean Dataframes before merge - consumption_df \n",
    "consumption_df  = consumption_data.rename(columns={\"Entity\": \"country\", \"Code\": \"country_code\", \n",
    "                                                   \"Total alcohol consumption per capita (liters of pure alcohol, projected estimates, 15+ years of age)\": \"consumption_per_capita_(L)\"})\n",
    "\n",
    "# Clean Dataframes before merge - happiness_df \n",
    "happiness_df = happiness_data[[\"Country name\", \"Regional indicator\", \"Ladder score\", \"Healthy life expectancy\",\"Logged GDP per capita\"]]\n",
    "happiness_df = happiness_df.rename(columns= {\"Country name\": \"country\", \"Regional indicator\": \"region\", \"Ladder score\": \"happy_score\", \"Healthy life expectancy\": \"life_expectancy\", \"Logged GDP per capita\" : \"gdp_per_capita\"})\n",
    " "
   ]
  },
  {
   "cell_type": "code",
   "execution_count": 4,
   "metadata": {},
   "outputs": [],
   "source": [
    "# Clean Dataframes before merge - wellness_df\n",
    "wellness_df = mental_health_data.rename(columns={\"Entity\":\"country\", \"Code\": \"code\", \"Year\": \"year\", \n",
    "                                                 \"Prevalence - Mental and substance use disorders - Sex: Both - Age: Age-standardized (Percent)\": \"mental_health_and_addiction (%)\"})\n",
    "to_drop = [\"Andean Latin America\", \"Australasia\", \"Caribbean\", \"Central Asia\", \"Central Europe\", \"Central Europe, Eastern Europe, and Central Asia\",\n",
    "            \"Central Latin America\", \"Central Sub-Saharan Africa\", \"East Asia\", \"Eastern Europe\", \"Eastern Sub-Saharan Africa\",\n",
    "            \"England\", \"High SDI\", \"High Income\", \"High-income Asia Pacific\", \"High-middle SDI\", \"Latin America and Caribbean\",\n",
    "            \"Low SDI\", \"Low-middle SDI\", \"Middle SDI\", \"North Africa and Middle East\", \"North America\", \"Northern Ireland\", \"Oceania\",\n",
    "            \"Scotland\", \"South Asia\", \"Southeast Asia\", \"Southeast Asia, East Asia, and Oceania\", \"Southern Latin America\", \n",
    "            \"Southern Sub-Saharan Africa\", \"Sub-Saharan Africa\", \"Tropical Latin America\", \"Wales\", \"Western Europe\", \"Western Sub-Saharan Africa\",\n",
    "            \"World\"] \n",
    "wellness_df = wellness_df[~wellness_df['country'].isin(to_drop)]\n",
    "wellness_df = wellness_df[wellness_df['code'].notna()]\n",
    "\n",
    "# Create a new dataframe to show the avg percentage of mental health and addiction observed for each country\n",
    "wellness_subset = wellness_df.groupby(['code'])\n",
    "average_wellness_df = wellness_subset.mean()\n",
    "country_mask = wellness_df.groupby(\"country\")\n",
    "wellness_df = country_mask.first() \n",
    "\n",
    "wellness_df = wellness_df.drop(columns=['year'])\n",
    "#wellness_df"
   ]
  },
  {
   "cell_type": "code",
   "execution_count": 5,
   "metadata": {},
   "outputs": [
    {
     "data": {
      "text/plain": [
       "248"
      ]
     },
     "execution_count": 5,
     "metadata": {},
     "output_type": "execute_result"
    }
   ],
   "source": [
    "# Clean Dataframes before merge - capitals_df\n",
    "capitals_data.shape[0] \n"
   ]
  },
  {
   "cell_type": "markdown",
   "metadata": {},
   "source": [
    "## Merge DataFrames\n",
    "* df_2 = continent_df + consumption_df\n",
    "* df_3 = continent_df + consumption_df + climate_df\n",
    "* df_4 = continent_df + consumption_df + climate_df + export_data\n",
    "* df_5 = continent_df + consumption_df + climate_df + export_data + industry_data\n",
    "* df_6 = continent_df + consumption_df + climate_df + export_data + industry_data + happiness_df\n",
    "* df_7 = continent_df + consumption_df + climate_df + export_data + industry_data + happiness_df + wellness_df"
   ]
  },
  {
   "cell_type": "code",
   "execution_count": 6,
   "metadata": {},
   "outputs": [
    {
     "data": {
      "text/html": [
       "<div>\n",
       "<style scoped>\n",
       "    .dataframe tbody tr th:only-of-type {\n",
       "        vertical-align: middle;\n",
       "    }\n",
       "\n",
       "    .dataframe tbody tr th {\n",
       "        vertical-align: top;\n",
       "    }\n",
       "\n",
       "    .dataframe thead th {\n",
       "        text-align: right;\n",
       "    }\n",
       "</style>\n",
       "<table border=\"1\" class=\"dataframe\">\n",
       "  <thead>\n",
       "    <tr style=\"text-align: right;\">\n",
       "      <th></th>\n",
       "      <th>index</th>\n",
       "      <th>continent</th>\n",
       "      <th>country_code</th>\n",
       "      <th>country</th>\n",
       "      <th>consumption_per_capita_(L)</th>\n",
       "      <th>climate</th>\n",
       "      <th>main_export</th>\n",
       "      <th>main_industry</th>\n",
       "      <th>region</th>\n",
       "      <th>happy_score</th>\n",
       "      <th>life_expectancy</th>\n",
       "      <th>gdp_per_capita</th>\n",
       "      <th>code</th>\n",
       "      <th>mental_health_and_addiction (%)</th>\n",
       "      <th>capital</th>\n",
       "    </tr>\n",
       "  </thead>\n",
       "  <tbody>\n",
       "    <tr>\n",
       "      <th>0</th>\n",
       "      <td>0</td>\n",
       "      <td>Asia</td>\n",
       "      <td>AFG</td>\n",
       "      <td>Afghanistan</td>\n",
       "      <td>0.2</td>\n",
       "      <td>arid to semiarid; cold winters and hot summers</td>\n",
       "      <td>Fruit and nuts</td>\n",
       "      <td>small-scale production of bricks</td>\n",
       "      <td>South Asia</td>\n",
       "      <td>2.5669</td>\n",
       "      <td>52.590000</td>\n",
       "      <td>7.462861</td>\n",
       "      <td>AFG</td>\n",
       "      <td>17.553463</td>\n",
       "      <td>Kabul</td>\n",
       "    </tr>\n",
       "    <tr>\n",
       "      <th>1</th>\n",
       "      <td>1</td>\n",
       "      <td>Europe</td>\n",
       "      <td>ALB</td>\n",
       "      <td>Albania</td>\n",
       "      <td>7.5</td>\n",
       "      <td>mild temperate; cool, cloudy, wet winters; hot...</td>\n",
       "      <td>Chromium and chrome products</td>\n",
       "      <td>perfumes and cosmetic products</td>\n",
       "      <td>Central and Eastern Europe</td>\n",
       "      <td>4.8827</td>\n",
       "      <td>68.708138</td>\n",
       "      <td>9.417931</td>\n",
       "      <td>ALB</td>\n",
       "      <td>10.987610</td>\n",
       "      <td>Tirana</td>\n",
       "    </tr>\n",
       "    <tr>\n",
       "      <th>2</th>\n",
       "      <td>4942</td>\n",
       "      <td>Africa</td>\n",
       "      <td>DZA</td>\n",
       "      <td>Algeria</td>\n",
       "      <td>0.9</td>\n",
       "      <td>arid to semiarid; mild, wet winters with hot, ...</td>\n",
       "      <td>Oil</td>\n",
       "      <td>petroleum</td>\n",
       "      <td>Middle East and North Africa</td>\n",
       "      <td>5.0051</td>\n",
       "      <td>65.905174</td>\n",
       "      <td>9.537965</td>\n",
       "      <td>DZA</td>\n",
       "      <td>14.700388</td>\n",
       "      <td>Algiers</td>\n",
       "    </tr>\n",
       "    <tr>\n",
       "      <th>3</th>\n",
       "      <td>4943</td>\n",
       "      <td>Europe</td>\n",
       "      <td>AND</td>\n",
       "      <td>Andorra</td>\n",
       "      <td>11.3</td>\n",
       "      <td>temperate; snowy, cold winters and warm, dry s...</td>\n",
       "      <td>Tobacco products</td>\n",
       "      <td>tourism</td>\n",
       "      <td>NaN</td>\n",
       "      <td>NaN</td>\n",
       "      <td>NaN</td>\n",
       "      <td>NaN</td>\n",
       "      <td>AND</td>\n",
       "      <td>14.726869</td>\n",
       "      <td>Andorra la Vella</td>\n",
       "    </tr>\n",
       "    <tr>\n",
       "      <th>4</th>\n",
       "      <td>4944</td>\n",
       "      <td>Africa</td>\n",
       "      <td>AGO</td>\n",
       "      <td>Angola</td>\n",
       "      <td>6.4</td>\n",
       "      <td>semiarid in south and along coast to Luanda; n...</td>\n",
       "      <td>Oil</td>\n",
       "      <td>petroleum</td>\n",
       "      <td>NaN</td>\n",
       "      <td>NaN</td>\n",
       "      <td>NaN</td>\n",
       "      <td>NaN</td>\n",
       "      <td>AGO</td>\n",
       "      <td>12.498281</td>\n",
       "      <td>Luanda</td>\n",
       "    </tr>\n",
       "  </tbody>\n",
       "</table>\n",
       "</div>"
      ],
      "text/plain": [
       "   index continent country_code      country  consumption_per_capita_(L)  \\\n",
       "0      0      Asia          AFG  Afghanistan                         0.2   \n",
       "1      1    Europe          ALB      Albania                         7.5   \n",
       "2   4942    Africa          DZA      Algeria                         0.9   \n",
       "3   4943    Europe          AND      Andorra                        11.3   \n",
       "4   4944    Africa          AGO       Angola                         6.4   \n",
       "\n",
       "                                             climate  \\\n",
       "0     arid to semiarid; cold winters and hot summers   \n",
       "1  mild temperate; cool, cloudy, wet winters; hot...   \n",
       "2  arid to semiarid; mild, wet winters with hot, ...   \n",
       "3  temperate; snowy, cold winters and warm, dry s...   \n",
       "4  semiarid in south and along coast to Luanda; n...   \n",
       "\n",
       "                    main_export                     main_industry  \\\n",
       "0                Fruit and nuts  small-scale production of bricks   \n",
       "1  Chromium and chrome products    perfumes and cosmetic products   \n",
       "2                           Oil                         petroleum   \n",
       "3              Tobacco products                          tourism    \n",
       "4                           Oil                         petroleum   \n",
       "\n",
       "                         region  happy_score  life_expectancy  gdp_per_capita  \\\n",
       "0                    South Asia       2.5669        52.590000        7.462861   \n",
       "1    Central and Eastern Europe       4.8827        68.708138        9.417931   \n",
       "2  Middle East and North Africa       5.0051        65.905174        9.537965   \n",
       "3                           NaN          NaN              NaN             NaN   \n",
       "4                           NaN          NaN              NaN             NaN   \n",
       "\n",
       "  code  mental_health_and_addiction (%)           capital  \n",
       "0  AFG                        17.553463             Kabul  \n",
       "1  ALB                        10.987610            Tirana  \n",
       "2  DZA                        14.700388           Algiers  \n",
       "3  AND                        14.726869  Andorra la Vella  \n",
       "4  AGO                        12.498281            Luanda  "
      ]
     },
     "execution_count": 6,
     "metadata": {},
     "output_type": "execute_result"
    }
   ],
   "source": [
    "# Combine the data into a single dataset.  \n",
    "df_2 = pd.merge(continent_df, consumption_df, how=\"outer\", on=[\"country_code\", \"country_code\"])  \n",
    "df_3 = pd.merge(df_2, climate_df, how=\"outer\", on=[\"country\", \"country\"]) \n",
    "df_4 = pd.merge(df_3, export_data, how=\"outer\", on=[\"country\", \"country\"]) \n",
    "df_5 = pd.merge(df_4, industry_data, how=\"outer\", on=[\"country\", \"country\"]) \n",
    "df_6 = pd.merge(df_5, happiness_df, how=\"outer\", on=[\"country\", \"country\"]) \n",
    "df_7 = pd.merge(df_6, wellness_df, how=\"outer\", on=[\"country\", \"country\"]) \n",
    "df_8 = pd.merge(df_7, capitals_data, how=\"outer\",on=[\"country\", \"country\"])\n",
    "\n",
    "# Remove all rows where continent == 'Antartica'\n",
    "to_drop = ['Antarctica']\n",
    "df_9 = df_8[~df_8['continent'].isin(to_drop)]\n",
    "df_9.count() \n",
    "\n",
    "# Remove all rows where there is no value for alcohol consumption \n",
    "df_10 = df_9[df_9['consumption_per_capita_(L)'].notna()] \n",
    "df_10.count() \n",
    "\n",
    "\n",
    "# Remove all non-countries within 'country' column\n",
    "to_drop = ['Arab World', 'Caribbean small states', 'Central Europe and the Baltics', 'Early-demographic dividend',\n",
    "          'East Asia & Pacific', 'East Asia & Pacific (IDA & IBRD)', 'East Asia & Pacific (excluding high income)',\n",
    "          'Euro area', 'Europe & Central Asia', 'Europe & Central Asia (IDA & IBRD)', 'Europe & Central Asia (excluding high income)',\n",
    "          'European Union', 'Fragile and conflict affected situations', 'Heavily indebted poor countries (HIPC)', 'High income',\n",
    "          'IBRD only', 'IDA & IBRD total', 'IDA blend', 'IDA only', 'IDA total', 'Late-demographic dividend', 'Latin America & Caribbean', 'Latin America & Caribbean (IDA & IBRD)', 'Latin America & Caribbean (excluding high income)',\n",
    "          'Least developed countries: UN classification', 'Low & middle income', 'Low income', 'Lower middle income','Middle East & North Africa', 'Middle East & North Africa (IDA & IBRD)','Middle East & North Africa (excluding high income)',\n",
    "          'Middle income', 'North America', 'OECD members', 'Other small states', 'Pacific island small states',\n",
    "          'Post-demographic dividend', 'Pre-demographic dividend','Small states', 'South Asia', 'South Asia (IDA & IBRD)',\n",
    "          'Sub-Saharan Africa', 'Sub-Saharan Africa (IDA & IBRD)', 'Sub-Saharan Africa (excluding high income)',\n",
    "          'Syrian Arab Republic', 'Upper middle income', 'World']\n",
    "df_11 = df_10[~df_10['country'].isin(to_drop)]\n",
    "df_11.count() \n",
    "\n",
    "# Remove all duplicate countries --> Azerbaijan, Armenia, Cypress, Georgia, Kazakstan, Turkey\n",
    "df_12 = df_11.drop_duplicates(subset=['country'])\n",
    "\n",
    "df_12 = df_12.reset_index() \n",
    "\n",
    "df_12.head() \n",
    "\n"
   ]
  },
  {
   "cell_type": "code",
   "execution_count": 7,
   "metadata": {},
   "outputs": [],
   "source": [
    "# Save Data to csv\n",
    "df_12.to_csv(\"mega_df.csv\")"
   ]
  },
  {
   "cell_type": "markdown",
   "metadata": {},
   "source": [
    "## Data Summary\n",
    "* Display a list of columns in the dataset\n",
    "* Display a list of regions in the dataset\n",
    "* Display a list of countries in the dataset\n",
    "* Calculate total number of countries\n",
    "* Calculate overall average alcohol consumption\n",
    "* Calculate total years of data compiled for each country \n",
    "* Determine which year(s) have the most data \n"
   ]
  },
  {
   "cell_type": "markdown",
   "metadata": {},
   "source": [
    "####  Display a list of columns"
   ]
  },
  {
   "cell_type": "code",
   "execution_count": 7,
   "metadata": {},
   "outputs": [
    {
     "name": "stdout",
     "output_type": "stream",
     "text": [
      "List of column names: index, continent, country_code, country, consumption_per_capita_(L), climate, main_export, main_industry, region, happy_score, life_expectancy, gdp_per_capita, code, mental_health_and_addiction (%), capital\n"
     ]
    }
   ],
   "source": [
    "columns = df_12.columns\n",
    "columns_string =', '.join(columns)\n",
    "print(f\"List of column names: {columns_string}\")"
   ]
  },
  {
   "cell_type": "markdown",
   "metadata": {},
   "source": [
    "#### Display a list of regions"
   ]
  },
  {
   "cell_type": "code",
   "execution_count": 8,
   "metadata": {},
   "outputs": [
    {
     "name": "stdout",
     "output_type": "stream",
     "text": [
      "List of regions represented in the dataset: South Asia, Central and Eastern Europe, Middle East and North Africa, nan, Commonwealth of Independent States, Latin America and Caribbean, North America and ANZ, Western Europe, Sub-Saharan Africa, Southeast Asia, East Asia\n"
     ]
    },
    {
     "data": {
      "text/plain": [
       "<function pandas.core.frame.DataFrame.dropna(self, axis=0, how='any', thresh=None, subset=None, inplace=False)>"
      ]
     },
     "execution_count": 8,
     "metadata": {},
     "output_type": "execute_result"
    }
   ],
   "source": [
    "regions = df_12[\"region\"].unique()\n",
    "regions_string = \", \".join(map(str, regions))\n",
    "\n",
    "print(f\"List of regions represented in the dataset: {regions_string}\")\n",
    "regions\n",
    "\n",
    "DataFrame.dropna"
   ]
  },
  {
   "cell_type": "markdown",
   "metadata": {},
   "source": [
    "#### Display a list of countries"
   ]
  },
  {
   "cell_type": "code",
   "execution_count": 9,
   "metadata": {},
   "outputs": [
    {
     "name": "stdout",
     "output_type": "stream",
     "text": [
      "List of countries represented in the dataset: Afghanistan, Albania, Algeria, Andorra, Angola, Antigua and Barbuda, Azerbaijan, Argentina, Australia, Austria, Bahamas, Bahrain, Bangladesh, Armenia, Barbados, Belgium, Bhutan, Bolivia, Bosnia and Herzegovina, Botswana, Brazil, Belize, Solomon Islands, Brunei, Bulgaria, Myanmar, Burundi, Belarus, Cambodia, Cameroon, Canada, Cape Verde, Central African Republic, Sri Lanka, Chad, Chile, China, Colombia, Comoros, Congo, Democratic Republic of Congo, Costa Rica, Croatia, Cuba, Cyprus, Czechia, Benin, Denmark, Dominica, Dominican Republic, Ecuador, El Salvador, Equatorial Guinea, Ethiopia, Eritrea, Estonia, Fiji, Finland, France, Djibouti, Gabon, Georgia, Gambia, Germany, Ghana, Kiribati, Greece, Grenada, Guatemala, Guinea, Guyana, Haiti, Honduras, Hungary, Iceland, India, Indonesia, Iran, Iraq, Ireland, Israel, Italy, Cote d'Ivoire, Jamaica, Japan, Kazakhstan, Jordan, Kenya, North Korea, South Korea, Kuwait, Kyrgyzstan, Laos, Lebanon, Lesotho, Latvia, Liberia, Libya, Lithuania, Luxembourg, Madagascar, Malawi, Malaysia, Maldives, Mali, Malta, Mauritania, Mauritius, Mexico, Mongolia, Moldova, Montenegro, Morocco, Mozambique, Oman, Namibia, Nauru, Nepal, Netherlands, Vanuatu, New Zealand, Nicaragua, Niger, Nigeria, Norway, Micronesia (country), Pakistan, Panama, Papua New Guinea, Paraguay, Peru, Philippines, Poland, Portugal, Guinea-Bissau, Timor, Qatar, Romania, Russia, Rwanda, Saint Kitts and Nevis, Saint Lucia, Saint Vincent and the Grenadines, Sao Tome and Principe, Saudi Arabia, Senegal, Serbia, Seychelles, Sierra Leone, Singapore, Slovakia, Vietnam, Slovenia, Somalia, South Africa, Zimbabwe, Spain, Sudan, Suriname, Eswatini, Sweden, Switzerland, Tajikistan, Thailand, Togo, Tonga, Trinidad and Tobago, United Arab Emirates, Tunisia, Turkey, Turkmenistan, Tuvalu, Uganda, Ukraine, North Macedonia, Egypt, United Kingdom, Tanzania, United States, Burkina Faso, Uruguay, Uzbekistan, Venezuela, Samoa, Yemen, Zambia\n"
     ]
    }
   ],
   "source": [
    "countries = df_12[\"country\"].unique()\n",
    "countries_string = ', '.join(countries)\n",
    "\n",
    "print(f\"List of countries represented in the dataset: {countries_string}\")"
   ]
  },
  {
   "cell_type": "markdown",
   "metadata": {},
   "source": [
    "####  Calculate how many countries are represented in the data "
   ]
  },
  {
   "cell_type": "code",
   "execution_count": 10,
   "metadata": {},
   "outputs": [
    {
     "name": "stdout",
     "output_type": "stream",
     "text": [
      "The total number of rows countries represented in the dataset are 186.\n"
     ]
    }
   ],
   "source": [
    "total_countries = df_12.shape[0] \n",
    "print(f'The total number of rows countries represented in the dataset are {total_countries}.') \n",
    "\n",
    "# Alternative methods:\n",
    "#number_countries = df_11['country'].nunique()\n",
    "# unique_countries = df_8['country'].unique()\n",
    "# number_countries = len(unique_countries)"
   ]
  },
  {
   "cell_type": "markdown",
   "metadata": {},
   "source": [
    "#### Calculate the overall average alcohol consumption\n"
   ]
  },
  {
   "cell_type": "code",
   "execution_count": 11,
   "metadata": {},
   "outputs": [
    {
     "name": "stdout",
     "output_type": "stream",
     "text": [
      "The overall average of alcohol consumption per capita (liters) among countries represented in the dataset is 6.165053763440862.\n"
     ]
    }
   ],
   "source": [
    "overall_avg_consumption = df_12[\"consumption_per_capita_(L)\"].mean() \n",
    "overall_avg_consumption\n",
    "formatted_consumption = round(overall_avg_consumption,2)\n",
    "\n",
    "print(f\"The overall average of alcohol consumption per capita (liters) among countries represented in the dataset is {overall_avg_consumption}.\")  \n"
   ]
  },
  {
   "cell_type": "markdown",
   "metadata": {},
   "source": [
    "#### Find the 10 countries that consumes the most alcohol \n"
   ]
  },
  {
   "cell_type": "code",
   "execution_count": 12,
   "metadata": {},
   "outputs": [
    {
     "name": "stdout",
     "output_type": "stream",
     "text": [
      "The countries with the highest consumption rates are Moldova, Lithuania, Czechia, Nigeria, Germany, Luxembourg, Ireland, Latvia, Bulgaria, Slovenia\n"
     ]
    },
    {
     "data": {
      "text/plain": [
       "['Chisinau',\n",
       " 'Vilnius',\n",
       " nan,\n",
       " 'Abuja',\n",
       " 'Berlin',\n",
       " 'Luxembourg',\n",
       " 'Dublin',\n",
       " 'Riga',\n",
       " 'Sofia',\n",
       " 'Ljubljana']"
      ]
     },
     "execution_count": 12,
     "metadata": {},
     "output_type": "execute_result"
    }
   ],
   "source": [
    "country_mask = df_12.groupby(\"country\")\n",
    "country_subset = country_mask.first()\n",
    "\n",
    "\n",
    "high_consumption = country_subset.sort_values([(\"consumption_per_capita_(L)\")], ascending=False).head(n=10)\n",
    "high_consumption.reset_index() \n",
    "\n",
    "high_consumption_series = high_consumption[\"consumption_per_capita_(L)\"], high_consumption[\"capital\"] \n",
    "\n",
    "high_consumption_df = pd.DataFrame(high_consumption_series)\n",
    "high_consumption_df = high_consumption_df.transpose()\n",
    "\n",
    "most_alcohol = high_consumption_df.index.tolist()\n",
    "\n",
    "print(\"The countries with the highest consumption rates are \" + \", \".join(most_alcohol))\n",
    "\n",
    "capitals = high_consumption_df['capital'].tolist()  \n",
    "\n",
    "capitals "
   ]
  },
  {
   "cell_type": "markdown",
   "metadata": {},
   "source": [
    "#### Find latitude and longitude for the 10 countries with the highest consumption"
   ]
  },
  {
   "cell_type": "code",
   "execution_count": 13,
   "metadata": {},
   "outputs": [],
   "source": [
    "# Save config information.\n",
    "url = \"http://api.openweathermap.org/data/2.5/weather?\"\n",
    "units = \"metric\"\n",
    "\n",
    "# Build partial query URL\n",
    "query_url = f\"{url}appid={weather_key}&units={units}&q=\""
   ]
  },
  {
   "cell_type": "code",
   "execution_count": 14,
   "metadata": {},
   "outputs": [
    {
     "name": "stdout",
     "output_type": "stream",
     "text": [
      "The latitude information received is: [47.0056, 54.6892, 50.088, 9.0574, 52.5244, 50, 37.7021, 57, 42.6975, 46.0511]\n",
      "The longitude information received is: [28.8575, 25.2798, 14.4208, 7.4898, 13.4105, 5.5, -121.9358, 24.0833, 23.3242, 14.5051]\n"
     ]
    }
   ],
   "source": [
    "# Convert capital column to list\n",
    "capitals = high_consumption_df['capital'].tolist()  \n",
    "\n",
    "# Create container for list of capitals\n",
    "cities = ['Chisinau','Vilnius','Prague','Abuja','Berlin','Luxembourg','Dublin','Riga','Sofia','Ljubljana']\n",
    "\n",
    "# Set up lists to hold reponse info\n",
    "lat = []\n",
    "lon = []\n",
    "\n",
    "# Loop through the list of cities and perform a request for data on each\n",
    "for city in cities:\n",
    "    response = requests.get(query_url + city).json()\n",
    "    lat.append(response['coord']['lat'])\n",
    "    lon.append(response['coord']['lon'])\n",
    "\n",
    "print(f\"The latitude information received is: {lat}\")\n",
    "print(f\"The longitude information received is: {lon}\") "
   ]
  },
  {
   "cell_type": "markdown",
   "metadata": {},
   "source": [
    "#### Add latitude and longitude columns to dataframe"
   ]
  },
  {
   "cell_type": "code",
   "execution_count": 15,
   "metadata": {},
   "outputs": [
    {
     "data": {
      "text/html": [
       "<div>\n",
       "<style scoped>\n",
       "    .dataframe tbody tr th:only-of-type {\n",
       "        vertical-align: middle;\n",
       "    }\n",
       "\n",
       "    .dataframe tbody tr th {\n",
       "        vertical-align: top;\n",
       "    }\n",
       "\n",
       "    .dataframe thead th {\n",
       "        text-align: right;\n",
       "    }\n",
       "</style>\n",
       "<table border=\"1\" class=\"dataframe\">\n",
       "  <thead>\n",
       "    <tr style=\"text-align: right;\">\n",
       "      <th></th>\n",
       "      <th>consumption_per_capita_(L)</th>\n",
       "      <th>capital</th>\n",
       "      <th>latitude</th>\n",
       "      <th>longitude</th>\n",
       "    </tr>\n",
       "    <tr>\n",
       "      <th>country</th>\n",
       "      <th></th>\n",
       "      <th></th>\n",
       "      <th></th>\n",
       "      <th></th>\n",
       "    </tr>\n",
       "  </thead>\n",
       "  <tbody>\n",
       "    <tr>\n",
       "      <th>Moldova</th>\n",
       "      <td>15.2</td>\n",
       "      <td>Chisinau</td>\n",
       "      <td>47.0056</td>\n",
       "      <td>28.8575</td>\n",
       "    </tr>\n",
       "    <tr>\n",
       "      <th>Lithuania</th>\n",
       "      <td>15</td>\n",
       "      <td>Vilnius</td>\n",
       "      <td>54.6892</td>\n",
       "      <td>25.2798</td>\n",
       "    </tr>\n",
       "    <tr>\n",
       "      <th>Czechia</th>\n",
       "      <td>14.4</td>\n",
       "      <td>NaN</td>\n",
       "      <td>50.0880</td>\n",
       "      <td>14.4208</td>\n",
       "    </tr>\n",
       "    <tr>\n",
       "      <th>Nigeria</th>\n",
       "      <td>13.4</td>\n",
       "      <td>Abuja</td>\n",
       "      <td>9.0574</td>\n",
       "      <td>7.4898</td>\n",
       "    </tr>\n",
       "    <tr>\n",
       "      <th>Germany</th>\n",
       "      <td>13.4</td>\n",
       "      <td>Berlin</td>\n",
       "      <td>52.5244</td>\n",
       "      <td>13.4105</td>\n",
       "    </tr>\n",
       "    <tr>\n",
       "      <th>Luxembourg</th>\n",
       "      <td>13</td>\n",
       "      <td>Luxembourg</td>\n",
       "      <td>50.0000</td>\n",
       "      <td>5.5000</td>\n",
       "    </tr>\n",
       "    <tr>\n",
       "      <th>Ireland</th>\n",
       "      <td>13</td>\n",
       "      <td>Dublin</td>\n",
       "      <td>37.7021</td>\n",
       "      <td>-121.9358</td>\n",
       "    </tr>\n",
       "    <tr>\n",
       "      <th>Latvia</th>\n",
       "      <td>12.9</td>\n",
       "      <td>Riga</td>\n",
       "      <td>57.0000</td>\n",
       "      <td>24.0833</td>\n",
       "    </tr>\n",
       "    <tr>\n",
       "      <th>Bulgaria</th>\n",
       "      <td>12.7</td>\n",
       "      <td>Sofia</td>\n",
       "      <td>42.6975</td>\n",
       "      <td>23.3242</td>\n",
       "    </tr>\n",
       "    <tr>\n",
       "      <th>Slovenia</th>\n",
       "      <td>12.6</td>\n",
       "      <td>Ljubljana</td>\n",
       "      <td>46.0511</td>\n",
       "      <td>14.5051</td>\n",
       "    </tr>\n",
       "  </tbody>\n",
       "</table>\n",
       "</div>"
      ],
      "text/plain": [
       "           consumption_per_capita_(L)     capital  latitude  longitude\n",
       "country                                                               \n",
       "Moldova                          15.2    Chisinau   47.0056    28.8575\n",
       "Lithuania                          15     Vilnius   54.6892    25.2798\n",
       "Czechia                          14.4         NaN   50.0880    14.4208\n",
       "Nigeria                          13.4       Abuja    9.0574     7.4898\n",
       "Germany                          13.4      Berlin   52.5244    13.4105\n",
       "Luxembourg                         13  Luxembourg   50.0000     5.5000\n",
       "Ireland                            13      Dublin   37.7021  -121.9358\n",
       "Latvia                           12.9        Riga   57.0000    24.0833\n",
       "Bulgaria                         12.7       Sofia   42.6975    23.3242\n",
       "Slovenia                         12.6   Ljubljana   46.0511    14.5051"
      ]
     },
     "execution_count": 15,
     "metadata": {},
     "output_type": "execute_result"
    }
   ],
   "source": [
    "high_consumption_df['latitude'] = lat\n",
    "high_consumption_df['longitude'] = lon\n",
    "\n",
    "high_consumption_df"
   ]
  },
  {
   "cell_type": "markdown",
   "metadata": {},
   "source": [
    "#### Create a heatmap to display the drunkest countries\n",
    "\n"
   ]
  },
  {
   "cell_type": "code",
   "execution_count": 16,
   "metadata": {},
   "outputs": [],
   "source": [
    "# Configure gmaps with API key\n",
    "gmaps.configure(api_key=g_key)\n"
   ]
  },
  {
   "cell_type": "code",
   "execution_count": 33,
   "metadata": {
    "scrolled": true
   },
   "outputs": [
    {
     "data": {
      "application/vnd.jupyter.widget-view+json": {
       "model_id": "ada725455861471fbeedd1d13e9519bc",
       "version_major": 2,
       "version_minor": 0
      },
      "text/plain": [
       "Figure(layout=FigureLayout(height='420px'))"
      ]
     },
     "metadata": {},
     "output_type": "display_data"
    }
   ],
   "source": [
    "# Store 'Lat' and 'Lng' into  locations \n",
    "locations = high_consumption_df[[\"latitude\", \"longitude\"]]\n",
    "\n",
    "# Create a poverty Heatmap layer\n",
    "fig = gmaps.figure(center=[10,15], zoom_level=2)\n",
    "\n",
    "heat_layer = gmaps.heatmap_layer(locations, weights=high_consumption_df['consumption_per_capita_(L)'], dissipating=False, max_intensity=15, point_radius = 4)\n",
    "\n",
    "fig.add_layer(heat_layer)\n",
    "\n",
    "fig"
   ]
  },
  {
   "cell_type": "markdown",
   "metadata": {},
   "source": [
    "#### Find the 10 countries that consumes the least alcohol "
   ]
  },
  {
   "cell_type": "code",
   "execution_count": 34,
   "metadata": {},
   "outputs": [
    {
     "name": "stdout",
     "output_type": "stream",
     "text": [
      "The countries with the lowest consumption rates are Somalia, Mauritania, Libya, Bangladesh, Kuwait, Yemen, Afghanistan, Saudi Arabia, Pakistan, Iraq\n"
     ]
    },
    {
     "data": {
      "text/html": [
       "<div>\n",
       "<style scoped>\n",
       "    .dataframe tbody tr th:only-of-type {\n",
       "        vertical-align: middle;\n",
       "    }\n",
       "\n",
       "    .dataframe tbody tr th {\n",
       "        vertical-align: top;\n",
       "    }\n",
       "\n",
       "    .dataframe thead th {\n",
       "        text-align: right;\n",
       "    }\n",
       "</style>\n",
       "<table border=\"1\" class=\"dataframe\">\n",
       "  <thead>\n",
       "    <tr style=\"text-align: right;\">\n",
       "      <th></th>\n",
       "      <th>consumption_per_capita_(L)</th>\n",
       "    </tr>\n",
       "    <tr>\n",
       "      <th>country</th>\n",
       "      <th></th>\n",
       "    </tr>\n",
       "  </thead>\n",
       "  <tbody>\n",
       "    <tr>\n",
       "      <th>Somalia</th>\n",
       "      <td>0.0</td>\n",
       "    </tr>\n",
       "    <tr>\n",
       "      <th>Mauritania</th>\n",
       "      <td>0.0</td>\n",
       "    </tr>\n",
       "    <tr>\n",
       "      <th>Libya</th>\n",
       "      <td>0.0</td>\n",
       "    </tr>\n",
       "    <tr>\n",
       "      <th>Bangladesh</th>\n",
       "      <td>0.0</td>\n",
       "    </tr>\n",
       "    <tr>\n",
       "      <th>Kuwait</th>\n",
       "      <td>0.0</td>\n",
       "    </tr>\n",
       "    <tr>\n",
       "      <th>Yemen</th>\n",
       "      <td>0.1</td>\n",
       "    </tr>\n",
       "    <tr>\n",
       "      <th>Afghanistan</th>\n",
       "      <td>0.2</td>\n",
       "    </tr>\n",
       "    <tr>\n",
       "      <th>Saudi Arabia</th>\n",
       "      <td>0.2</td>\n",
       "    </tr>\n",
       "    <tr>\n",
       "      <th>Pakistan</th>\n",
       "      <td>0.3</td>\n",
       "    </tr>\n",
       "    <tr>\n",
       "      <th>Iraq</th>\n",
       "      <td>0.4</td>\n",
       "    </tr>\n",
       "  </tbody>\n",
       "</table>\n",
       "</div>"
      ],
      "text/plain": [
       "              consumption_per_capita_(L)\n",
       "country                                 \n",
       "Somalia                              0.0\n",
       "Mauritania                           0.0\n",
       "Libya                                0.0\n",
       "Bangladesh                           0.0\n",
       "Kuwait                               0.0\n",
       "Yemen                                0.1\n",
       "Afghanistan                          0.2\n",
       "Saudi Arabia                         0.2\n",
       "Pakistan                             0.3\n",
       "Iraq                                 0.4"
      ]
     },
     "execution_count": 34,
     "metadata": {},
     "output_type": "execute_result"
    }
   ],
   "source": [
    "low_consumption = country_subset.sort_values([(\"consumption_per_capita_(L)\")], ascending=True).head(n=10)\n",
    "low_consumption.reset_index() \n",
    "\n",
    "low_consumption_series = low_consumption[\"consumption_per_capita_(L)\"]  \n",
    "low_consumption_df = pd.DataFrame(low_consumption_series)\n",
    "\n",
    "least_alcohol = low_consumption_df.index.tolist()\n",
    "\n",
    "print(\"The countries with the lowest consumption rates are \" + \", \".join(least_alcohol))\n",
    "\n",
    "low_consumption_df"
   ]
  },
  {
   "cell_type": "markdown",
   "metadata": {},
   "source": [
    "## Data Summary\n"
   ]
  },
  {
   "cell_type": "code",
   "execution_count": 35,
   "metadata": {},
   "outputs": [
    {
     "name": "stdout",
     "output_type": "stream",
     "text": [
      "List of column names: index, continent, country_code, country, consumption_per_capita_(L), climate, main_export, main_industry, region, happy_score, life_expectancy, gdp_per_capita, code, mental_health_and_addiction (%), capital\n",
      "------------------------------------------------------------------------------------------\n",
      "List of regions represented in the dataset: South Asia, Central and Eastern Europe, Middle East and North Africa, nan, Commonwealth of Independent States, Latin America and Caribbean, North America and ANZ, Western Europe, Sub-Saharan Africa, Southeast Asia, East Asia\n",
      "------------------------------------------------------------------------------------------\n",
      "List of countries represented in the dataset: Afghanistan, Albania, Algeria, Andorra, Angola, Antigua and Barbuda, Azerbaijan, Argentina, Australia, Austria, Bahamas, Bahrain, Bangladesh, Armenia, Barbados, Belgium, Bhutan, Bolivia, Bosnia and Herzegovina, Botswana, Brazil, Belize, Solomon Islands, Brunei, Bulgaria, Myanmar, Burundi, Belarus, Cambodia, Cameroon, Canada, Cape Verde, Central African Republic, Sri Lanka, Chad, Chile, China, Colombia, Comoros, Congo, Democratic Republic of Congo, Costa Rica, Croatia, Cuba, Cyprus, Czechia, Benin, Denmark, Dominica, Dominican Republic, Ecuador, El Salvador, Equatorial Guinea, Ethiopia, Eritrea, Estonia, Fiji, Finland, France, Djibouti, Gabon, Georgia, Gambia, Germany, Ghana, Kiribati, Greece, Grenada, Guatemala, Guinea, Guyana, Haiti, Honduras, Hungary, Iceland, India, Indonesia, Iran, Iraq, Ireland, Israel, Italy, Cote d'Ivoire, Jamaica, Japan, Kazakhstan, Jordan, Kenya, North Korea, South Korea, Kuwait, Kyrgyzstan, Laos, Lebanon, Lesotho, Latvia, Liberia, Libya, Lithuania, Luxembourg, Madagascar, Malawi, Malaysia, Maldives, Mali, Malta, Mauritania, Mauritius, Mexico, Mongolia, Moldova, Montenegro, Morocco, Mozambique, Oman, Namibia, Nauru, Nepal, Netherlands, Vanuatu, New Zealand, Nicaragua, Niger, Nigeria, Norway, Micronesia (country), Pakistan, Panama, Papua New Guinea, Paraguay, Peru, Philippines, Poland, Portugal, Guinea-Bissau, Timor, Qatar, Romania, Russia, Rwanda, Saint Kitts and Nevis, Saint Lucia, Saint Vincent and the Grenadines, Sao Tome and Principe, Saudi Arabia, Senegal, Serbia, Seychelles, Sierra Leone, Singapore, Slovakia, Vietnam, Slovenia, Somalia, South Africa, Zimbabwe, Spain, Sudan, Suriname, Eswatini, Sweden, Switzerland, Tajikistan, Thailand, Togo, Tonga, Trinidad and Tobago, United Arab Emirates, Tunisia, Turkey, Turkmenistan, Tuvalu, Uganda, Ukraine, North Macedonia, Egypt, United Kingdom, Tanzania, United States, Burkina Faso, Uruguay, Uzbekistan, Venezuela, Samoa, Yemen, Zambia\n",
      "------------------------------------------------------------------------------------------\n",
      "Total number of countries represented in the dataset: 186\n",
      "------------------------------------------------------------------------------------------\n",
      "Overall average of alcohol consumption per capita (liters): 6.17\n",
      "------------------------------------------------------------------------------------------\n",
      "The 10 countries with the highest consumption rates of alcohol: Moldova, Lithuania, Czechia, Nigeria, Germany, Luxembourg, Ireland, Latvia, Bulgaria, Slovenia\n",
      "------------------------------------------------------------------------------------------\n",
      "The 10 countries with the lowest consumption rates of alchohol: Somalia, Mauritania, Libya, Bangladesh, Kuwait, Yemen, Afghanistan, Saudi Arabia, Pakistan, Iraq\n"
     ]
    }
   ],
   "source": [
    "print(f\"List of column names: {columns_string}\")\n",
    "print(\"------------------------------------------------------------------------------------------\")\n",
    "print(f\"List of regions represented in the dataset: {regions_string}\")\n",
    "print(\"------------------------------------------------------------------------------------------\")\n",
    "print(f\"List of countries represented in the dataset: {countries_string}\")\n",
    "print(\"------------------------------------------------------------------------------------------\")\n",
    "print(f\"Total number of countries represented in the dataset: {total_countries}\")\n",
    "print(\"------------------------------------------------------------------------------------------\")\n",
    "print(f\"Overall average of alcohol consumption per capita (liters): {formatted_consumption}\") \n",
    "print(\"------------------------------------------------------------------------------------------\")\n",
    "print(\"The 10 countries with the highest consumption rates of alcohol: \" + \", \".join(most_alcohol))\n",
    "print(\"------------------------------------------------------------------------------------------\")\n",
    "print(\"The 10 countries with the lowest consumption rates of alchohol: \" + \", \".join(least_alcohol)) \n",
    "\n"
   ]
  },
  {
   "cell_type": "markdown",
   "metadata": {},
   "source": [
    "## Part Three  - Consumption & Geography -  Continent "
   ]
  },
  {
   "cell_type": "markdown",
   "metadata": {},
   "source": [
    "#### Use a for loop to find consumption averages by continent"
   ]
  },
  {
   "cell_type": "code",
   "execution_count": 45,
   "metadata": {},
   "outputs": [
    {
     "data": {
      "text/html": [
       "<div>\n",
       "<style scoped>\n",
       "    .dataframe tbody tr th:only-of-type {\n",
       "        vertical-align: middle;\n",
       "    }\n",
       "\n",
       "    .dataframe tbody tr th {\n",
       "        vertical-align: top;\n",
       "    }\n",
       "\n",
       "    .dataframe thead th {\n",
       "        text-align: right;\n",
       "    }\n",
       "</style>\n",
       "<table border=\"1\" class=\"dataframe\">\n",
       "  <thead>\n",
       "    <tr style=\"text-align: right;\">\n",
       "      <th></th>\n",
       "      <th>continent</th>\n",
       "      <th>total_consumption(liters)</th>\n",
       "      <th>avg_consumption(liters)</th>\n",
       "      <th>num_countries</th>\n",
       "    </tr>\n",
       "  </thead>\n",
       "  <tbody>\n",
       "    <tr>\n",
       "      <th>2</th>\n",
       "      <td>Europe</td>\n",
       "      <td>473.4</td>\n",
       "      <td>10.291304</td>\n",
       "      <td>46</td>\n",
       "    </tr>\n",
       "    <tr>\n",
       "      <th>4</th>\n",
       "      <td>South America</td>\n",
       "      <td>83.2</td>\n",
       "      <td>6.933333</td>\n",
       "      <td>12</td>\n",
       "    </tr>\n",
       "    <tr>\n",
       "      <th>3</th>\n",
       "      <td>North America</td>\n",
       "      <td>157.3</td>\n",
       "      <td>6.839130</td>\n",
       "      <td>23</td>\n",
       "    </tr>\n",
       "    <tr>\n",
       "      <th>0</th>\n",
       "      <td>Africa</td>\n",
       "      <td>252.7</td>\n",
       "      <td>4.767925</td>\n",
       "      <td>53</td>\n",
       "    </tr>\n",
       "    <tr>\n",
       "      <th>5</th>\n",
       "      <td>Oceania</td>\n",
       "      <td>42.5</td>\n",
       "      <td>3.541667</td>\n",
       "      <td>12</td>\n",
       "    </tr>\n",
       "    <tr>\n",
       "      <th>1</th>\n",
       "      <td>Asia</td>\n",
       "      <td>137.6</td>\n",
       "      <td>3.440000</td>\n",
       "      <td>40</td>\n",
       "    </tr>\n",
       "  </tbody>\n",
       "</table>\n",
       "</div>"
      ],
      "text/plain": [
       "       continent  total_consumption(liters)  avg_consumption(liters)  \\\n",
       "2         Europe                      473.4                10.291304   \n",
       "4  South America                       83.2                 6.933333   \n",
       "3  North America                      157.3                 6.839130   \n",
       "0         Africa                      252.7                 4.767925   \n",
       "5        Oceania                       42.5                 3.541667   \n",
       "1           Asia                      137.6                 3.440000   \n",
       "\n",
       "   num_countries  \n",
       "2             46  \n",
       "4             12  \n",
       "3             23  \n",
       "0             53  \n",
       "5             12  \n",
       "1             40  "
      ]
     },
     "execution_count": 45,
     "metadata": {},
     "output_type": "execute_result"
    }
   ],
   "source": [
    "# Create containers to hold aggregate values for each continent in for loop\n",
    "continents = ['Africa', 'Asia', 'Europe', 'North America', 'South America', 'Oceania'] \n",
    "segment_values = []\n",
    "number_countries = []\n",
    "\n",
    "# Filter each segment from our list 'continent' in the dataframe\n",
    "for continent in continents:\n",
    "    df = country_subset.loc[country_subset[\"continent\"] == continent]\n",
    "    # Aggregate the consumption values for each continent in the dataframe\n",
    "    values = df['consumption_per_capita_(L)'].sum()\n",
    "    segment_values.append(values)\n",
    "    # Find number of countries for each continent in the dataframe\n",
    "    consumption_by_segment = len(df)\n",
    "    number_countries.append(consumption_by_segment)\n",
    "    # Find the average consumption for each continent\n",
    "    # Division is not a supported operation on lists so use np.array to perform a function\n",
    "    avg_consumption_by_continent = np.array([segment_values]) / np.array([number_countries])\n",
    "    \n",
    "    \n",
    "#print(avg_consumption_by_continent[0][0])\n",
    "#print(segment_values)\n",
    "#print(number_countries) \n",
    "\n",
    "df = pd.DataFrame({\"continent\": continents, \"total_consumption(liters)\": segment_values, \"avg_consumption(liters)\": avg_consumption_by_continent [0], \"num_countries\": number_countries})\n",
    "df = df.sort_values(\"avg_consumption(liters)\", ascending=False)\n",
    "df"
   ]
  },
  {
   "cell_type": "markdown",
   "metadata": {},
   "source": [
    "### Create a boxplot to compare consumption values for each continent "
   ]
  },
  {
   "cell_type": "code",
   "execution_count": 46,
   "metadata": {},
   "outputs": [
    {
     "data": {
      "text/plain": [
       "<AxesSubplot:title={'center':'consumption_per_capita_(L)'}, xlabel='continent'>"
      ]
     },
     "execution_count": 46,
     "metadata": {},
     "output_type": "execute_result"
    },
    {
     "data": {
      "image/png": "[encoded data removed]",
      "text/plain": [
       "<Figure size 720x360 with 1 Axes>"
      ]
     },
     "metadata": {
      "needs_background": "light"
     },
     "output_type": "display_data"
    }
   ],
   "source": [
    "# Create lists for every country\n",
    "#type(df_12)\n",
    "\n",
    "df_12.boxplot(\"consumption_per_capita_(L)\",by=\"continent\", figsize=(10,5)) "
   ]
  },
  {
   "cell_type": "code",
   "execution_count": 53,
   "metadata": {},
   "outputs": [
    {
     "name": "stdout",
     "output_type": "stream",
     "text": [
      "IQR for Africa: 6.8999999999999995\n",
      "Lower Bound for Africa: -9.049999999999999\n",
      "Upper Bound for Africa: 18.549999999999997\n",
      "Number of Africa outliers: 0\n",
      "IQR for Asia: 5.05\n",
      "Lower Bound for Asia: -6.799999999999999\n",
      "Upper Bound for Asia: 13.399999999999999\n",
      "Number of Asia outliers: 0\n",
      "IQR for Europe: 3.6250000000000018\n",
      "Lower Bound for Europe: 3.1874999999999973\n",
      "Upper Bound for Europe: 17.687500000000004\n",
      "Number of Europe outliers: 2\n",
      "IQR for North America: 3.6500000000000004\n",
      "Lower Bound for North America: -0.47500000000000053\n",
      "Upper Bound for North America: 14.125\n",
      "Number of North America outliers: 0\n",
      "IQR for South America: 2.700000000000001\n",
      "Lower Bound for South America: 1.424999999999998\n",
      "Upper Bound for South America: 12.225000000000001\n",
      "Number of South America outliers: 0\n",
      "IQR for Oceania: 2.4000000000000004\n",
      "Lower Bound for Oceania: -2.250000000000001\n",
      "Upper Bound for Oceania: 7.3500000000000005\n",
      "Number of Oceania outliers: 2\n"
     ]
    }
   ],
   "source": [
    "# Step 5: Create containers and conditionals for for loop\n",
    "continents = ['Africa', 'Asia', 'Europe', 'North America', 'South America', 'Oceania']\n",
    "values = []\n",
    "\n",
    "# Step 6: Locate each drug from our list 'drugs' in the orginal dataframe\n",
    "for continent in continents:\n",
    "    df = country_subset.loc[country_subset[\"continent\"] == continent]\n",
    "    \n",
    "    # Create a series that consists of all final volume values for each regimen\n",
    "    values = df['consumption_per_capita_(L)']\n",
    "    \n",
    "    # Calculate and print the interquartile range (IQR) for each regimen\n",
    "    quartiles = values.quantile([.25,.5,.75])\n",
    "    lowerq = quartiles[0.25]\n",
    "    upperq = quartiles[0.75]\n",
    "    iqr = upperq-lowerq\n",
    "    print(f'IQR for {continent}: {iqr}')\n",
    "    \n",
    "    # Find upper and lower bounds to help identify outliers for each regimen\n",
    "    lower_bound = lowerq - (1.5*iqr)\n",
    "    upper_bound = upperq + (1.5*iqr)\n",
    "    print(f'Lower Bound for {continent}: {lower_bound}')\n",
    "    print(f'Upper Bound for {continent}: {upper_bound}')\n",
    "    \n",
    "    # Quantitatively check for outliers\n",
    "    outliers_count = (values.loc[(df['consumption_per_capita_(L)'] >= upper_bound) | \n",
    "                                        (df['consumption_per_capita_(L)'] <= lower_bound)]).count()\n",
    "    print(f'Number of {continent} outliers: {outliers_count}')"
   ]
  },
  {
   "cell_type": "code",
   "execution_count": 60,
   "metadata": {},
   "outputs": [
    {
     "data": {
      "text/html": [
       "<div>\n",
       "<style scoped>\n",
       "    .dataframe tbody tr th:only-of-type {\n",
       "        vertical-align: middle;\n",
       "    }\n",
       "\n",
       "    .dataframe tbody tr th {\n",
       "        vertical-align: top;\n",
       "    }\n",
       "\n",
       "    .dataframe thead th {\n",
       "        text-align: right;\n",
       "    }\n",
       "</style>\n",
       "<table border=\"1\" class=\"dataframe\">\n",
       "  <thead>\n",
       "    <tr style=\"text-align: right;\">\n",
       "      <th></th>\n",
       "      <th>index</th>\n",
       "      <th>continent</th>\n",
       "      <th>country_code</th>\n",
       "      <th>consumption_per_capita_(L)</th>\n",
       "      <th>climate</th>\n",
       "      <th>main_export</th>\n",
       "      <th>main_industry</th>\n",
       "      <th>region</th>\n",
       "      <th>happy_score</th>\n",
       "      <th>life_expectancy</th>\n",
       "      <th>gdp_per_capita</th>\n",
       "      <th>code</th>\n",
       "      <th>mental_health_and_addiction (%)</th>\n",
       "      <th>capital</th>\n",
       "    </tr>\n",
       "    <tr>\n",
       "      <th>country</th>\n",
       "      <th></th>\n",
       "      <th></th>\n",
       "      <th></th>\n",
       "      <th></th>\n",
       "      <th></th>\n",
       "      <th></th>\n",
       "      <th></th>\n",
       "      <th></th>\n",
       "      <th></th>\n",
       "      <th></th>\n",
       "      <th></th>\n",
       "      <th></th>\n",
       "      <th></th>\n",
       "      <th></th>\n",
       "    </tr>\n",
       "  </thead>\n",
       "  <tbody>\n",
       "    <tr>\n",
       "      <th>Australia</th>\n",
       "      <td>4949</td>\n",
       "      <td>Oceania</td>\n",
       "      <td>AUS</td>\n",
       "      <td>10.6</td>\n",
       "      <td>generally arid to semiarid; temperate in south...</td>\n",
       "      <td>Ores and metals</td>\n",
       "      <td>mining</td>\n",
       "      <td>North America and ANZ</td>\n",
       "      <td>7.2228</td>\n",
       "      <td>73.604538</td>\n",
       "      <td>10.720596</td>\n",
       "      <td>AUS</td>\n",
       "      <td>18.077892</td>\n",
       "      <td>Canberra</td>\n",
       "    </tr>\n",
       "    <tr>\n",
       "      <th>New Zealand</th>\n",
       "      <td>5066</td>\n",
       "      <td>Oceania</td>\n",
       "      <td>NZL</td>\n",
       "      <td>10.7</td>\n",
       "      <td>temperate with sharp regional contrasts</td>\n",
       "      <td>Wool</td>\n",
       "      <td>food processing</td>\n",
       "      <td>North America and ANZ</td>\n",
       "      <td>7.2996</td>\n",
       "      <td>73.202629</td>\n",
       "      <td>10.500943</td>\n",
       "      <td>NZL</td>\n",
       "      <td>18.495605</td>\n",
       "      <td>Wellington</td>\n",
       "    </tr>\n",
       "  </tbody>\n",
       "</table>\n",
       "</div>"
      ],
      "text/plain": [
       "             index continent country_code  consumption_per_capita_(L)  \\\n",
       "country                                                                 \n",
       "Australia     4949   Oceania          AUS                        10.6   \n",
       "New Zealand   5066   Oceania          NZL                        10.7   \n",
       "\n",
       "                                                       climate  \\\n",
       "country                                                          \n",
       "Australia    generally arid to semiarid; temperate in south...   \n",
       "New Zealand            temperate with sharp regional contrasts   \n",
       "\n",
       "                 main_export    main_industry                 region  \\\n",
       "country                                                                \n",
       "Australia    Ores and metals           mining  North America and ANZ   \n",
       "New Zealand             Wool  food processing  North America and ANZ   \n",
       "\n",
       "             happy_score  life_expectancy  gdp_per_capita code  \\\n",
       "country                                                          \n",
       "Australia         7.2228        73.604538       10.720596  AUS   \n",
       "New Zealand       7.2996        73.202629       10.500943  NZL   \n",
       "\n",
       "             mental_health_and_addiction (%)     capital  \n",
       "country                                                   \n",
       "Australia                          18.077892    Canberra  \n",
       "New Zealand                        18.495605  Wellington  "
      ]
     },
     "execution_count": 60,
     "metadata": {},
     "output_type": "execute_result"
    }
   ],
   "source": [
    "# Identify the outliers in the Oceania subset data\n",
    "oceania_df = country_subset.loc[country_subset['continent'] == 'Oceania']\n",
    "outliers_oceania = oceania_df.loc[(oceania_df['consumption_per_capita_(L)'] >= 7.3500000000000005) | \n",
    "                                        (oceania_df['consumption_per_capita_(L)'] <= -2.250000000000001)] \n",
    "outliers_oceania\n",
    "\n"
   ]
  },
  {
   "cell_type": "code",
   "execution_count": 61,
   "metadata": {},
   "outputs": [
    {
     "data": {
      "text/html": [
       "<div>\n",
       "<style scoped>\n",
       "    .dataframe tbody tr th:only-of-type {\n",
       "        vertical-align: middle;\n",
       "    }\n",
       "\n",
       "    .dataframe tbody tr th {\n",
       "        vertical-align: top;\n",
       "    }\n",
       "\n",
       "    .dataframe thead th {\n",
       "        text-align: right;\n",
       "    }\n",
       "</style>\n",
       "<table border=\"1\" class=\"dataframe\">\n",
       "  <thead>\n",
       "    <tr style=\"text-align: right;\">\n",
       "      <th></th>\n",
       "      <th>index</th>\n",
       "      <th>continent</th>\n",
       "      <th>country_code</th>\n",
       "      <th>consumption_per_capita_(L)</th>\n",
       "      <th>climate</th>\n",
       "      <th>main_export</th>\n",
       "      <th>main_industry</th>\n",
       "      <th>region</th>\n",
       "      <th>happy_score</th>\n",
       "      <th>life_expectancy</th>\n",
       "      <th>gdp_per_capita</th>\n",
       "      <th>code</th>\n",
       "      <th>mental_health_and_addiction (%)</th>\n",
       "      <th>capital</th>\n",
       "    </tr>\n",
       "    <tr>\n",
       "      <th>country</th>\n",
       "      <th></th>\n",
       "      <th></th>\n",
       "      <th></th>\n",
       "      <th></th>\n",
       "      <th></th>\n",
       "      <th></th>\n",
       "      <th></th>\n",
       "      <th></th>\n",
       "      <th></th>\n",
       "      <th></th>\n",
       "      <th></th>\n",
       "      <th></th>\n",
       "      <th></th>\n",
       "      <th></th>\n",
       "    </tr>\n",
       "  </thead>\n",
       "  <tbody>\n",
       "    <tr>\n",
       "      <th>Azerbaijan</th>\n",
       "      <td>4946</td>\n",
       "      <td>Europe</td>\n",
       "      <td>AZE</td>\n",
       "      <td>0.8</td>\n",
       "      <td>dry, semiarid steppe</td>\n",
       "      <td>Oil</td>\n",
       "      <td>petroleum and natural gas</td>\n",
       "      <td>Commonwealth of Independent States</td>\n",
       "      <td>5.1648</td>\n",
       "      <td>65.508400</td>\n",
       "      <td>9.687727</td>\n",
       "      <td>AZE</td>\n",
       "      <td>10.495815</td>\n",
       "      <td>Baku</td>\n",
       "    </tr>\n",
       "    <tr>\n",
       "      <th>Turkey</th>\n",
       "      <td>5116</td>\n",
       "      <td>Europe</td>\n",
       "      <td>TUR</td>\n",
       "      <td>2.0</td>\n",
       "      <td>temperate; hot, dry summers with mild, wet win...</td>\n",
       "      <td>Clothing and textiles</td>\n",
       "      <td>textiles</td>\n",
       "      <td>Middle East and North Africa</td>\n",
       "      <td>5.1318</td>\n",
       "      <td>66.902817</td>\n",
       "      <td>10.129419</td>\n",
       "      <td>TUR</td>\n",
       "      <td>14.536026</td>\n",
       "      <td>Ankara</td>\n",
       "    </tr>\n",
       "  </tbody>\n",
       "</table>\n",
       "</div>"
      ],
      "text/plain": [
       "            index continent country_code  consumption_per_capita_(L)  \\\n",
       "country                                                                \n",
       "Azerbaijan   4946    Europe          AZE                         0.8   \n",
       "Turkey       5116    Europe          TUR                         2.0   \n",
       "\n",
       "                                                      climate  \\\n",
       "country                                                         \n",
       "Azerbaijan                               dry, semiarid steppe   \n",
       "Turkey      temperate; hot, dry summers with mild, wet win...   \n",
       "\n",
       "                      main_export              main_industry  \\\n",
       "country                                                        \n",
       "Azerbaijan                    Oil  petroleum and natural gas   \n",
       "Turkey      Clothing and textiles                   textiles   \n",
       "\n",
       "                                        region  happy_score  life_expectancy  \\\n",
       "country                                                                        \n",
       "Azerbaijan  Commonwealth of Independent States       5.1648        65.508400   \n",
       "Turkey            Middle East and North Africa       5.1318        66.902817   \n",
       "\n",
       "            gdp_per_capita code  mental_health_and_addiction (%) capital  \n",
       "country                                                                   \n",
       "Azerbaijan        9.687727  AZE                        10.495815    Baku  \n",
       "Turkey           10.129419  TUR                        14.536026  Ankara  "
      ]
     },
     "execution_count": 61,
     "metadata": {},
     "output_type": "execute_result"
    }
   ],
   "source": [
    "# Identify the outliers in the Europe subset data\n",
    "europe_df = country_subset.loc[country_subset['continent'] == 'Europe']\n",
    "outliers_europe = europe_df.loc[(europe_df['consumption_per_capita_(L)'] >= 17.687500000000004) | \n",
    "                                        (europe_df['consumption_per_capita_(L)'] <= 3.1874999999999973)] \n",
    "outliers_europe"
   ]
  },
  {
   "cell_type": "markdown",
   "metadata": {},
   "source": [
    "#### Consumption by Continent - Asia"
   ]
  },
  {
   "cell_type": "code",
   "execution_count": 62,
   "metadata": {},
   "outputs": [
    {
     "data": {
      "text/plain": [
       "3.4400000000000004"
      ]
     },
     "execution_count": 62,
     "metadata": {},
     "output_type": "execute_result"
    }
   ],
   "source": [
    "# Consumption - Asia\n",
    "asia_df = country_subset.loc[country_subset[\"continent\"] == \"Asia\"]\n",
    "asia_consumption = asia_df['consumption_per_capita_(L)'].sum()\n",
    "countries_in_asia = len(asia_df)\n",
    "\n",
    "avg_consumption_asia = asia_consumption / countries_in_asia\n",
    "avg_consumption_asia "
   ]
  },
  {
   "cell_type": "markdown",
   "metadata": {},
   "source": [
    "#### Consumption by Continent - Oceania"
   ]
  },
  {
   "cell_type": "code",
   "execution_count": 63,
   "metadata": {},
   "outputs": [],
   "source": [
    "# Consumption - Oceania\n",
    "oceania_df = country_subset.loc[country_subset[\"continent\"] == \"Oceania\"]\n",
    "oceania_consumption = asia_df['consumption_per_capita_(L)'].sum()\n",
    "countries_in_oceania = len(oceania_df)\n",
    "\n",
    "avg_consumption_oceania = oceania_consumption / countries_in_oceania"
   ]
  },
  {
   "cell_type": "markdown",
   "metadata": {},
   "source": [
    "#### Consumption by Continent - Africa"
   ]
  },
  {
   "cell_type": "code",
   "execution_count": 64,
   "metadata": {},
   "outputs": [],
   "source": [
    "# Consumption - Africa\n",
    "africa_df = country_subset.loc[country_subset[\"continent\"] == \"Africa\"]\n",
    "africa_consumption = africa_df['consumption_per_capita_(L)'].sum()\n",
    "countries_in_africa = len(africa_df)\n",
    "\n",
    "avg_consumption_africa = africa_consumption / countries_in_africa"
   ]
  },
  {
   "cell_type": "markdown",
   "metadata": {},
   "source": [
    "#### Consumption by Continent - North America"
   ]
  },
  {
   "cell_type": "code",
   "execution_count": 65,
   "metadata": {},
   "outputs": [],
   "source": [
    "# Consumption - North America\n",
    "north_america_df = country_subset.loc[country_subset[\"continent\"] == \"North America\"]\n",
    "north_america_consumption = north_america_df['consumption_per_capita_(L)'].sum()\n",
    "countries_in_north_america = len(north_america_df)\n",
    "\n",
    "avg_consumption_north_america = north_america_consumption / countries_in_north_america"
   ]
  },
  {
   "cell_type": "markdown",
   "metadata": {},
   "source": [
    "#### Consumption by Continent - Europe"
   ]
  },
  {
   "cell_type": "code",
   "execution_count": 66,
   "metadata": {},
   "outputs": [],
   "source": [
    "# Consumption - Europe\n",
    "europe_df = country_subset.loc[country_subset[\"continent\"] == \"Europe\"]\n",
    "europe_consumption = europe_df['consumption_per_capita_(L)'].sum()\n",
    "countries_in_europe = len(europe_df)\n",
    "\n",
    "avg_consumption_europe = europe_consumption / countries_in_europe"
   ]
  },
  {
   "cell_type": "markdown",
   "metadata": {},
   "source": [
    "#### Consumption by Continent - South America"
   ]
  },
  {
   "cell_type": "code",
   "execution_count": 67,
   "metadata": {},
   "outputs": [],
   "source": [
    "# Consumption - South America\n",
    "south_america_df = country_subset.loc[country_subset[\"continent\"] == \"South America\"]\n",
    "south_america_consumption = south_america_df['consumption_per_capita_(L)'].sum()\n",
    "countries_in_south_america = len(south_america_df)\n",
    "\n",
    "avg_consumption_south_america = south_america_consumption / countries_in_south_america"
   ]
  },
  {
   "cell_type": "markdown",
   "metadata": {},
   "source": [
    "#### Consumption by Continent -  Summary"
   ]
  },
  {
   "cell_type": "code",
   "execution_count": 68,
   "metadata": {},
   "outputs": [
    {
     "name": "stdout",
     "output_type": "stream",
     "text": [
      "3.4400000000000004\n",
      "11.466666666666669\n",
      "4.767924528301887\n",
      "6.839130434782609\n",
      "10.291304347826086\n",
      "6.933333333333333\n"
     ]
    }
   ],
   "source": [
    "print(avg_consumption_asia)\n",
    "print(avg_consumption_oceania)\n",
    "print(avg_consumption_africa)\n",
    "print(avg_consumption_north_america)\n",
    "print(avg_consumption_europe)\n",
    "print(avg_consumption_south_america)"
   ]
  },
  {
   "cell_type": "markdown",
   "metadata": {},
   "source": [
    "#### Consumption by Continent - Bar Graph "
   ]
  },
  {
   "cell_type": "code",
   "execution_count": 69,
   "metadata": {},
   "outputs": [
    {
     "data": {
      "text/plain": [
       "Text(0, 0.5, 'Average Alcohol Consumption Per Capita (Liters)')"
      ]
     },
     "execution_count": 69,
     "metadata": {},
     "output_type": "execute_result"
    },
    {
     "data": {
      "image/png": "[encoded data removed]",
      "text/plain": [
       "<Figure size 432x288 with 1 Axes>"
      ]
     },
     "metadata": {
      "needs_background": "light"
     },
     "output_type": "display_data"
    }
   ],
   "source": [
    "# Define x and y axis\n",
    "y = [avg_consumption_asia, avg_consumption_oceania, avg_consumption_africa, avg_consumption_north_america, avg_consumption_europe, avg_consumption_south_america ]\n",
    "x = np.arange(len(y)) \n",
    "\n",
    "# Plot bar graph\n",
    "plt.bar(x, y, color='r', alpha=0.5, align=\"center\")\n",
    "\n",
    "# Add Labels\n",
    "tick_locations = [value for value in x]\n",
    "plt.xticks(tick_locations, [\"Asia\", \"Oceania\", \"Africa\", \"North America\", \"Europe\", \"South America\"])\n",
    "plt.title(\"Alcohol Consumption By Continent\")\n",
    "plt.xlabel(\"Continent\")\n",
    "plt.ylabel(\"Average Alcohol Consumption Per Capita (Liters)\")"
   ]
  },
  {
   "cell_type": "markdown",
   "metadata": {},
   "source": [
    "###  Part Three  - Consumption & Geography - Region "
   ]
  },
  {
   "cell_type": "markdown",
   "metadata": {},
   "source": [
    "#### Use a for loop to find consumption averages by region"
   ]
  },
  {
   "cell_type": "code",
   "execution_count": null,
   "metadata": {},
   "outputs": [],
   "source": [
    "country_subset[\"region\"].value_counts()"
   ]
  },
  {
   "cell_type": "code",
   "execution_count": null,
   "metadata": {},
   "outputs": [],
   "source": [
    "# Create containers to hold aggregate values for each continent in for loop\n",
    "region = ['Sub-Saharan Africa ', 'Latin America and Caribbean', 'Western Europe', 'Middle East and North Africa',\n",
    "          'Central and Eastern Europe', 'Commonwealth of Independent States', 'Southeast Asia',\n",
    "          'North America and ANZ','East Asia'] \n",
    "segment_values = []\n",
    "number_countries = []\n",
    "\n",
    "# Filter each segment from our list 'continent' in the dataframe\n",
    "for continent in continent:\n",
    "    df = country_subset.loc[country_subset[\"continent\"] == continent]\n",
    "    # Aggregate the consumption values for each continent in the dataframe\n",
    "    values = df['consumption_per_capita_(L)'].sum()\n",
    "    segment_values.append(values)\n",
    "    # Find number of countries for each continent in the dataframe\n",
    "    consumption_by_segment = len(df)\n",
    "    number_countries.append(consumption_by_segment)\n",
    "    # Find the average consumption for each continent\n",
    "    # Division is not a supported operation on lists so use np.array to perform a function\n",
    "    avg_consumption_by_region = np.array([segment_values]) / np.array([number_countries])\n",
    "    \n",
    "print(avg_consumption_by_region)\n",
    "print(segment_values)\n",
    "print(number_countries) "
   ]
  },
  {
   "cell_type": "code",
   "execution_count": null,
   "metadata": {},
   "outputs": [],
   "source": [
    "df_12.boxplot(\"consumption_per_capita_(L)\", by=\"region\", figsize=(20, 10))"
   ]
  },
  {
   "cell_type": "code",
   "execution_count": null,
   "metadata": {},
   "outputs": [],
   "source": []
  },
  {
   "cell_type": "code",
   "execution_count": null,
   "metadata": {},
   "outputs": [],
   "source": [
    "# Merge all exports related to oil and petroleum\n",
    "df_11['main_export'] = df_11['main_export'].replace({\"Crude oil\": \"Oil\"}) \n",
    "df_11['main_export'] = df_11.loc['main_export'].replace({\"Petroleum\": \"Oil\"}) \n",
    "# df_11['main_export'] = df_11.loc['main_export'].replace({\"Crude oil and petroleum products\": \"Oil\"}) \n",
    "# df_11['main_export'] = df_11.loc['main_export'].replace({\"Oil and gas\": \"Oil\"}) \n",
    "# df_11['main_export'] = df_11.loc['main_export'].replace({\"Fuels and fuel products\": \"Oil\"}) \n",
    "# df_11['main_export'] = df_11.loc['main_export'].replace({\"Petroleum and petroleum products\": \"Oil\"}) \n",
    "\n",
    "# # Merge all exports related to electronics\n",
    "# df_11['main_export'] = df_11.loc['main_export'].replace({\"Electronic equipment\": \"Electronic products\"}) \n",
    "  \n",
    "#.loc[row_index,col_indexer]"
   ]
  },
  {
   "cell_type": "code",
   "execution_count": null,
   "metadata": {},
   "outputs": [],
   "source": [
    "df_11"
   ]
  },
  {
   "cell_type": "markdown",
   "metadata": {},
   "source": [
    "###  Part Four  - Economy - Industry\n"
   ]
  },
  {
   "cell_type": "code",
   "execution_count": null,
   "metadata": {},
   "outputs": [],
   "source": [
    "df_8.columns"
   ]
  },
  {
   "cell_type": "markdown",
   "metadata": {},
   "source": [
    "### Part Five - Correlation & Regression"
   ]
  },
  {
   "cell_type": "code",
   "execution_count": 8,
   "metadata": {},
   "outputs": [
    {
     "data": {
      "image/png": "[encoded data removed]",
      "text/plain": [
       "<Figure size 1080x720 with 2 Axes>"
      ]
     },
     "metadata": {
      "needs_background": "light"
     },
     "output_type": "display_data"
    }
   ],
   "source": [
    "# Explore potential relationships by creating correlation matrix\n",
    "from matplotlib.pyplot import figure\n",
    "\n",
    "df_12_corr = df_12.corr()\n",
    "df_12_corr.unstack().sort_values()\n",
    "\n",
    "plt.rcParams['figure.figsize'] = (15.0, 10.0)\n",
    "figure = (sn.heatmap(df_12_corr, annot=True,))\n",
    "\n"
   ]
  },
  {
   "cell_type": "code",
   "execution_count": null,
   "metadata": {},
   "outputs": [],
   "source": []
  },
  {
   "cell_type": "code",
   "execution_count": null,
   "metadata": {},
   "outputs": [],
   "source": []
  }
 ],
 "metadata": {
  "kernelspec": {
   "display_name": "Python 3",
   "language": "python",
   "name": "python3"
  },
  "language_info": {
   "codemirror_mode": {
    "name": "ipython",
    "version": 3
   },
   "file_extension": ".py",
   "mimetype": "text/x-python",
   "name": "python",
   "nbconvert_exporter": "python",
   "pygments_lexer": "ipython3",
   "version": "3.8.5"
  }
 },
 "nbformat": 4,
 "nbformat_minor": 4
}
