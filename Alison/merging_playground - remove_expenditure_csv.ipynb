{
 "cells": [
  {
   "cell_type": "markdown",
   "metadata": {},
   "source": [
    "## Part One"
   ]
  },
  {
   "cell_type": "markdown",
   "metadata": {},
   "source": [
    "### Set Up"
   ]
  },
  {
   "cell_type": "code",
   "execution_count": 1,
   "metadata": {},
   "outputs": [],
   "source": [
    "import matplotlib.pyplot as plt\n",
    "import pandas as pd\n",
    "import scipy.stats as st\n",
    "import numpy as np\n",
    "from IPython.display import display\n",
    "import seaborn as sn"
   ]
  },
  {
   "cell_type": "code",
   "execution_count": 2,
   "metadata": {},
   "outputs": [],
   "source": [
    "# Files to Load \n",
    "continent_file = \"Resources/continent_code.csv\"\n",
    "climate_file = \"Resources/country_climate.csv\"\n",
    "export_file = \"Resources/country_export.csv\"\n",
    "industry_file = \"Resources/country_industry.csv\"\n",
    "consumption_file = \"Resources/country_consumption.csv\"\n",
    "happiness_file = \"Resources/country_happiness.csv\"\n",
    "\n",
    "# Read csv and store into Pandas DataFrames\n",
    "continent_data = pd.read_csv(continent_file)\n",
    "climate_data = pd.read_csv(climate_file)\n",
    "export_data = pd.read_csv(export_file)\n",
    "industry_data = pd.read_csv(industry_file)\n",
    "consumption_data = pd.read_csv(consumption_file)\n",
    "happiness_data = pd.read_csv(happiness_file)"
   ]
  },
  {
   "cell_type": "markdown",
   "metadata": {},
   "source": [
    "### Clean Dataframes "
   ]
  },
  {
   "cell_type": "code",
   "execution_count": 3,
   "metadata": {},
   "outputs": [],
   "source": [
    "# Clean Dataframes before merge - continent_df\n",
    "continent_df = continent_data[[\"Continent_Name\",\"Three_Letter_Country_Code\"]] \n",
    "continent_df = continent_df.rename(columns={\"Three_Letter_Country_Code\": \"country_code\", \"Continent_Name\": \"continent\" })\n",
    "\n",
    "# Clean Dataframes before merge - climate_df\n",
    "climate_df = climate_data[[\"COUNTRY\",\"CLIMATE\"]]\n",
    "climate_df  = climate_df.rename(columns={\"COUNTRY\": \"country\", \"CLIMATE\": \"climate\" })\n",
    "\n",
    "# Clean Dataframes before merge - consumption_df \n",
    "consumption_df  = consumption_data.rename(columns={\"Entity\": \"country\", \"Code\": \"country_code\", \n",
    "                                                   \"Total alcohol consumption per capita (liters of pure alcohol, projected estimates, 15+ years of age)\": \"consumption_per_capita_(L)\"})\n",
    "\n",
    "# Clean Dataframes before merge - happiness_df \n",
    "happiness_df = happiness_data[[\"Country name\", \"Regional indicator\", \"Ladder score\", \"Healthy life expectancy\",\"Logged GDP per capita\"]]\n",
    "happiness_df = happiness_df.rename(columns= {\"Country name\": \"country\", \"Regional indicator\": \"region\", \"Ladder score\": \"happy_score\", \"Healthy life expectancy\": \"life_expectancy\", \"Logged GDP per capita\" : \"gdp_per_capita\"})\n"
   ]
  },
  {
   "cell_type": "markdown",
   "metadata": {},
   "source": [
    "### Merge DataFrames\n",
    "* df_2 = continent_df + consumption_df\n",
    "* df_3 = continent_df + consumption_df + climate_df\n",
    "* df_4 = continent_df + consumption_df + climate_df + export_data\n",
    "* df_5 = continent_df + consumption_df + climate_df + export_data + industry_data\n",
    "* df_6 = continent_df + consumption_df + climate_df + export_data + industry_data + happiness_df"
   ]
  },
  {
   "cell_type": "code",
   "execution_count": 13,
   "metadata": {},
   "outputs": [
    {
     "data": {
      "text/plain": [
       "continent                     5317\n",
       "country_code                  5134\n",
       "country                        483\n",
       "consumption_per_capita_(L)     378\n",
       "climate                       3917\n",
       "main_export                    196\n",
       "main_industry                  240\n",
       "region                         160\n",
       "happy_score                    160\n",
       "life_expectancy                160\n",
       "gdp_per_capita                 160\n",
       "dtype: int64"
      ]
     },
     "execution_count": 13,
     "metadata": {},
     "output_type": "execute_result"
    }
   ],
   "source": [
    "# Combine the data into a single dataset. Identify/eliminate incomplete rows  \n",
    "df_2 = pd.merge(continent_df, consumption_df, how=\"outer\", on=[\"country_code\", \"country_code\"])  \n",
    "# df_2.count() \n",
    "# df_2 = df_2.dropna(how='any')\n",
    "\n",
    "df_3 = pd.merge(df_2, climate_df, how=\"outer\", on=[\"country\", \"country\"]) \n",
    "\n",
    "df_4 = pd.merge(df_3, export_data, how=\"outer\", on=[\"country\", \"country\"]) \n",
    "\n",
    "df_5 = pd.merge(df_4, industry_data, how=\"outer\", on=[\"country\", \"country\"]) \n",
    "\n",
    "df_6 = pd.merge(df_5, happiness_df, how=\"outer\", on=[\"country\", \"country\"]) \n",
    "\n",
    "df_6.count() \n"
   ]
  },
  {
   "cell_type": "code",
   "execution_count": 23,
   "metadata": {},
   "outputs": [
    {
     "data": {
      "text/plain": [
       "continent                     4937\n",
       "country_code                  4754\n",
       "country                        483\n",
       "consumption_per_capita_(L)     378\n",
       "climate                       3637\n",
       "main_export                    196\n",
       "main_industry                  240\n",
       "region                         160\n",
       "happy_score                    160\n",
       "life_expectancy                160\n",
       "gdp_per_capita                 160\n",
       "dtype: int64"
      ]
     },
     "execution_count": 23,
     "metadata": {},
     "output_type": "execute_result"
    }
   ],
   "source": [
    "# Remove all rows where continent == 'Antartica'\n",
    "to_drop = ['Antarctica']\n",
    "df_7 = df_6[~df_6['continent'].isin(to_drop)]\n",
    "\n",
    "df_7.count() \n"
   ]
  },
  {
   "cell_type": "code",
   "execution_count": 30,
   "metadata": {},
   "outputs": [
    {
     "data": {
      "text/plain": [
       "continent                     377\n",
       "country_code                  194\n",
       "country                       378\n",
       "consumption_per_capita_(L)    378\n",
       "climate                       188\n",
       "main_export                   172\n",
       "main_industry                 183\n",
       "region                        148\n",
       "happy_score                   148\n",
       "life_expectancy               148\n",
       "gdp_per_capita                148\n",
       "dtype: int64"
      ]
     },
     "execution_count": 30,
     "metadata": {},
     "output_type": "execute_result"
    }
   ],
   "source": [
    "# Remove all rows where there is no value for alcohol consumption \n",
    "df_8 = df_7[df_7['consumption_per_capita_(L)'].notna()] \n",
    "df_8.count() \n"
   ]
  },
  {
   "cell_type": "markdown",
   "metadata": {},
   "source": [
    "## Part Two - Data Summary\n",
    "\n",
    "* Calculate how many rows of data there are\n",
    "* Display a list of columns\n",
    "* Display a list of countries\n",
    "* Calculate total number of countries\n",
    "* Calculate the measures of central tendency for alcohol expenditure as a percent of total household expenditure for each country\n",
    "* Calculate the overall average alcohol expenditure as a percent of total household expenditure \n",
    "* Calculate overall average alcohol consumption\n",
    "* Calculate total years of data compiled for each country \n",
    "* Determine which year(s) have the most data \n"
   ]
  },
  {
   "cell_type": "markdown",
   "metadata": {},
   "source": [
    "####  Calculate how many rows of data there are"
   ]
  },
  {
   "cell_type": "code",
   "execution_count": 31,
   "metadata": {},
   "outputs": [
    {
     "name": "stdout",
     "output_type": "stream",
     "text": [
      "The total number of rows represented in the dataset are: 378\n"
     ]
    }
   ],
   "source": [
    "total_rows = df_8.shape[0] \n",
    "print(f'The total number of rows represented in the dataset are: {total_rows}')  "
   ]
  },
  {
   "cell_type": "markdown",
   "metadata": {},
   "source": [
    "####  Display a list of columns"
   ]
  },
  {
   "cell_type": "code",
   "execution_count": 32,
   "metadata": {},
   "outputs": [
    {
     "data": {
      "text/plain": [
       "Index(['continent', 'country_code', 'country', 'consumption_per_capita_(L)',\n",
       "       'climate', 'main_export', 'main_industry', 'region', 'happy_score',\n",
       "       'life_expectancy', 'gdp_per_capita'],\n",
       "      dtype='object')"
      ]
     },
     "execution_count": 32,
     "metadata": {},
     "output_type": "execute_result"
    }
   ],
   "source": [
    "df_8.columns"
   ]
  },
  {
   "cell_type": "markdown",
   "metadata": {},
   "source": [
    "#### Display a list of regions"
   ]
  },
  {
   "cell_type": "code",
   "execution_count": 34,
   "metadata": {},
   "outputs": [
    {
     "data": {
      "text/plain": [
       "array(['South Asia', 'Central and Eastern Europe',\n",
       "       'Middle East and North Africa', nan,\n",
       "       'Commonwealth of Independent States',\n",
       "       'Latin America and Caribbean', 'North America and ANZ',\n",
       "       'Western Europe', 'Sub-Saharan Africa', 'Southeast Asia',\n",
       "       'East Asia'], dtype=object)"
      ]
     },
     "execution_count": 34,
     "metadata": {},
     "output_type": "execute_result"
    }
   ],
   "source": [
    "df_8[\"region\"].unique()"
   ]
  },
  {
   "cell_type": "markdown",
   "metadata": {},
   "source": [
    "#### Display a list of countries"
   ]
  },
  {
   "cell_type": "code",
   "execution_count": 35,
   "metadata": {},
   "outputs": [
    {
     "data": {
      "text/plain": [
       "array(['Afghanistan', 'Albania', 'Algeria', 'Andorra', 'Angola',\n",
       "       'Antigua and Barbuda', 'Azerbaijan', 'Argentina', 'Australia',\n",
       "       'Austria', 'Bahamas', 'Bahrain', 'Bangladesh', 'Armenia',\n",
       "       'Barbados', 'Belgium', 'Bhutan', 'Bolivia',\n",
       "       'Bosnia and Herzegovina', 'Botswana', 'Brazil', 'Belize',\n",
       "       'Solomon Islands', 'Brunei', 'Bulgaria', 'Myanmar', 'Burundi',\n",
       "       'Belarus', 'Cambodia', 'Cameroon', 'Canada', 'Cape Verde',\n",
       "       'Central African Republic', 'Sri Lanka', 'Chad', 'Chile', 'China',\n",
       "       'Colombia', 'Comoros', 'Congo', 'Democratic Republic of Congo',\n",
       "       'Costa Rica', 'Croatia', 'Cuba', 'Cyprus', 'Czechia', 'Benin',\n",
       "       'Denmark', 'Dominica', 'Dominican Republic', 'Ecuador',\n",
       "       'El Salvador', 'Equatorial Guinea', 'Ethiopia', 'Eritrea',\n",
       "       'Estonia', 'Fiji', 'Finland', 'France', 'Djibouti', 'Gabon',\n",
       "       'Georgia', 'Gambia', 'Germany', 'Ghana', 'Kiribati', 'Greece',\n",
       "       'Grenada', 'Guatemala', 'Guinea', 'Guyana', 'Haiti', 'Honduras',\n",
       "       'Hungary', 'Iceland', 'India', 'Indonesia', 'Iran', 'Iraq',\n",
       "       'Ireland', 'Israel', 'Italy', \"Cote d'Ivoire\", 'Jamaica', 'Japan',\n",
       "       'Kazakhstan', 'Jordan', 'Kenya', 'North Korea', 'South Korea',\n",
       "       'Kuwait', 'Kyrgyzstan', 'Laos', 'Lebanon', 'Lesotho', 'Latvia',\n",
       "       'Liberia', 'Libya', 'Lithuania', 'Luxembourg', 'Madagascar',\n",
       "       'Malawi', 'Malaysia', 'Maldives', 'Mali', 'Malta', 'Mauritania',\n",
       "       'Mauritius', 'Mexico', 'Mongolia', 'Moldova', 'Montenegro',\n",
       "       'Morocco', 'Mozambique', 'Oman', 'Namibia', 'Nauru', 'Nepal',\n",
       "       'Netherlands', 'Vanuatu', 'New Zealand', 'Nicaragua', 'Niger',\n",
       "       'Nigeria', 'Norway', 'Micronesia (country)', 'Pakistan', 'Panama',\n",
       "       'Papua New Guinea', 'Paraguay', 'Peru', 'Philippines', 'Poland',\n",
       "       'Portugal', 'Guinea-Bissau', 'Timor', 'Qatar', 'Romania', 'Russia',\n",
       "       'Rwanda', 'Saint Kitts and Nevis', 'Saint Lucia',\n",
       "       'Saint Vincent and the Grenadines', 'Sao Tome and Principe',\n",
       "       'Saudi Arabia', 'Senegal', 'Serbia', 'Seychelles', 'Sierra Leone',\n",
       "       'Singapore', 'Slovakia', 'Vietnam', 'Slovenia', 'Somalia',\n",
       "       'South Africa', 'Zimbabwe', 'Spain', 'Sudan', 'Suriname',\n",
       "       'Eswatini', 'Sweden', 'Switzerland', 'Tajikistan', 'Thailand',\n",
       "       'Togo', 'Tonga', 'Trinidad and Tobago', 'United Arab Emirates',\n",
       "       'Tunisia', 'Turkey', 'Turkmenistan', 'Tuvalu', 'Uganda', 'Ukraine',\n",
       "       'North Macedonia', 'Egypt', 'United Kingdom', 'Tanzania',\n",
       "       'United States', 'Burkina Faso', 'Uruguay', 'Uzbekistan',\n",
       "       'Venezuela', 'Samoa', 'Yemen', 'Zambia', 'Arab World',\n",
       "       'Caribbean small states', 'Central Europe and the Baltics',\n",
       "       'Early-demographic dividend', 'East Asia & Pacific',\n",
       "       'East Asia & Pacific (IDA & IBRD)',\n",
       "       'East Asia & Pacific (excluding high income)', 'Euro area',\n",
       "       'Europe & Central Asia', 'Europe & Central Asia (IDA & IBRD)',\n",
       "       'Europe & Central Asia (excluding high income)', 'European Union',\n",
       "       'Fragile and conflict affected situations',\n",
       "       'Heavily indebted poor countries (HIPC)', 'High income',\n",
       "       'IBRD only', 'IDA & IBRD total', 'IDA blend', 'IDA only',\n",
       "       'IDA total', 'Late-demographic dividend',\n",
       "       'Latin America & Caribbean',\n",
       "       'Latin America & Caribbean (IDA & IBRD)',\n",
       "       'Latin America & Caribbean (excluding high income)',\n",
       "       'Least developed countries: UN classification',\n",
       "       'Low & middle income', 'Low income', 'Lower middle income',\n",
       "       'Middle East & North Africa',\n",
       "       'Middle East & North Africa (IDA & IBRD)',\n",
       "       'Middle East & North Africa (excluding high income)',\n",
       "       'Middle income', 'North America', 'OECD members',\n",
       "       'Other small states', 'Pacific island small states',\n",
       "       'Post-demographic dividend', 'Pre-demographic dividend',\n",
       "       'Small states', 'South Asia', 'South Asia (IDA & IBRD)',\n",
       "       'Sub-Saharan Africa', 'Sub-Saharan Africa (IDA & IBRD)',\n",
       "       'Sub-Saharan Africa (excluding high income)',\n",
       "       'Syrian Arab Republic', 'Upper middle income', 'World'],\n",
       "      dtype=object)"
      ]
     },
     "execution_count": 35,
     "metadata": {},
     "output_type": "execute_result"
    }
   ],
   "source": [
    "df_8[\"country\"].unique()"
   ]
  },
  {
   "cell_type": "markdown",
   "metadata": {},
   "source": [
    "####  Calculate the total number of countries"
   ]
  },
  {
   "cell_type": "code",
   "execution_count": 37,
   "metadata": {},
   "outputs": [
    {
     "name": "stdout",
     "output_type": "stream",
     "text": [
      "There are 233 countries represented in the dataset.\n"
     ]
    }
   ],
   "source": [
    "number_countries = df_8['country'].nunique()\n",
    "print(f\"There are {number_countries} countries represented in the dataset.\")  \n",
    "\n",
    "# Alternative method\n",
    "# unique_countries = df_8['country'].unique()\n",
    "# number_countries = len(unique_countries)"
   ]
  },
  {
   "cell_type": "markdown",
   "metadata": {},
   "source": [
    "#### Calculate the overall average alcohol consumption\n"
   ]
  },
  {
   "cell_type": "code",
   "execution_count": 39,
   "metadata": {},
   "outputs": [
    {
     "name": "stdout",
     "output_type": "stream",
     "text": [
      "The overall average of alcohol consumption per capita (liters) among countries represented in the dataset is: 6.023850074341273\n"
     ]
    }
   ],
   "source": [
    "overall_avg_consumption = df_8[\"consumption_per_capita_(L)\"].mean() \n",
    " \n",
    "print(f\"The overall average of alcohol consumption per capita (liters) among countries represented in the dataset is: {overall_avg_consumption}\")  \n"
   ]
  },
  {
   "cell_type": "markdown",
   "metadata": {},
   "source": [
    "#### Find the 10 countries that consumes the most alcohol \n"
   ]
  },
  {
   "cell_type": "code",
   "execution_count": 40,
   "metadata": {},
   "outputs": [
    {
     "data": {
      "text/html": [
       "<div>\n",
       "<style scoped>\n",
       "    .dataframe tbody tr th:only-of-type {\n",
       "        vertical-align: middle;\n",
       "    }\n",
       "\n",
       "    .dataframe tbody tr th {\n",
       "        vertical-align: top;\n",
       "    }\n",
       "\n",
       "    .dataframe thead th {\n",
       "        text-align: right;\n",
       "    }\n",
       "</style>\n",
       "<table border=\"1\" class=\"dataframe\">\n",
       "  <thead>\n",
       "    <tr style=\"text-align: right;\">\n",
       "      <th></th>\n",
       "      <th>consumption_per_capita_(L)</th>\n",
       "    </tr>\n",
       "    <tr>\n",
       "      <th>country</th>\n",
       "      <th></th>\n",
       "    </tr>\n",
       "  </thead>\n",
       "  <tbody>\n",
       "    <tr>\n",
       "      <th>Moldova</th>\n",
       "      <td>15.2</td>\n",
       "    </tr>\n",
       "    <tr>\n",
       "      <th>Lithuania</th>\n",
       "      <td>15.0</td>\n",
       "    </tr>\n",
       "    <tr>\n",
       "      <th>Czechia</th>\n",
       "      <td>14.4</td>\n",
       "    </tr>\n",
       "    <tr>\n",
       "      <th>Germany</th>\n",
       "      <td>13.4</td>\n",
       "    </tr>\n",
       "    <tr>\n",
       "      <th>Nigeria</th>\n",
       "      <td>13.4</td>\n",
       "    </tr>\n",
       "    <tr>\n",
       "      <th>Luxembourg</th>\n",
       "      <td>13.0</td>\n",
       "    </tr>\n",
       "    <tr>\n",
       "      <th>Ireland</th>\n",
       "      <td>13.0</td>\n",
       "    </tr>\n",
       "    <tr>\n",
       "      <th>Latvia</th>\n",
       "      <td>12.9</td>\n",
       "    </tr>\n",
       "    <tr>\n",
       "      <th>Bulgaria</th>\n",
       "      <td>12.7</td>\n",
       "    </tr>\n",
       "    <tr>\n",
       "      <th>France</th>\n",
       "      <td>12.6</td>\n",
       "    </tr>\n",
       "  </tbody>\n",
       "</table>\n",
       "</div>"
      ],
      "text/plain": [
       "            consumption_per_capita_(L)\n",
       "country                               \n",
       "Moldova                           15.2\n",
       "Lithuania                         15.0\n",
       "Czechia                           14.4\n",
       "Germany                           13.4\n",
       "Nigeria                           13.4\n",
       "Luxembourg                        13.0\n",
       "Ireland                           13.0\n",
       "Latvia                            12.9\n",
       "Bulgaria                          12.7\n",
       "France                            12.6"
      ]
     },
     "execution_count": 40,
     "metadata": {},
     "output_type": "execute_result"
    }
   ],
   "source": [
    "country_mask = df_8.groupby(\"country\")\n",
    "country_subset = country_mask.first()\n",
    "\n",
    "high_consumption = country_subset.sort_values([(\"consumption_per_capita_(L)\")], ascending=False).head(n=10)\n",
    "high_consumption.reset_index() \n",
    "\n",
    "high_consumption_series = high_consumption[\"consumption_per_capita_(L)\"]  \n",
    "high_consumption_df = pd.DataFrame(high_consumption_series)\n",
    "\n",
    "high_consumption_df"
   ]
  },
  {
   "cell_type": "markdown",
   "metadata": {},
   "source": [
    "#### Find the 10 countries that consumes the least alcohol "
   ]
  },
  {
   "cell_type": "code",
   "execution_count": 41,
   "metadata": {},
   "outputs": [
    {
     "data": {
      "text/html": [
       "<div>\n",
       "<style scoped>\n",
       "    .dataframe tbody tr th:only-of-type {\n",
       "        vertical-align: middle;\n",
       "    }\n",
       "\n",
       "    .dataframe tbody tr th {\n",
       "        vertical-align: top;\n",
       "    }\n",
       "\n",
       "    .dataframe thead th {\n",
       "        text-align: right;\n",
       "    }\n",
       "</style>\n",
       "<table border=\"1\" class=\"dataframe\">\n",
       "  <thead>\n",
       "    <tr style=\"text-align: right;\">\n",
       "      <th></th>\n",
       "      <th>consumption_per_capita_(L)</th>\n",
       "    </tr>\n",
       "    <tr>\n",
       "      <th>country</th>\n",
       "      <th></th>\n",
       "    </tr>\n",
       "  </thead>\n",
       "  <tbody>\n",
       "    <tr>\n",
       "      <th>Mauritania</th>\n",
       "      <td>0.0</td>\n",
       "    </tr>\n",
       "    <tr>\n",
       "      <th>Libya</th>\n",
       "      <td>0.0</td>\n",
       "    </tr>\n",
       "    <tr>\n",
       "      <th>Somalia</th>\n",
       "      <td>0.0</td>\n",
       "    </tr>\n",
       "    <tr>\n",
       "      <th>Kuwait</th>\n",
       "      <td>0.0</td>\n",
       "    </tr>\n",
       "    <tr>\n",
       "      <th>Bangladesh</th>\n",
       "      <td>0.0</td>\n",
       "    </tr>\n",
       "    <tr>\n",
       "      <th>Yemen</th>\n",
       "      <td>0.1</td>\n",
       "    </tr>\n",
       "    <tr>\n",
       "      <th>Saudi Arabia</th>\n",
       "      <td>0.2</td>\n",
       "    </tr>\n",
       "    <tr>\n",
       "      <th>Afghanistan</th>\n",
       "      <td>0.2</td>\n",
       "    </tr>\n",
       "    <tr>\n",
       "      <th>Pakistan</th>\n",
       "      <td>0.3</td>\n",
       "    </tr>\n",
       "    <tr>\n",
       "      <th>Syrian Arab Republic</th>\n",
       "      <td>0.3</td>\n",
       "    </tr>\n",
       "  </tbody>\n",
       "</table>\n",
       "</div>"
      ],
      "text/plain": [
       "                      consumption_per_capita_(L)\n",
       "country                                         \n",
       "Mauritania                                   0.0\n",
       "Libya                                        0.0\n",
       "Somalia                                      0.0\n",
       "Kuwait                                       0.0\n",
       "Bangladesh                                   0.0\n",
       "Yemen                                        0.1\n",
       "Saudi Arabia                                 0.2\n",
       "Afghanistan                                  0.2\n",
       "Pakistan                                     0.3\n",
       "Syrian Arab Republic                         0.3"
      ]
     },
     "execution_count": 41,
     "metadata": {},
     "output_type": "execute_result"
    }
   ],
   "source": [
    "low_consumption = country_subset.sort_values([(\"consumption_per_capita_(L)\")], ascending=True).head(n=10)\n",
    "low_consumption.reset_index() \n",
    "\n",
    "low_consumption_series = low_consumption[\"consumption_per_capita_(L)\"]  \n",
    "low_consumption_df = pd.DataFrame(low_consumption_series)\n",
    "\n",
    "low_consumption_df"
   ]
  },
  {
   "cell_type": "markdown",
   "metadata": {},
   "source": [
    "## Part Two Data Summary\n"
   ]
  },
  {
   "cell_type": "code",
   "execution_count": 42,
   "metadata": {},
   "outputs": [
    {
     "name": "stdout",
     "output_type": "stream",
     "text": [
      "Total number of rows represented in the dataset: 378\n",
      "Total number of countries represented in the dataset: 233\n",
      "Overall average of alcohol consumption per capita (liters): 6.023850074341273\n"
     ]
    }
   ],
   "source": [
    "print(f'Total number of rows represented in the dataset: {total_rows}')  \n",
    "print(f\"Total number of countries represented in the dataset: {number_countries}\")\n",
    "print(f\"Overall average of alcohol consumption per capita (liters): {overall_avg_consumption}\")  \n"
   ]
  },
  {
   "cell_type": "code",
   "execution_count": 43,
   "metadata": {},
   "outputs": [
    {
     "data": {
      "text/plain": [
       "Index(['continent', 'country_code', 'consumption_per_capita_(L)', 'climate',\n",
       "       'main_export', 'main_industry', 'region', 'happy_score',\n",
       "       'life_expectancy', 'gdp_per_capita'],\n",
       "      dtype='object')"
      ]
     },
     "execution_count": 43,
     "metadata": {},
     "output_type": "execute_result"
    }
   ],
   "source": [
    "country_subset.columns"
   ]
  },
  {
   "cell_type": "markdown",
   "metadata": {},
   "source": [
    "## Part Three  - Consumption & Geography -  Continent "
   ]
  },
  {
   "cell_type": "code",
   "execution_count": null,
   "metadata": {},
   "outputs": [],
   "source": [
    "continent = ['Africa', 'Asia', 'Europe', 'North America', 'South America', 'Oceania'] \n",
    "consumption_values = []\n",
    "number_countries = []\n",
    "avg_consumption = []\n",
    "\n",
    "# Locate each continent from our list of data \n",
    "for country in continent:\n",
    "    print('Working on: ', country)\n",
    "    continent_df = country_subset.loc[country_subset[\"continent\"] == 'continent']\n",
    "    \n",
    "    consumption = continent_df['consumption_per_capita_(L)'].sum()\n",
    "    consumption_values.append(consumption)\n",
    "    \n",
    "    countries = len(continent_df)\n",
    "    number_countries.append(countries)\n",
    "    \n",
    "#     consumption_by_continent = consumption / countries\n",
    "#     avg_consumption.append(consumption_by_continent)\n",
    "    \n",
    "consumption_values\n",
    "number_countries"
   ]
  },
  {
   "cell_type": "markdown",
   "metadata": {},
   "source": [
    "#### Consumption by Continent - Asia"
   ]
  },
  {
   "cell_type": "code",
   "execution_count": 44,
   "metadata": {},
   "outputs": [],
   "source": [
    "# Consumption - Asia\n",
    "asia_df = country_subset.loc[country_subset[\"continent\"] == \"Asia\"]\n",
    "asia_consumption = asia_df['consumption_per_capita_(L)'].sum()\n",
    "countries_in_asia = len(asia_df)\n",
    "\n",
    "avg_consumption_asia = asia_consumption / countries_in_asia"
   ]
  },
  {
   "cell_type": "markdown",
   "metadata": {},
   "source": [
    "#### Consumption by Continent - Oceania"
   ]
  },
  {
   "cell_type": "code",
   "execution_count": 63,
   "metadata": {},
   "outputs": [],
   "source": [
    "# Consumption - Oceania\n",
    "oceania_df = country_subset.loc[country_subset[\"continent\"] == \"Oceania\"]\n",
    "oceania_consumption = asia_df['consumption_per_capita_(L)'].sum()\n",
    "countries_in_oceania = len(oceania_df)\n",
    "\n",
    "avg_consumption_oceania = oceania_consumption / countries_in_oceania"
   ]
  },
  {
   "cell_type": "markdown",
   "metadata": {},
   "source": [
    "#### Consumption by Continent - Africa"
   ]
  },
  {
   "cell_type": "code",
   "execution_count": 64,
   "metadata": {},
   "outputs": [],
   "source": [
    "# Consumption - Africa\n",
    "africa_df = country_subset.loc[country_subset[\"continent\"] == \"Africa\"]\n",
    "africa_consumption = africa_df['consumption_per_capita_(L)'].sum()\n",
    "countries_in_africa = len(africa_df)\n",
    "\n",
    "avg_consumption_africa = africa_consumption / countries_in_africa"
   ]
  },
  {
   "cell_type": "markdown",
   "metadata": {},
   "source": [
    "#### Consumption by Continent - North America"
   ]
  },
  {
   "cell_type": "code",
   "execution_count": 47,
   "metadata": {},
   "outputs": [],
   "source": [
    "# Consumption - North America\n",
    "north_america_df = country_subset.loc[country_subset[\"continent\"] == \"North America\"]\n",
    "north_america_consumption = north_america_df['consumption_per_capita_(L)'].sum()\n",
    "countries_in_north_america = len(north_america_df)\n",
    "\n",
    "avg_consumption_north_america = north_america_consumption / countries_in_north_america"
   ]
  },
  {
   "cell_type": "markdown",
   "metadata": {},
   "source": [
    "#### Consumption by Continent - Europe"
   ]
  },
  {
   "cell_type": "code",
   "execution_count": 68,
   "metadata": {},
   "outputs": [],
   "source": [
    "# Consumption - Europe\n",
    "europe_df = country_subset.loc[country_subset[\"continent\"] == \"Europe\"]\n",
    "europe_consumption = europe_df['consumption_per_capita_(L)'].sum()\n",
    "countries_in_europe = len(europe_df)\n",
    "\n",
    "avg_consumption_europe = europe_consumption / countries_in_europe"
   ]
  },
  {
   "cell_type": "markdown",
   "metadata": {},
   "source": [
    "#### Consumption by Continent - South America"
   ]
  },
  {
   "cell_type": "code",
   "execution_count": 69,
   "metadata": {},
   "outputs": [],
   "source": [
    "# Consumption - South America\n",
    "south_america_df = country_subset.loc[country_subset[\"continent\"] == \"South America\"]\n",
    "south_america_consumption = south_america_df['consumption_per_capita_(L)'].sum()\n",
    "countries_in_south_america = len(south_america_df)\n",
    "\n",
    "avg_consumption_south_america = south_america_consumption / countries_in_south_america"
   ]
  },
  {
   "cell_type": "markdown",
   "metadata": {},
   "source": [
    "#### Consumption by Continent -  Summary"
   ]
  },
  {
   "cell_type": "code",
   "execution_count": 70,
   "metadata": {},
   "outputs": [
    {
     "name": "stdout",
     "output_type": "stream",
     "text": [
      "3.4400000000000004\n",
      "2.3724137931034486\n",
      "4.767924528301887\n",
      "6.839130434782609\n",
      "10.291304347826086\n",
      "6.933333333333333\n"
     ]
    }
   ],
   "source": [
    "print(avg_consumption_asia)\n",
    "print(avg_consumption_oceania)\n",
    "print(avg_consumption_africa)\n",
    "print(avg_consumption_north_america)\n",
    "print(avg_consumption_europe)\n",
    "print(avg_consumption_south_america)"
   ]
  },
  {
   "cell_type": "markdown",
   "metadata": {},
   "source": [
    "#### Consumption by Continent - Graphed "
   ]
  },
  {
   "cell_type": "code",
   "execution_count": 71,
   "metadata": {},
   "outputs": [
    {
     "data": {
      "text/plain": [
       "Text(0, 0.5, 'Average Alcohol Consumption Per Capita (Liters)')"
      ]
     },
     "execution_count": 71,
     "metadata": {},
     "output_type": "execute_result"
    },
    {
     "data": {
      "image/png": "[encoded data removed]",
      "text/plain": [
       "<Figure size 1080x720 with 1 Axes>"
      ]
     },
     "metadata": {
      "needs_background": "light"
     },
     "output_type": "display_data"
    }
   ],
   "source": [
    "# Define x and y axis\n",
    "y = [avg_consumption_asia, avg_consumption_oceania, avg_consumption_africa, avg_consumption_north_america, avg_consumption_europe, avg_consumption_south_america ]\n",
    "x = np.arange(len(y)) \n",
    "\n",
    "# Plot bar graph\n",
    "plt.bar(x, y, color='r', alpha=0.5, align=\"center\")\n",
    "\n",
    "# Add Labels\n",
    "tick_locations = [value for value in x]\n",
    "plt.xticks(tick_locations, [\"Asia\", \"Oceania\", \"Africa\", \"North America\", \"Europe\", \"South America\"])\n",
    "plt.title(\"Alcohol Consumption By Continent\")\n",
    "plt.xlabel(\"Continent\")\n",
    "plt.ylabel(\"Average Alcohol Consumption Per Capita (Liters)\")"
   ]
  },
  {
   "cell_type": "markdown",
   "metadata": {},
   "source": [
    "###  Part Three  - Consumption & Geography - Region "
   ]
  },
  {
   "cell_type": "markdown",
   "metadata": {},
   "source": [
    "###  Part Four  - Economy - Major Exports\n",
    "\n"
   ]
  },
  {
   "cell_type": "code",
   "execution_count": 92,
   "metadata": {},
   "outputs": [
    {
     "name": "stderr",
     "output_type": "stream",
     "text": [
      "<ipython-input-92-294c2ac5a1f3>:5: SettingWithCopyWarning: \n",
      "A value is trying to be set on a copy of a slice from a DataFrame.\n",
      "Try using .loc[row_indexer,col_indexer] = value instead\n",
      "\n",
      "See the caveats in the documentation: https://pandas.pydata.org/pandas-docs/stable/user_guide/indexing.html#returning-a-view-versus-a-copy\n",
      "  df_8['main_export'] = df_8['main_export'].replace({\"Crude oil\": \"Oil\"})\n",
      "<ipython-input-92-294c2ac5a1f3>:6: SettingWithCopyWarning: \n",
      "A value is trying to be set on a copy of a slice from a DataFrame.\n",
      "Try using .loc[row_indexer,col_indexer] = value instead\n",
      "\n",
      "See the caveats in the documentation: https://pandas.pydata.org/pandas-docs/stable/user_guide/indexing.html#returning-a-view-versus-a-copy\n",
      "  df_8['main_export'] = df_8['main_export'].replace({\"Petroleum\": \"Oil\"})\n",
      "<ipython-input-92-294c2ac5a1f3>:7: SettingWithCopyWarning: \n",
      "A value is trying to be set on a copy of a slice from a DataFrame.\n",
      "Try using .loc[row_indexer,col_indexer] = value instead\n",
      "\n",
      "See the caveats in the documentation: https://pandas.pydata.org/pandas-docs/stable/user_guide/indexing.html#returning-a-view-versus-a-copy\n",
      "  df_8['main_export'] = df_8['main_export'].replace({\"Crude oil and petroleum products\": \"Oil\"})\n",
      "<ipython-input-92-294c2ac5a1f3>:8: SettingWithCopyWarning: \n",
      "A value is trying to be set on a copy of a slice from a DataFrame.\n",
      "Try using .loc[row_indexer,col_indexer] = value instead\n",
      "\n",
      "See the caveats in the documentation: https://pandas.pydata.org/pandas-docs/stable/user_guide/indexing.html#returning-a-view-versus-a-copy\n",
      "  df_8['main_export'] = df_8['main_export'].replace({\"Oil and gas\": \"Oil\"})\n",
      "<ipython-input-92-294c2ac5a1f3>:9: SettingWithCopyWarning: \n",
      "A value is trying to be set on a copy of a slice from a DataFrame.\n",
      "Try using .loc[row_indexer,col_indexer] = value instead\n",
      "\n",
      "See the caveats in the documentation: https://pandas.pydata.org/pandas-docs/stable/user_guide/indexing.html#returning-a-view-versus-a-copy\n",
      "  df_8['main_export'] = df_8['main_export'].replace({\"Fuels and fuel products\": \"Oil\"})\n",
      "<ipython-input-92-294c2ac5a1f3>:10: SettingWithCopyWarning: \n",
      "A value is trying to be set on a copy of a slice from a DataFrame.\n",
      "Try using .loc[row_indexer,col_indexer] = value instead\n",
      "\n",
      "See the caveats in the documentation: https://pandas.pydata.org/pandas-docs/stable/user_guide/indexing.html#returning-a-view-versus-a-copy\n",
      "  df_8['main_export'] = df_8['main_export'].replace({\"Petroleum and petroleum products\": \"Oil\"})\n",
      "<ipython-input-92-294c2ac5a1f3>:13: SettingWithCopyWarning: \n",
      "A value is trying to be set on a copy of a slice from a DataFrame.\n",
      "Try using .loc[row_indexer,col_indexer] = value instead\n",
      "\n",
      "See the caveats in the documentation: https://pandas.pydata.org/pandas-docs/stable/user_guide/indexing.html#returning-a-view-versus-a-copy\n",
      "  df_8['main_export'] = df_8['main_export'].replace({\"Electronic equipment\": \"Electronic products\"})\n"
     ]
    },
    {
     "data": {
      "text/plain": [
       "Oil                                   31\n",
       "Machinery and transport equipment      8\n",
       "Coffee                                 7\n",
       "Cotton                                 5\n",
       "Manufactured goods                     5\n",
       "                                      ..\n",
       "Meat                                   1\n",
       "Bauxite and alumina                    1\n",
       "Computers and electrical machinery     1\n",
       "Transport equipment                    1\n",
       "Tea                                    1\n",
       "Name: main_export, Length: 80, dtype: int64"
      ]
     },
     "execution_count": 92,
     "metadata": {},
     "output_type": "execute_result"
    }
   ],
   "source": [
    "# Look for trends \n",
    "df_8['main_export'].value_counts() \n",
    "\n",
    "# Merge all exports related to oil and petroleum\n",
    "df_8['main_export'] = df_8['main_export'].replace({\"Crude oil\": \"Oil\"}) \n",
    "df_8['main_export'] = df_8['main_export'].replace({\"Petroleum\": \"Oil\"}) \n",
    "df_8['main_export'] = df_8['main_export'].replace({\"Crude oil and petroleum products\": \"Oil\"}) \n",
    "df_8['main_export'] = df_8['main_export'].replace({\"Oil and gas\": \"Oil\"}) \n",
    "df_8['main_export'] = df_8['main_export'].replace({\"Fuels and fuel products\": \"Oil\"}) \n",
    "df_8['main_export'] = df_8['main_export'].replace({\"Petroleum and petroleum products\": \"Oil\"}) \n",
    "\n",
    "# Merge all exports related to oil and petroleum\n",
    "df_8['main_export'] = df_8['main_export'].replace({\"Electronic equipment\": \"Electronic products\"}) \n",
    "\n",
    "# Check your work\n",
    "df_8['main_export'].value_counts() "
   ]
  },
  {
   "cell_type": "code",
   "execution_count": 97,
   "metadata": {},
   "outputs": [],
   "source": [
    "df_9 = df_8['main_export'] == 'Tobacco products'\n",
    "\n"
   ]
  },
  {
   "cell_type": "markdown",
   "metadata": {},
   "source": [
    "###  Part Four  - Economy - Industry\n"
   ]
  },
  {
   "cell_type": "code",
   "execution_count": 74,
   "metadata": {},
   "outputs": [
    {
     "data": {
      "text/plain": [
       "Index(['continent', 'country_code', 'country', 'consumption_per_capita_(L)',\n",
       "       'climate', 'main_export', 'main_industry', 'region', 'happy_score',\n",
       "       'life_expectancy', 'gdp_per_capita'],\n",
       "      dtype='object')"
      ]
     },
     "execution_count": 74,
     "metadata": {},
     "output_type": "execute_result"
    }
   ],
   "source": [
    "df_8.columns"
   ]
  },
  {
   "cell_type": "markdown",
   "metadata": {},
   "source": [
    "### Part Five - Correlation & Regression"
   ]
  },
  {
   "cell_type": "code",
   "execution_count": 54,
   "metadata": {},
   "outputs": [
    {
     "data": {
      "image/png": "[encoded data removed]",
      "text/plain": [
       "<Figure size 1080x720 with 2 Axes>"
      ]
     },
     "metadata": {
      "needs_background": "light"
     },
     "output_type": "display_data"
    }
   ],
   "source": [
    "# Explore potential relationships by creating correlation matrix\n",
    "from matplotlib.pyplot import figure\n",
    "\n",
    "df_8_corr = df_8.corr()\n",
    "df_8_corr.unstack().sort_values()\n",
    "\n",
    "plt.rcParams['figure.figsize'] = (15.0, 10.0)\n",
    "figure = (sn.heatmap(df_8_corr, annot=True,))\n",
    "\n"
   ]
  },
  {
   "cell_type": "code",
   "execution_count": null,
   "metadata": {},
   "outputs": [],
   "source": [
    "df_8.columns"
   ]
  },
  {
   "cell_type": "code",
   "execution_count": null,
   "metadata": {},
   "outputs": [],
   "source": []
  }
 ],
 "metadata": {
  "kernelspec": {
   "display_name": "Python 3",
   "language": "python",
   "name": "python3"
  },
  "language_info": {
   "codemirror_mode": {
    "name": "ipython",
    "version": 3
   },
   "file_extension": ".py",
   "mimetype": "text/x-python",
   "name": "python",
   "nbconvert_exporter": "python",
   "pygments_lexer": "ipython3",
   "version": "3.8.5"
  }
 },
 "nbformat": 4,
 "nbformat_minor": 4
}
