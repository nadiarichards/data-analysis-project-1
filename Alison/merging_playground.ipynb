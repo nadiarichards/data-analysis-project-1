{
 "cells": [
  {
   "cell_type": "markdown",
   "metadata": {},
   "source": [
    "## Part One"
   ]
  },
  {
   "cell_type": "markdown",
   "metadata": {},
   "source": [
    "### Set Up"
   ]
  },
  {
   "cell_type": "code",
   "execution_count": 318,
   "metadata": {},
   "outputs": [],
   "source": [
    "import matplotlib.pyplot as plt\n",
    "import pandas as pd\n",
    "import scipy.stats as st\n",
    "import numpy as np\n",
    "from IPython.display import display\n",
    "import seaborn as sn"
   ]
  },
  {
   "cell_type": "code",
   "execution_count": 319,
   "metadata": {},
   "outputs": [],
   "source": [
    "# Files to Load \n",
    "expenditure_file = \"Resources/alcohol_expenditure.csv\"\n",
    "continent_file = \"Resources/continent_code.csv\"\n",
    "climate_file = \"Resources/country_climate.csv\"\n",
    "export_file = \"Resources/country_export.csv\"\n",
    "industry_file = \"Resources/country_industry.csv\"\n",
    "consumption_file = \"Resources/country_consumption.csv\"\n",
    "happiness_file = \"Resources/country_happiness.csv\"\n",
    "\n",
    "# Read csv and store into Pandas DataFrames\n",
    "expenditure_data = pd.read_csv(expenditure_file)\n",
    "continent_data = pd.read_csv(continent_file)\n",
    "climate_data = pd.read_csv(climate_file)\n",
    "export_data = pd.read_csv(export_file)\n",
    "industry_data = pd.read_csv(industry_file)\n",
    "consumption_data = pd.read_csv(consumption_file)\n",
    "happiness_data = pd.read_csv(happiness_file)"
   ]
  },
  {
   "cell_type": "markdown",
   "metadata": {},
   "source": [
    "### Clean Dataframes "
   ]
  },
  {
   "cell_type": "code",
   "execution_count": 320,
   "metadata": {},
   "outputs": [],
   "source": [
    "# Clean Dataframes before merge - expenditure_df\n",
    "\n",
    "expenditure_df = expenditure_data.rename(columns={\"Entity\": \"country\", \"Code\": \"country_code\", \"Year\": \"year\", \"Indicator:Alcohol expenditure as a per cent of total household expenditure\": \"alchol_expenditure(%)\"})\n",
    "\n",
    "# Clean Dataframes before merge - continent_df\n",
    "continent_df = continent_data[[\"Continent_Name\",\"Three_Letter_Country_Code\"]]\n",
    "continent_df = continent_df.rename(columns={\"Three_Letter_Country_Code\": \"country_code\", \"Continent_Name\": \"continent\" })\n",
    "\n",
    "# Clean Dataframes before merge - climate_df\n",
    "climate_df = climate_data[[\"COUNTRY\",\"CLIMATE\"]]\n",
    "climate_df  = climate_df.rename(columns={\"COUNTRY\": \"country\", \"CLIMATE\": \"climate\" })\n",
    "\n",
    "# Clean Dataframes before merge - consumption_df \n",
    "consumption_df  = consumption_data.rename(columns={\"Entity\": \"country\", \"Code\": \"country_code\", \n",
    "                                                   \"Total alcohol consumption per capita (liters of pure alcohol, projected estimates, 15+ years of age)\": \"consumption_per_capita_(L)\"})\n",
    "\n",
    "# Clean Dataframes before merge - happiness_df \n",
    "happiness_df = happiness_data[[\"Country name\", \"Regional indicator\", \"Ladder score\", \"Healthy life expectancy\",\"Logged GDP per capita\"]]\n",
    "happiness_df = happiness_df.rename(columns= {\"Country name\": \"country\", \"Regional indicator\": \"region\", \"Ladder score\": \"happy_score\", \"Healthy life expectancy\": \"life_expectancy\", \"Logged GDP per capita\" : \"gdp_per_capita\"})\n"
   ]
  },
  {
   "cell_type": "markdown",
   "metadata": {},
   "source": [
    "### Merge DataFrames\n",
    "* expenditure_df\n",
    "* continent_df\n",
    "* climate_df\n",
    "* export_data\n",
    "* industry_data\n",
    "* consumption_df\n",
    "* happiness_df"
   ]
  },
  {
   "cell_type": "code",
   "execution_count": 331,
   "metadata": {},
   "outputs": [
    {
     "data": {
      "text/html": [
       "<div>\n",
       "<style scoped>\n",
       "    .dataframe tbody tr th:only-of-type {\n",
       "        vertical-align: middle;\n",
       "    }\n",
       "\n",
       "    .dataframe tbody tr th {\n",
       "        vertical-align: top;\n",
       "    }\n",
       "\n",
       "    .dataframe thead th {\n",
       "        text-align: right;\n",
       "    }\n",
       "</style>\n",
       "<table border=\"1\" class=\"dataframe\">\n",
       "  <thead>\n",
       "    <tr style=\"text-align: right;\">\n",
       "      <th></th>\n",
       "      <th>country</th>\n",
       "      <th>country_code</th>\n",
       "      <th>year</th>\n",
       "      <th>alcohol_expenditure</th>\n",
       "      <th>continent</th>\n",
       "      <th>climate</th>\n",
       "      <th>main_export</th>\n",
       "      <th>main_industry</th>\n",
       "      <th>consumption_per_capita_(L)</th>\n",
       "      <th>region</th>\n",
       "      <th>happy_score</th>\n",
       "      <th>life_expectancy</th>\n",
       "      <th>gdp_per_capita</th>\n",
       "    </tr>\n",
       "  </thead>\n",
       "  <tbody>\n",
       "    <tr>\n",
       "      <th>0</th>\n",
       "      <td>Albania</td>\n",
       "      <td>ALB</td>\n",
       "      <td>2007.0</td>\n",
       "      <td>2.1</td>\n",
       "      <td>Europe</td>\n",
       "      <td>mild temperate; cool, cloudy, wet winters; hot...</td>\n",
       "      <td>Chromium and chrome products</td>\n",
       "      <td>perfumes and cosmetic products</td>\n",
       "      <td>7.5</td>\n",
       "      <td>Central and Eastern Europe</td>\n",
       "      <td>4.8827</td>\n",
       "      <td>68.708138</td>\n",
       "      <td>9.417931</td>\n",
       "    </tr>\n",
       "    <tr>\n",
       "      <th>1</th>\n",
       "      <td>Albania</td>\n",
       "      <td>ALB</td>\n",
       "      <td>2012.0</td>\n",
       "      <td>5.1</td>\n",
       "      <td>Europe</td>\n",
       "      <td>mild temperate; cool, cloudy, wet winters; hot...</td>\n",
       "      <td>Chromium and chrome products</td>\n",
       "      <td>perfumes and cosmetic products</td>\n",
       "      <td>7.5</td>\n",
       "      <td>Central and Eastern Europe</td>\n",
       "      <td>4.8827</td>\n",
       "      <td>68.708138</td>\n",
       "      <td>9.417931</td>\n",
       "    </tr>\n",
       "    <tr>\n",
       "      <th>2</th>\n",
       "      <td>Albania</td>\n",
       "      <td>ALB</td>\n",
       "      <td>2013.0</td>\n",
       "      <td>4.8</td>\n",
       "      <td>Europe</td>\n",
       "      <td>mild temperate; cool, cloudy, wet winters; hot...</td>\n",
       "      <td>Chromium and chrome products</td>\n",
       "      <td>perfumes and cosmetic products</td>\n",
       "      <td>7.5</td>\n",
       "      <td>Central and Eastern Europe</td>\n",
       "      <td>4.8827</td>\n",
       "      <td>68.708138</td>\n",
       "      <td>9.417931</td>\n",
       "    </tr>\n",
       "    <tr>\n",
       "      <th>3</th>\n",
       "      <td>Albania</td>\n",
       "      <td>ALB</td>\n",
       "      <td>2014.0</td>\n",
       "      <td>4.5</td>\n",
       "      <td>Europe</td>\n",
       "      <td>mild temperate; cool, cloudy, wet winters; hot...</td>\n",
       "      <td>Chromium and chrome products</td>\n",
       "      <td>perfumes and cosmetic products</td>\n",
       "      <td>7.5</td>\n",
       "      <td>Central and Eastern Europe</td>\n",
       "      <td>4.8827</td>\n",
       "      <td>68.708138</td>\n",
       "      <td>9.417931</td>\n",
       "    </tr>\n",
       "    <tr>\n",
       "      <th>4</th>\n",
       "      <td>Armenia</td>\n",
       "      <td>ARM</td>\n",
       "      <td>1990.0</td>\n",
       "      <td>4.0</td>\n",
       "      <td>Europe</td>\n",
       "      <td>highland continental, hot summers, cold winters</td>\n",
       "      <td>Processed and unprocessed diamonds</td>\n",
       "      <td>diamond-processing</td>\n",
       "      <td>5.5</td>\n",
       "      <td>Commonwealth of Independent States</td>\n",
       "      <td>4.6768</td>\n",
       "      <td>66.750656</td>\n",
       "      <td>9.100476</td>\n",
       "    </tr>\n",
       "  </tbody>\n",
       "</table>\n",
       "</div>"
      ],
      "text/plain": [
       "   country country_code    year  alcohol_expenditure continent  \\\n",
       "0  Albania          ALB  2007.0                  2.1    Europe   \n",
       "1  Albania          ALB  2012.0                  5.1    Europe   \n",
       "2  Albania          ALB  2013.0                  4.8    Europe   \n",
       "3  Albania          ALB  2014.0                  4.5    Europe   \n",
       "4  Armenia          ARM  1990.0                  4.0    Europe   \n",
       "\n",
       "                                             climate  \\\n",
       "0  mild temperate; cool, cloudy, wet winters; hot...   \n",
       "1  mild temperate; cool, cloudy, wet winters; hot...   \n",
       "2  mild temperate; cool, cloudy, wet winters; hot...   \n",
       "3  mild temperate; cool, cloudy, wet winters; hot...   \n",
       "4    highland continental, hot summers, cold winters   \n",
       "\n",
       "                          main_export                   main_industry  \\\n",
       "0        Chromium and chrome products  perfumes and cosmetic products   \n",
       "1        Chromium and chrome products  perfumes and cosmetic products   \n",
       "2        Chromium and chrome products  perfumes and cosmetic products   \n",
       "3        Chromium and chrome products  perfumes and cosmetic products   \n",
       "4  Processed and unprocessed diamonds              diamond-processing   \n",
       "\n",
       "   consumption_per_capita_(L)                              region  \\\n",
       "0                         7.5          Central and Eastern Europe   \n",
       "1                         7.5          Central and Eastern Europe   \n",
       "2                         7.5          Central and Eastern Europe   \n",
       "3                         7.5          Central and Eastern Europe   \n",
       "4                         5.5  Commonwealth of Independent States   \n",
       "\n",
       "   happy_score  life_expectancy  gdp_per_capita  \n",
       "0       4.8827        68.708138        9.417931  \n",
       "1       4.8827        68.708138        9.417931  \n",
       "2       4.8827        68.708138        9.417931  \n",
       "3       4.8827        68.708138        9.417931  \n",
       "4       4.6768        66.750656        9.100476  "
      ]
     },
     "execution_count": 331,
     "metadata": {},
     "output_type": "execute_result"
    }
   ],
   "source": [
    "# Combine the data into a single dataset. Identify/eliminate incomplete rows  \n",
    "df_2 = pd.merge(expenditure_df, continent_df, how=\"outer\", on=[\"country_code\", \"country_code\"])  \n",
    "df_2.count() \n",
    "df_2 = merged_df.dropna(how='any')\n",
    "\n",
    "df_3 = pd.merge(df, climate_df, how=\"outer\", on=[\"country\", \"country\"])  \n",
    "df_3 = df_3.dropna(how='any')\n",
    "\n",
    "df_4 = pd.merge(df_3, export_data, how=\"outer\", on=[\"country\", \"country\"]) \n",
    "df_4 = df_4.dropna(how='any')\n",
    "\n",
    "df_5 = pd.merge(df_4, industry_data, how=\"outer\", on=[\"country\", \"country\"]) \n",
    "df_5 = df_5.dropna(how='any')\n",
    "\n",
    "df_6 = pd.merge(df_5, consumption_df, how=\"outer\", on=[\"country_code\", \"country_code\"]) \n",
    "df_6 = df_6[['country_x', 'country_code', 'year', 'alchol_expenditure(%)',\n",
    "       'continent', 'climate', 'main_export', 'main_industry',\n",
    "       'consumption_per_capita_(L)']]\n",
    "df_6 = df_6.dropna(how='any')\n",
    "df_6 = df_6.rename(columns= {\"country_x\": \"country\",\"alchol_expenditure(%)\": \"alcohol_expenditure\"})\n",
    "\n",
    "df_7 = pd.merge(df_6, happiness_df, how=\"outer\", on=[\"country\", \"country\"]) \n",
    "df_7 = df_7.dropna(how='any')\n",
    "df_7.head()"
   ]
  },
  {
   "cell_type": "markdown",
   "metadata": {},
   "source": [
    "## Part Two - Data Summary\n",
    "\n",
    "* Calculate how many rows of data there are\n",
    "* Display a list of columns\n",
    "* Display a list of countries\n",
    "* Calculate total number of countries\n",
    "* Calculate the measures of central tendency for alcohol expenditure as a percent of total household expenditure for each country\n",
    "* Calculate the overall average alcohol expenditure as a percent of total household expenditure \n",
    "* Calculate overall average alcohol consumption\n",
    "* Calculate total years of data compiled for each country \n",
    "* Determine which year(s) have the most data \n"
   ]
  },
  {
   "cell_type": "markdown",
   "metadata": {},
   "source": [
    "####  Calculate how many rows of data there are"
   ]
  },
  {
   "cell_type": "code",
   "execution_count": 332,
   "metadata": {},
   "outputs": [
    {
     "name": "stdout",
     "output_type": "stream",
     "text": [
      "The total number of rows represented in the dataset are: 491\n"
     ]
    }
   ],
   "source": [
    "total_rows = df_7.shape[0] \n",
    "print(f'The total number of rows represented in the dataset are: {total_rows}')  "
   ]
  },
  {
   "cell_type": "markdown",
   "metadata": {},
   "source": [
    "####  Display a list of columns"
   ]
  },
  {
   "cell_type": "code",
   "execution_count": 333,
   "metadata": {},
   "outputs": [
    {
     "data": {
      "text/plain": [
       "Index(['country', 'country_code', 'year', 'alcohol_expenditure', 'continent',\n",
       "       'climate', 'main_export', 'main_industry', 'consumption_per_capita_(L)',\n",
       "       'region', 'happy_score', 'life_expectancy', 'gdp_per_capita'],\n",
       "      dtype='object')"
      ]
     },
     "execution_count": 333,
     "metadata": {},
     "output_type": "execute_result"
    }
   ],
   "source": [
    "df_7.columns"
   ]
  },
  {
   "cell_type": "markdown",
   "metadata": {},
   "source": [
    "#### Display a list of countries"
   ]
  },
  {
   "cell_type": "code",
   "execution_count": 334,
   "metadata": {},
   "outputs": [
    {
     "data": {
      "text/plain": [
       "array(['Albania', 'Armenia', 'Australia', 'Austria', 'Azerbaijan',\n",
       "       'Belarus', 'Canada', 'Croatia', 'Denmark', 'Estonia', 'Ethiopia',\n",
       "       'Finland', 'France', 'Georgia', 'Greece', 'Hungary', 'Iceland',\n",
       "       'Ireland', 'Japan', 'Kazakhstan', 'Kyrgyzstan', 'Lebanon',\n",
       "       'Lithuania', 'Mexico', 'Moldova', 'Netherlands', 'New Zealand',\n",
       "       'Norway', 'Philippines', 'Poland', 'Romania', 'Russia',\n",
       "       'Singapore', 'Slovenia', 'South Africa', 'Spain', 'Sweden',\n",
       "       'Tajikistan', 'Thailand', 'Turkmenistan', 'Ukraine',\n",
       "       'United Kingdom', 'United States', 'Uzbekistan', 'Zimbabwe'],\n",
       "      dtype=object)"
      ]
     },
     "execution_count": 334,
     "metadata": {},
     "output_type": "execute_result"
    }
   ],
   "source": [
    "df_7[\"country\"].unique()"
   ]
  },
  {
   "cell_type": "markdown",
   "metadata": {},
   "source": [
    "####  Calculate the total number of countries"
   ]
  },
  {
   "cell_type": "code",
   "execution_count": 335,
   "metadata": {},
   "outputs": [
    {
     "name": "stdout",
     "output_type": "stream",
     "text": [
      "There are 45 countries represented in the dataset.\n"
     ]
    }
   ],
   "source": [
    "number_countries = df_7['country'].nunique()\n",
    "print(f\"There are {number_countries} countries represented in the dataset.\")  \n",
    "\n",
    "# Alternative method\n",
    "# unique_countries = df_7['country'].unique()\n",
    "# number_countries = len(unique_countries)"
   ]
  },
  {
   "cell_type": "markdown",
   "metadata": {},
   "source": [
    "#### Calculate the measures of central tendency for alcohol expenditure as a percent of total household expenditure for each country \n"
   ]
  },
  {
   "cell_type": "code",
   "execution_count": 340,
   "metadata": {},
   "outputs": [
    {
     "data": {
      "text/html": [
       "<div>\n",
       "<style scoped>\n",
       "    .dataframe tbody tr th:only-of-type {\n",
       "        vertical-align: middle;\n",
       "    }\n",
       "\n",
       "    .dataframe tbody tr th {\n",
       "        vertical-align: top;\n",
       "    }\n",
       "\n",
       "    .dataframe thead tr th {\n",
       "        text-align: left;\n",
       "    }\n",
       "\n",
       "    .dataframe thead tr:last-of-type th {\n",
       "        text-align: right;\n",
       "    }\n",
       "</style>\n",
       "<table border=\"1\" class=\"dataframe\">\n",
       "  <thead>\n",
       "    <tr>\n",
       "      <th></th>\n",
       "      <th colspan=\"5\" halign=\"left\">alcohol_expenditure</th>\n",
       "    </tr>\n",
       "    <tr>\n",
       "      <th></th>\n",
       "      <th>mean</th>\n",
       "      <th>median</th>\n",
       "      <th>var</th>\n",
       "      <th>std</th>\n",
       "      <th>sem</th>\n",
       "    </tr>\n",
       "    <tr>\n",
       "      <th>country</th>\n",
       "      <th></th>\n",
       "      <th></th>\n",
       "      <th></th>\n",
       "      <th></th>\n",
       "      <th></th>\n",
       "    </tr>\n",
       "  </thead>\n",
       "  <tbody>\n",
       "    <tr>\n",
       "      <th>Albania</th>\n",
       "      <td>4.125000</td>\n",
       "      <td>4.65</td>\n",
       "      <td>1.882500</td>\n",
       "      <td>1.372042</td>\n",
       "      <td>0.686021</td>\n",
       "    </tr>\n",
       "    <tr>\n",
       "      <th>Armenia</th>\n",
       "      <td>1.957143</td>\n",
       "      <td>1.70</td>\n",
       "      <td>0.483484</td>\n",
       "      <td>0.695330</td>\n",
       "      <td>0.107292</td>\n",
       "    </tr>\n",
       "    <tr>\n",
       "      <th>Australia</th>\n",
       "      <td>3.000000</td>\n",
       "      <td>2.90</td>\n",
       "      <td>0.312000</td>\n",
       "      <td>0.558570</td>\n",
       "      <td>0.228035</td>\n",
       "    </tr>\n",
       "    <tr>\n",
       "      <th>Austria</th>\n",
       "      <td>1.435000</td>\n",
       "      <td>1.40</td>\n",
       "      <td>0.009763</td>\n",
       "      <td>0.098809</td>\n",
       "      <td>0.022094</td>\n",
       "    </tr>\n",
       "    <tr>\n",
       "      <th>Azerbaijan</th>\n",
       "      <td>0.792857</td>\n",
       "      <td>0.60</td>\n",
       "      <td>0.101429</td>\n",
       "      <td>0.318479</td>\n",
       "      <td>0.060187</td>\n",
       "    </tr>\n",
       "  </tbody>\n",
       "</table>\n",
       "</div>"
      ],
      "text/plain": [
       "           alcohol_expenditure                                     \n",
       "                          mean median       var       std       sem\n",
       "country                                                            \n",
       "Albania               4.125000   4.65  1.882500  1.372042  0.686021\n",
       "Armenia               1.957143   1.70  0.483484  0.695330  0.107292\n",
       "Australia             3.000000   2.90  0.312000  0.558570  0.228035\n",
       "Austria               1.435000   1.40  0.009763  0.098809  0.022094\n",
       "Azerbaijan            0.792857   0.60  0.101429  0.318479  0.060187"
      ]
     },
     "execution_count": 340,
     "metadata": {},
     "output_type": "execute_result"
    }
   ],
   "source": [
    "country_subset = df_7.groupby('country')\n",
    "\n",
    "summary_stats_expenditure = country_subset.agg({\"alcohol_expenditure\": ['mean','median', 'var', 'std', 'sem']}) \n",
    "summary_stats_expenditure.head() "
   ]
  },
  {
   "cell_type": "markdown",
   "metadata": {},
   "source": [
    "#### Calculate the overall average alcohol expenditure as a percent of total household expenditure "
   ]
  },
  {
   "cell_type": "code",
   "execution_count": 349,
   "metadata": {},
   "outputs": [
    {
     "name": "stdout",
     "output_type": "stream",
     "text": [
      "The overall average of alcohol expenditure (%) among countries represented in the dataset is: 2.6252962735142207 \n"
     ]
    }
   ],
   "source": [
    "# Create new dataframe\n",
    "df_8 = pd.merge(df_7, summary_stats_expenditure, how=\"outer\", on=[\"country\", \"country\"])\n",
    "df_8.head() \n",
    "\n",
    "# Group dataframe and use .first() method to exclude duplicate countries while calculating overall mean\n",
    "grouped = df_8.groupby(('alcohol_expenditure', 'mean')) \n",
    "each_country = grouped[\"country\"].first() \n",
    "\n",
    "each_country_df = pd.DataFrame(each_country).reset_index()\n",
    "\n",
    "# each_country_df.columns\n",
    "# #each_country_df\n",
    "overall_avg_expenditure = each_country_df[('alcohol_expenditure', 'mean')].mean()\n",
    "\n",
    "print(f\"The overall average of alcohol expenditure (%) among countries represented in the dataset is: {overall_avg_expenditure} \")  \n"
   ]
  },
  {
   "cell_type": "markdown",
   "metadata": {},
   "source": [
    "#### Calculate the overall average alcohol consumption\n"
   ]
  },
  {
   "cell_type": "code",
   "execution_count": 350,
   "metadata": {},
   "outputs": [
    {
     "name": "stdout",
     "output_type": "stream",
     "text": [
      "The overall average of alcohol consumption per capita (liters) among countries represented in the dataset is: 8.882484725050885\n"
     ]
    }
   ],
   "source": [
    "overall_avg_consumption = df_8[\"consumption_per_capita_(L)\"].mean() \n",
    " \n",
    "print(f\"The overall average of alcohol consumption per capita (liters) among countries represented in the dataset is: {overall_avg_consumption}\")  \n"
   ]
  },
  {
   "cell_type": "markdown",
   "metadata": {},
   "source": [
    "#### Calculate total years of data compiled for each country "
   ]
  },
  {
   "cell_type": "code",
   "execution_count": 351,
   "metadata": {},
   "outputs": [
    {
     "data": {
      "text/html": [
       "<div>\n",
       "<style scoped>\n",
       "    .dataframe tbody tr th:only-of-type {\n",
       "        vertical-align: middle;\n",
       "    }\n",
       "\n",
       "    .dataframe tbody tr th {\n",
       "        vertical-align: top;\n",
       "    }\n",
       "\n",
       "    .dataframe thead th {\n",
       "        text-align: right;\n",
       "    }\n",
       "</style>\n",
       "<table border=\"1\" class=\"dataframe\">\n",
       "  <thead>\n",
       "    <tr style=\"text-align: right;\">\n",
       "      <th></th>\n",
       "      <th>years_of_data</th>\n",
       "      <th>sufficient_data</th>\n",
       "    </tr>\n",
       "  </thead>\n",
       "  <tbody>\n",
       "    <tr>\n",
       "      <th>Greece</th>\n",
       "      <td>9</td>\n",
       "      <td>5+ years of data</td>\n",
       "    </tr>\n",
       "    <tr>\n",
       "      <th>Croatia</th>\n",
       "      <td>7</td>\n",
       "      <td>5+ years of data</td>\n",
       "    </tr>\n",
       "    <tr>\n",
       "      <th>Estonia</th>\n",
       "      <td>15</td>\n",
       "      <td>10+ years of data</td>\n",
       "    </tr>\n",
       "    <tr>\n",
       "      <th>Canada</th>\n",
       "      <td>25</td>\n",
       "      <td>10+ years of data</td>\n",
       "    </tr>\n",
       "    <tr>\n",
       "      <th>Ethiopia</th>\n",
       "      <td>1</td>\n",
       "      <td>less than 5 years of data</td>\n",
       "    </tr>\n",
       "    <tr>\n",
       "      <th>Ireland</th>\n",
       "      <td>10</td>\n",
       "      <td>5+ years of data</td>\n",
       "    </tr>\n",
       "    <tr>\n",
       "      <th>Russia</th>\n",
       "      <td>34</td>\n",
       "      <td>10+ years of data</td>\n",
       "    </tr>\n",
       "    <tr>\n",
       "      <th>Kazakhstan</th>\n",
       "      <td>12</td>\n",
       "      <td>10+ years of data</td>\n",
       "    </tr>\n",
       "    <tr>\n",
       "      <th>Armenia</th>\n",
       "      <td>42</td>\n",
       "      <td>10+ years of data</td>\n",
       "    </tr>\n",
       "    <tr>\n",
       "      <th>Austria</th>\n",
       "      <td>20</td>\n",
       "      <td>10+ years of data</td>\n",
       "    </tr>\n",
       "  </tbody>\n",
       "</table>\n",
       "</div>"
      ],
      "text/plain": [
       "            years_of_data            sufficient_data\n",
       "Greece                  9           5+ years of data\n",
       "Croatia                 7           5+ years of data\n",
       "Estonia                15          10+ years of data\n",
       "Canada                 25          10+ years of data\n",
       "Ethiopia                1  less than 5 years of data\n",
       "Ireland                10           5+ years of data\n",
       "Russia                 34          10+ years of data\n",
       "Kazakhstan             12          10+ years of data\n",
       "Armenia                42          10+ years of data\n",
       "Austria                20          10+ years of data"
      ]
     },
     "execution_count": 351,
     "metadata": {},
     "output_type": "execute_result"
    }
   ],
   "source": [
    "# Method 1: \n",
    "total_years_series = df_7[\"country\"].value_counts()\n",
    "type(total_years_series)\n",
    "\n",
    "# Method 2:\n",
    "# years_of_data_grouped = alcohol_data.groupby([\"Entity\"])\n",
    "# years_of_data_by_country = years_of_data_grouped[\"Entity\"].count()\n",
    "# years_of_data_by_country.sort_values(ascending=False)\n",
    "\n",
    "#----------------------------------------------------\n",
    "# Tangent - should we omit countries with insufficient years of data so we can look at historical trends?\n",
    "total_years_df = pd.DataFrame(total_years_series)\n",
    "total_years_df.columns = [\"years_of_data\"]\n",
    "\n",
    "bins = [0, 5, 10, 45] \n",
    "group_names = [\"less than 5 years of data\",\"5+ years of data\", \"10+ years of data\"] \n",
    "\n",
    "total_years_df[\"sufficient_data\"] = pd.cut(total_years_df[\"years_of_data\"], bins, labels=group_names) \n",
    "total_years_df.sample(10)"
   ]
  },
  {
   "cell_type": "markdown",
   "metadata": {},
   "source": [
    "#### Determine which year(s) have the most data "
   ]
  },
  {
   "cell_type": "code",
   "execution_count": 352,
   "metadata": {},
   "outputs": [
    {
     "name": "stdout",
     "output_type": "stream",
     "text": [
      "The year where we have the most data from the dataset is 2012.0 with 31 countries represented\n"
     ]
    }
   ],
   "source": [
    "years = df_7[\"year\"].value_counts() \n",
    "years_df = pd.DataFrame(years).reset_index()\n",
    "\n",
    "max_data = years_df._get_value(0,'year')\n",
    "max_year = years_df.iloc[0, 0]\n",
    "\n",
    "\n",
    "print(f\"The year where we have the most data from the dataset is {max_year} with {max_data} countries represented\") \n"
   ]
  },
  {
   "cell_type": "code",
   "execution_count": 422,
   "metadata": {},
   "outputs": [
    {
     "data": {
      "text/plain": [
       "Index([                        'country',                    'country_code',\n",
       "                                  'year',             'alcohol_expenditure',\n",
       "                             'continent',                         'climate',\n",
       "                           'main_export',                   'main_industry',\n",
       "            'consumption_per_capita_(L)',                          'region',\n",
       "                           'happy_score',                 'life_expectancy',\n",
       "                        'gdp_per_capita',   ('alcohol_expenditure', 'mean'),\n",
       "       ('alcohol_expenditure', 'median'),    ('alcohol_expenditure', 'var'),\n",
       "          ('alcohol_expenditure', 'std'),    ('alcohol_expenditure', 'sem')],\n",
       "      dtype='object')"
      ]
     },
     "execution_count": 422,
     "metadata": {},
     "output_type": "execute_result"
    }
   ],
   "source": [
    "df_8.columns"
   ]
  },
  {
   "cell_type": "markdown",
   "metadata": {},
   "source": [
    "#### Find the 10 countries that consumes the most alcohol \n"
   ]
  },
  {
   "cell_type": "code",
   "execution_count": 457,
   "metadata": {},
   "outputs": [
    {
     "data": {
      "text/html": [
       "<div>\n",
       "<style scoped>\n",
       "    .dataframe tbody tr th:only-of-type {\n",
       "        vertical-align: middle;\n",
       "    }\n",
       "\n",
       "    .dataframe tbody tr th {\n",
       "        vertical-align: top;\n",
       "    }\n",
       "\n",
       "    .dataframe thead th {\n",
       "        text-align: right;\n",
       "    }\n",
       "</style>\n",
       "<table border=\"1\" class=\"dataframe\">\n",
       "  <thead>\n",
       "    <tr style=\"text-align: right;\">\n",
       "      <th></th>\n",
       "      <th>consumption_per_capita_(L)</th>\n",
       "    </tr>\n",
       "    <tr>\n",
       "      <th>country</th>\n",
       "      <th></th>\n",
       "    </tr>\n",
       "  </thead>\n",
       "  <tbody>\n",
       "    <tr>\n",
       "      <th>Moldova</th>\n",
       "      <td>15.2</td>\n",
       "    </tr>\n",
       "    <tr>\n",
       "      <th>Lithuania</th>\n",
       "      <td>15.0</td>\n",
       "    </tr>\n",
       "    <tr>\n",
       "      <th>Ireland</th>\n",
       "      <td>13.0</td>\n",
       "    </tr>\n",
       "    <tr>\n",
       "      <th>France</th>\n",
       "      <td>12.6</td>\n",
       "    </tr>\n",
       "    <tr>\n",
       "      <th>Slovenia</th>\n",
       "      <td>12.6</td>\n",
       "    </tr>\n",
       "    <tr>\n",
       "      <th>Romania</th>\n",
       "      <td>12.6</td>\n",
       "    </tr>\n",
       "    <tr>\n",
       "      <th>Russia</th>\n",
       "      <td>11.7</td>\n",
       "    </tr>\n",
       "    <tr>\n",
       "      <th>Austria</th>\n",
       "      <td>11.6</td>\n",
       "    </tr>\n",
       "    <tr>\n",
       "      <th>Poland</th>\n",
       "      <td>11.6</td>\n",
       "    </tr>\n",
       "    <tr>\n",
       "      <th>Estonia</th>\n",
       "      <td>11.6</td>\n",
       "    </tr>\n",
       "  </tbody>\n",
       "</table>\n",
       "</div>"
      ],
      "text/plain": [
       "           consumption_per_capita_(L)\n",
       "country                              \n",
       "Moldova                          15.2\n",
       "Lithuania                        15.0\n",
       "Ireland                          13.0\n",
       "France                           12.6\n",
       "Slovenia                         12.6\n",
       "Romania                          12.6\n",
       "Russia                           11.7\n",
       "Austria                          11.6\n",
       "Poland                           11.6\n",
       "Estonia                          11.6"
      ]
     },
     "execution_count": 457,
     "metadata": {},
     "output_type": "execute_result"
    }
   ],
   "source": [
    "country_mask = df_8.groupby(\"country\")\n",
    "country_subset = country_mask.first()\n",
    "\n",
    "high_consumption = country_subset.sort_values([(\"consumption_per_capita_(L)\")], ascending=False).head(n=10)\n",
    "high_consumption.reset_index() \n",
    "\n",
    "high_consumption_series = high_consumption[\"consumption_per_capita_(L)\"]  \n",
    "high_consumption_df = pd.DataFrame(high_consumption_series)\n",
    "\n",
    "high_consumption_df"
   ]
  },
  {
   "cell_type": "markdown",
   "metadata": {},
   "source": [
    "#### Find the 10 countries that consumes the least alcohol "
   ]
  },
  {
   "cell_type": "code",
   "execution_count": 458,
   "metadata": {},
   "outputs": [
    {
     "data": {
      "text/html": [
       "<div>\n",
       "<style scoped>\n",
       "    .dataframe tbody tr th:only-of-type {\n",
       "        vertical-align: middle;\n",
       "    }\n",
       "\n",
       "    .dataframe tbody tr th {\n",
       "        vertical-align: top;\n",
       "    }\n",
       "\n",
       "    .dataframe thead th {\n",
       "        text-align: right;\n",
       "    }\n",
       "</style>\n",
       "<table border=\"1\" class=\"dataframe\">\n",
       "  <thead>\n",
       "    <tr style=\"text-align: right;\">\n",
       "      <th></th>\n",
       "      <th>consumption_per_capita_(L)</th>\n",
       "    </tr>\n",
       "    <tr>\n",
       "      <th>country</th>\n",
       "      <th></th>\n",
       "    </tr>\n",
       "  </thead>\n",
       "  <tbody>\n",
       "    <tr>\n",
       "      <th>Azerbaijan</th>\n",
       "      <td>0.8</td>\n",
       "    </tr>\n",
       "    <tr>\n",
       "      <th>Lebanon</th>\n",
       "      <td>1.5</td>\n",
       "    </tr>\n",
       "    <tr>\n",
       "      <th>Singapore</th>\n",
       "      <td>2.0</td>\n",
       "    </tr>\n",
       "    <tr>\n",
       "      <th>Uzbekistan</th>\n",
       "      <td>2.7</td>\n",
       "    </tr>\n",
       "    <tr>\n",
       "      <th>Ethiopia</th>\n",
       "      <td>2.8</td>\n",
       "    </tr>\n",
       "    <tr>\n",
       "      <th>Tajikistan</th>\n",
       "      <td>3.3</td>\n",
       "    </tr>\n",
       "    <tr>\n",
       "      <th>Zimbabwe</th>\n",
       "      <td>4.8</td>\n",
       "    </tr>\n",
       "    <tr>\n",
       "      <th>Turkmenistan</th>\n",
       "      <td>5.4</td>\n",
       "    </tr>\n",
       "    <tr>\n",
       "      <th>Armenia</th>\n",
       "      <td>5.5</td>\n",
       "    </tr>\n",
       "    <tr>\n",
       "      <th>Kyrgyzstan</th>\n",
       "      <td>6.2</td>\n",
       "    </tr>\n",
       "  </tbody>\n",
       "</table>\n",
       "</div>"
      ],
      "text/plain": [
       "              consumption_per_capita_(L)\n",
       "country                                 \n",
       "Azerbaijan                           0.8\n",
       "Lebanon                              1.5\n",
       "Singapore                            2.0\n",
       "Uzbekistan                           2.7\n",
       "Ethiopia                             2.8\n",
       "Tajikistan                           3.3\n",
       "Zimbabwe                             4.8\n",
       "Turkmenistan                         5.4\n",
       "Armenia                              5.5\n",
       "Kyrgyzstan                           6.2"
      ]
     },
     "execution_count": 458,
     "metadata": {},
     "output_type": "execute_result"
    }
   ],
   "source": [
    "low_consumption = country_subset.sort_values([(\"consumption_per_capita_(L)\")], ascending=True).head(n=10)\n",
    "low_consumption.reset_index() \n",
    "\n",
    "low_consumption_series = low_consumption[\"consumption_per_capita_(L)\"]  \n",
    "low_consumption_df = pd.DataFrame(low_consumption_series)\n",
    "\n",
    "low_consumption_df"
   ]
  },
  {
   "cell_type": "markdown",
   "metadata": {},
   "source": [
    "#### Find the top 10 countries that have the highest alcohol expenditure "
   ]
  },
  {
   "cell_type": "code",
   "execution_count": 459,
   "metadata": {},
   "outputs": [
    {
     "data": {
      "text/html": [
       "<div>\n",
       "<style scoped>\n",
       "    .dataframe tbody tr th:only-of-type {\n",
       "        vertical-align: middle;\n",
       "    }\n",
       "\n",
       "    .dataframe tbody tr th {\n",
       "        vertical-align: top;\n",
       "    }\n",
       "\n",
       "    .dataframe thead th {\n",
       "        text-align: right;\n",
       "    }\n",
       "</style>\n",
       "<table border=\"1\" class=\"dataframe\">\n",
       "  <thead>\n",
       "    <tr style=\"text-align: right;\">\n",
       "      <th></th>\n",
       "      <th>(alcohol_expenditure, mean)</th>\n",
       "      <th>country</th>\n",
       "    </tr>\n",
       "  </thead>\n",
       "  <tbody>\n",
       "    <tr>\n",
       "      <th>44</th>\n",
       "      <td>7.800000</td>\n",
       "      <td>South Africa</td>\n",
       "    </tr>\n",
       "    <tr>\n",
       "      <th>43</th>\n",
       "      <td>7.630000</td>\n",
       "      <td>Ireland</td>\n",
       "    </tr>\n",
       "    <tr>\n",
       "      <th>42</th>\n",
       "      <td>7.000000</td>\n",
       "      <td>Zimbabwe</td>\n",
       "    </tr>\n",
       "    <tr>\n",
       "      <th>41</th>\n",
       "      <td>6.360000</td>\n",
       "      <td>Poland</td>\n",
       "    </tr>\n",
       "    <tr>\n",
       "      <th>40</th>\n",
       "      <td>5.700000</td>\n",
       "      <td>United Kingdom</td>\n",
       "    </tr>\n",
       "    <tr>\n",
       "      <th>39</th>\n",
       "      <td>5.252174</td>\n",
       "      <td>Finland</td>\n",
       "    </tr>\n",
       "    <tr>\n",
       "      <th>38</th>\n",
       "      <td>4.266667</td>\n",
       "      <td>Kazakhstan</td>\n",
       "    </tr>\n",
       "    <tr>\n",
       "      <th>37</th>\n",
       "      <td>4.125000</td>\n",
       "      <td>Albania</td>\n",
       "    </tr>\n",
       "    <tr>\n",
       "      <th>36</th>\n",
       "      <td>3.600000</td>\n",
       "      <td>Ethiopia</td>\n",
       "    </tr>\n",
       "    <tr>\n",
       "      <th>35</th>\n",
       "      <td>3.575000</td>\n",
       "      <td>Belarus</td>\n",
       "    </tr>\n",
       "  </tbody>\n",
       "</table>\n",
       "</div>"
      ],
      "text/plain": [
       "    (alcohol_expenditure, mean)         country\n",
       "44                     7.800000    South Africa\n",
       "43                     7.630000         Ireland\n",
       "42                     7.000000        Zimbabwe\n",
       "41                     6.360000          Poland\n",
       "40                     5.700000  United Kingdom\n",
       "39                     5.252174         Finland\n",
       "38                     4.266667      Kazakhstan\n",
       "37                     4.125000         Albania\n",
       "36                     3.600000        Ethiopia\n",
       "35                     3.575000         Belarus"
      ]
     },
     "execution_count": 459,
     "metadata": {},
     "output_type": "execute_result"
    }
   ],
   "source": [
    "# Call previous dataframe with Boolean Mask 'alcohol_expenditure, mean' + first() method\n",
    "# each_country_df.columns\n",
    "\n",
    "# Find top 10 countries for alcohol expenditure\n",
    "top_10_expenditure = each_country_df.sort_values([('alcohol_expenditure', 'mean')], ascending=False).head(n=10) \n",
    "top_10_expenditure\n"
   ]
  },
  {
   "cell_type": "markdown",
   "metadata": {},
   "source": [
    "#### Find the bottom 10 countries that have the lowest alcohol expenditure "
   ]
  },
  {
   "cell_type": "code",
   "execution_count": 419,
   "metadata": {},
   "outputs": [
    {
     "data": {
      "text/html": [
       "<div>\n",
       "<style scoped>\n",
       "    .dataframe tbody tr th:only-of-type {\n",
       "        vertical-align: middle;\n",
       "    }\n",
       "\n",
       "    .dataframe tbody tr th {\n",
       "        vertical-align: top;\n",
       "    }\n",
       "\n",
       "    .dataframe thead th {\n",
       "        text-align: right;\n",
       "    }\n",
       "</style>\n",
       "<table border=\"1\" class=\"dataframe\">\n",
       "  <thead>\n",
       "    <tr style=\"text-align: right;\">\n",
       "      <th></th>\n",
       "      <th>(alcohol_expenditure, mean)</th>\n",
       "      <th>country</th>\n",
       "    </tr>\n",
       "  </thead>\n",
       "  <tbody>\n",
       "    <tr>\n",
       "      <th>0</th>\n",
       "      <td>0.050000</td>\n",
       "      <td>Lebanon</td>\n",
       "    </tr>\n",
       "    <tr>\n",
       "      <th>1</th>\n",
       "      <td>0.300000</td>\n",
       "      <td>Singapore</td>\n",
       "    </tr>\n",
       "    <tr>\n",
       "      <th>2</th>\n",
       "      <td>0.600000</td>\n",
       "      <td>Philippines</td>\n",
       "    </tr>\n",
       "    <tr>\n",
       "      <th>3</th>\n",
       "      <td>0.634000</td>\n",
       "      <td>Netherlands</td>\n",
       "    </tr>\n",
       "    <tr>\n",
       "      <th>4</th>\n",
       "      <td>0.781818</td>\n",
       "      <td>Tajikistan</td>\n",
       "    </tr>\n",
       "    <tr>\n",
       "      <th>5</th>\n",
       "      <td>0.792857</td>\n",
       "      <td>Azerbaijan</td>\n",
       "    </tr>\n",
       "    <tr>\n",
       "      <th>6</th>\n",
       "      <td>0.935714</td>\n",
       "      <td>United States</td>\n",
       "    </tr>\n",
       "    <tr>\n",
       "      <th>7</th>\n",
       "      <td>0.944444</td>\n",
       "      <td>Greece</td>\n",
       "    </tr>\n",
       "    <tr>\n",
       "      <th>8</th>\n",
       "      <td>1.000000</td>\n",
       "      <td>Slovenia</td>\n",
       "    </tr>\n",
       "    <tr>\n",
       "      <th>9</th>\n",
       "      <td>1.178947</td>\n",
       "      <td>Japan</td>\n",
       "    </tr>\n",
       "  </tbody>\n",
       "</table>\n",
       "</div>"
      ],
      "text/plain": [
       "   (alcohol_expenditure, mean)        country\n",
       "0                     0.050000        Lebanon\n",
       "1                     0.300000      Singapore\n",
       "2                     0.600000    Philippines\n",
       "3                     0.634000    Netherlands\n",
       "4                     0.781818     Tajikistan\n",
       "5                     0.792857     Azerbaijan\n",
       "6                     0.935714  United States\n",
       "7                     0.944444         Greece\n",
       "8                     1.000000       Slovenia\n",
       "9                     1.178947          Japan"
      ]
     },
     "execution_count": 419,
     "metadata": {},
     "output_type": "execute_result"
    }
   ],
   "source": [
    "# Find bottom 10 countries for alcohol expenditure\n",
    "bottom_10_expenditure = each_country_df.sort_values([('alcohol_expenditure', 'mean')], ascending=True).head(n=10)\n",
    "bottom_10_expenditure\n",
    "\n",
    "#bottom_expenditure_country = bottom_10_expenditure.loc[0,\"country\"],bottom_10_expenditure.loc[1,\"country\"], bottom_10_expenditure.loc[2,\"country\"], bottom_10_expenditure.loc[3,\"country\"], bottom_10_expenditure.loc[4,\"country\"]\n",
    "#print(f'The ten countries that spend the least on alcohol are: {bottom_expenditure_country}') "
   ]
  },
  {
   "cell_type": "markdown",
   "metadata": {},
   "source": [
    "## Part Two Data Summary\n"
   ]
  },
  {
   "cell_type": "code",
   "execution_count": 353,
   "metadata": {},
   "outputs": [
    {
     "name": "stdout",
     "output_type": "stream",
     "text": [
      "Total number of rows represented in the dataset: 491\n",
      "Total number of countries represented in the dataset: 45\n",
      "Overall average of alcohol expenditure (%): 2.6252962735142207 \n",
      "Overall average of alcohol consumption per capita (liters): 8.882484725050885\n",
      "Max countries reporting alcohol expenditure (%): 2012.0\n",
      "Number of countries reporting alcohol expenditure in 2012.0: 31\n"
     ]
    }
   ],
   "source": [
    "print(f'Total number of rows represented in the dataset: {total_rows}')  \n",
    "print(f\"Total number of countries represented in the dataset: {number_countries}\")\n",
    "print(f\"Overall average of alcohol expenditure (%): {overall_avg_expenditure} \")  \n",
    "print(f\"Overall average of alcohol consumption per capita (liters): {overall_avg_consumption}\")  \n",
    "print(f\"Max countries reporting alcohol expenditure (%): {max_year}\")\n",
    "print(f\"Number of countries reporting alcohol expenditure in {max_year}: {max_data}\")\n"
   ]
  },
  {
   "cell_type": "markdown",
   "metadata": {},
   "source": [
    "## Part Three  - Continent & Region"
   ]
  },
  {
   "cell_type": "code",
   "execution_count": 359,
   "metadata": {},
   "outputs": [
    {
     "data": {
      "text/html": [
       "<div>\n",
       "<style scoped>\n",
       "    .dataframe tbody tr th:only-of-type {\n",
       "        vertical-align: middle;\n",
       "    }\n",
       "\n",
       "    .dataframe tbody tr th {\n",
       "        vertical-align: top;\n",
       "    }\n",
       "\n",
       "    .dataframe thead th {\n",
       "        text-align: right;\n",
       "    }\n",
       "</style>\n",
       "<table border=\"1\" class=\"dataframe\">\n",
       "  <thead>\n",
       "    <tr style=\"text-align: right;\">\n",
       "      <th></th>\n",
       "      <th>country</th>\n",
       "      <th>country_code</th>\n",
       "      <th>year</th>\n",
       "      <th>alcohol_expenditure</th>\n",
       "      <th>continent</th>\n",
       "      <th>climate</th>\n",
       "      <th>main_export</th>\n",
       "      <th>main_industry</th>\n",
       "      <th>consumption_per_capita_(L)</th>\n",
       "      <th>region</th>\n",
       "      <th>happy_score</th>\n",
       "      <th>life_expectancy</th>\n",
       "      <th>gdp_per_capita</th>\n",
       "      <th>(alcohol_expenditure, mean)</th>\n",
       "      <th>(alcohol_expenditure, median)</th>\n",
       "      <th>(alcohol_expenditure, var)</th>\n",
       "      <th>(alcohol_expenditure, std)</th>\n",
       "      <th>(alcohol_expenditure, sem)</th>\n",
       "    </tr>\n",
       "  </thead>\n",
       "  <tbody>\n",
       "    <tr>\n",
       "      <th>0</th>\n",
       "      <td>Albania</td>\n",
       "      <td>ALB</td>\n",
       "      <td>2007.0</td>\n",
       "      <td>2.1</td>\n",
       "      <td>Europe</td>\n",
       "      <td>mild temperate; cool, cloudy, wet winters; hot...</td>\n",
       "      <td>Chromium and chrome products</td>\n",
       "      <td>perfumes and cosmetic products</td>\n",
       "      <td>7.5</td>\n",
       "      <td>Central and Eastern Europe</td>\n",
       "      <td>4.8827</td>\n",
       "      <td>68.708138</td>\n",
       "      <td>9.417931</td>\n",
       "      <td>4.125000</td>\n",
       "      <td>4.65</td>\n",
       "      <td>1.882500</td>\n",
       "      <td>1.372042</td>\n",
       "      <td>0.686021</td>\n",
       "    </tr>\n",
       "    <tr>\n",
       "      <th>1</th>\n",
       "      <td>Albania</td>\n",
       "      <td>ALB</td>\n",
       "      <td>2012.0</td>\n",
       "      <td>5.1</td>\n",
       "      <td>Europe</td>\n",
       "      <td>mild temperate; cool, cloudy, wet winters; hot...</td>\n",
       "      <td>Chromium and chrome products</td>\n",
       "      <td>perfumes and cosmetic products</td>\n",
       "      <td>7.5</td>\n",
       "      <td>Central and Eastern Europe</td>\n",
       "      <td>4.8827</td>\n",
       "      <td>68.708138</td>\n",
       "      <td>9.417931</td>\n",
       "      <td>4.125000</td>\n",
       "      <td>4.65</td>\n",
       "      <td>1.882500</td>\n",
       "      <td>1.372042</td>\n",
       "      <td>0.686021</td>\n",
       "    </tr>\n",
       "    <tr>\n",
       "      <th>2</th>\n",
       "      <td>Albania</td>\n",
       "      <td>ALB</td>\n",
       "      <td>2013.0</td>\n",
       "      <td>4.8</td>\n",
       "      <td>Europe</td>\n",
       "      <td>mild temperate; cool, cloudy, wet winters; hot...</td>\n",
       "      <td>Chromium and chrome products</td>\n",
       "      <td>perfumes and cosmetic products</td>\n",
       "      <td>7.5</td>\n",
       "      <td>Central and Eastern Europe</td>\n",
       "      <td>4.8827</td>\n",
       "      <td>68.708138</td>\n",
       "      <td>9.417931</td>\n",
       "      <td>4.125000</td>\n",
       "      <td>4.65</td>\n",
       "      <td>1.882500</td>\n",
       "      <td>1.372042</td>\n",
       "      <td>0.686021</td>\n",
       "    </tr>\n",
       "    <tr>\n",
       "      <th>3</th>\n",
       "      <td>Albania</td>\n",
       "      <td>ALB</td>\n",
       "      <td>2014.0</td>\n",
       "      <td>4.5</td>\n",
       "      <td>Europe</td>\n",
       "      <td>mild temperate; cool, cloudy, wet winters; hot...</td>\n",
       "      <td>Chromium and chrome products</td>\n",
       "      <td>perfumes and cosmetic products</td>\n",
       "      <td>7.5</td>\n",
       "      <td>Central and Eastern Europe</td>\n",
       "      <td>4.8827</td>\n",
       "      <td>68.708138</td>\n",
       "      <td>9.417931</td>\n",
       "      <td>4.125000</td>\n",
       "      <td>4.65</td>\n",
       "      <td>1.882500</td>\n",
       "      <td>1.372042</td>\n",
       "      <td>0.686021</td>\n",
       "    </tr>\n",
       "    <tr>\n",
       "      <th>4</th>\n",
       "      <td>Armenia</td>\n",
       "      <td>ARM</td>\n",
       "      <td>1990.0</td>\n",
       "      <td>4.0</td>\n",
       "      <td>Europe</td>\n",
       "      <td>highland continental, hot summers, cold winters</td>\n",
       "      <td>Processed and unprocessed diamonds</td>\n",
       "      <td>diamond-processing</td>\n",
       "      <td>5.5</td>\n",
       "      <td>Commonwealth of Independent States</td>\n",
       "      <td>4.6768</td>\n",
       "      <td>66.750656</td>\n",
       "      <td>9.100476</td>\n",
       "      <td>1.957143</td>\n",
       "      <td>1.70</td>\n",
       "      <td>0.483484</td>\n",
       "      <td>0.695330</td>\n",
       "      <td>0.107292</td>\n",
       "    </tr>\n",
       "  </tbody>\n",
       "</table>\n",
       "</div>"
      ],
      "text/plain": [
       "   country country_code    year  alcohol_expenditure continent  \\\n",
       "0  Albania          ALB  2007.0                  2.1    Europe   \n",
       "1  Albania          ALB  2012.0                  5.1    Europe   \n",
       "2  Albania          ALB  2013.0                  4.8    Europe   \n",
       "3  Albania          ALB  2014.0                  4.5    Europe   \n",
       "4  Armenia          ARM  1990.0                  4.0    Europe   \n",
       "\n",
       "                                             climate  \\\n",
       "0  mild temperate; cool, cloudy, wet winters; hot...   \n",
       "1  mild temperate; cool, cloudy, wet winters; hot...   \n",
       "2  mild temperate; cool, cloudy, wet winters; hot...   \n",
       "3  mild temperate; cool, cloudy, wet winters; hot...   \n",
       "4    highland continental, hot summers, cold winters   \n",
       "\n",
       "                          main_export                   main_industry  \\\n",
       "0        Chromium and chrome products  perfumes and cosmetic products   \n",
       "1        Chromium and chrome products  perfumes and cosmetic products   \n",
       "2        Chromium and chrome products  perfumes and cosmetic products   \n",
       "3        Chromium and chrome products  perfumes and cosmetic products   \n",
       "4  Processed and unprocessed diamonds              diamond-processing   \n",
       "\n",
       "   consumption_per_capita_(L)                              region  \\\n",
       "0                         7.5          Central and Eastern Europe   \n",
       "1                         7.5          Central and Eastern Europe   \n",
       "2                         7.5          Central and Eastern Europe   \n",
       "3                         7.5          Central and Eastern Europe   \n",
       "4                         5.5  Commonwealth of Independent States   \n",
       "\n",
       "   happy_score  life_expectancy  gdp_per_capita  (alcohol_expenditure, mean)  \\\n",
       "0       4.8827        68.708138        9.417931                     4.125000   \n",
       "1       4.8827        68.708138        9.417931                     4.125000   \n",
       "2       4.8827        68.708138        9.417931                     4.125000   \n",
       "3       4.8827        68.708138        9.417931                     4.125000   \n",
       "4       4.6768        66.750656        9.100476                     1.957143   \n",
       "\n",
       "   (alcohol_expenditure, median)  (alcohol_expenditure, var)  \\\n",
       "0                           4.65                    1.882500   \n",
       "1                           4.65                    1.882500   \n",
       "2                           4.65                    1.882500   \n",
       "3                           4.65                    1.882500   \n",
       "4                           1.70                    0.483484   \n",
       "\n",
       "   (alcohol_expenditure, std)  (alcohol_expenditure, sem)  \n",
       "0                    1.372042                    0.686021  \n",
       "1                    1.372042                    0.686021  \n",
       "2                    1.372042                    0.686021  \n",
       "3                    1.372042                    0.686021  \n",
       "4                    0.695330                    0.107292  "
      ]
     },
     "execution_count": 359,
     "metadata": {},
     "output_type": "execute_result"
    }
   ],
   "source": [
    "df_8.head()\n",
    "\n",
    "continent_subset = "
   ]
  },
  {
   "cell_type": "markdown",
   "metadata": {},
   "source": [
    "### Part Four - Correlation & Regression"
   ]
  },
  {
   "cell_type": "code",
   "execution_count": 356,
   "metadata": {},
   "outputs": [
    {
     "data": {
      "image/png": "[encoded data removed]",
      "text/plain": [
       "<Figure size 1080x720 with 2 Axes>"
      ]
     },
     "metadata": {
      "needs_background": "light"
     },
     "output_type": "display_data"
    }
   ],
   "source": [
    "# Explore potential relationships by creating correlation matrix\n",
    "from matplotlib.pyplot import figure\n",
    "\n",
    "df_7_corr = df_7.corr()\n",
    "df_7_corr.unstack().sort_values()\n",
    "\n",
    "plt.rcParams['figure.figsize'] = (15.0, 10.0)\n",
    "figure = (sn.heatmap(df_7_corr, annot=True,))\n",
    "\n"
   ]
  },
  {
   "cell_type": "code",
   "execution_count": 461,
   "metadata": {},
   "outputs": [
    {
     "data": {
      "text/plain": [
       "Index([                        'country',                    'country_code',\n",
       "                                  'year',             'alcohol_expenditure',\n",
       "                             'continent',                         'climate',\n",
       "                           'main_export',                   'main_industry',\n",
       "            'consumption_per_capita_(L)',                          'region',\n",
       "                           'happy_score',                 'life_expectancy',\n",
       "                        'gdp_per_capita',   ('alcohol_expenditure', 'mean'),\n",
       "       ('alcohol_expenditure', 'median'),    ('alcohol_expenditure', 'var'),\n",
       "          ('alcohol_expenditure', 'std'),    ('alcohol_expenditure', 'sem')],\n",
       "      dtype='object')"
      ]
     },
     "execution_count": 461,
     "metadata": {},
     "output_type": "execute_result"
    }
   ],
   "source": [
    "df_8.columns"
   ]
  },
  {
   "cell_type": "code",
   "execution_count": null,
   "metadata": {},
   "outputs": [],
   "source": []
  }
 ],
 "metadata": {
  "kernelspec": {
   "display_name": "Python 3",
   "language": "python",
   "name": "python3"
  },
  "language_info": {
   "codemirror_mode": {
    "name": "ipython",
    "version": 3
   },
   "file_extension": ".py",
   "mimetype": "text/x-python",
   "name": "python",
   "nbconvert_exporter": "python",
   "pygments_lexer": "ipython3",
   "version": "3.8.5"
  }
 },
 "nbformat": 4,
 "nbformat_minor": 4
}
