{
 "cells": [
  {
   "cell_type": "markdown",
   "metadata": {},
   "source": [
    "# Mega_df_playground\n"
   ]
  },
  {
   "cell_type": "markdown",
   "metadata": {},
   "source": [
    "## Basic Set Up"
   ]
  },
  {
   "cell_type": "markdown",
   "metadata": {},
   "source": [
    "#### Load Modules"
   ]
  },
  {
   "cell_type": "code",
   "execution_count": null,
   "metadata": {},
   "outputs": [],
   "source": [
    "import matplotlib.pyplot as plt\n",
    "import pandas as pd\n",
    "import scipy.stats as st\n",
    "import numpy as np\n",
    "from IPython.display import display\n",
    "import seaborn as sn"
   ]
  },
  {
   "cell_type": "markdown",
   "metadata": {},
   "source": [
    "#### Create path to read files"
   ]
  },
  {
   "cell_type": "code",
   "execution_count": null,
   "metadata": {},
   "outputs": [],
   "source": [
    "# Files to Load \n",
    "continent_file = \"Resources/continent_code.csv\"\n",
    "climate_file = \"Resources/country_climate.csv\"\n",
    "export_file = \"Resources/country_export.csv\"\n",
    "industry_file = \"Resources/country_industry.csv\"\n",
    "consumption_file = \"Resources/country_consumption.csv\"\n",
    "happiness_file = \"Resources/country_happiness.csv\"\n",
    "mental_health_file = \"Resources/mental_health.csv\"\n",
    "\n",
    "# Read csv and store into Pandas DataFrames\n",
    "continent_data = pd.read_csv(continent_file)\n",
    "climate_data = pd.read_csv(climate_file)\n",
    "export_data = pd.read_csv(export_file)\n",
    "industry_data = pd.read_csv(industry_file)\n",
    "consumption_data = pd.read_csv(consumption_file)\n",
    "happiness_data = pd.read_csv(happiness_file)\n",
    "mental_health_data = pd.read_csv(mental_health_file)"
   ]
  },
  {
   "cell_type": "markdown",
   "metadata": {},
   "source": [
    "## Clean Dataframes "
   ]
  },
  {
   "cell_type": "code",
   "execution_count": 3,
   "metadata": {},
   "outputs": [],
   "source": [
    "# Clean Dataframes before merge - continent_df\n",
    "continent_df = continent_data[[\"Continent_Name\",\"Three_Letter_Country_Code\"]] \n",
    "continent_df = continent_df.rename(columns={\"Three_Letter_Country_Code\": \"country_code\", \"Continent_Name\": \"continent\" })\n",
    "\n",
    "# Clean Dataframes before merge - climate_df\n",
    "climate_df = climate_data[[\"COUNTRY\",\"CLIMATE\"]]\n",
    "climate_df  = climate_df.rename(columns={\"COUNTRY\": \"country\", \"CLIMATE\": \"climate\" })\n",
    "\n",
    "# Clean Dataframes before merge - consumption_df \n",
    "consumption_df  = consumption_data.rename(columns={\"Entity\": \"country\", \"Code\": \"country_code\", \n",
    "                                                   \"Total alcohol consumption per capita (liters of pure alcohol, projected estimates, 15+ years of age)\": \"consumption_per_capita_(L)\"})\n",
    "\n",
    "# Clean Dataframes before merge - happiness_df \n",
    "happiness_df = happiness_data[[\"Country name\", \"Regional indicator\", \"Ladder score\", \"Healthy life expectancy\",\"Logged GDP per capita\"]]\n",
    "happiness_df = happiness_df.rename(columns= {\"Country name\": \"country\", \"Regional indicator\": \"region\", \"Ladder score\": \"happy_score\", \"Healthy life expectancy\": \"life_expectancy\", \"Logged GDP per capita\" : \"gdp_per_capita\"})\n",
    " "
   ]
  },
  {
   "cell_type": "code",
   "execution_count": 4,
   "metadata": {},
   "outputs": [],
   "source": [
    "# Clean Dataframes before merge - wellness_df\n",
    "wellness_df = mental_health_data.rename(columns={\"Entity\":\"country\", \"Code\": \"code\", \"Year\": \"year\", \n",
    "                                                 \"Prevalence - Mental and substance use disorders - Sex: Both - Age: Age-standardized (Percent)\": \"mental_health_and_addiction (%)\"})\n",
    "to_drop = [\"Andean Latin America\", \"Australasia\", \"Caribbean\", \"Central Asia\", \"Central Europe\", \"Central Europe, Eastern Europe, and Central Asia\",\n",
    "            \"Central Latin America\", \"Central Sub-Saharan Africa\", \"East Asia\", \"Eastern Europe\", \"Eastern Sub-Saharan Africa\",\n",
    "            \"England\", \"High SDI\", \"High Income\", \"High-income Asia Pacific\", \"High-middle SDI\", \"Latin America and Caribbean\",\n",
    "            \"Low SDI\", \"Low-middle SDI\", \"Middle SDI\", \"North Africa and Middle East\", \"North America\", \"Northern Ireland\", \"Oceania\",\n",
    "            \"Scotland\", \"South Asia\", \"Southeast Asia\", \"Southeast Asia, East Asia, and Oceania\", \"Southern Latin America\", \n",
    "            \"Southern Sub-Saharan Africa\", \"Sub-Saharan Africa\", \"Tropical Latin America\", \"Wales\", \"Western Europe\", \"Western Sub-Saharan Africa\",\n",
    "            \"World\"] \n",
    "wellness_df = wellness_df[~wellness_df['country'].isin(to_drop)]\n",
    "wellness_df = wellness_df[wellness_df['code'].notna()]\n",
    "\n",
    "# Create a new dataframe to show the avg percentage of mental health and addiction observed for each country\n",
    "wellness_subset = wellness_df.groupby(['code'])\n",
    "average_wellness_df = wellness_subset.mean()\n",
    "country_mask = wellness_df.groupby(\"country\")\n",
    "wellness_df = country_mask.first() \n",
    "\n",
    "wellness_df = wellness_df.drop(columns=['year'])\n",
    "#wellness_df"
   ]
  },
  {
   "cell_type": "markdown",
   "metadata": {},
   "source": [
    "## Merge DataFrames\n",
    "* df_2 = continent_df + consumption_df\n",
    "* df_3 = continent_df + consumption_df + climate_df\n",
    "* df_4 = continent_df + consumption_df + climate_df + export_data\n",
    "* df_5 = continent_df + consumption_df + climate_df + export_data + industry_data\n",
    "* df_6 = continent_df + consumption_df + climate_df + export_data + industry_data + happiness_df\n",
    "* df_7 = continent_df + consumption_df + climate_df + export_data + industry_data + happiness_df + wellness_df"
   ]
  },
  {
   "cell_type": "code",
   "execution_count": 8,
   "metadata": {},
   "outputs": [
    {
     "data": {
      "text/html": [
       "<div>\n",
       "<style scoped>\n",
       "    .dataframe tbody tr th:only-of-type {\n",
       "        vertical-align: middle;\n",
       "    }\n",
       "\n",
       "    .dataframe tbody tr th {\n",
       "        vertical-align: top;\n",
       "    }\n",
       "\n",
       "    .dataframe thead th {\n",
       "        text-align: right;\n",
       "    }\n",
       "</style>\n",
       "<table border=\"1\" class=\"dataframe\">\n",
       "  <thead>\n",
       "    <tr style=\"text-align: right;\">\n",
       "      <th></th>\n",
       "      <th>index</th>\n",
       "      <th>continent</th>\n",
       "      <th>country_code</th>\n",
       "      <th>country</th>\n",
       "      <th>consumption_per_capita_(L)</th>\n",
       "      <th>climate</th>\n",
       "      <th>main_export</th>\n",
       "      <th>main_industry</th>\n",
       "      <th>region</th>\n",
       "      <th>happy_score</th>\n",
       "      <th>life_expectancy</th>\n",
       "      <th>gdp_per_capita</th>\n",
       "      <th>code</th>\n",
       "      <th>mental_health_and_addiction (%)</th>\n",
       "    </tr>\n",
       "  </thead>\n",
       "  <tbody>\n",
       "    <tr>\n",
       "      <th>0</th>\n",
       "      <td>0</td>\n",
       "      <td>Asia</td>\n",
       "      <td>AFG</td>\n",
       "      <td>Afghanistan</td>\n",
       "      <td>0.2</td>\n",
       "      <td>arid to semiarid; cold winters and hot summers</td>\n",
       "      <td>Fruit and nuts</td>\n",
       "      <td>small-scale production of bricks</td>\n",
       "      <td>South Asia</td>\n",
       "      <td>2.5669</td>\n",
       "      <td>52.590000</td>\n",
       "      <td>7.462861</td>\n",
       "      <td>AFG</td>\n",
       "      <td>17.553463</td>\n",
       "    </tr>\n",
       "    <tr>\n",
       "      <th>1</th>\n",
       "      <td>1</td>\n",
       "      <td>Europe</td>\n",
       "      <td>ALB</td>\n",
       "      <td>Albania</td>\n",
       "      <td>7.5</td>\n",
       "      <td>mild temperate; cool, cloudy, wet winters; hot...</td>\n",
       "      <td>Chromium and chrome products</td>\n",
       "      <td>perfumes and cosmetic products</td>\n",
       "      <td>Central and Eastern Europe</td>\n",
       "      <td>4.8827</td>\n",
       "      <td>68.708138</td>\n",
       "      <td>9.417931</td>\n",
       "      <td>ALB</td>\n",
       "      <td>10.987610</td>\n",
       "    </tr>\n",
       "    <tr>\n",
       "      <th>2</th>\n",
       "      <td>4942</td>\n",
       "      <td>Africa</td>\n",
       "      <td>DZA</td>\n",
       "      <td>Algeria</td>\n",
       "      <td>0.9</td>\n",
       "      <td>arid to semiarid; mild, wet winters with hot, ...</td>\n",
       "      <td>Oil</td>\n",
       "      <td>petroleum</td>\n",
       "      <td>Middle East and North Africa</td>\n",
       "      <td>5.0051</td>\n",
       "      <td>65.905174</td>\n",
       "      <td>9.537965</td>\n",
       "      <td>DZA</td>\n",
       "      <td>14.700388</td>\n",
       "    </tr>\n",
       "    <tr>\n",
       "      <th>3</th>\n",
       "      <td>4943</td>\n",
       "      <td>Europe</td>\n",
       "      <td>AND</td>\n",
       "      <td>Andorra</td>\n",
       "      <td>11.3</td>\n",
       "      <td>temperate; snowy, cold winters and warm, dry s...</td>\n",
       "      <td>Tobacco products</td>\n",
       "      <td>tourism</td>\n",
       "      <td>NaN</td>\n",
       "      <td>NaN</td>\n",
       "      <td>NaN</td>\n",
       "      <td>NaN</td>\n",
       "      <td>AND</td>\n",
       "      <td>14.726869</td>\n",
       "    </tr>\n",
       "    <tr>\n",
       "      <th>4</th>\n",
       "      <td>4944</td>\n",
       "      <td>Africa</td>\n",
       "      <td>AGO</td>\n",
       "      <td>Angola</td>\n",
       "      <td>6.4</td>\n",
       "      <td>semiarid in south and along coast to Luanda; n...</td>\n",
       "      <td>Oil</td>\n",
       "      <td>petroleum</td>\n",
       "      <td>NaN</td>\n",
       "      <td>NaN</td>\n",
       "      <td>NaN</td>\n",
       "      <td>NaN</td>\n",
       "      <td>AGO</td>\n",
       "      <td>12.498281</td>\n",
       "    </tr>\n",
       "  </tbody>\n",
       "</table>\n",
       "</div>"
      ],
      "text/plain": [
       "   index continent country_code      country  consumption_per_capita_(L)  \\\n",
       "0      0      Asia          AFG  Afghanistan                         0.2   \n",
       "1      1    Europe          ALB      Albania                         7.5   \n",
       "2   4942    Africa          DZA      Algeria                         0.9   \n",
       "3   4943    Europe          AND      Andorra                        11.3   \n",
       "4   4944    Africa          AGO       Angola                         6.4   \n",
       "\n",
       "                                             climate  \\\n",
       "0     arid to semiarid; cold winters and hot summers   \n",
       "1  mild temperate; cool, cloudy, wet winters; hot...   \n",
       "2  arid to semiarid; mild, wet winters with hot, ...   \n",
       "3  temperate; snowy, cold winters and warm, dry s...   \n",
       "4  semiarid in south and along coast to Luanda; n...   \n",
       "\n",
       "                    main_export                     main_industry  \\\n",
       "0                Fruit and nuts  small-scale production of bricks   \n",
       "1  Chromium and chrome products    perfumes and cosmetic products   \n",
       "2                           Oil                         petroleum   \n",
       "3              Tobacco products                          tourism    \n",
       "4                           Oil                         petroleum   \n",
       "\n",
       "                         region  happy_score  life_expectancy  gdp_per_capita  \\\n",
       "0                    South Asia       2.5669        52.590000        7.462861   \n",
       "1    Central and Eastern Europe       4.8827        68.708138        9.417931   \n",
       "2  Middle East and North Africa       5.0051        65.905174        9.537965   \n",
       "3                           NaN          NaN              NaN             NaN   \n",
       "4                           NaN          NaN              NaN             NaN   \n",
       "\n",
       "  code  mental_health_and_addiction (%)  \n",
       "0  AFG                        17.553463  \n",
       "1  ALB                        10.987610  \n",
       "2  DZA                        14.700388  \n",
       "3  AND                        14.726869  \n",
       "4  AGO                        12.498281  "
      ]
     },
     "execution_count": 8,
     "metadata": {},
     "output_type": "execute_result"
    }
   ],
   "source": [
    "# Combine the data into a single dataset.  \n",
    "df_2 = pd.merge(continent_df, consumption_df, how=\"outer\", on=[\"country_code\", \"country_code\"])  \n",
    "df_3 = pd.merge(df_2, climate_df, how=\"outer\", on=[\"country\", \"country\"]) \n",
    "df_4 = pd.merge(df_3, export_data, how=\"outer\", on=[\"country\", \"country\"]) \n",
    "df_5 = pd.merge(df_4, industry_data, how=\"outer\", on=[\"country\", \"country\"]) \n",
    "df_6 = pd.merge(df_5, happiness_df, how=\"outer\", on=[\"country\", \"country\"]) \n",
    "df_7 = pd.merge(df_6, wellness_df, how=\"outer\", on=[\"country\", \"country\"]) \n",
    "\n",
    "# Remove all rows where continent == 'Antartica'\n",
    "to_drop = ['Antarctica']\n",
    "df_8 = df_7[~df_7['continent'].isin(to_drop)]\n",
    "df_8.count() \n",
    "\n",
    "# Remove all rows where there is no value for alcohol consumption \n",
    "df_9 = df_8[df_8['consumption_per_capita_(L)'].notna()] \n",
    "df_9.count() \n",
    "\n",
    "# Remove all non-countries within 'country' column\n",
    "to_drop = ['Arab World', 'Caribbean small states', 'Central Europe and the Baltics', 'Early-demographic dividend',\n",
    "          'East Asia & Pacific', 'East Asia & Pacific (IDA & IBRD)', 'East Asia & Pacific (excluding high income)',\n",
    "          'Euro area', 'Europe & Central Asia', 'Europe & Central Asia (IDA & IBRD)', 'Europe & Central Asia (excluding high income)',\n",
    "          'European Union', 'Fragile and conflict affected situations', 'Heavily indebted poor countries (HIPC)', 'High income',\n",
    "          'IBRD only', 'IDA & IBRD total', 'IDA blend', 'IDA only', 'IDA total', 'Late-demographic dividend', 'Latin America & Caribbean', 'Latin America & Caribbean (IDA & IBRD)', 'Latin America & Caribbean (excluding high income)',\n",
    "          'Least developed countries: UN classification', 'Low & middle income', 'Low income', 'Lower middle income','Middle East & North Africa', 'Middle East & North Africa (IDA & IBRD)','Middle East & North Africa (excluding high income)',\n",
    "          'Middle income', 'North America', 'OECD members', 'Other small states', 'Pacific island small states',\n",
    "          'Post-demographic dividend', 'Pre-demographic dividend','Small states', 'South Asia', 'South Asia (IDA & IBRD)',\n",
    "          'Sub-Saharan Africa', 'Sub-Saharan Africa (IDA & IBRD)', 'Sub-Saharan Africa (excluding high income)',\n",
    "          'Syrian Arab Republic', 'Upper middle income', 'World']\n",
    "df_10 = df_9[~df_9['country'].isin(to_drop)]\n",
    "df_10.count() \n",
    "\n",
    "# Remove all duplicate countries --> Azerbaijan, Armenia, Cypress, Georgia, Kazakstan, Turkey\n",
    "df_11 = df_10.drop_duplicates(subset=['country'])\n",
    "df_11 = df_11.reset_index()\n",
    "# df_11.count() \n",
    "# df_11 = df_11.dropna(how='any')\n",
    "df_11.head() "
   ]
  },
  {
   "cell_type": "code",
   "execution_count": 10,
   "metadata": {},
   "outputs": [],
   "source": [
    "# Save Data to csv\n",
    "df_11.to_csv(\"mega_df.csv\")"
   ]
  },
  {
   "cell_type": "markdown",
   "metadata": {},
   "source": [
    "## Data Summary\n",
    "* Display a list of columns in the dataset\n",
    "* Display a list of regions in the dataset\n",
    "* Display a list of countries in the dataset\n",
    "* Calculate total number of countries\n",
    "* Calculate overall average alcohol consumption\n",
    "* Calculate total years of data compiled for each country \n",
    "* Determine which year(s) have the most data \n"
   ]
  },
  {
   "cell_type": "markdown",
   "metadata": {},
   "source": [
    "####  Display a list of columns"
   ]
  },
  {
   "cell_type": "code",
   "execution_count": 108,
   "metadata": {},
   "outputs": [
    {
     "name": "stdout",
     "output_type": "stream",
     "text": [
      "List of column names: index, continent, country_code, country, consumption_per_capita_(L), climate, main_export, main_industry, region, happy_score, life_expectancy, gdp_per_capita, code, mental_health_and_addiction (%)\n"
     ]
    }
   ],
   "source": [
    "columns = df_11.columns\n",
    "columns_string =', '.join(columns)\n",
    "print(f\"List of column names: {columns_string}\")"
   ]
  },
  {
   "cell_type": "markdown",
   "metadata": {},
   "source": [
    "#### Display a list of regions"
   ]
  },
  {
   "cell_type": "code",
   "execution_count": 109,
   "metadata": {},
   "outputs": [
    {
     "name": "stdout",
     "output_type": "stream",
     "text": [
      "List of regions represented in the dataset: South Asia, Central and Eastern Europe, Middle East and North Africa, nan, Commonwealth of Independent States, Latin America and Caribbean, North America and ANZ, Western Europe, Sub-Saharan Africa, Southeast Asia, East Asia\n"
     ]
    }
   ],
   "source": [
    "regions = df_11[\"region\"].unique()\n",
    "\n",
    "regions_string = \", \".join(map(str, regions))\n",
    "\n",
    "print(f\"List of regions represented in the dataset: {regions_string}\")"
   ]
  },
  {
   "cell_type": "markdown",
   "metadata": {},
   "source": [
    "#### Display a list of countries"
   ]
  },
  {
   "cell_type": "code",
   "execution_count": 110,
   "metadata": {},
   "outputs": [
    {
     "name": "stdout",
     "output_type": "stream",
     "text": [
      "List of countries represented in the dataset: Afghanistan, Albania, Algeria, Andorra, Angola, Antigua and Barbuda, Azerbaijan, Argentina, Australia, Austria, Bahamas, Bahrain, Bangladesh, Armenia, Barbados, Belgium, Bhutan, Bolivia, Bosnia and Herzegovina, Botswana, Brazil, Belize, Solomon Islands, Brunei, Bulgaria, Myanmar, Burundi, Belarus, Cambodia, Cameroon, Canada, Cape Verde, Central African Republic, Sri Lanka, Chad, Chile, China, Colombia, Comoros, Congo, Democratic Republic of Congo, Costa Rica, Croatia, Cuba, Cyprus, Czechia, Benin, Denmark, Dominica, Dominican Republic, Ecuador, El Salvador, Equatorial Guinea, Ethiopia, Eritrea, Estonia, Fiji, Finland, France, Djibouti, Gabon, Georgia, Gambia, Germany, Ghana, Kiribati, Greece, Grenada, Guatemala, Guinea, Guyana, Haiti, Honduras, Hungary, Iceland, India, Indonesia, Iran, Iraq, Ireland, Israel, Italy, Cote d'Ivoire, Jamaica, Japan, Kazakhstan, Jordan, Kenya, North Korea, South Korea, Kuwait, Kyrgyzstan, Laos, Lebanon, Lesotho, Latvia, Liberia, Libya, Lithuania, Luxembourg, Madagascar, Malawi, Malaysia, Maldives, Mali, Malta, Mauritania, Mauritius, Mexico, Mongolia, Moldova, Montenegro, Morocco, Mozambique, Oman, Namibia, Nauru, Nepal, Netherlands, Vanuatu, New Zealand, Nicaragua, Niger, Nigeria, Norway, Micronesia (country), Pakistan, Panama, Papua New Guinea, Paraguay, Peru, Philippines, Poland, Portugal, Guinea-Bissau, Timor, Qatar, Romania, Russia, Rwanda, Saint Kitts and Nevis, Saint Lucia, Saint Vincent and the Grenadines, Sao Tome and Principe, Saudi Arabia, Senegal, Serbia, Seychelles, Sierra Leone, Singapore, Slovakia, Vietnam, Slovenia, Somalia, South Africa, Zimbabwe, Spain, Sudan, Suriname, Eswatini, Sweden, Switzerland, Tajikistan, Thailand, Togo, Tonga, Trinidad and Tobago, United Arab Emirates, Tunisia, Turkey, Turkmenistan, Tuvalu, Uganda, Ukraine, North Macedonia, Egypt, United Kingdom, Tanzania, United States, Burkina Faso, Uruguay, Uzbekistan, Venezuela, Samoa, Yemen, Zambia\n"
     ]
    }
   ],
   "source": [
    "countries = df_11[\"country\"].unique()\n",
    "countries_string = ', '.join(countries)\n",
    "\n",
    "print(f\"List of countries represented in the dataset: {countries_string}\")"
   ]
  },
  {
   "cell_type": "markdown",
   "metadata": {},
   "source": [
    "####  Calculate how many countries are represented in the data "
   ]
  },
  {
   "cell_type": "code",
   "execution_count": 111,
   "metadata": {},
   "outputs": [
    {
     "name": "stdout",
     "output_type": "stream",
     "text": [
      "The total number of rows countries represented in the dataset are 186.\n"
     ]
    }
   ],
   "source": [
    "total_countries = df_11.shape[0] \n",
    "print(f'The total number of rows countries represented in the dataset are {total_countries}.') \n",
    "\n",
    "# Alternative methods:\n",
    "#number_countries = df_11['country'].nunique()\n",
    "# unique_countries = df_8['country'].unique()\n",
    "# number_countries = len(unique_countries)"
   ]
  },
  {
   "cell_type": "markdown",
   "metadata": {},
   "source": [
    "#### Calculate the overall average alcohol consumption\n"
   ]
  },
  {
   "cell_type": "code",
   "execution_count": 123,
   "metadata": {},
   "outputs": [
    {
     "name": "stdout",
     "output_type": "stream",
     "text": [
      "The overall average of alcohol consumption per capita (liters) among countries represented in the dataset is 6.165053763440862.\n"
     ]
    }
   ],
   "source": [
    "overall_avg_consumption = df_11[\"consumption_per_capita_(L)\"].mean() \n",
    "overall_avg_consumption\n",
    "formatted_consumption = round(overall_avg_consumption,2)\n",
    "\n",
    "print(f\"The overall average of alcohol consumption per capita (liters) among countries represented in the dataset is {overall_avg_consumption}.\")  \n"
   ]
  },
  {
   "cell_type": "markdown",
   "metadata": {},
   "source": [
    "#### Find the 10 countries that consumes the most alcohol \n"
   ]
  },
  {
   "cell_type": "code",
   "execution_count": 124,
   "metadata": {},
   "outputs": [
    {
     "name": "stdout",
     "output_type": "stream",
     "text": [
      "The countries with the highest consumption rates are Moldova, Lithuania, Czechia, Nigeria, Germany, Luxembourg, Ireland, Latvia, Bulgaria, Slovenia\n"
     ]
    },
    {
     "data": {
      "text/html": [
       "<div>\n",
       "<style scoped>\n",
       "    .dataframe tbody tr th:only-of-type {\n",
       "        vertical-align: middle;\n",
       "    }\n",
       "\n",
       "    .dataframe tbody tr th {\n",
       "        vertical-align: top;\n",
       "    }\n",
       "\n",
       "    .dataframe thead th {\n",
       "        text-align: right;\n",
       "    }\n",
       "</style>\n",
       "<table border=\"1\" class=\"dataframe\">\n",
       "  <thead>\n",
       "    <tr style=\"text-align: right;\">\n",
       "      <th></th>\n",
       "      <th>consumption_per_capita_(L)</th>\n",
       "    </tr>\n",
       "    <tr>\n",
       "      <th>country</th>\n",
       "      <th></th>\n",
       "    </tr>\n",
       "  </thead>\n",
       "  <tbody>\n",
       "    <tr>\n",
       "      <th>Moldova</th>\n",
       "      <td>15.2</td>\n",
       "    </tr>\n",
       "    <tr>\n",
       "      <th>Lithuania</th>\n",
       "      <td>15.0</td>\n",
       "    </tr>\n",
       "    <tr>\n",
       "      <th>Czechia</th>\n",
       "      <td>14.4</td>\n",
       "    </tr>\n",
       "    <tr>\n",
       "      <th>Nigeria</th>\n",
       "      <td>13.4</td>\n",
       "    </tr>\n",
       "    <tr>\n",
       "      <th>Germany</th>\n",
       "      <td>13.4</td>\n",
       "    </tr>\n",
       "    <tr>\n",
       "      <th>Luxembourg</th>\n",
       "      <td>13.0</td>\n",
       "    </tr>\n",
       "    <tr>\n",
       "      <th>Ireland</th>\n",
       "      <td>13.0</td>\n",
       "    </tr>\n",
       "    <tr>\n",
       "      <th>Latvia</th>\n",
       "      <td>12.9</td>\n",
       "    </tr>\n",
       "    <tr>\n",
       "      <th>Bulgaria</th>\n",
       "      <td>12.7</td>\n",
       "    </tr>\n",
       "    <tr>\n",
       "      <th>Slovenia</th>\n",
       "      <td>12.6</td>\n",
       "    </tr>\n",
       "  </tbody>\n",
       "</table>\n",
       "</div>"
      ],
      "text/plain": [
       "            consumption_per_capita_(L)\n",
       "country                               \n",
       "Moldova                           15.2\n",
       "Lithuania                         15.0\n",
       "Czechia                           14.4\n",
       "Nigeria                           13.4\n",
       "Germany                           13.4\n",
       "Luxembourg                        13.0\n",
       "Ireland                           13.0\n",
       "Latvia                            12.9\n",
       "Bulgaria                          12.7\n",
       "Slovenia                          12.6"
      ]
     },
     "execution_count": 124,
     "metadata": {},
     "output_type": "execute_result"
    }
   ],
   "source": [
    "country_mask = df_11.groupby(\"country\")\n",
    "country_subset = country_mask.first()\n",
    "\n",
    "high_consumption = country_subset.sort_values([(\"consumption_per_capita_(L)\")], ascending=False).head(n=10)\n",
    "high_consumption.reset_index() \n",
    "\n",
    "high_consumption_series = high_consumption[\"consumption_per_capita_(L)\"]  \n",
    "high_consumption_df = pd.DataFrame(high_consumption_series)\n",
    "\n",
    "most_alcohol = high_consumption_df.index.tolist()\n",
    "print(\"The countries with the highest consumption rates are \" + \", \".join(most_alcohol))\n",
    "\n",
    "high_consumption_df \n",
    "\n"
   ]
  },
  {
   "cell_type": "markdown",
   "metadata": {},
   "source": [
    "#### Find the 10 countries that consumes the least alcohol "
   ]
  },
  {
   "cell_type": "code",
   "execution_count": 125,
   "metadata": {},
   "outputs": [
    {
     "name": "stdout",
     "output_type": "stream",
     "text": [
      "The countries with the lowest consumption rates are Somalia, Mauritania, Libya, Bangladesh, Kuwait, Yemen, Afghanistan, Saudi Arabia, Pakistan, Iraq\n"
     ]
    },
    {
     "data": {
      "text/html": [
       "<div>\n",
       "<style scoped>\n",
       "    .dataframe tbody tr th:only-of-type {\n",
       "        vertical-align: middle;\n",
       "    }\n",
       "\n",
       "    .dataframe tbody tr th {\n",
       "        vertical-align: top;\n",
       "    }\n",
       "\n",
       "    .dataframe thead th {\n",
       "        text-align: right;\n",
       "    }\n",
       "</style>\n",
       "<table border=\"1\" class=\"dataframe\">\n",
       "  <thead>\n",
       "    <tr style=\"text-align: right;\">\n",
       "      <th></th>\n",
       "      <th>consumption_per_capita_(L)</th>\n",
       "    </tr>\n",
       "    <tr>\n",
       "      <th>country</th>\n",
       "      <th></th>\n",
       "    </tr>\n",
       "  </thead>\n",
       "  <tbody>\n",
       "    <tr>\n",
       "      <th>Somalia</th>\n",
       "      <td>0.0</td>\n",
       "    </tr>\n",
       "    <tr>\n",
       "      <th>Mauritania</th>\n",
       "      <td>0.0</td>\n",
       "    </tr>\n",
       "    <tr>\n",
       "      <th>Libya</th>\n",
       "      <td>0.0</td>\n",
       "    </tr>\n",
       "    <tr>\n",
       "      <th>Bangladesh</th>\n",
       "      <td>0.0</td>\n",
       "    </tr>\n",
       "    <tr>\n",
       "      <th>Kuwait</th>\n",
       "      <td>0.0</td>\n",
       "    </tr>\n",
       "    <tr>\n",
       "      <th>Yemen</th>\n",
       "      <td>0.1</td>\n",
       "    </tr>\n",
       "    <tr>\n",
       "      <th>Afghanistan</th>\n",
       "      <td>0.2</td>\n",
       "    </tr>\n",
       "    <tr>\n",
       "      <th>Saudi Arabia</th>\n",
       "      <td>0.2</td>\n",
       "    </tr>\n",
       "    <tr>\n",
       "      <th>Pakistan</th>\n",
       "      <td>0.3</td>\n",
       "    </tr>\n",
       "    <tr>\n",
       "      <th>Iraq</th>\n",
       "      <td>0.4</td>\n",
       "    </tr>\n",
       "  </tbody>\n",
       "</table>\n",
       "</div>"
      ],
      "text/plain": [
       "              consumption_per_capita_(L)\n",
       "country                                 \n",
       "Somalia                              0.0\n",
       "Mauritania                           0.0\n",
       "Libya                                0.0\n",
       "Bangladesh                           0.0\n",
       "Kuwait                               0.0\n",
       "Yemen                                0.1\n",
       "Afghanistan                          0.2\n",
       "Saudi Arabia                         0.2\n",
       "Pakistan                             0.3\n",
       "Iraq                                 0.4"
      ]
     },
     "execution_count": 125,
     "metadata": {},
     "output_type": "execute_result"
    }
   ],
   "source": [
    "low_consumption = country_subset.sort_values([(\"consumption_per_capita_(L)\")], ascending=True).head(n=10)\n",
    "low_consumption.reset_index() \n",
    "\n",
    "low_consumption_series = low_consumption[\"consumption_per_capita_(L)\"]  \n",
    "low_consumption_df = pd.DataFrame(low_consumption_series)\n",
    "\n",
    "least_alcohol = low_consumption_df.index.tolist()\n",
    "\n",
    "print(\"The countries with the lowest consumption rates are \" + \", \".join(least_alcohol))\n",
    "\n",
    "low_consumption_df"
   ]
  },
  {
   "cell_type": "markdown",
   "metadata": {},
   "source": [
    "## Data Summary\n"
   ]
  },
  {
   "cell_type": "code",
   "execution_count": 127,
   "metadata": {},
   "outputs": [
    {
     "name": "stdout",
     "output_type": "stream",
     "text": [
      "List of column names: index, continent, country_code, country, consumption_per_capita_(L), climate, main_export, main_industry, region, happy_score, life_expectancy, gdp_per_capita, code, mental_health_and_addiction (%)\n",
      "------------------------------------------------------------------------------------------\n",
      "List of regions represented in the dataset: South Asia, Central and Eastern Europe, Middle East and North Africa, nan, Commonwealth of Independent States, Latin America and Caribbean, North America and ANZ, Western Europe, Sub-Saharan Africa, Southeast Asia, East Asia\n",
      "------------------------------------------------------------------------------------------\n",
      "List of countries represented in the dataset: Afghanistan, Albania, Algeria, Andorra, Angola, Antigua and Barbuda, Azerbaijan, Argentina, Australia, Austria, Bahamas, Bahrain, Bangladesh, Armenia, Barbados, Belgium, Bhutan, Bolivia, Bosnia and Herzegovina, Botswana, Brazil, Belize, Solomon Islands, Brunei, Bulgaria, Myanmar, Burundi, Belarus, Cambodia, Cameroon, Canada, Cape Verde, Central African Republic, Sri Lanka, Chad, Chile, China, Colombia, Comoros, Congo, Democratic Republic of Congo, Costa Rica, Croatia, Cuba, Cyprus, Czechia, Benin, Denmark, Dominica, Dominican Republic, Ecuador, El Salvador, Equatorial Guinea, Ethiopia, Eritrea, Estonia, Fiji, Finland, France, Djibouti, Gabon, Georgia, Gambia, Germany, Ghana, Kiribati, Greece, Grenada, Guatemala, Guinea, Guyana, Haiti, Honduras, Hungary, Iceland, India, Indonesia, Iran, Iraq, Ireland, Israel, Italy, Cote d'Ivoire, Jamaica, Japan, Kazakhstan, Jordan, Kenya, North Korea, South Korea, Kuwait, Kyrgyzstan, Laos, Lebanon, Lesotho, Latvia, Liberia, Libya, Lithuania, Luxembourg, Madagascar, Malawi, Malaysia, Maldives, Mali, Malta, Mauritania, Mauritius, Mexico, Mongolia, Moldova, Montenegro, Morocco, Mozambique, Oman, Namibia, Nauru, Nepal, Netherlands, Vanuatu, New Zealand, Nicaragua, Niger, Nigeria, Norway, Micronesia (country), Pakistan, Panama, Papua New Guinea, Paraguay, Peru, Philippines, Poland, Portugal, Guinea-Bissau, Timor, Qatar, Romania, Russia, Rwanda, Saint Kitts and Nevis, Saint Lucia, Saint Vincent and the Grenadines, Sao Tome and Principe, Saudi Arabia, Senegal, Serbia, Seychelles, Sierra Leone, Singapore, Slovakia, Vietnam, Slovenia, Somalia, South Africa, Zimbabwe, Spain, Sudan, Suriname, Eswatini, Sweden, Switzerland, Tajikistan, Thailand, Togo, Tonga, Trinidad and Tobago, United Arab Emirates, Tunisia, Turkey, Turkmenistan, Tuvalu, Uganda, Ukraine, North Macedonia, Egypt, United Kingdom, Tanzania, United States, Burkina Faso, Uruguay, Uzbekistan, Venezuela, Samoa, Yemen, Zambia\n",
      "------------------------------------------------------------------------------------------\n",
      "Total number of countries represented in the dataset: 186\n",
      "------------------------------------------------------------------------------------------\n",
      "Overall average of alcohol consumption per capita (liters): 6.17\n",
      "------------------------------------------------------------------------------------------\n",
      "The 10 countries with the highest consumption rates of alcohol: Moldova, Lithuania, Czechia, Nigeria, Germany, Luxembourg, Ireland, Latvia, Bulgaria, Slovenia\n",
      "------------------------------------------------------------------------------------------\n",
      "The 10 countries with the lowest consumption rates of alchohol: Somalia, Mauritania, Libya, Bangladesh, Kuwait, Yemen, Afghanistan, Saudi Arabia, Pakistan, Iraq\n"
     ]
    }
   ],
   "source": [
    "print(f\"List of column names: {column_string}\")\n",
    "print(\"------------------------------------------------------------------------------------------\")\n",
    "print(f\"List of regions represented in the dataset: {regions_string}\")\n",
    "print(\"------------------------------------------------------------------------------------------\")\n",
    "print(f\"List of countries represented in the dataset: {countries_string}\")\n",
    "print(\"------------------------------------------------------------------------------------------\")\n",
    "print(f\"Total number of countries represented in the dataset: {total_countries}\")\n",
    "print(\"------------------------------------------------------------------------------------------\")\n",
    "print(f\"Overall average of alcohol consumption per capita (liters): {formatted_consumption}\") \n",
    "print(\"------------------------------------------------------------------------------------------\")\n",
    "print(\"The 10 countries with the highest consumption rates of alcohol: \" + \", \".join(most_alcohol))\n",
    "print(\"------------------------------------------------------------------------------------------\")\n",
    "print(\"The 10 countries with the lowest consumption rates of alchohol: \" + \", \".join(least_alcohol)) \n",
    "\n"
   ]
  },
  {
   "cell_type": "markdown",
   "metadata": {},
   "source": [
    "## Part Three  - Consumption & Geography -  Continent "
   ]
  },
  {
   "cell_type": "markdown",
   "metadata": {},
   "source": [
    "#### Use a for loop to find consumption averages by continent"
   ]
  },
  {
   "cell_type": "code",
   "execution_count": null,
   "metadata": {},
   "outputs": [],
   "source": [
    "# Create containers to hold aggregate values for each continent in for loop\n",
    "continent = ['Africa', 'Asia', 'Europe', 'North America', 'South America', 'Oceania'] \n",
    "segment_values = []\n",
    "number_countries = []\n",
    "\n",
    "# Filter each segment from our list 'continent' in the dataframe\n",
    "for continent in continent:\n",
    "    df = country_subset.loc[country_subset[\"continent\"] == continent]\n",
    "    # Aggregate the consumption values for each continent in the dataframe\n",
    "    values = df['consumption_per_capita_(L)'].sum()\n",
    "    segment_values.append(values)\n",
    "    # Find number of countries for each continent in the dataframe\n",
    "    consumption_by_segment = len(df)\n",
    "    number_countries.append(consumption_by_segment)\n",
    "    # Find the average consumption for each continent\n",
    "    # Division is not a supported operation on lists so use np.array to perform a function\n",
    "    avg_consumption_by_continent = np.array([segment_values]) / np.array([number_countries])\n",
    "    \n",
    "print(avg_consumption_by_continent)\n",
    "print(segment_values)\n",
    "print(number_countries) \n",
    "\n"
   ]
  },
  {
   "cell_type": "markdown",
   "metadata": {},
   "source": [
    "#### Consumption by Continent - Asia"
   ]
  },
  {
   "cell_type": "code",
   "execution_count": null,
   "metadata": {},
   "outputs": [],
   "source": [
    "# Consumption - Asia\n",
    "asia_df = country_subset.loc[country_subset[\"continent\"] == \"Asia\"]\n",
    "asia_consumption = asia_df['consumption_per_capita_(L)'].sum()\n",
    "countries_in_asia = len(asia_df)\n",
    "\n",
    "avg_consumption_asia = asia_consumption / countries_in_asia"
   ]
  },
  {
   "cell_type": "markdown",
   "metadata": {},
   "source": [
    "#### Consumption by Continent - Oceania"
   ]
  },
  {
   "cell_type": "code",
   "execution_count": null,
   "metadata": {},
   "outputs": [],
   "source": [
    "# Consumption - Oceania\n",
    "oceania_df = country_subset.loc[country_subset[\"continent\"] == \"Oceania\"]\n",
    "oceania_consumption = asia_df['consumption_per_capita_(L)'].sum()\n",
    "countries_in_oceania = len(oceania_df)\n",
    "\n",
    "avg_consumption_oceania = oceania_consumption / countries_in_oceania"
   ]
  },
  {
   "cell_type": "markdown",
   "metadata": {},
   "source": [
    "#### Consumption by Continent - Africa"
   ]
  },
  {
   "cell_type": "code",
   "execution_count": null,
   "metadata": {},
   "outputs": [],
   "source": [
    "# Consumption - Africa\n",
    "africa_df = country_subset.loc[country_subset[\"continent\"] == \"Africa\"]\n",
    "africa_consumption = africa_df['consumption_per_capita_(L)'].sum()\n",
    "countries_in_africa = len(africa_df)\n",
    "\n",
    "avg_consumption_africa = africa_consumption / countries_in_africa"
   ]
  },
  {
   "cell_type": "markdown",
   "metadata": {},
   "source": [
    "#### Consumption by Continent - North America"
   ]
  },
  {
   "cell_type": "code",
   "execution_count": null,
   "metadata": {},
   "outputs": [],
   "source": [
    "# Consumption - North America\n",
    "north_america_df = country_subset.loc[country_subset[\"continent\"] == \"North America\"]\n",
    "north_america_consumption = north_america_df['consumption_per_capita_(L)'].sum()\n",
    "countries_in_north_america = len(north_america_df)\n",
    "\n",
    "avg_consumption_north_america = north_america_consumption / countries_in_north_america"
   ]
  },
  {
   "cell_type": "markdown",
   "metadata": {},
   "source": [
    "#### Consumption by Continent - Europe"
   ]
  },
  {
   "cell_type": "code",
   "execution_count": null,
   "metadata": {},
   "outputs": [],
   "source": [
    "# Consumption - Europe\n",
    "europe_df = country_subset.loc[country_subset[\"continent\"] == \"Europe\"]\n",
    "europe_consumption = europe_df['consumption_per_capita_(L)'].sum()\n",
    "countries_in_europe = len(europe_df)\n",
    "\n",
    "avg_consumption_europe = europe_consumption / countries_in_europe"
   ]
  },
  {
   "cell_type": "markdown",
   "metadata": {},
   "source": [
    "#### Consumption by Continent - South America"
   ]
  },
  {
   "cell_type": "code",
   "execution_count": null,
   "metadata": {},
   "outputs": [],
   "source": [
    "# Consumption - South America\n",
    "south_america_df = country_subset.loc[country_subset[\"continent\"] == \"South America\"]\n",
    "south_america_consumption = south_america_df['consumption_per_capita_(L)'].sum()\n",
    "countries_in_south_america = len(south_america_df)\n",
    "\n",
    "avg_consumption_south_america = south_america_consumption / countries_in_south_america"
   ]
  },
  {
   "cell_type": "markdown",
   "metadata": {},
   "source": [
    "#### Consumption by Continent -  Summary"
   ]
  },
  {
   "cell_type": "code",
   "execution_count": null,
   "metadata": {},
   "outputs": [],
   "source": [
    "print(avg_consumption_asia)\n",
    "print(avg_consumption_oceania)\n",
    "print(avg_consumption_africa)\n",
    "print(avg_consumption_north_america)\n",
    "print(avg_consumption_europe)\n",
    "print(avg_consumption_south_america)"
   ]
  },
  {
   "cell_type": "markdown",
   "metadata": {},
   "source": [
    "#### Consumption by Continent - Bar Graph "
   ]
  },
  {
   "cell_type": "code",
   "execution_count": null,
   "metadata": {},
   "outputs": [],
   "source": [
    "# Define x and y axis\n",
    "y = [avg_consumption_asia, avg_consumption_oceania, avg_consumption_africa, avg_consumption_north_america, avg_consumption_europe, avg_consumption_south_america ]\n",
    "x = np.arange(len(y)) \n",
    "\n",
    "# Plot bar graph\n",
    "plt.bar(x, y, color='r', alpha=0.5, align=\"center\")\n",
    "\n",
    "# Add Labels\n",
    "tick_locations = [value for value in x]\n",
    "plt.xticks(tick_locations, [\"Asia\", \"Oceania\", \"Africa\", \"North America\", \"Europe\", \"South America\"])\n",
    "plt.title(\"Alcohol Consumption By Continent\")\n",
    "plt.xlabel(\"Continent\")\n",
    "plt.ylabel(\"Average Alcohol Consumption Per Capita (Liters)\")"
   ]
  },
  {
   "cell_type": "markdown",
   "metadata": {},
   "source": [
    "###  Part Three  - Consumption & Geography - Region "
   ]
  },
  {
   "cell_type": "markdown",
   "metadata": {},
   "source": [
    "#### Use a for loop to find consumption averages by region"
   ]
  },
  {
   "cell_type": "code",
   "execution_count": null,
   "metadata": {},
   "outputs": [],
   "source": [
    "country_subset[\"region\"].value_counts()"
   ]
  },
  {
   "cell_type": "code",
   "execution_count": null,
   "metadata": {},
   "outputs": [],
   "source": [
    "# Create containers to hold aggregate values for each continent in for loop\n",
    "region = ['Sub-Saharan Africa ', 'Latin America and Caribbean', 'Western Europe', 'Middle East and North Africa',\n",
    "          'Central and Eastern Europe', 'Commonwealth of Independent States', 'Southeast Asia',\n",
    "          'North America and ANZ','East Asia'] \n",
    "segment_values = []\n",
    "number_countries = []\n",
    "\n",
    "# Filter each segment from our list 'continent' in the dataframe\n",
    "for continent in continent:\n",
    "    df = country_subset.loc[country_subset[\"continent\"] == continent]\n",
    "    # Aggregate the consumption values for each continent in the dataframe\n",
    "    values = df['consumption_per_capita_(L)'].sum()\n",
    "    segment_values.append(values)\n",
    "    # Find number of countries for each continent in the dataframe\n",
    "    consumption_by_segment = len(df)\n",
    "    number_countries.append(consumption_by_segment)\n",
    "    # Find the average consumption for each continent\n",
    "    # Division is not a supported operation on lists so use np.array to perform a function\n",
    "    avg_consumption_by_region = np.array([segment_values]) / np.array([number_countries])\n",
    "    \n",
    "print(avg_consumption_by_region)\n",
    "print(segment_values)\n",
    "print(number_countries) "
   ]
  },
  {
   "cell_type": "code",
   "execution_count": null,
   "metadata": {},
   "outputs": [],
   "source": []
  },
  {
   "cell_type": "code",
   "execution_count": null,
   "metadata": {},
   "outputs": [],
   "source": []
  },
  {
   "cell_type": "markdown",
   "metadata": {},
   "source": [
    "###  Part Four  - Economy - Major Exports\n"
   ]
  },
  {
   "cell_type": "code",
   "execution_count": null,
   "metadata": {},
   "outputs": [],
   "source": [
    "import re \n",
    "txt = \"The rain in Spain\"\n",
    "x = re.findall(\"ai\", txt)"
   ]
  },
  {
   "cell_type": "code",
   "execution_count": null,
   "metadata": {},
   "outputs": [],
   "source": [
    "df_11 = df_11.reset_index()\n",
    "\n",
    "df_11"
   ]
  },
  {
   "cell_type": "code",
   "execution_count": null,
   "metadata": {},
   "outputs": [],
   "source": [
    "# Look for trends \n",
    "df_11['main_export'].value_counts() "
   ]
  },
  {
   "cell_type": "markdown",
   "metadata": {},
   "source": [
    "#### Clean Data"
   ]
  },
  {
   "cell_type": "code",
   "execution_count": null,
   "metadata": {},
   "outputs": [],
   "source": [
    "# Merge all exports related to oil and petroleum\n",
    "df_11['main_export'] = df_11['main_export'].replace({\"Crude oil\": \"Oil\"}) \n",
    "df_11['main_export'] = df_11.loc['main_export'].replace({\"Petroleum\": \"Oil\"}) \n",
    "# df_11['main_export'] = df_11.loc['main_export'].replace({\"Crude oil and petroleum products\": \"Oil\"}) \n",
    "# df_11['main_export'] = df_11.loc['main_export'].replace({\"Oil and gas\": \"Oil\"}) \n",
    "# df_11['main_export'] = df_11.loc['main_export'].replace({\"Fuels and fuel products\": \"Oil\"}) \n",
    "# df_11['main_export'] = df_11.loc['main_export'].replace({\"Petroleum and petroleum products\": \"Oil\"}) \n",
    "\n",
    "# # Merge all exports related to electronics\n",
    "# df_11['main_export'] = df_11.loc['main_export'].replace({\"Electronic equipment\": \"Electronic products\"}) \n",
    "  \n",
    "#.loc[row_index,col_indexer]"
   ]
  },
  {
   "cell_type": "code",
   "execution_count": null,
   "metadata": {},
   "outputs": [],
   "source": [
    "df_11"
   ]
  },
  {
   "cell_type": "markdown",
   "metadata": {},
   "source": [
    "###  Part Four  - Economy - Industry\n"
   ]
  },
  {
   "cell_type": "code",
   "execution_count": null,
   "metadata": {},
   "outputs": [],
   "source": [
    "df_8.columns"
   ]
  },
  {
   "cell_type": "markdown",
   "metadata": {},
   "source": [
    "### Part Five - Correlation & Regression"
   ]
  },
  {
   "cell_type": "code",
   "execution_count": null,
   "metadata": {},
   "outputs": [],
   "source": [
    "# Explore potential relationships by creating correlation matrix\n",
    "from matplotlib.pyplot import figure\n",
    "\n",
    "df_8_corr = df_8.corr()\n",
    "df_8_corr.unstack().sort_values()\n",
    "\n",
    "plt.rcParams['figure.figsize'] = (15.0, 10.0)\n",
    "figure = (sn.heatmap(df_8_corr, annot=True,))\n",
    "\n"
   ]
  },
  {
   "cell_type": "code",
   "execution_count": null,
   "metadata": {},
   "outputs": [],
   "source": []
  },
  {
   "cell_type": "code",
   "execution_count": null,
   "metadata": {},
   "outputs": [],
   "source": [
    "# Save Data to csv\n",
    "df_10.to_csv(\"mega_df.csv\")\n"
   ]
  },
  {
   "cell_type": "code",
   "execution_count": null,
   "metadata": {},
   "outputs": [],
   "source": []
  }
 ],
 "metadata": {
  "kernelspec": {
   "display_name": "Python 3",
   "language": "python",
   "name": "python3"
  },
  "language_info": {
   "codemirror_mode": {
    "name": "ipython",
    "version": 3
   },
   "file_extension": ".py",
   "mimetype": "text/x-python",
   "name": "python",
   "nbconvert_exporter": "python",
   "pygments_lexer": "ipython3",
   "version": "3.8.5"
  }
 },
 "nbformat": 4,
 "nbformat_minor": 4
}
