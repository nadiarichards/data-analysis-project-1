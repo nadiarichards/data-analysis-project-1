{
 "cells": [
  {
   "cell_type": "markdown",
   "metadata": {},
   "source": [
    "## Part One"
   ]
  },
  {
   "cell_type": "markdown",
   "metadata": {},
   "source": [
    "### Set Up"
   ]
  },
  {
   "cell_type": "code",
   "execution_count": 1,
   "metadata": {},
   "outputs": [],
   "source": [
    "import matplotlib.pyplot as plt\n",
    "import pandas as pd\n",
    "import scipy.stats as st\n",
    "import numpy as np\n",
    "from IPython.display import display\n",
    "import seaborn as sn"
   ]
  },
  {
   "cell_type": "code",
   "execution_count": 53,
   "metadata": {},
   "outputs": [],
   "source": [
    "# Files to Load \n",
    "continent_file = \"Resources/continent_code.csv\"\n",
    "climate_file = \"Resources/country_climate.csv\"\n",
    "export_file = \"Resources/country_export.csv\"\n",
    "industry_file = \"Resources/country_industry.csv\"\n",
    "consumption_file = \"Resources/country_consumption.csv\"\n",
    "happiness_file = \"Resources/country_happiness.csv\"\n",
    "mental_health_file = \"Resources/mental_health.csv\"\n",
    "\n",
    "# Read csv and store into Pandas DataFrames\n",
    "continent_data = pd.read_csv(continent_file)\n",
    "climate_data = pd.read_csv(climate_file)\n",
    "export_data = pd.read_csv(export_file)\n",
    "industry_data = pd.read_csv(industry_file)\n",
    "consumption_data = pd.read_csv(consumption_file)\n",
    "happiness_data = pd.read_csv(happiness_file)\n",
    "mental_health_data = pd.read_csv(mental_health_file)"
   ]
  },
  {
   "cell_type": "markdown",
   "metadata": {},
   "source": [
    "### Clean Dataframes "
   ]
  },
  {
   "cell_type": "code",
   "execution_count": 54,
   "metadata": {},
   "outputs": [],
   "source": [
    "# Clean Dataframes before merge - continent_df\n",
    "continent_df = continent_data[[\"Continent_Name\",\"Three_Letter_Country_Code\"]] \n",
    "continent_df = continent_df.rename(columns={\"Three_Letter_Country_Code\": \"country_code\", \"Continent_Name\": \"continent\" })\n",
    "\n",
    "# Clean Dataframes before merge - climate_df\n",
    "climate_df = climate_data[[\"COUNTRY\",\"CLIMATE\"]]\n",
    "climate_df  = climate_df.rename(columns={\"COUNTRY\": \"country\", \"CLIMATE\": \"climate\" })\n",
    "\n",
    "# Clean Dataframes before merge - consumption_df \n",
    "consumption_df  = consumption_data.rename(columns={\"Entity\": \"country\", \"Code\": \"country_code\", \n",
    "                                                   \"Total alcohol consumption per capita (liters of pure alcohol, projected estimates, 15+ years of age)\": \"consumption_per_capita_(L)\"})\n",
    "\n",
    "# Clean Dataframes before merge - happiness_df \n",
    "happiness_df = happiness_data[[\"Country name\", \"Regional indicator\", \"Ladder score\", \"Healthy life expectancy\",\"Logged GDP per capita\"]]\n",
    "happiness_df = happiness_df.rename(columns= {\"Country name\": \"country\", \"Regional indicator\": \"region\", \"Ladder score\": \"happy_score\", \"Healthy life expectancy\": \"life_expectancy\", \"Logged GDP per capita\" : \"gdp_per_capita\"})\n",
    " "
   ]
  },
  {
   "cell_type": "code",
   "execution_count": 77,
   "metadata": {},
   "outputs": [
    {
     "data": {
      "text/html": [
       "<div>\n",
       "<style scoped>\n",
       "    .dataframe tbody tr th:only-of-type {\n",
       "        vertical-align: middle;\n",
       "    }\n",
       "\n",
       "    .dataframe tbody tr th {\n",
       "        vertical-align: top;\n",
       "    }\n",
       "\n",
       "    .dataframe thead th {\n",
       "        text-align: right;\n",
       "    }\n",
       "</style>\n",
       "<table border=\"1\" class=\"dataframe\">\n",
       "  <thead>\n",
       "    <tr style=\"text-align: right;\">\n",
       "      <th></th>\n",
       "      <th>code</th>\n",
       "      <th>mental_health_and_addiction (%)</th>\n",
       "    </tr>\n",
       "    <tr>\n",
       "      <th>country</th>\n",
       "      <th></th>\n",
       "      <th></th>\n",
       "    </tr>\n",
       "  </thead>\n",
       "  <tbody>\n",
       "    <tr>\n",
       "      <th>Afghanistan</th>\n",
       "      <td>AFG</td>\n",
       "      <td>17.553463</td>\n",
       "    </tr>\n",
       "    <tr>\n",
       "      <th>Albania</th>\n",
       "      <td>ALB</td>\n",
       "      <td>10.987610</td>\n",
       "    </tr>\n",
       "    <tr>\n",
       "      <th>Algeria</th>\n",
       "      <td>DZA</td>\n",
       "      <td>14.700388</td>\n",
       "    </tr>\n",
       "    <tr>\n",
       "      <th>American Samoa</th>\n",
       "      <td>ASM</td>\n",
       "      <td>10.822003</td>\n",
       "    </tr>\n",
       "    <tr>\n",
       "      <th>Andorra</th>\n",
       "      <td>AND</td>\n",
       "      <td>14.726869</td>\n",
       "    </tr>\n",
       "    <tr>\n",
       "      <th>...</th>\n",
       "      <td>...</td>\n",
       "      <td>...</td>\n",
       "    </tr>\n",
       "    <tr>\n",
       "      <th>Venezuela</th>\n",
       "      <td>VEN</td>\n",
       "      <td>11.014506</td>\n",
       "    </tr>\n",
       "    <tr>\n",
       "      <th>Vietnam</th>\n",
       "      <td>VNM</td>\n",
       "      <td>10.847799</td>\n",
       "    </tr>\n",
       "    <tr>\n",
       "      <th>Yemen</th>\n",
       "      <td>YEM</td>\n",
       "      <td>15.819471</td>\n",
       "    </tr>\n",
       "    <tr>\n",
       "      <th>Zambia</th>\n",
       "      <td>ZMB</td>\n",
       "      <td>12.192107</td>\n",
       "    </tr>\n",
       "    <tr>\n",
       "      <th>Zimbabwe</th>\n",
       "      <td>ZWE</td>\n",
       "      <td>11.332744</td>\n",
       "    </tr>\n",
       "  </tbody>\n",
       "</table>\n",
       "<p>195 rows × 2 columns</p>\n",
       "</div>"
      ],
      "text/plain": [
       "               code  mental_health_and_addiction (%)\n",
       "country                                             \n",
       "Afghanistan     AFG                        17.553463\n",
       "Albania         ALB                        10.987610\n",
       "Algeria         DZA                        14.700388\n",
       "American Samoa  ASM                        10.822003\n",
       "Andorra         AND                        14.726869\n",
       "...             ...                              ...\n",
       "Venezuela       VEN                        11.014506\n",
       "Vietnam         VNM                        10.847799\n",
       "Yemen           YEM                        15.819471\n",
       "Zambia          ZMB                        12.192107\n",
       "Zimbabwe        ZWE                        11.332744\n",
       "\n",
       "[195 rows x 2 columns]"
      ]
     },
     "execution_count": 77,
     "metadata": {},
     "output_type": "execute_result"
    }
   ],
   "source": [
    "# Clean Dataframes before merge - wellness_df\n",
    "wellness_df = mental_health_data.rename(columns={\"Entity\":\"country\", \"Code\": \"code\", \"Year\": \"year\", \n",
    "                                                 \"Prevalence - Mental and substance use disorders - Sex: Both - Age: Age-standardized (Percent)\": \"mental_health_and_addiction (%)\"})\n",
    "to_drop = [\"Andean Latin America\", \"Australasia\", \"Caribbean\", \"Central Asia\", \"Central Europe\", \"Central Europe, Eastern Europe, and Central Asia\",\n",
    "            \"Central Latin America\", \"Central Sub-Saharan Africa\", \"East Asia\", \"Eastern Europe\", \"Eastern Sub-Saharan Africa\",\n",
    "            \"England\", \"High SDI\", \"High Income\", \"High-income Asia Pacific\", \"High-middle SDI\", \"Latin America and Caribbean\",\n",
    "            \"Low SDI\", \"Low-middle SDI\", \"Middle SDI\", \"North Africa and Middle East\", \"North America\", \"Northern Ireland\", \"Oceania\",\n",
    "            \"Scotland\", \"South Asia\", \"Southeast Asia\", \"Southeast Asia, East Asia, and Oceania\", \"Southern Latin America\", \n",
    "            \"Southern Sub-Saharan Africa\", \"Sub-Saharan Africa\", \"Tropical Latin America\", \"Wales\", \"Western Europe\", \"Western Sub-Saharan Africa\",\n",
    "            \"World\"] \n",
    "wellness_df = wellness_df[~wellness_df['country'].isin(to_drop)]\n",
    "wellness_df = wellness_df[wellness_df['code'].notna()]\n",
    "\n",
    "# Create a new dataframe to show the avg percentage of mental health and addiction observed for each country\n",
    "wellness_subset = wellness_df.groupby(['code'])\n",
    "average_wellness_df = wellness_subset.mean()\n",
    "country_mask = wellness_df.groupby(\"country\")\n",
    "wellness_df = country_mask.first() \n",
    "\n",
    "wellness_df = wellness_df.drop(columns=['year'])\n",
    "\n",
    "wellness_df"
   ]
  },
  {
   "cell_type": "markdown",
   "metadata": {},
   "source": [
    "### Merge DataFrames\n",
    "* df_2 = continent_df + consumption_df\n",
    "* df_3 = continent_df + consumption_df + climate_df\n",
    "* df_4 = continent_df + consumption_df + climate_df + export_data\n",
    "* df_5 = continent_df + consumption_df + climate_df + export_data + industry_data\n",
    "* df_6 = continent_df + consumption_df + climate_df + export_data + industry_data + happiness_df\n",
    "* df_7 = continent_df + consumption_df + climate_df + export_data + industry_data + happiness_df + wellness_df"
   ]
  },
  {
   "cell_type": "code",
   "execution_count": 79,
   "metadata": {},
   "outputs": [],
   "source": [
    "# Combine the data into a single dataset. Identify/eliminate incomplete rows  \n",
    "df_2 = pd.merge(continent_df, consumption_df, how=\"outer\", on=[\"country_code\", \"country_code\"])  \n",
    "# df_2.count() \n",
    "# df_2 = df_2.dropna(how='any')\n",
    "\n",
    "df_3 = pd.merge(df_2, climate_df, how=\"outer\", on=[\"country\", \"country\"]) \n",
    "\n",
    "df_4 = pd.merge(df_3, export_data, how=\"outer\", on=[\"country\", \"country\"]) \n",
    "\n",
    "df_5 = pd.merge(df_4, industry_data, how=\"outer\", on=[\"country\", \"country\"]) \n",
    "\n",
    "df_6 = pd.merge(df_5, happiness_df, how=\"outer\", on=[\"country\", \"country\"]) \n",
    "\n",
    "df_7 = pd.merge(df_6, wellness_df, how=\"outer\", on=[\"country\", \"country\"]) \n",
    "\n"
   ]
  },
  {
   "cell_type": "code",
   "execution_count": 80,
   "metadata": {},
   "outputs": [
    {
     "data": {
      "text/plain": [
       "continent                          4937\n",
       "country_code                       4754\n",
       "country                             485\n",
       "consumption_per_capita_(L)          378\n",
       "climate                            3637\n",
       "main_export                         196\n",
       "main_industry                       240\n",
       "region                              160\n",
       "happy_score                         160\n",
       "life_expectancy                     160\n",
       "gdp_per_capita                      160\n",
       "code                                202\n",
       "mental_health_and_addiction (%)     202\n",
       "dtype: int64"
      ]
     },
     "execution_count": 80,
     "metadata": {},
     "output_type": "execute_result"
    }
   ],
   "source": [
    "# Remove all rows where continent == 'Antartica'\n",
    "to_drop = ['Antarctica']\n",
    "df_8 = df_7[~df_7['continent'].isin(to_drop)]\n",
    "\n",
    "df_8.count() \n"
   ]
  },
  {
   "cell_type": "code",
   "execution_count": 81,
   "metadata": {},
   "outputs": [
    {
     "data": {
      "text/plain": [
       "continent                          377\n",
       "country_code                       194\n",
       "country                            378\n",
       "consumption_per_capita_(L)         378\n",
       "climate                            188\n",
       "main_export                        172\n",
       "main_industry                      183\n",
       "region                             148\n",
       "happy_score                        148\n",
       "life_expectancy                    148\n",
       "gdp_per_capita                     148\n",
       "code                               190\n",
       "mental_health_and_addiction (%)    190\n",
       "dtype: int64"
      ]
     },
     "execution_count": 81,
     "metadata": {},
     "output_type": "execute_result"
    }
   ],
   "source": [
    "# Remove all rows where there is no value for alcohol consumption \n",
    "df_9 = df_8[df_8['consumption_per_capita_(L)'].notna()] \n",
    "df_9.count() \n"
   ]
  },
  {
   "cell_type": "code",
   "execution_count": 82,
   "metadata": {},
   "outputs": [
    {
     "data": {
      "text/plain": [
       "continent                          193\n",
       "country_code                       193\n",
       "country                            193\n",
       "consumption_per_capita_(L)         193\n",
       "climate                            183\n",
       "main_export                        172\n",
       "main_industry                      183\n",
       "region                             148\n",
       "happy_score                        148\n",
       "life_expectancy                    148\n",
       "gdp_per_capita                     148\n",
       "code                               190\n",
       "mental_health_and_addiction (%)    190\n",
       "dtype: int64"
      ]
     },
     "execution_count": 82,
     "metadata": {},
     "output_type": "execute_result"
    }
   ],
   "source": [
    "# Remove all non-countries within 'country' column\n",
    "to_drop = ['Arab World', 'Caribbean small states', 'Central Europe and the Baltics', 'Early-demographic dividend',\n",
    "          'East Asia & Pacific', 'East Asia & Pacific (IDA & IBRD)', 'East Asia & Pacific (excluding high income)',\n",
    "          'Euro area', 'Europe & Central Asia', 'Europe & Central Asia (IDA & IBRD)', 'Europe & Central Asia (excluding high income)',\n",
    "          'European Union', 'Fragile and conflict affected situations', 'Heavily indebted poor countries (HIPC)', 'High income',\n",
    "          'IBRD only', 'IDA & IBRD total', 'IDA blend', 'IDA only', 'IDA total', 'Late-demographic dividend', 'Latin America & Caribbean', 'Latin America & Caribbean (IDA & IBRD)', 'Latin America & Caribbean (excluding high income)',\n",
    "          'Least developed countries: UN classification', 'Low & middle income', 'Low income', 'Lower middle income','Middle East & North Africa', 'Middle East & North Africa (IDA & IBRD)','Middle East & North Africa (excluding high income)',\n",
    "          'Middle income', 'North America', 'OECD members', 'Other small states', 'Pacific island small states',\n",
    "          'Post-demographic dividend', 'Pre-demographic dividend','Small states', 'South Asia', 'South Asia (IDA & IBRD)',\n",
    "          'Sub-Saharan Africa', 'Sub-Saharan Africa (IDA & IBRD)', 'Sub-Saharan Africa (excluding high income)',\n",
    "          'Syrian Arab Republic', 'Upper middle income', 'World']\n",
    "df_10 = df_9[~df_9['country'].isin(to_drop)]\n",
    "\n",
    "df_10.count() \n"
   ]
  },
  {
   "cell_type": "code",
   "execution_count": 83,
   "metadata": {},
   "outputs": [
    {
     "data": {
      "text/html": [
       "<div>\n",
       "<style scoped>\n",
       "    .dataframe tbody tr th:only-of-type {\n",
       "        vertical-align: middle;\n",
       "    }\n",
       "\n",
       "    .dataframe tbody tr th {\n",
       "        vertical-align: top;\n",
       "    }\n",
       "\n",
       "    .dataframe thead th {\n",
       "        text-align: right;\n",
       "    }\n",
       "</style>\n",
       "<table border=\"1\" class=\"dataframe\">\n",
       "  <thead>\n",
       "    <tr style=\"text-align: right;\">\n",
       "      <th></th>\n",
       "      <th>continent</th>\n",
       "      <th>country_code</th>\n",
       "      <th>country</th>\n",
       "      <th>consumption_per_capita_(L)</th>\n",
       "      <th>climate</th>\n",
       "      <th>main_export</th>\n",
       "      <th>main_industry</th>\n",
       "      <th>region</th>\n",
       "      <th>happy_score</th>\n",
       "      <th>life_expectancy</th>\n",
       "      <th>gdp_per_capita</th>\n",
       "      <th>code</th>\n",
       "      <th>mental_health_and_addiction (%)</th>\n",
       "    </tr>\n",
       "  </thead>\n",
       "  <tbody>\n",
       "    <tr>\n",
       "      <th>0</th>\n",
       "      <td>Asia</td>\n",
       "      <td>AFG</td>\n",
       "      <td>Afghanistan</td>\n",
       "      <td>0.2</td>\n",
       "      <td>arid to semiarid; cold winters and hot summers</td>\n",
       "      <td>Fruit and nuts</td>\n",
       "      <td>small-scale production of bricks</td>\n",
       "      <td>South Asia</td>\n",
       "      <td>2.5669</td>\n",
       "      <td>52.590000</td>\n",
       "      <td>7.462861</td>\n",
       "      <td>AFG</td>\n",
       "      <td>17.553463</td>\n",
       "    </tr>\n",
       "    <tr>\n",
       "      <th>1</th>\n",
       "      <td>Europe</td>\n",
       "      <td>ALB</td>\n",
       "      <td>Albania</td>\n",
       "      <td>7.5</td>\n",
       "      <td>mild temperate; cool, cloudy, wet winters; hot...</td>\n",
       "      <td>Chromium and chrome products</td>\n",
       "      <td>perfumes and cosmetic products</td>\n",
       "      <td>Central and Eastern Europe</td>\n",
       "      <td>4.8827</td>\n",
       "      <td>68.708138</td>\n",
       "      <td>9.417931</td>\n",
       "      <td>ALB</td>\n",
       "      <td>10.987610</td>\n",
       "    </tr>\n",
       "    <tr>\n",
       "      <th>4942</th>\n",
       "      <td>Africa</td>\n",
       "      <td>DZA</td>\n",
       "      <td>Algeria</td>\n",
       "      <td>0.9</td>\n",
       "      <td>arid to semiarid; mild, wet winters with hot, ...</td>\n",
       "      <td>Oil</td>\n",
       "      <td>petroleum</td>\n",
       "      <td>Middle East and North Africa</td>\n",
       "      <td>5.0051</td>\n",
       "      <td>65.905174</td>\n",
       "      <td>9.537965</td>\n",
       "      <td>DZA</td>\n",
       "      <td>14.700388</td>\n",
       "    </tr>\n",
       "    <tr>\n",
       "      <th>4943</th>\n",
       "      <td>Europe</td>\n",
       "      <td>AND</td>\n",
       "      <td>Andorra</td>\n",
       "      <td>11.3</td>\n",
       "      <td>temperate; snowy, cold winters and warm, dry s...</td>\n",
       "      <td>Tobacco products</td>\n",
       "      <td>tourism</td>\n",
       "      <td>NaN</td>\n",
       "      <td>NaN</td>\n",
       "      <td>NaN</td>\n",
       "      <td>NaN</td>\n",
       "      <td>AND</td>\n",
       "      <td>14.726869</td>\n",
       "    </tr>\n",
       "    <tr>\n",
       "      <th>4944</th>\n",
       "      <td>Africa</td>\n",
       "      <td>AGO</td>\n",
       "      <td>Angola</td>\n",
       "      <td>6.4</td>\n",
       "      <td>semiarid in south and along coast to Luanda; n...</td>\n",
       "      <td>Oil</td>\n",
       "      <td>petroleum</td>\n",
       "      <td>NaN</td>\n",
       "      <td>NaN</td>\n",
       "      <td>NaN</td>\n",
       "      <td>NaN</td>\n",
       "      <td>AGO</td>\n",
       "      <td>12.498281</td>\n",
       "    </tr>\n",
       "  </tbody>\n",
       "</table>\n",
       "</div>"
      ],
      "text/plain": [
       "     continent country_code      country  consumption_per_capita_(L)  \\\n",
       "0         Asia          AFG  Afghanistan                         0.2   \n",
       "1       Europe          ALB      Albania                         7.5   \n",
       "4942    Africa          DZA      Algeria                         0.9   \n",
       "4943    Europe          AND      Andorra                        11.3   \n",
       "4944    Africa          AGO       Angola                         6.4   \n",
       "\n",
       "                                                climate  \\\n",
       "0        arid to semiarid; cold winters and hot summers   \n",
       "1     mild temperate; cool, cloudy, wet winters; hot...   \n",
       "4942  arid to semiarid; mild, wet winters with hot, ...   \n",
       "4943  temperate; snowy, cold winters and warm, dry s...   \n",
       "4944  semiarid in south and along coast to Luanda; n...   \n",
       "\n",
       "                       main_export                     main_industry  \\\n",
       "0                   Fruit and nuts  small-scale production of bricks   \n",
       "1     Chromium and chrome products    perfumes and cosmetic products   \n",
       "4942                           Oil                         petroleum   \n",
       "4943              Tobacco products                          tourism    \n",
       "4944                           Oil                         petroleum   \n",
       "\n",
       "                            region  happy_score  life_expectancy  \\\n",
       "0                       South Asia       2.5669        52.590000   \n",
       "1       Central and Eastern Europe       4.8827        68.708138   \n",
       "4942  Middle East and North Africa       5.0051        65.905174   \n",
       "4943                           NaN          NaN              NaN   \n",
       "4944                           NaN          NaN              NaN   \n",
       "\n",
       "      gdp_per_capita code  mental_health_and_addiction (%)  \n",
       "0           7.462861  AFG                        17.553463  \n",
       "1           9.417931  ALB                        10.987610  \n",
       "4942        9.537965  DZA                        14.700388  \n",
       "4943             NaN  AND                        14.726869  \n",
       "4944             NaN  AGO                        12.498281  "
      ]
     },
     "execution_count": 83,
     "metadata": {},
     "output_type": "execute_result"
    }
   ],
   "source": [
    "# Remove all duplicate countries --> Azerbaijan, Armenia, Cypress, Georgia, Kazakstan, Turkey\n",
    "df_11 = df_10.drop_duplicates(subset=['country'])\n",
    "df_11.head()"
   ]
  },
  {
   "cell_type": "code",
   "execution_count": 84,
   "metadata": {},
   "outputs": [],
   "source": [
    "# Save Data to csv\n",
    "df_11.to_csv(\"mega_df.csv\")"
   ]
  },
  {
   "cell_type": "markdown",
   "metadata": {},
   "source": [
    "## Part Two - Data Summary\n",
    "\n",
    "* Calculate how many rows of data there are\n",
    "* Display a list of columns\n",
    "* Display a list of countries\n",
    "* Calculate total number of countries\n",
    "* Calculate the measures of central tendency for alcohol expenditure as a percent of total household expenditure for each country\n",
    "* Calculate the overall average alcohol expenditure as a percent of total household expenditure \n",
    "* Calculate overall average alcohol consumption\n",
    "* Calculate total years of data compiled for each country \n",
    "* Determine which year(s) have the most data \n"
   ]
  },
  {
   "cell_type": "code",
   "execution_count": null,
   "metadata": {},
   "outputs": [],
   "source": []
  },
  {
   "cell_type": "markdown",
   "metadata": {},
   "source": [
    "####  Calculate how many rows of data there are"
   ]
  },
  {
   "cell_type": "code",
   "execution_count": 85,
   "metadata": {},
   "outputs": [
    {
     "name": "stdout",
     "output_type": "stream",
     "text": [
      "The total number of rows represented in the dataset are: 186\n"
     ]
    }
   ],
   "source": [
    "total_rows = df_11.shape[0] \n",
    "print(f'The total number of rows represented in the dataset are: {total_rows}')  "
   ]
  },
  {
   "cell_type": "markdown",
   "metadata": {},
   "source": [
    "####  Display a list of columns"
   ]
  },
  {
   "cell_type": "code",
   "execution_count": 86,
   "metadata": {},
   "outputs": [
    {
     "data": {
      "text/plain": [
       "Index(['continent', 'country_code', 'country', 'consumption_per_capita_(L)',\n",
       "       'climate', 'main_export', 'main_industry', 'region', 'happy_score',\n",
       "       'life_expectancy', 'gdp_per_capita', 'code',\n",
       "       'mental_health_and_addiction (%)'],\n",
       "      dtype='object')"
      ]
     },
     "execution_count": 86,
     "metadata": {},
     "output_type": "execute_result"
    }
   ],
   "source": [
    "df_11.columns"
   ]
  },
  {
   "cell_type": "code",
   "execution_count": 87,
   "metadata": {},
   "outputs": [
    {
     "data": {
      "text/html": [
       "<div>\n",
       "<style scoped>\n",
       "    .dataframe tbody tr th:only-of-type {\n",
       "        vertical-align: middle;\n",
       "    }\n",
       "\n",
       "    .dataframe tbody tr th {\n",
       "        vertical-align: top;\n",
       "    }\n",
       "\n",
       "    .dataframe thead th {\n",
       "        text-align: right;\n",
       "    }\n",
       "</style>\n",
       "<table border=\"1\" class=\"dataframe\">\n",
       "  <thead>\n",
       "    <tr style=\"text-align: right;\">\n",
       "      <th></th>\n",
       "      <th>continent</th>\n",
       "      <th>country_code</th>\n",
       "      <th>country</th>\n",
       "      <th>consumption_per_capita_(L)</th>\n",
       "      <th>climate</th>\n",
       "      <th>main_export</th>\n",
       "      <th>main_industry</th>\n",
       "      <th>region</th>\n",
       "      <th>happy_score</th>\n",
       "      <th>life_expectancy</th>\n",
       "      <th>gdp_per_capita</th>\n",
       "      <th>code</th>\n",
       "      <th>mental_health_and_addiction (%)</th>\n",
       "    </tr>\n",
       "  </thead>\n",
       "  <tbody>\n",
       "    <tr>\n",
       "      <th>0</th>\n",
       "      <td>Asia</td>\n",
       "      <td>AFG</td>\n",
       "      <td>Afghanistan</td>\n",
       "      <td>0.2</td>\n",
       "      <td>arid to semiarid; cold winters and hot summers</td>\n",
       "      <td>Fruit and nuts</td>\n",
       "      <td>small-scale production of bricks</td>\n",
       "      <td>South Asia</td>\n",
       "      <td>2.5669</td>\n",
       "      <td>52.590000</td>\n",
       "      <td>7.462861</td>\n",
       "      <td>AFG</td>\n",
       "      <td>17.553463</td>\n",
       "    </tr>\n",
       "    <tr>\n",
       "      <th>1</th>\n",
       "      <td>Europe</td>\n",
       "      <td>ALB</td>\n",
       "      <td>Albania</td>\n",
       "      <td>7.5</td>\n",
       "      <td>mild temperate; cool, cloudy, wet winters; hot...</td>\n",
       "      <td>Chromium and chrome products</td>\n",
       "      <td>perfumes and cosmetic products</td>\n",
       "      <td>Central and Eastern Europe</td>\n",
       "      <td>4.8827</td>\n",
       "      <td>68.708138</td>\n",
       "      <td>9.417931</td>\n",
       "      <td>ALB</td>\n",
       "      <td>10.987610</td>\n",
       "    </tr>\n",
       "    <tr>\n",
       "      <th>4942</th>\n",
       "      <td>Africa</td>\n",
       "      <td>DZA</td>\n",
       "      <td>Algeria</td>\n",
       "      <td>0.9</td>\n",
       "      <td>arid to semiarid; mild, wet winters with hot, ...</td>\n",
       "      <td>Oil</td>\n",
       "      <td>petroleum</td>\n",
       "      <td>Middle East and North Africa</td>\n",
       "      <td>5.0051</td>\n",
       "      <td>65.905174</td>\n",
       "      <td>9.537965</td>\n",
       "      <td>DZA</td>\n",
       "      <td>14.700388</td>\n",
       "    </tr>\n",
       "    <tr>\n",
       "      <th>4943</th>\n",
       "      <td>Europe</td>\n",
       "      <td>AND</td>\n",
       "      <td>Andorra</td>\n",
       "      <td>11.3</td>\n",
       "      <td>temperate; snowy, cold winters and warm, dry s...</td>\n",
       "      <td>Tobacco products</td>\n",
       "      <td>tourism</td>\n",
       "      <td>NaN</td>\n",
       "      <td>NaN</td>\n",
       "      <td>NaN</td>\n",
       "      <td>NaN</td>\n",
       "      <td>AND</td>\n",
       "      <td>14.726869</td>\n",
       "    </tr>\n",
       "    <tr>\n",
       "      <th>4944</th>\n",
       "      <td>Africa</td>\n",
       "      <td>AGO</td>\n",
       "      <td>Angola</td>\n",
       "      <td>6.4</td>\n",
       "      <td>semiarid in south and along coast to Luanda; n...</td>\n",
       "      <td>Oil</td>\n",
       "      <td>petroleum</td>\n",
       "      <td>NaN</td>\n",
       "      <td>NaN</td>\n",
       "      <td>NaN</td>\n",
       "      <td>NaN</td>\n",
       "      <td>AGO</td>\n",
       "      <td>12.498281</td>\n",
       "    </tr>\n",
       "  </tbody>\n",
       "</table>\n",
       "</div>"
      ],
      "text/plain": [
       "     continent country_code      country  consumption_per_capita_(L)  \\\n",
       "0         Asia          AFG  Afghanistan                         0.2   \n",
       "1       Europe          ALB      Albania                         7.5   \n",
       "4942    Africa          DZA      Algeria                         0.9   \n",
       "4943    Europe          AND      Andorra                        11.3   \n",
       "4944    Africa          AGO       Angola                         6.4   \n",
       "\n",
       "                                                climate  \\\n",
       "0        arid to semiarid; cold winters and hot summers   \n",
       "1     mild temperate; cool, cloudy, wet winters; hot...   \n",
       "4942  arid to semiarid; mild, wet winters with hot, ...   \n",
       "4943  temperate; snowy, cold winters and warm, dry s...   \n",
       "4944  semiarid in south and along coast to Luanda; n...   \n",
       "\n",
       "                       main_export                     main_industry  \\\n",
       "0                   Fruit and nuts  small-scale production of bricks   \n",
       "1     Chromium and chrome products    perfumes and cosmetic products   \n",
       "4942                           Oil                         petroleum   \n",
       "4943              Tobacco products                          tourism    \n",
       "4944                           Oil                         petroleum   \n",
       "\n",
       "                            region  happy_score  life_expectancy  \\\n",
       "0                       South Asia       2.5669        52.590000   \n",
       "1       Central and Eastern Europe       4.8827        68.708138   \n",
       "4942  Middle East and North Africa       5.0051        65.905174   \n",
       "4943                           NaN          NaN              NaN   \n",
       "4944                           NaN          NaN              NaN   \n",
       "\n",
       "      gdp_per_capita code  mental_health_and_addiction (%)  \n",
       "0           7.462861  AFG                        17.553463  \n",
       "1           9.417931  ALB                        10.987610  \n",
       "4942        9.537965  DZA                        14.700388  \n",
       "4943             NaN  AND                        14.726869  \n",
       "4944             NaN  AGO                        12.498281  "
      ]
     },
     "execution_count": 87,
     "metadata": {},
     "output_type": "execute_result"
    }
   ],
   "source": [
    "df_11.head()"
   ]
  },
  {
   "cell_type": "markdown",
   "metadata": {},
   "source": [
    "#### Display a list of regions"
   ]
  },
  {
   "cell_type": "code",
   "execution_count": 88,
   "metadata": {},
   "outputs": [
    {
     "data": {
      "text/plain": [
       "array(['South Asia', 'Central and Eastern Europe',\n",
       "       'Middle East and North Africa', nan,\n",
       "       'Commonwealth of Independent States',\n",
       "       'Latin America and Caribbean', 'North America and ANZ',\n",
       "       'Western Europe', 'Sub-Saharan Africa', 'Southeast Asia',\n",
       "       'East Asia'], dtype=object)"
      ]
     },
     "execution_count": 88,
     "metadata": {},
     "output_type": "execute_result"
    }
   ],
   "source": [
    "df_11[\"region\"].unique()"
   ]
  },
  {
   "cell_type": "markdown",
   "metadata": {},
   "source": [
    "#### Display a list of countries"
   ]
  },
  {
   "cell_type": "code",
   "execution_count": 89,
   "metadata": {},
   "outputs": [
    {
     "data": {
      "text/plain": [
       "array(['Afghanistan', 'Albania', 'Algeria', 'Andorra', 'Angola',\n",
       "       'Antigua and Barbuda', 'Azerbaijan', 'Argentina', 'Australia',\n",
       "       'Austria', 'Bahamas', 'Bahrain', 'Bangladesh', 'Armenia',\n",
       "       'Barbados', 'Belgium', 'Bhutan', 'Bolivia',\n",
       "       'Bosnia and Herzegovina', 'Botswana', 'Brazil', 'Belize',\n",
       "       'Solomon Islands', 'Brunei', 'Bulgaria', 'Myanmar', 'Burundi',\n",
       "       'Belarus', 'Cambodia', 'Cameroon', 'Canada', 'Cape Verde',\n",
       "       'Central African Republic', 'Sri Lanka', 'Chad', 'Chile', 'China',\n",
       "       'Colombia', 'Comoros', 'Congo', 'Democratic Republic of Congo',\n",
       "       'Costa Rica', 'Croatia', 'Cuba', 'Cyprus', 'Czechia', 'Benin',\n",
       "       'Denmark', 'Dominica', 'Dominican Republic', 'Ecuador',\n",
       "       'El Salvador', 'Equatorial Guinea', 'Ethiopia', 'Eritrea',\n",
       "       'Estonia', 'Fiji', 'Finland', 'France', 'Djibouti', 'Gabon',\n",
       "       'Georgia', 'Gambia', 'Germany', 'Ghana', 'Kiribati', 'Greece',\n",
       "       'Grenada', 'Guatemala', 'Guinea', 'Guyana', 'Haiti', 'Honduras',\n",
       "       'Hungary', 'Iceland', 'India', 'Indonesia', 'Iran', 'Iraq',\n",
       "       'Ireland', 'Israel', 'Italy', \"Cote d'Ivoire\", 'Jamaica', 'Japan',\n",
       "       'Kazakhstan', 'Jordan', 'Kenya', 'North Korea', 'South Korea',\n",
       "       'Kuwait', 'Kyrgyzstan', 'Laos', 'Lebanon', 'Lesotho', 'Latvia',\n",
       "       'Liberia', 'Libya', 'Lithuania', 'Luxembourg', 'Madagascar',\n",
       "       'Malawi', 'Malaysia', 'Maldives', 'Mali', 'Malta', 'Mauritania',\n",
       "       'Mauritius', 'Mexico', 'Mongolia', 'Moldova', 'Montenegro',\n",
       "       'Morocco', 'Mozambique', 'Oman', 'Namibia', 'Nauru', 'Nepal',\n",
       "       'Netherlands', 'Vanuatu', 'New Zealand', 'Nicaragua', 'Niger',\n",
       "       'Nigeria', 'Norway', 'Micronesia (country)', 'Pakistan', 'Panama',\n",
       "       'Papua New Guinea', 'Paraguay', 'Peru', 'Philippines', 'Poland',\n",
       "       'Portugal', 'Guinea-Bissau', 'Timor', 'Qatar', 'Romania', 'Russia',\n",
       "       'Rwanda', 'Saint Kitts and Nevis', 'Saint Lucia',\n",
       "       'Saint Vincent and the Grenadines', 'Sao Tome and Principe',\n",
       "       'Saudi Arabia', 'Senegal', 'Serbia', 'Seychelles', 'Sierra Leone',\n",
       "       'Singapore', 'Slovakia', 'Vietnam', 'Slovenia', 'Somalia',\n",
       "       'South Africa', 'Zimbabwe', 'Spain', 'Sudan', 'Suriname',\n",
       "       'Eswatini', 'Sweden', 'Switzerland', 'Tajikistan', 'Thailand',\n",
       "       'Togo', 'Tonga', 'Trinidad and Tobago', 'United Arab Emirates',\n",
       "       'Tunisia', 'Turkey', 'Turkmenistan', 'Tuvalu', 'Uganda', 'Ukraine',\n",
       "       'North Macedonia', 'Egypt', 'United Kingdom', 'Tanzania',\n",
       "       'United States', 'Burkina Faso', 'Uruguay', 'Uzbekistan',\n",
       "       'Venezuela', 'Samoa', 'Yemen', 'Zambia'], dtype=object)"
      ]
     },
     "execution_count": 89,
     "metadata": {},
     "output_type": "execute_result"
    }
   ],
   "source": [
    "df_11[\"country\"].unique()"
   ]
  },
  {
   "cell_type": "markdown",
   "metadata": {},
   "source": [
    "####  Calculate the total number of countries"
   ]
  },
  {
   "cell_type": "code",
   "execution_count": 90,
   "metadata": {},
   "outputs": [
    {
     "name": "stdout",
     "output_type": "stream",
     "text": [
      "There are 186 countries represented in the dataset.\n"
     ]
    }
   ],
   "source": [
    "number_countries = df_11['country'].nunique()\n",
    "print(f\"There are {number_countries} countries represented in the dataset.\")  \n",
    "\n",
    "# Alternative method\n",
    "# unique_countries = df_8['country'].unique()\n",
    "# number_countries = len(unique_countries)"
   ]
  },
  {
   "cell_type": "markdown",
   "metadata": {},
   "source": [
    "#### Calculate the overall average alcohol consumption\n"
   ]
  },
  {
   "cell_type": "code",
   "execution_count": 91,
   "metadata": {},
   "outputs": [
    {
     "name": "stdout",
     "output_type": "stream",
     "text": [
      "The overall average of alcohol consumption per capita (liters) among countries represented in the dataset is: 6.165053763440862\n"
     ]
    }
   ],
   "source": [
    "overall_avg_consumption = df_11[\"consumption_per_capita_(L)\"].mean() \n",
    " \n",
    "print(f\"The overall average of alcohol consumption per capita (liters) among countries represented in the dataset is: {overall_avg_consumption}\")  \n"
   ]
  },
  {
   "cell_type": "markdown",
   "metadata": {},
   "source": [
    "#### Find the 10 countries that consumes the most alcohol \n"
   ]
  },
  {
   "cell_type": "code",
   "execution_count": 92,
   "metadata": {},
   "outputs": [
    {
     "data": {
      "text/html": [
       "<div>\n",
       "<style scoped>\n",
       "    .dataframe tbody tr th:only-of-type {\n",
       "        vertical-align: middle;\n",
       "    }\n",
       "\n",
       "    .dataframe tbody tr th {\n",
       "        vertical-align: top;\n",
       "    }\n",
       "\n",
       "    .dataframe thead th {\n",
       "        text-align: right;\n",
       "    }\n",
       "</style>\n",
       "<table border=\"1\" class=\"dataframe\">\n",
       "  <thead>\n",
       "    <tr style=\"text-align: right;\">\n",
       "      <th></th>\n",
       "      <th>consumption_per_capita_(L)</th>\n",
       "    </tr>\n",
       "    <tr>\n",
       "      <th>country</th>\n",
       "      <th></th>\n",
       "    </tr>\n",
       "  </thead>\n",
       "  <tbody>\n",
       "    <tr>\n",
       "      <th>Moldova</th>\n",
       "      <td>15.2</td>\n",
       "    </tr>\n",
       "    <tr>\n",
       "      <th>Lithuania</th>\n",
       "      <td>15.0</td>\n",
       "    </tr>\n",
       "    <tr>\n",
       "      <th>Czechia</th>\n",
       "      <td>14.4</td>\n",
       "    </tr>\n",
       "    <tr>\n",
       "      <th>Nigeria</th>\n",
       "      <td>13.4</td>\n",
       "    </tr>\n",
       "    <tr>\n",
       "      <th>Germany</th>\n",
       "      <td>13.4</td>\n",
       "    </tr>\n",
       "    <tr>\n",
       "      <th>Luxembourg</th>\n",
       "      <td>13.0</td>\n",
       "    </tr>\n",
       "    <tr>\n",
       "      <th>Ireland</th>\n",
       "      <td>13.0</td>\n",
       "    </tr>\n",
       "    <tr>\n",
       "      <th>Latvia</th>\n",
       "      <td>12.9</td>\n",
       "    </tr>\n",
       "    <tr>\n",
       "      <th>Bulgaria</th>\n",
       "      <td>12.7</td>\n",
       "    </tr>\n",
       "    <tr>\n",
       "      <th>Slovenia</th>\n",
       "      <td>12.6</td>\n",
       "    </tr>\n",
       "  </tbody>\n",
       "</table>\n",
       "</div>"
      ],
      "text/plain": [
       "            consumption_per_capita_(L)\n",
       "country                               \n",
       "Moldova                           15.2\n",
       "Lithuania                         15.0\n",
       "Czechia                           14.4\n",
       "Nigeria                           13.4\n",
       "Germany                           13.4\n",
       "Luxembourg                        13.0\n",
       "Ireland                           13.0\n",
       "Latvia                            12.9\n",
       "Bulgaria                          12.7\n",
       "Slovenia                          12.6"
      ]
     },
     "execution_count": 92,
     "metadata": {},
     "output_type": "execute_result"
    }
   ],
   "source": [
    "country_mask = df_11.groupby(\"country\")\n",
    "country_subset = country_mask.first()\n",
    "\n",
    "high_consumption = country_subset.sort_values([(\"consumption_per_capita_(L)\")], ascending=False).head(n=10)\n",
    "high_consumption.reset_index() \n",
    "\n",
    "high_consumption_series = high_consumption[\"consumption_per_capita_(L)\"]  \n",
    "high_consumption_df = pd.DataFrame(high_consumption_series)\n",
    "\n",
    "high_consumption_df"
   ]
  },
  {
   "cell_type": "markdown",
   "metadata": {},
   "source": [
    "#### Find the 10 countries that consumes the least alcohol "
   ]
  },
  {
   "cell_type": "code",
   "execution_count": 93,
   "metadata": {},
   "outputs": [
    {
     "data": {
      "text/html": [
       "<div>\n",
       "<style scoped>\n",
       "    .dataframe tbody tr th:only-of-type {\n",
       "        vertical-align: middle;\n",
       "    }\n",
       "\n",
       "    .dataframe tbody tr th {\n",
       "        vertical-align: top;\n",
       "    }\n",
       "\n",
       "    .dataframe thead th {\n",
       "        text-align: right;\n",
       "    }\n",
       "</style>\n",
       "<table border=\"1\" class=\"dataframe\">\n",
       "  <thead>\n",
       "    <tr style=\"text-align: right;\">\n",
       "      <th></th>\n",
       "      <th>consumption_per_capita_(L)</th>\n",
       "    </tr>\n",
       "    <tr>\n",
       "      <th>country</th>\n",
       "      <th></th>\n",
       "    </tr>\n",
       "  </thead>\n",
       "  <tbody>\n",
       "    <tr>\n",
       "      <th>Somalia</th>\n",
       "      <td>0.0</td>\n",
       "    </tr>\n",
       "    <tr>\n",
       "      <th>Mauritania</th>\n",
       "      <td>0.0</td>\n",
       "    </tr>\n",
       "    <tr>\n",
       "      <th>Libya</th>\n",
       "      <td>0.0</td>\n",
       "    </tr>\n",
       "    <tr>\n",
       "      <th>Bangladesh</th>\n",
       "      <td>0.0</td>\n",
       "    </tr>\n",
       "    <tr>\n",
       "      <th>Kuwait</th>\n",
       "      <td>0.0</td>\n",
       "    </tr>\n",
       "    <tr>\n",
       "      <th>Yemen</th>\n",
       "      <td>0.1</td>\n",
       "    </tr>\n",
       "    <tr>\n",
       "      <th>Afghanistan</th>\n",
       "      <td>0.2</td>\n",
       "    </tr>\n",
       "    <tr>\n",
       "      <th>Saudi Arabia</th>\n",
       "      <td>0.2</td>\n",
       "    </tr>\n",
       "    <tr>\n",
       "      <th>Pakistan</th>\n",
       "      <td>0.3</td>\n",
       "    </tr>\n",
       "    <tr>\n",
       "      <th>Iraq</th>\n",
       "      <td>0.4</td>\n",
       "    </tr>\n",
       "  </tbody>\n",
       "</table>\n",
       "</div>"
      ],
      "text/plain": [
       "              consumption_per_capita_(L)\n",
       "country                                 \n",
       "Somalia                              0.0\n",
       "Mauritania                           0.0\n",
       "Libya                                0.0\n",
       "Bangladesh                           0.0\n",
       "Kuwait                               0.0\n",
       "Yemen                                0.1\n",
       "Afghanistan                          0.2\n",
       "Saudi Arabia                         0.2\n",
       "Pakistan                             0.3\n",
       "Iraq                                 0.4"
      ]
     },
     "execution_count": 93,
     "metadata": {},
     "output_type": "execute_result"
    }
   ],
   "source": [
    "low_consumption = country_subset.sort_values([(\"consumption_per_capita_(L)\")], ascending=True).head(n=10)\n",
    "low_consumption.reset_index() \n",
    "\n",
    "low_consumption_series = low_consumption[\"consumption_per_capita_(L)\"]  \n",
    "low_consumption_df = pd.DataFrame(low_consumption_series)\n",
    "\n",
    "low_consumption_df"
   ]
  },
  {
   "cell_type": "markdown",
   "metadata": {},
   "source": [
    "## Part Two Data Summary\n"
   ]
  },
  {
   "cell_type": "code",
   "execution_count": 95,
   "metadata": {},
   "outputs": [
    {
     "name": "stdout",
     "output_type": "stream",
     "text": [
      "Total number of countries represented in the dataset: 186\n",
      "Overall average of alcohol consumption per capita (liters): 6.165053763440862\n"
     ]
    }
   ],
   "source": [
    " print(f\"Total number of countries represented in the dataset: {number_countries}\")\n",
    "print(f\"Overall average of alcohol consumption per capita (liters): {overall_avg_consumption}\")  \n"
   ]
  },
  {
   "cell_type": "code",
   "execution_count": 16,
   "metadata": {},
   "outputs": [
    {
     "data": {
      "text/plain": [
       "Index(['continent', 'country_code', 'consumption_per_capita_(L)', 'climate',\n",
       "       'main_export', 'main_industry', 'region', 'happy_score',\n",
       "       'life_expectancy', 'gdp_per_capita'],\n",
       "      dtype='object')"
      ]
     },
     "execution_count": 16,
     "metadata": {},
     "output_type": "execute_result"
    }
   ],
   "source": [
    "country_subset.columns"
   ]
  },
  {
   "cell_type": "markdown",
   "metadata": {},
   "source": [
    "## Part Three  - Consumption & Geography -  Continent "
   ]
  },
  {
   "cell_type": "code",
   "execution_count": 17,
   "metadata": {},
   "outputs": [
    {
     "name": "stdout",
     "output_type": "stream",
     "text": [
      "Working on:  Africa\n",
      "Working on:  Asia\n",
      "Working on:  Europe\n",
      "Working on:  North America\n",
      "Working on:  South America\n",
      "Working on:  Oceania\n"
     ]
    },
    {
     "data": {
      "text/plain": [
       "[0, 0, 0, 0, 0, 0]"
      ]
     },
     "execution_count": 17,
     "metadata": {},
     "output_type": "execute_result"
    }
   ],
   "source": [
    "continent = ['Africa', 'Asia', 'Europe', 'North America', 'South America', 'Oceania'] \n",
    "consumption_values = []\n",
    "number_countries = []\n",
    "avg_consumption = []\n",
    "\n",
    "# Locate each continent from our list of data \n",
    "for country in continent:\n",
    "    print('Working on: ', country)\n",
    "    continent_df = country_subset.loc[country_subset[\"continent\"] == 'continent']\n",
    "    \n",
    "    consumption = continent_df['consumption_per_capita_(L)'].sum()\n",
    "    consumption_values.append(consumption)\n",
    "    \n",
    "    countries = len(continent_df)\n",
    "    number_countries.append(countries)\n",
    "    \n",
    "#     consumption_by_continent = consumption / countries\n",
    "#     avg_consumption.append(consumption_by_continent)\n",
    "    \n",
    "consumption_values\n",
    "number_countries"
   ]
  },
  {
   "cell_type": "markdown",
   "metadata": {},
   "source": [
    "#### Consumption by Continent - Asia"
   ]
  },
  {
   "cell_type": "code",
   "execution_count": 18,
   "metadata": {},
   "outputs": [],
   "source": [
    "# Consumption - Asia\n",
    "asia_df = country_subset.loc[country_subset[\"continent\"] == \"Asia\"]\n",
    "asia_consumption = asia_df['consumption_per_capita_(L)'].sum()\n",
    "countries_in_asia = len(asia_df)\n",
    "\n",
    "avg_consumption_asia = asia_consumption / countries_in_asia"
   ]
  },
  {
   "cell_type": "markdown",
   "metadata": {},
   "source": [
    "#### Consumption by Continent - Oceania"
   ]
  },
  {
   "cell_type": "code",
   "execution_count": 19,
   "metadata": {},
   "outputs": [],
   "source": [
    "# Consumption - Oceania\n",
    "oceania_df = country_subset.loc[country_subset[\"continent\"] == \"Oceania\"]\n",
    "oceania_consumption = asia_df['consumption_per_capita_(L)'].sum()\n",
    "countries_in_oceania = len(oceania_df)\n",
    "\n",
    "avg_consumption_oceania = oceania_consumption / countries_in_oceania"
   ]
  },
  {
   "cell_type": "markdown",
   "metadata": {},
   "source": [
    "#### Consumption by Continent - Africa"
   ]
  },
  {
   "cell_type": "code",
   "execution_count": 20,
   "metadata": {},
   "outputs": [],
   "source": [
    "# Consumption - Africa\n",
    "africa_df = country_subset.loc[country_subset[\"continent\"] == \"Africa\"]\n",
    "africa_consumption = africa_df['consumption_per_capita_(L)'].sum()\n",
    "countries_in_africa = len(africa_df)\n",
    "\n",
    "avg_consumption_africa = africa_consumption / countries_in_africa"
   ]
  },
  {
   "cell_type": "markdown",
   "metadata": {},
   "source": [
    "#### Consumption by Continent - North America"
   ]
  },
  {
   "cell_type": "code",
   "execution_count": 21,
   "metadata": {},
   "outputs": [],
   "source": [
    "# Consumption - North America\n",
    "north_america_df = country_subset.loc[country_subset[\"continent\"] == \"North America\"]\n",
    "north_america_consumption = north_america_df['consumption_per_capita_(L)'].sum()\n",
    "countries_in_north_america = len(north_america_df)\n",
    "\n",
    "avg_consumption_north_america = north_america_consumption / countries_in_north_america"
   ]
  },
  {
   "cell_type": "markdown",
   "metadata": {},
   "source": [
    "#### Consumption by Continent - Europe"
   ]
  },
  {
   "cell_type": "code",
   "execution_count": 22,
   "metadata": {},
   "outputs": [],
   "source": [
    "# Consumption - Europe\n",
    "europe_df = country_subset.loc[country_subset[\"continent\"] == \"Europe\"]\n",
    "europe_consumption = europe_df['consumption_per_capita_(L)'].sum()\n",
    "countries_in_europe = len(europe_df)\n",
    "\n",
    "avg_consumption_europe = europe_consumption / countries_in_europe"
   ]
  },
  {
   "cell_type": "markdown",
   "metadata": {},
   "source": [
    "#### Consumption by Continent - South America"
   ]
  },
  {
   "cell_type": "code",
   "execution_count": 23,
   "metadata": {},
   "outputs": [],
   "source": [
    "# Consumption - South America\n",
    "south_america_df = country_subset.loc[country_subset[\"continent\"] == \"South America\"]\n",
    "south_america_consumption = south_america_df['consumption_per_capita_(L)'].sum()\n",
    "countries_in_south_america = len(south_america_df)\n",
    "\n",
    "avg_consumption_south_america = south_america_consumption / countries_in_south_america"
   ]
  },
  {
   "cell_type": "markdown",
   "metadata": {},
   "source": [
    "#### Consumption by Continent -  Summary"
   ]
  },
  {
   "cell_type": "code",
   "execution_count": 24,
   "metadata": {},
   "outputs": [
    {
     "name": "stdout",
     "output_type": "stream",
     "text": [
      "3.4400000000000004\n",
      "2.3724137931034486\n",
      "4.767924528301887\n",
      "6.839130434782609\n",
      "10.291304347826086\n",
      "6.933333333333333\n"
     ]
    }
   ],
   "source": [
    "print(avg_consumption_asia)\n",
    "print(avg_consumption_oceania)\n",
    "print(avg_consumption_africa)\n",
    "print(avg_consumption_north_america)\n",
    "print(avg_consumption_europe)\n",
    "print(avg_consumption_south_america)"
   ]
  },
  {
   "cell_type": "markdown",
   "metadata": {},
   "source": [
    "#### Consumption by Continent - Bar Graph "
   ]
  },
  {
   "cell_type": "code",
   "execution_count": 25,
   "metadata": {},
   "outputs": [
    {
     "data": {
      "text/plain": [
       "Text(0, 0.5, 'Average Alcohol Consumption Per Capita (Liters)')"
      ]
     },
     "execution_count": 25,
     "metadata": {},
     "output_type": "execute_result"
    },
    {
     "data": {
      "image/png": "[encoded data removed]",
      "text/plain": [
       "<Figure size 432x288 with 1 Axes>"
      ]
     },
     "metadata": {
      "needs_background": "light"
     },
     "output_type": "display_data"
    }
   ],
   "source": [
    "# Define x and y axis\n",
    "y = [avg_consumption_asia, avg_consumption_oceania, avg_consumption_africa, avg_consumption_north_america, avg_consumption_europe, avg_consumption_south_america ]\n",
    "x = np.arange(len(y)) \n",
    "\n",
    "# Plot bar graph\n",
    "plt.bar(x, y, color='r', alpha=0.5, align=\"center\")\n",
    "\n",
    "# Add Labels\n",
    "tick_locations = [value for value in x]\n",
    "plt.xticks(tick_locations, [\"Asia\", \"Oceania\", \"Africa\", \"North America\", \"Europe\", \"South America\"])\n",
    "plt.title(\"Alcohol Consumption By Continent\")\n",
    "plt.xlabel(\"Continent\")\n",
    "plt.ylabel(\"Average Alcohol Consumption Per Capita (Liters)\")"
   ]
  },
  {
   "cell_type": "markdown",
   "metadata": {},
   "source": [
    "###  Part Three  - Consumption & Geography - Region "
   ]
  },
  {
   "cell_type": "markdown",
   "metadata": {},
   "source": [
    "###  Part Four  - Economy - Major Exports\n"
   ]
  },
  {
   "cell_type": "code",
   "execution_count": null,
   "metadata": {},
   "outputs": [],
   "source": [
    "import re \n",
    "txt = \"The rain in Spain\"\n",
    "x = re.findall(\"ai\", txt)"
   ]
  },
  {
   "cell_type": "markdown",
   "metadata": {},
   "source": [
    "#### Clean Data"
   ]
  },
  {
   "cell_type": "code",
   "execution_count": 28,
   "metadata": {},
   "outputs": [
    {
     "name": "stderr",
     "output_type": "stream",
     "text": [
      "<ipython-input-28-4d40c896fe36>:5: SettingWithCopyWarning: \n",
      "A value is trying to be set on a copy of a slice from a DataFrame.\n",
      "Try using .loc[row_indexer,col_indexer] = value instead\n",
      "\n",
      "See the caveats in the documentation: https://pandas.pydata.org/pandas-docs/stable/user_guide/indexing.html#returning-a-view-versus-a-copy\n",
      "  df_8['main_export'] = df_8['main_export'].replace({\"Crude oil\": \"Oil\"})\n",
      "<ipython-input-28-4d40c896fe36>:6: SettingWithCopyWarning: \n",
      "A value is trying to be set on a copy of a slice from a DataFrame.\n",
      "Try using .loc[row_indexer,col_indexer] = value instead\n",
      "\n",
      "See the caveats in the documentation: https://pandas.pydata.org/pandas-docs/stable/user_guide/indexing.html#returning-a-view-versus-a-copy\n",
      "  df_8['main_export'] = df_8['main_export'].replace({\"Petroleum\": \"Oil\"})\n",
      "<ipython-input-28-4d40c896fe36>:7: SettingWithCopyWarning: \n",
      "A value is trying to be set on a copy of a slice from a DataFrame.\n",
      "Try using .loc[row_indexer,col_indexer] = value instead\n",
      "\n",
      "See the caveats in the documentation: https://pandas.pydata.org/pandas-docs/stable/user_guide/indexing.html#returning-a-view-versus-a-copy\n",
      "  df_8['main_export'] = df_8['main_export'].replace({\"Crude oil and petroleum products\": \"Oil\"})\n",
      "<ipython-input-28-4d40c896fe36>:8: SettingWithCopyWarning: \n",
      "A value is trying to be set on a copy of a slice from a DataFrame.\n",
      "Try using .loc[row_indexer,col_indexer] = value instead\n",
      "\n",
      "See the caveats in the documentation: https://pandas.pydata.org/pandas-docs/stable/user_guide/indexing.html#returning-a-view-versus-a-copy\n",
      "  df_8['main_export'] = df_8['main_export'].replace({\"Oil and gas\": \"Oil\"})\n",
      "<ipython-input-28-4d40c896fe36>:9: SettingWithCopyWarning: \n",
      "A value is trying to be set on a copy of a slice from a DataFrame.\n",
      "Try using .loc[row_indexer,col_indexer] = value instead\n",
      "\n",
      "See the caveats in the documentation: https://pandas.pydata.org/pandas-docs/stable/user_guide/indexing.html#returning-a-view-versus-a-copy\n",
      "  df_8['main_export'] = df_8['main_export'].replace({\"Fuels and fuel products\": \"Oil\"})\n",
      "<ipython-input-28-4d40c896fe36>:10: SettingWithCopyWarning: \n",
      "A value is trying to be set on a copy of a slice from a DataFrame.\n",
      "Try using .loc[row_indexer,col_indexer] = value instead\n",
      "\n",
      "See the caveats in the documentation: https://pandas.pydata.org/pandas-docs/stable/user_guide/indexing.html#returning-a-view-versus-a-copy\n",
      "  df_8['main_export'] = df_8['main_export'].replace({\"Petroleum and petroleum products\": \"Oil\"})\n",
      "<ipython-input-28-4d40c896fe36>:13: SettingWithCopyWarning: \n",
      "A value is trying to be set on a copy of a slice from a DataFrame.\n",
      "Try using .loc[row_indexer,col_indexer] = value instead\n",
      "\n",
      "See the caveats in the documentation: https://pandas.pydata.org/pandas-docs/stable/user_guide/indexing.html#returning-a-view-versus-a-copy\n",
      "  df_8['main_export'] = df_8['main_export'].replace({\"Electronic equipment\": \"Electronic products\"})\n"
     ]
    }
   ],
   "source": [
    "# Look for trends \n",
    "df_8['main_export'].value_counts() \n",
    "\n",
    "# Merge all exports related to oil and petroleum\n",
    "df_8['main_export'] = df_8['main_export'].replace({\"Crude oil\": \"Oil\"}) \n",
    "df_8['main_export'] = df_8['main_export'].replace({\"Petroleum\": \"Oil\"}) \n",
    "df_8['main_export'] = df_8['main_export'].replace({\"Crude oil and petroleum products\": \"Oil\"}) \n",
    "df_8['main_export'] = df_8['main_export'].replace({\"Oil and gas\": \"Oil\"}) \n",
    "df_8['main_export'] = df_8['main_export'].replace({\"Fuels and fuel products\": \"Oil\"}) \n",
    "df_8['main_export'] = df_8['main_export'].replace({\"Petroleum and petroleum products\": \"Oil\"}) \n",
    "\n",
    "# Merge all exports related to oil and petroleum\n",
    "df_8['main_export'] = df_8['main_export'].replace({\"Electronic equipment\": \"Electronic products\"}) \n",
    "  "
   ]
  },
  {
   "cell_type": "code",
   "execution_count": null,
   "metadata": {},
   "outputs": [],
   "source": [
    "df_8.value_counts() "
   ]
  },
  {
   "cell_type": "markdown",
   "metadata": {},
   "source": [
    "###  Part Four  - Economy - Industry\n"
   ]
  },
  {
   "cell_type": "code",
   "execution_count": null,
   "metadata": {},
   "outputs": [],
   "source": [
    "df_8.columns"
   ]
  },
  {
   "cell_type": "markdown",
   "metadata": {},
   "source": [
    "### Part Five - Correlation & Regression"
   ]
  },
  {
   "cell_type": "code",
   "execution_count": 30,
   "metadata": {},
   "outputs": [
    {
     "data": {
      "image/png": "[encoded data removed]",
      "text/plain": [
       "<Figure size 1080x720 with 2 Axes>"
      ]
     },
     "metadata": {
      "needs_background": "light"
     },
     "output_type": "display_data"
    }
   ],
   "source": [
    "# Explore potential relationships by creating correlation matrix\n",
    "from matplotlib.pyplot import figure\n",
    "\n",
    "df_8_corr = df_8.corr()\n",
    "df_8_corr.unstack().sort_values()\n",
    "\n",
    "plt.rcParams['figure.figsize'] = (15.0, 10.0)\n",
    "figure = (sn.heatmap(df_8_corr, annot=True,))\n",
    "\n"
   ]
  },
  {
   "cell_type": "code",
   "execution_count": null,
   "metadata": {},
   "outputs": [],
   "source": []
  },
  {
   "cell_type": "code",
   "execution_count": 52,
   "metadata": {},
   "outputs": [],
   "source": [
    "# Save Data to csv\n",
    "df_10.to_csv(\"mega_df.csv\")\n"
   ]
  },
  {
   "cell_type": "code",
   "execution_count": null,
   "metadata": {},
   "outputs": [],
   "source": []
  }
 ],
 "metadata": {
  "kernelspec": {
   "display_name": "Python 3",
   "language": "python",
   "name": "python3"
  },
  "language_info": {
   "codemirror_mode": {
    "name": "ipython",
    "version": 3
   },
   "file_extension": ".py",
   "mimetype": "text/x-python",
   "name": "python",
   "nbconvert_exporter": "python",
   "pygments_lexer": "ipython3",
   "version": "3.8.5"
  }
 },
 "nbformat": 4,
 "nbformat_minor": 4
}
